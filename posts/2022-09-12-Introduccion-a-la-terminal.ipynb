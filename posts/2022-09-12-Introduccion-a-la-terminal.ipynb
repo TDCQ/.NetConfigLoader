{
  "cells": [
    {
      "cell_type": "markdown",
      "metadata": {
        "id": "Qja2I5-ZpGd2"
      },
      "source": [
        "# Introducción a la terminal"
      ]
    },
    {
      "cell_type": "markdown",
      "metadata": {
        "id": "LJDG3z8QpGd6"
      },
      "source": [
        "## Formato del post"
      ]
    },
    {
      "cell_type": "markdown",
      "metadata": {
        "id": "hO37FfSfpGd7"
      },
      "source": [
        "Para no tener que estar poniendo imágenes de la consola en cada acción que haga, he creado la siguiente función que recibe el comando de la terminal que queramos ejecutar y devuelve la salida que nos daría la terminal.\n",
        "\n",
        "Unas veces usaré esta función, y otras usaré `!` antes de cada comando, que en notebooks quiere decir que vas a ejecutar un comando de la terminal."
      ]
    },
    {
      "cell_type": "code",
      "execution_count": null,
      "metadata": {
        "id": "i9sTNE4JpGd8"
      },
      "outputs": [],
      "source": [
        "import subprocess\n",
        "import os\n",
        "\n",
        "last_directory = ''\n",
        "\n",
        "def terminal(command, max_lines_output=None):\n",
        "    global last_directory\n",
        "    debug = False\n",
        "    str = command.split()\n",
        "\n",
        "    # Check if there are \" or ' characters\n",
        "    for i in range(len(str)):\n",
        "        if debug:   print(f\"i = {i}, str[i] = {str[i]}\")\n",
        "        if len(str[i]) > 0:\n",
        "            if str[i][0] == '\"' or str[i][0] == \"'\":\n",
        "                for j in range(i+1,len(str)):\n",
        "                    if debug:   print(f\"\\t j = {j}, str[j] = {str[j]}\")\n",
        "                    if str[j][-1] == '\"' or str[j][-1] == \"'\":\n",
        "                        for k in range(i+1,j+1):\n",
        "                            if debug:   print(f\"\\t\\t k = {k}, str[i] = {str[i]}, str[k] = {str[k]}\")\n",
        "                            str[i] = str[i] + \" \" + str[k]\n",
        "                            if debug:   print(f\"\\t\\t k = {k}, str[i] = {str[i]}, str[k] = {str[k]}\")\n",
        "                        str[j:] = [\"\"]\n",
        "                        str[i] = str[i].replace('\"','')\n",
        "\n",
        "    # Remove empty strings\n",
        "    str = [x for x in str if x != \"\"]\n",
        "    if debug:\n",
        "        print(str)\n",
        "        return\n",
        "    if str[0] == \"cd\":\n",
        "        last_dir = os.getcwd()\n",
        "        if len(str) == 1:\n",
        "            os.chdir('/home/wallabot')\n",
        "        else:\n",
        "            if str[1] == \"-\":\n",
        "                os.chdir(last_directory)\n",
        "            else:\n",
        "                os.chdir(str[1])\n",
        "        last_directory = last_dir\n",
        "    else:\n",
        "        result = subprocess.run(str, stdout=subprocess.PIPE).stdout.decode('utf-8')\n",
        "        if max_lines_output is not None:\n",
        "            result_split = result.split('\\n')\n",
        "            print('\\n'.join(result_split[:max_lines_output]))\n",
        "            print(\"\\t ...\")\n",
        "            print('\\n'.join(result_split[-5:]))\n",
        "        else:\n",
        "            print(result)"
      ]
    },
    {
      "cell_type": "markdown",
      "metadata": {
        "id": "xfYoGDxypGd-"
      },
      "source": [
        "## Primeros comandos para moverse por la terminal"
      ]
    },
    {
      "cell_type": "markdown",
      "metadata": {
        "id": "OeHzq5wNpGd_"
      },
      "source": [
        "### `ls` (list directory)"
      ]
    },
    {
      "cell_type": "markdown",
      "metadata": {
        "id": "Pi0k7aybpGd_"
      },
      "source": [
        "El primer comando que vamos a ver es `ls` (list directory) que sirve para listar todos los archivos de la carpeta en la que estemos."
      ]
    },
    {
      "cell_type": "code",
      "execution_count": null,
      "metadata": {
        "id": "ckBJA3bdpGd_",
        "outputId": "25bfede7-b6f8-4619-bc1c-55a33ba3eaec"
      },
      "outputs": [
        {
          "name": "stdout",
          "output_type": "stream",
          "text": [
            "2021-02-11-Introduccion-a-Python.ipynb\n",
            "2021-04-23-Calculo-matricial-con-Numpy.ipynb\n",
            "2021-06-15-Manejo-de-datos-con-Pandas.ipynb\n",
            "2022-09-12 Introduccion a la terminal.ipynb\n",
            "2022-09-12 Introduccion a la terminal.txt\n",
            "command-line-cheat-sheet.pdf\n",
            "CSS.ipynb\n",
            "Docker.html\n",
            "Docker.ipynb\n",
            "Expresiones regulares.html\n",
            "Expresiones regulares.ipynb\n",
            "html_files\n",
            "html.ipynb\n",
            "introduccion_python\n",
            "movies.csv\n",
            "movies.dat\n",
            "notebooks_translated\n",
            "__pycache__\n",
            "ssh.ipynb\n",
            "test.html\n",
            "test.ipynb\n",
            "\n"
          ]
        }
      ],
      "source": [
        "terminal(\"ls\")"
      ]
    },
    {
      "cell_type": "markdown",
      "metadata": {
        "id": "iGkIs00vpGeA"
      },
      "source": [
        "Los comandos normalmente pueden recibir opciones (`flags`), que se introducen con el carácter `-`, por ejemplo veamos `ls -l` que nos devuelve la lista de archivos del directorio en el que estamos, pero con más información"
      ]
    },
    {
      "cell_type": "code",
      "execution_count": null,
      "metadata": {
        "id": "TR_aezQZpGeB",
        "outputId": "7ac8ef0f-ba54-4cb2-bb5e-5f6abdde73db"
      },
      "outputs": [
        {
          "name": "stdout",
          "output_type": "stream",
          "text": [
            "total 4512\n",
            "-rw-rw-r-- 1 wallabot wallabot 285898 nov 12 02:07 2021-02-11-Introduccion-a-Python.ipynb\n",
            "-rw-rw-r-- 1 wallabot wallabot  78450 nov 13 00:10 2021-04-23-Calculo-matricial-con-Numpy.ipynb\n",
            "-rw-rw-r-- 1 wallabot wallabot 484213 nov 13 00:44 2021-06-15-Manejo-de-datos-con-Pandas.ipynb\n",
            "-rw-rw-r-- 1 wallabot wallabot 320810 dic  6 00:11 2022-09-12 Introduccion a la terminal.ipynb\n",
            "-rw-rw-r-- 1 wallabot wallabot 320594 dic  6 00:04 2022-09-12 Introduccion a la terminal.txt\n",
            "-rw-rw-r-- 1 wallabot wallabot 119471 oct  3 16:13 command-line-cheat-sheet.pdf\n",
            "-rw-rw-r-- 1 wallabot wallabot   2660 sep 18 03:32 CSS.ipynb\n",
            "-rw-rw-r-- 1 wallabot wallabot 699225 nov 27 04:16 Docker.html\n",
            "-rw-rw-r-- 1 wallabot wallabot 509125 sep 22 16:48 Docker.ipynb\n",
            "-rw-rw-r-- 1 wallabot wallabot 156193 nov 27 04:21 Expresiones regulares.html\n",
            "-rw-rw-r-- 1 wallabot wallabot  53094 oct  2 04:57 Expresiones regulares.ipynb\n",
            "drwxrwxr-x 2 wallabot wallabot   4096 nov 28 14:39 html_files\n",
            "-rw-rw-r-- 1 wallabot wallabot  14775 sep 18 03:29 html.ipynb\n",
            "drwxrwxr-x 3 wallabot wallabot   4096 nov 12 01:51 introduccion_python\n",
            "-rw-rw-r-- 1 wallabot wallabot 446172 oct  2 04:39 movies.csv\n",
            "-rw-rw-r-- 1 wallabot wallabot 522197 oct  2 04:33 movies.dat\n",
            "drwxrwxr-x 2 wallabot wallabot   4096 nov 28 14:39 notebooks_translated\n",
            "drwxrwxr-x 2 wallabot wallabot   4096 ago 27 03:25 __pycache__\n",
            "-rw-rw-r-- 1 wallabot wallabot    586 dic  4 02:31 ssh.ipynb\n",
            "-rw-rw-r-- 1 wallabot wallabot 292936 nov  9 01:46 test.html\n",
            "-rw-rw-r-- 1 wallabot wallabot 260227 nov  9 01:13 test.ipynb\n",
            "\n"
          ]
        }
      ],
      "source": [
        "terminal('ls -l')"
      ]
    },
    {
      "cell_type": "markdown",
      "metadata": {
        "id": "_pL31ARrpGeB"
      },
      "source": [
        "Como vemos, tenemos cuántos bytes ocupa cada archivo, pero cuando tenemos archivos que ocupan mucho esto no es muy fácil de leer, así que podemos añadir la opción `h` (`human`) que nos da información más fácil de leer"
      ]
    },
    {
      "cell_type": "code",
      "execution_count": null,
      "metadata": {
        "id": "klsbU6JwpGeC",
        "outputId": "08974268-5bc3-4000-e9b0-77b3c30e6d7e"
      },
      "outputs": [
        {
          "name": "stdout",
          "output_type": "stream",
          "text": [
            "total 4,5M\n",
            "-rw-rw-r-- 1 wallabot wallabot 280K nov 12 02:07 2021-02-11-Introduccion-a-Python.ipynb\n",
            "-rw-rw-r-- 1 wallabot wallabot  77K nov 13 00:10 2021-04-23-Calculo-matricial-con-Numpy.ipynb\n",
            "-rw-rw-r-- 1 wallabot wallabot 473K nov 13 00:44 2021-06-15-Manejo-de-datos-con-Pandas.ipynb\n",
            "-rw-rw-r-- 1 wallabot wallabot 314K dic  6 00:11 2022-09-12 Introduccion a la terminal.ipynb\n",
            "-rw-rw-r-- 1 wallabot wallabot 314K dic  6 00:04 2022-09-12 Introduccion a la terminal.txt\n",
            "-rw-rw-r-- 1 wallabot wallabot 117K oct  3 16:13 command-line-cheat-sheet.pdf\n",
            "-rw-rw-r-- 1 wallabot wallabot 2,6K sep 18 03:32 CSS.ipynb\n",
            "-rw-rw-r-- 1 wallabot wallabot 683K nov 27 04:16 Docker.html\n",
            "-rw-rw-r-- 1 wallabot wallabot 498K sep 22 16:48 Docker.ipynb\n",
            "-rw-rw-r-- 1 wallabot wallabot 153K nov 27 04:21 Expresiones regulares.html\n",
            "-rw-rw-r-- 1 wallabot wallabot  52K oct  2 04:57 Expresiones regulares.ipynb\n",
            "drwxrwxr-x 2 wallabot wallabot 4,0K nov 28 14:39 html_files\n",
            "-rw-rw-r-- 1 wallabot wallabot  15K sep 18 03:29 html.ipynb\n",
            "drwxrwxr-x 3 wallabot wallabot 4,0K nov 12 01:51 introduccion_python\n",
            "-rw-rw-r-- 1 wallabot wallabot 436K oct  2 04:39 movies.csv\n",
            "-rw-rw-r-- 1 wallabot wallabot 510K oct  2 04:33 movies.dat\n",
            "drwxrwxr-x 2 wallabot wallabot 4,0K nov 28 14:39 notebooks_translated\n",
            "drwxrwxr-x 2 wallabot wallabot 4,0K ago 27 03:25 __pycache__\n",
            "-rw-rw-r-- 1 wallabot wallabot  586 dic  4 02:31 ssh.ipynb\n",
            "-rw-rw-r-- 1 wallabot wallabot 287K nov  9 01:46 test.html\n",
            "-rw-rw-r-- 1 wallabot wallabot 255K nov  9 01:13 test.ipynb\n",
            "\n"
          ]
        }
      ],
      "source": [
        "terminal('ls -lh')"
      ]
    },
    {
      "cell_type": "markdown",
      "metadata": {
        "id": "jbR57yPTpGeC"
      },
      "source": [
        "Si queremos ver los archivos ocultos podemos usar la opción `a`, que nos mostrará todos los archivos de un directorio"
      ]
    },
    {
      "cell_type": "code",
      "execution_count": null,
      "metadata": {
        "id": "25nxfndRpGeC",
        "outputId": "de74815b-b909-495f-a085-bf921fbda0db"
      },
      "outputs": [
        {
          "name": "stdout",
          "output_type": "stream",
          "text": [
            "total 4,5M\n",
            "drwxrwxr-x 6 wallabot wallabot 4,0K dic  6 00:04 .\n",
            "drwxrwxr-x 5 wallabot wallabot 4,0K oct  2 03:10 ..\n",
            "-rw-rw-r-- 1 wallabot wallabot 280K nov 12 02:07 2021-02-11-Introduccion-a-Python.ipynb\n",
            "-rw-rw-r-- 1 wallabot wallabot  77K nov 13 00:10 2021-04-23-Calculo-matricial-con-Numpy.ipynb\n",
            "-rw-rw-r-- 1 wallabot wallabot 473K nov 13 00:44 2021-06-15-Manejo-de-datos-con-Pandas.ipynb\n",
            "-rw-rw-r-- 1 wallabot wallabot 314K dic  6 00:11 2022-09-12 Introduccion a la terminal.ipynb\n",
            "-rw-rw-r-- 1 wallabot wallabot 314K dic  6 00:04 2022-09-12 Introduccion a la terminal.txt\n",
            "-rw-rw-r-- 1 wallabot wallabot 117K oct  3 16:13 command-line-cheat-sheet.pdf\n",
            "-rw-rw-r-- 1 wallabot wallabot 2,6K sep 18 03:32 CSS.ipynb\n",
            "-rw-rw-r-- 1 wallabot wallabot 683K nov 27 04:16 Docker.html\n",
            "-rw-rw-r-- 1 wallabot wallabot 498K sep 22 16:48 Docker.ipynb\n",
            "-rw-rw-r-- 1 wallabot wallabot 153K nov 27 04:21 Expresiones regulares.html\n",
            "-rw-rw-r-- 1 wallabot wallabot  52K oct  2 04:57 Expresiones regulares.ipynb\n",
            "drwxrwxr-x 2 wallabot wallabot 4,0K nov 28 14:39 html_files\n",
            "-rw-rw-r-- 1 wallabot wallabot  15K sep 18 03:29 html.ipynb\n",
            "drwxrwxr-x 3 wallabot wallabot 4,0K nov 12 01:51 introduccion_python\n",
            "-rw-rw-r-- 1 wallabot wallabot 436K oct  2 04:39 movies.csv\n",
            "-rw-rw-r-- 1 wallabot wallabot 510K oct  2 04:33 movies.dat\n",
            "drwxrwxr-x 2 wallabot wallabot 4,0K nov 28 14:39 notebooks_translated\n",
            "drwxrwxr-x 2 wallabot wallabot 4,0K ago 27 03:25 __pycache__\n",
            "-rw-rw-r-- 1 wallabot wallabot  586 dic  4 02:31 ssh.ipynb\n",
            "-rw-rw-r-- 1 wallabot wallabot 287K nov  9 01:46 test.html\n",
            "-rw-rw-r-- 1 wallabot wallabot 255K nov  9 01:13 test.ipynb\n",
            "\n"
          ]
        }
      ],
      "source": [
        "terminal('ls -lha')"
      ]
    },
    {
      "cell_type": "markdown",
      "metadata": {
        "id": "LKnnuhhPpGeC"
      },
      "source": [
        "Si lo que queremos es que nos los ordene por tamaño, podemos usar la opción `S`"
      ]
    },
    {
      "cell_type": "code",
      "execution_count": null,
      "metadata": {
        "id": "PsbCNQOZpGeC",
        "outputId": "fb84232e-346d-4a15-d441-163593ae7c70"
      },
      "outputs": [
        {
          "name": "stdout",
          "output_type": "stream",
          "text": [
            "total 4,5M\n",
            "-rw-rw-r-- 1 wallabot wallabot 683K nov 27 04:16 Docker.html\n",
            "-rw-rw-r-- 1 wallabot wallabot 510K oct  2 04:33 movies.dat\n",
            "-rw-rw-r-- 1 wallabot wallabot 498K sep 22 16:48 Docker.ipynb\n",
            "-rw-rw-r-- 1 wallabot wallabot 473K nov 13 00:44 2021-06-15-Manejo-de-datos-con-Pandas.ipynb\n",
            "-rw-rw-r-- 1 wallabot wallabot 436K oct  2 04:39 movies.csv\n",
            "-rw-rw-r-- 1 wallabot wallabot 314K dic  6 00:11 2022-09-12 Introduccion a la terminal.ipynb\n",
            "-rw-rw-r-- 1 wallabot wallabot 314K dic  6 00:04 2022-09-12 Introduccion a la terminal.txt\n",
            "-rw-rw-r-- 1 wallabot wallabot 287K nov  9 01:46 test.html\n",
            "-rw-rw-r-- 1 wallabot wallabot 280K nov 12 02:07 2021-02-11-Introduccion-a-Python.ipynb\n",
            "-rw-rw-r-- 1 wallabot wallabot 255K nov  9 01:13 test.ipynb\n",
            "-rw-rw-r-- 1 wallabot wallabot 153K nov 27 04:21 Expresiones regulares.html\n",
            "-rw-rw-r-- 1 wallabot wallabot 117K oct  3 16:13 command-line-cheat-sheet.pdf\n",
            "-rw-rw-r-- 1 wallabot wallabot  77K nov 13 00:10 2021-04-23-Calculo-matricial-con-Numpy.ipynb\n",
            "-rw-rw-r-- 1 wallabot wallabot  52K oct  2 04:57 Expresiones regulares.ipynb\n",
            "-rw-rw-r-- 1 wallabot wallabot  15K sep 18 03:29 html.ipynb\n",
            "drwxrwxr-x 2 wallabot wallabot 4,0K nov 28 14:39 html_files\n",
            "drwxrwxr-x 3 wallabot wallabot 4,0K nov 12 01:51 introduccion_python\n",
            "drwxrwxr-x 2 wallabot wallabot 4,0K nov 28 14:39 notebooks_translated\n",
            "drwxrwxr-x 2 wallabot wallabot 4,0K ago 27 03:25 __pycache__\n",
            "-rw-rw-r-- 1 wallabot wallabot 2,6K sep 18 03:32 CSS.ipynb\n",
            "-rw-rw-r-- 1 wallabot wallabot  586 dic  4 02:31 ssh.ipynb\n",
            "\n"
          ]
        }
      ],
      "source": [
        "terminal('ls -lhS')"
      ]
    },
    {
      "cell_type": "markdown",
      "metadata": {
        "id": "AHtpD6ffpGeD"
      },
      "source": [
        "Si queremos que nos muestre los archivos ordenados alfabéticamente, pero al revés, debemos usar la opción `-r`"
      ]
    },
    {
      "cell_type": "code",
      "execution_count": null,
      "metadata": {
        "id": "Zg9z92iWpGeD",
        "outputId": "0fcfb344-3d45-4e93-d8fb-78b0ef43b3ef"
      },
      "outputs": [
        {
          "name": "stdout",
          "output_type": "stream",
          "text": [
            "total 4,5M\n",
            "-rw-rw-r-- 1 wallabot wallabot 255K nov  9 01:13 test.ipynb\n",
            "-rw-rw-r-- 1 wallabot wallabot 287K nov  9 01:46 test.html\n",
            "-rw-rw-r-- 1 wallabot wallabot  586 dic  4 02:31 ssh.ipynb\n",
            "drwxrwxr-x 2 wallabot wallabot 4,0K ago 27 03:25 __pycache__\n",
            "drwxrwxr-x 2 wallabot wallabot 4,0K nov 28 14:39 notebooks_translated\n",
            "-rw-rw-r-- 1 wallabot wallabot 510K oct  2 04:33 movies.dat\n",
            "-rw-rw-r-- 1 wallabot wallabot 436K oct  2 04:39 movies.csv\n",
            "drwxrwxr-x 3 wallabot wallabot 4,0K nov 12 01:51 introduccion_python\n",
            "-rw-rw-r-- 1 wallabot wallabot  15K sep 18 03:29 html.ipynb\n",
            "drwxrwxr-x 2 wallabot wallabot 4,0K nov 28 14:39 html_files\n",
            "-rw-rw-r-- 1 wallabot wallabot  52K oct  2 04:57 Expresiones regulares.ipynb\n",
            "-rw-rw-r-- 1 wallabot wallabot 153K nov 27 04:21 Expresiones regulares.html\n",
            "-rw-rw-r-- 1 wallabot wallabot 498K sep 22 16:48 Docker.ipynb\n",
            "-rw-rw-r-- 1 wallabot wallabot 683K nov 27 04:16 Docker.html\n",
            "-rw-rw-r-- 1 wallabot wallabot 2,6K sep 18 03:32 CSS.ipynb\n",
            "-rw-rw-r-- 1 wallabot wallabot 117K oct  3 16:13 command-line-cheat-sheet.pdf\n",
            "-rw-rw-r-- 1 wallabot wallabot 314K dic  6 00:04 2022-09-12 Introduccion a la terminal.txt\n",
            "-rw-rw-r-- 1 wallabot wallabot 314K dic  6 00:11 2022-09-12 Introduccion a la terminal.ipynb\n",
            "-rw-rw-r-- 1 wallabot wallabot 473K nov 13 00:44 2021-06-15-Manejo-de-datos-con-Pandas.ipynb\n",
            "-rw-rw-r-- 1 wallabot wallabot  77K nov 13 00:10 2021-04-23-Calculo-matricial-con-Numpy.ipynb\n",
            "-rw-rw-r-- 1 wallabot wallabot 280K nov 12 02:07 2021-02-11-Introduccion-a-Python.ipynb\n",
            "\n"
          ]
        }
      ],
      "source": [
        "terminal('ls -lhr')"
      ]
    },
    {
      "cell_type": "markdown",
      "metadata": {
        "id": "ghlvkSlTpGeD"
      },
      "source": [
        "### `cd` (change directory)"
      ]
    },
    {
      "cell_type": "markdown",
      "metadata": {
        "id": "VhQQyNYCpGeD"
      },
      "source": [
        "El segundo comando será `cd` (change directory) que nos permite cambiar de directorio"
      ]
    },
    {
      "cell_type": "code",
      "execution_count": null,
      "metadata": {
        "id": "NSqhBF3IpGeD"
      },
      "outputs": [],
      "source": [
        "terminal('cd /home/wallabot/Documentos/')"
      ]
    },
    {
      "cell_type": "markdown",
      "metadata": {
        "id": "SpDtQVGZpGeE"
      },
      "source": [
        "Si ahora volvemos a usar `ls` para ver los archivos que tenemos, vemos que cambian"
      ]
    },
    {
      "cell_type": "code",
      "execution_count": null,
      "metadata": {
        "id": "r2sO8ZO7pGeE",
        "outputId": "7eaeed8a-55e3-4e04-96db-e8448f83c340"
      },
      "outputs": [
        {
          "name": "stdout",
          "output_type": "stream",
          "text": [
            "aprendiendo-git.pdf\n",
            "balena-etcher-electron-1.7.9-linux-x64\n",
            "camerasIP\n",
            "Documentacion\n",
            "gstreamer\n",
            "gstreamer_old\n",
            "jetsonNano\n",
            "kaggle\n",
            "Libros\n",
            "nerf\n",
            "prueba.txt\n",
            "pytorch\n",
            "wallabot\n",
            "web\n",
            "\n"
          ]
        }
      ],
      "source": [
        "terminal('ls')"
      ]
    },
    {
      "cell_type": "markdown",
      "metadata": {
        "id": "_sqUdpJPpGeE"
      },
      "source": [
        "Si a `cd`, en vez de darle el directorio al que nos queremos mover, le damos el carácter `-`, volverá al anterior directorio donde estaba"
      ]
    },
    {
      "cell_type": "code",
      "execution_count": null,
      "metadata": {
        "id": "WYalFmPPpGeE"
      },
      "outputs": [],
      "source": [
        "terminal('cd -')"
      ]
    },
    {
      "cell_type": "code",
      "execution_count": null,
      "metadata": {
        "id": "_P5lZ9f2pGeE",
        "outputId": "a3ecbd92-ff71-4c32-ae47-76ccfd93d283"
      },
      "outputs": [
        {
          "name": "stdout",
          "output_type": "stream",
          "text": [
            "2021-02-11-Introduccion-a-Python.ipynb\n",
            "2021-04-23-Calculo-matricial-con-Numpy.ipynb\n",
            "2021-06-15-Manejo-de-datos-con-Pandas.ipynb\n",
            "2022-09-12 Introduccion a la terminal.ipynb\n",
            "2022-09-12 Introduccion a la terminal.txt\n",
            "command-line-cheat-sheet.pdf\n",
            "CSS.ipynb\n",
            "Docker.html\n",
            "Docker.ipynb\n",
            "Expresiones regulares.html\n",
            "Expresiones regulares.ipynb\n",
            "html_files\n",
            "html.ipynb\n",
            "introduccion_python\n",
            "movies.csv\n",
            "movies.dat\n",
            "notebooks_translated\n",
            "__pycache__\n",
            "ssh.ipynb\n",
            "test.html\n",
            "test.ipynb\n",
            "\n"
          ]
        }
      ],
      "source": [
        "terminal('ls')"
      ]
    },
    {
      "cell_type": "markdown",
      "metadata": {
        "id": "i2XoUtsSpGeF"
      },
      "source": [
        "Si nos quisiéramos mover a la `home` con introducir solamente `cd` en la terminal nos llevará."
      ]
    },
    {
      "cell_type": "code",
      "execution_count": null,
      "metadata": {
        "id": "l2d9MpYJpGeF"
      },
      "outputs": [],
      "source": [
        "terminal('cd')"
      ]
    },
    {
      "cell_type": "markdown",
      "metadata": {
        "id": "UCXLMNd7pGeF"
      },
      "source": [
        "### `pwd` (print working directory)"
      ]
    },
    {
      "cell_type": "markdown",
      "metadata": {
        "id": "4htvhjOVpGeF"
      },
      "source": [
        "Para obtener el directorio en el que estamos, podemos usar `pwd` (print working directory)"
      ]
    },
    {
      "cell_type": "code",
      "execution_count": null,
      "metadata": {
        "id": "xzn_WZEHpGeF",
        "outputId": "852433f6-dc7a-4f27-ac0b-f35a4d882913"
      },
      "outputs": [
        {
          "name": "stdout",
          "output_type": "stream",
          "text": [
            "/home/wallabot\n",
            "\n"
          ]
        }
      ],
      "source": [
        "terminal('pwd')"
      ]
    },
    {
      "cell_type": "markdown",
      "metadata": {
        "id": "afXkgRW1pGeF"
      },
      "source": [
        "Podemos movernos mediante el comando `cd` mediante rutas relativas y mediante rutas absolutas. Por ejemplo, vamos a movernos a un directorio mediante una ruta absoluta."
      ]
    },
    {
      "cell_type": "code",
      "execution_count": null,
      "metadata": {
        "id": "3QR6IMwVpGeG"
      },
      "outputs": [],
      "source": [
        "terminal('cd /home/wallabot/Documentos/')"
      ]
    },
    {
      "cell_type": "code",
      "execution_count": null,
      "metadata": {
        "id": "SF_0_cBLpGeH",
        "outputId": "ec6961ef-c74d-4fd9-a664-8ab3b97ded46"
      },
      "outputs": [
        {
          "name": "stdout",
          "output_type": "stream",
          "text": [
            "/home/wallabot/Documentos\n",
            "\n"
          ]
        }
      ],
      "source": [
        "terminal('pwd')"
      ]
    },
    {
      "cell_type": "code",
      "execution_count": null,
      "metadata": {
        "id": "xeVTLp3OpGeI",
        "outputId": "2c5ddc87-acf1-4fa6-d6a8-4514d9da27e0"
      },
      "outputs": [
        {
          "name": "stdout",
          "output_type": "stream",
          "text": [
            "aprendiendo-git.pdf\n",
            "balena-etcher-electron-1.7.9-linux-x64\n",
            "camerasIP\n",
            "Documentacion\n",
            "gstreamer\n",
            "gstreamer_old\n",
            "jetsonNano\n",
            "kaggle\n",
            "Libros\n",
            "nerf\n",
            "prueba.txt\n",
            "pytorch\n",
            "wallabot\n",
            "web\n",
            "\n"
          ]
        }
      ],
      "source": [
        "terminal('ls')"
      ]
    },
    {
      "cell_type": "markdown",
      "metadata": {
        "id": "qOm8j1-SpGeI"
      },
      "source": [
        "Podemos movernos mediante rutas relativas si solo ponemos la dirección a partir del punto en que nos encontramos"
      ]
    },
    {
      "cell_type": "code",
      "execution_count": null,
      "metadata": {
        "id": "2aFKktl1pGeI"
      },
      "outputs": [],
      "source": [
        "terminal('cd web')"
      ]
    },
    {
      "cell_type": "code",
      "execution_count": null,
      "metadata": {
        "id": "Qh9oEHgBpGeI",
        "outputId": "c25b0d76-726c-444b-918d-8a1c9ad3b550"
      },
      "outputs": [
        {
          "name": "stdout",
          "output_type": "stream",
          "text": [
            "/home/wallabot/Documentos/web\n",
            "\n"
          ]
        }
      ],
      "source": [
        "terminal('pwd')"
      ]
    },
    {
      "cell_type": "markdown",
      "metadata": {
        "id": "CgSB4ax8pGeJ"
      },
      "source": [
        "También mediante rutas relativas podemos ir un directorio arriba mediante `..`"
      ]
    },
    {
      "cell_type": "code",
      "execution_count": null,
      "metadata": {
        "id": "rP2UK4JapGeP"
      },
      "outputs": [],
      "source": [
        "terminal('cd ..')"
      ]
    },
    {
      "cell_type": "code",
      "execution_count": null,
      "metadata": {
        "id": "bhk0AV5XpGeP",
        "outputId": "fb1ba64c-f2f2-42a0-ed70-9d657e9742ec"
      },
      "outputs": [
        {
          "name": "stdout",
          "output_type": "stream",
          "text": [
            "/home/wallabot/Documentos\n",
            "\n"
          ]
        }
      ],
      "source": [
        "terminal('pwd')"
      ]
    },
    {
      "cell_type": "markdown",
      "metadata": {
        "id": "LhPPgeMbpGeP"
      },
      "source": [
        "Si en vez de `..` ponemos `.` nos estamos refiriendo al directorio en el que nos encontramos ahora mismo, es decir, si ponemos `cd .` no nos moveremos, ya que le estamos diciendo a la terminal que vaya al directorio en el que estamos."
      ]
    },
    {
      "cell_type": "code",
      "execution_count": null,
      "metadata": {
        "id": "seIxHCVnpGeP"
      },
      "outputs": [],
      "source": [
        "terminal('cd .')"
      ]
    },
    {
      "cell_type": "code",
      "execution_count": null,
      "metadata": {
        "id": "4GEbnTkapGeQ",
        "outputId": "9d38050b-8086-49a6-ab5a-eb555cb7a8b8"
      },
      "outputs": [
        {
          "name": "stdout",
          "output_type": "stream",
          "text": [
            "/home/wallabot/Documentos\n",
            "\n"
          ]
        }
      ],
      "source": [
        "terminal('pwd')"
      ]
    },
    {
      "cell_type": "markdown",
      "metadata": {
        "id": "AGAcNswZpGeQ"
      },
      "source": [
        "Vamos a movernos a una ruta en la que tengamos archivos para mostrar el siguiente comando"
      ]
    },
    {
      "cell_type": "code",
      "execution_count": null,
      "metadata": {
        "id": "42tW-9n6pGeQ"
      },
      "outputs": [],
      "source": [
        "terminal('cd web/portafolio/posts/')"
      ]
    },
    {
      "cell_type": "code",
      "execution_count": null,
      "metadata": {
        "id": "fAA5lDO2pGeQ",
        "outputId": "1e77214a-0b59-4a60-cc00-828acd49af42"
      },
      "outputs": [
        {
          "name": "stdout",
          "output_type": "stream",
          "text": [
            "2021-02-11-Introduccion-a-Python.ipynb\n",
            "2021-04-23-Calculo-matricial-con-Numpy.ipynb\n",
            "2021-06-15-Manejo-de-datos-con-Pandas.ipynb\n",
            "2022-09-12 Introduccion a la terminal.ipynb\n",
            "2022-09-12 Introduccion a la terminal.txt\n",
            "command-line-cheat-sheet.pdf\n",
            "CSS.ipynb\n",
            "Docker.html\n",
            "Docker.ipynb\n",
            "Expresiones regulares.html\n",
            "Expresiones regulares.ipynb\n",
            "html_files\n",
            "html.ipynb\n",
            "introduccion_python\n",
            "movies.csv\n",
            "movies.dat\n",
            "notebooks_translated\n",
            "__pycache__\n",
            "ssh.ipynb\n",
            "test.html\n",
            "test.ipynb\n",
            "\n"
          ]
        }
      ],
      "source": [
        "terminal('ls')"
      ]
    },
    {
      "cell_type": "markdown",
      "metadata": {
        "id": "EhqWTci5pGeQ"
      },
      "source": [
        "### Información de archivos con `file`"
      ]
    },
    {
      "cell_type": "markdown",
      "metadata": {
        "id": "442igje-pGeQ"
      },
      "source": [
        "Si yo no sé qué tipo de archivo es alguno en particular, mediante el comando `file` puedo obtener una descripción"
      ]
    },
    {
      "cell_type": "code",
      "execution_count": null,
      "metadata": {
        "id": "xAzKNNQbpGeR",
        "outputId": "c8fdfa74-9926-4610-a450-5af67763bafe"
      },
      "outputs": [
        {
          "name": "stdout",
          "output_type": "stream",
          "text": [
            "2021-02-11-Introduccion-a-Python.ipynb: UTF-8 Unicode text, with very long lines\n",
            "\n"
          ]
        }
      ],
      "source": [
        "terminal('file 2021-02-11-Introduccion-a-Python.ipynb')"
      ]
    },
    {
      "cell_type": "markdown",
      "metadata": {
        "id": "8y8TyhCvpGeR"
      },
      "source": [
        "## Manipulando archivos y directorios"
      ]
    },
    {
      "cell_type": "markdown",
      "metadata": {
        "id": "ecxqnBGhpGeR"
      },
      "source": [
        "Movámonos primero a la home."
      ]
    },
    {
      "cell_type": "code",
      "execution_count": null,
      "metadata": {
        "id": "5JWWfqBqpGeR"
      },
      "outputs": [],
      "source": [
        "terminal('cd /home/wallabot/Documentos/')"
      ]
    },
    {
      "cell_type": "markdown",
      "metadata": {
        "id": "D4SrOr0npGeR"
      },
      "source": [
        "### Árbol de directorios con `tree`"
      ]
    },
    {
      "cell_type": "markdown",
      "metadata": {
        "id": "cBc2Etw4pGeS"
      },
      "source": [
        "Podemos ver toda la estructura de la carpeta en la que estamos mediante el comando `tree`"
      ]
    },
    {
      "cell_type": "code",
      "execution_count": null,
      "metadata": {
        "id": "kMq5peKLpGeS",
        "outputId": "3c4d2c3e-ad05-4a8c-852e-f94d0f52d022"
      },
      "outputs": [
        {
          "name": "stdout",
          "output_type": "stream",
          "text": [
            ".\n",
            "├── aprendiendo-git.pdf\n",
            "├── balena-etcher-electron-1.7.9-linux-x64\n",
            "│   └── balenaEtcher-1.7.9-x64.AppImage\n",
            "├── camerasIP\n",
            "│   ├── camerasIP.py\n",
            "│   ├── camerasIP.sh\n",
            "│   ├── config.py\n",
            "│   ├── __pycache__\n",
            "│   │   ├── config.cpython-38.pyc\n",
            "│   │   └── config.cpython-39.pyc\n",
            "│   └── README.md\n",
            "├── Documentacion\n",
            "│   ├── Curriculum Vitae (5).pdf\n",
            "│   ├── Firma Pris.PNG\n",
            "│   └── Firma.png\n",
            "├── gstreamer\n",
            "│   ├── basic_tutorial_c\n",
            "│   │   ├── basic_tutorial_1_hello_world\n",
            "│   │   │   ├── basic-tutorial-1\n",
            "\t ...\n",
            "        ├── upload_page.py\n",
            "        └── utils.py\n",
            "\n",
            "873 directories, 119679 files\n",
            "\n"
          ]
        }
      ],
      "source": [
        "terminal('tree', max_lines_output=20)"
      ]
    },
    {
      "cell_type": "markdown",
      "metadata": {
        "id": "43hVDhXVpGeS"
      },
      "source": [
        "Pero a la salida tenemos demasiadas líneas, y esto es porque `tree` es un comando que muestra todos los archivos desde la ruta en la que estamos, por lo que es un poco difícil de leer. Sin embargo, con la opción `L` podemos indicarle en cuántos niveles queremos que profundice"
      ]
    },
    {
      "cell_type": "code",
      "execution_count": null,
      "metadata": {
        "id": "yKbPoWI7pGeS",
        "outputId": "b0877299-5ce1-497e-e6e4-48df86979931"
      },
      "outputs": [
        {
          "name": "stdout",
          "output_type": "stream",
          "text": [
            ".\n",
            "├── aprendiendo-git.pdf\n",
            "├── balena-etcher-electron-1.7.9-linux-x64\n",
            "│   └── balenaEtcher-1.7.9-x64.AppImage\n",
            "├── camerasIP\n",
            "│   ├── camerasIP.py\n",
            "│   ├── camerasIP.sh\n",
            "│   ├── config.py\n",
            "│   ├── __pycache__\n",
            "│   └── README.md\n",
            "├── Documentacion\n",
            "│   ├── Curriculum Vitae (5).pdf\n",
            "│   ├── Firma Pris.PNG\n",
            "│   └── Firma.png\n",
            "├── gstreamer\n",
            "│   ├── basic_tutorial_c\n",
            "│   └── README.md\n",
            "├── gstreamer_old\n",
            "│   ├── basic_tutorial_c\n",
            "│   └── basic_tutorial_python\n",
            "├── jetsonNano\n",
            "│   ├── apuntes-Jetson-Nano\n",
            "│   ├── deepstream_apps\n",
            "│   ├── deepstream_nano\n",
            "│   └── Digital zoom\n",
            "├── kaggle\n",
            "│   └── hubmap\n",
            "├── Libros\n",
            "│   └── aprendiendo-git.pdf\n",
            "├── nerf\n",
            "│   └── instant-ngp\n",
            "├── prueba.txt\n",
            "├── pytorch\n",
            "│   └── Curso_Pytorch\n",
            "├── wallabot\n",
            "│   ├── Microfono - Blue Yeti X\n",
            "│   ├── placa base - Asus prime x570-p\n",
            "│   └── Silla - Corsair T3 Rush\n",
            "└── web\n",
            "    ├── jupyter-to-html\n",
            "    ├── jupyter-translator\n",
            "    ├── portafolio\n",
            "    └── wordpress_api_rest\n",
            "\n",
            "30 directories, 12 files\n",
            "\n"
          ]
        }
      ],
      "source": [
        "terminal('tree -L 2')"
      ]
    },
    {
      "cell_type": "markdown",
      "metadata": {
        "id": "hUPlo4bJpGeS"
      },
      "source": [
        "Podemos ver que muestra que hay 30 directorios y 12 archivos, mientras que antes indicaba 873 directorios, 119679 archivos"
      ]
    },
    {
      "cell_type": "markdown",
      "metadata": {
        "id": "GmdyVrhapGeT"
      },
      "source": [
        "### Crear carpetas con `mkdir` (make directory)"
      ]
    },
    {
      "cell_type": "markdown",
      "metadata": {
        "id": "5xa_z8u7pGeT"
      },
      "source": [
        "Si queremos crear un nuevo directorio podemos usar el comando `mkdir` (make directory) y un nombre"
      ]
    },
    {
      "cell_type": "code",
      "execution_count": null,
      "metadata": {
        "id": "I5sQRCz-pGeT"
      },
      "outputs": [],
      "source": [
        "terminal(\"cd /home/wallabot/Documentos/web/portafolio/posts/\")"
      ]
    },
    {
      "cell_type": "code",
      "execution_count": null,
      "metadata": {
        "id": "9LNqcjKqpGeT",
        "outputId": "d2ce3541-c30c-4008-bf12-48f23b1956d4"
      },
      "outputs": [
        {
          "name": "stdout",
          "output_type": "stream",
          "text": [
            "\n"
          ]
        }
      ],
      "source": [
        "terminal('mkdir prueba')"
      ]
    },
    {
      "cell_type": "code",
      "execution_count": null,
      "metadata": {
        "id": "MrAxKjzzpGeT",
        "outputId": "0a1b32ad-d6d4-4511-e621-f608bea01605"
      },
      "outputs": [
        {
          "name": "stdout",
          "output_type": "stream",
          "text": [
            "2021-02-11-Introduccion-a-Python.ipynb\n",
            "2021-04-23-Calculo-matricial-con-Numpy.ipynb\n",
            "2021-06-15-Manejo-de-datos-con-Pandas.ipynb\n",
            "2022-09-12 Introduccion a la terminal.ipynb\n",
            "2022-09-12 Introduccion a la terminal.txt\n",
            "command-line-cheat-sheet.pdf\n",
            "CSS.ipynb\n",
            "Docker.html\n",
            "Docker.ipynb\n",
            "Expresiones regulares.html\n",
            "Expresiones regulares.ipynb\n",
            "html_files\n",
            "html.ipynb\n",
            "introduccion_python\n",
            "movies.csv\n",
            "movies.dat\n",
            "notebooks_translated\n",
            "prueba\n",
            "__pycache__\n",
            "ssh.ipynb\n",
            "test.html\n",
            "test.ipynb\n",
            "\n"
          ]
        }
      ],
      "source": [
        "terminal('ls')"
      ]
    },
    {
      "cell_type": "markdown",
      "metadata": {
        "id": "7HEp1igYpGeU"
      },
      "source": [
        "Si lo que queremos es crear un directorio con espacios en el nombre, tenemos que poner el nombre entre comillas."
      ]
    },
    {
      "cell_type": "code",
      "execution_count": null,
      "metadata": {
        "id": "Oh7tkx_9pGeU",
        "outputId": "8ba72029-caf5-474b-a80c-75b23242df1d"
      },
      "outputs": [
        {
          "name": "stdout",
          "output_type": "stream",
          "text": [
            "\n"
          ]
        }
      ],
      "source": [
        "terminal('mkdir \"directorio prueba\"')"
      ]
    },
    {
      "cell_type": "code",
      "execution_count": null,
      "metadata": {
        "id": "uzbDKSw3pGeU",
        "outputId": "ec1673fb-f3fd-4928-cbe4-d555b02d14f8"
      },
      "outputs": [
        {
          "name": "stdout",
          "output_type": "stream",
          "text": [
            "2021-02-11-Introduccion-a-Python.ipynb\n",
            "2021-04-23-Calculo-matricial-con-Numpy.ipynb\n",
            "2021-06-15-Manejo-de-datos-con-Pandas.ipynb\n",
            "2022-09-12 Introduccion a la terminal.ipynb\n",
            "2022-09-12 Introduccion a la terminal.txt\n",
            "command-line-cheat-sheet.pdf\n",
            "CSS.ipynb\n",
            "directorio prueba\n",
            "Docker.html\n",
            "Docker.ipynb\n",
            "Expresiones regulares.html\n",
            "Expresiones regulares.ipynb\n",
            "html_files\n",
            "html.ipynb\n",
            "introduccion_python\n",
            "movies.csv\n",
            "movies.dat\n",
            "notebooks_translated\n",
            "prueba\n",
            "__pycache__\n",
            "ssh.ipynb\n",
            "test.html\n",
            "test.ipynb\n",
            "\n"
          ]
        }
      ],
      "source": [
        "terminal('ls')"
      ]
    },
    {
      "cell_type": "markdown",
      "metadata": {
        "id": "yz-WjlDZpGeU"
      },
      "source": [
        "Vamos a meternos dentro de la carpeta `prueba` que hemos creado, para seguir viendo allí la terminal"
      ]
    },
    {
      "cell_type": "code",
      "execution_count": null,
      "metadata": {
        "id": "E4e9MB5dpGeU"
      },
      "outputs": [],
      "source": [
        "terminal(\"cd prueba\")"
      ]
    },
    {
      "cell_type": "markdown",
      "metadata": {
        "id": "tcYg3NOSpGeU"
      },
      "source": [
        "### Crear archivos con `touch`"
      ]
    },
    {
      "cell_type": "markdown",
      "metadata": {
        "id": "Ep0cJ5MepGeV"
      },
      "source": [
        "En caso de que queramos crear un archivo, el comando que tenemos que usar es `touch`"
      ]
    },
    {
      "cell_type": "code",
      "execution_count": null,
      "metadata": {
        "id": "gUMEjKRSpGeV",
        "outputId": "52ceb6fe-098d-4ecf-9d71-bedb79db3d89"
      },
      "outputs": [
        {
          "name": "stdout",
          "output_type": "stream",
          "text": [
            "\n"
          ]
        }
      ],
      "source": [
        "terminal(\"touch prueba.txt\")"
      ]
    },
    {
      "cell_type": "code",
      "execution_count": null,
      "metadata": {
        "id": "8uGQVvnhpGeV",
        "outputId": "509d445b-ce7b-45bd-b3f9-ea4c7cb35f07"
      },
      "outputs": [
        {
          "name": "stdout",
          "output_type": "stream",
          "text": [
            "prueba.txt\n",
            "\n"
          ]
        }
      ],
      "source": [
        "terminal(\"ls\")"
      ]
    },
    {
      "cell_type": "markdown",
      "metadata": {
        "id": "4ZMC8DzfpGeV"
      },
      "source": [
        "### Copiar archivos con `cp` (copy)"
      ]
    },
    {
      "cell_type": "markdown",
      "metadata": {
        "id": "AT5Yn3pspGeV"
      },
      "source": [
        "Si queremos copiar un archivo lo hacemos mediante el comando `cp` (copy)"
      ]
    },
    {
      "cell_type": "code",
      "execution_count": null,
      "metadata": {
        "id": "gzpEUS85pGeV",
        "outputId": "127b149d-2282-4354-8779-a8e3f8a39811"
      },
      "outputs": [
        {
          "name": "stdout",
          "output_type": "stream",
          "text": [
            "\n"
          ]
        }
      ],
      "source": [
        "terminal(\"cp prueba.txt prueba_copy.txt\")"
      ]
    },
    {
      "cell_type": "code",
      "execution_count": null,
      "metadata": {
        "id": "eo0yd8WtpGeW",
        "outputId": "ec315419-c02b-417e-c761-235892246f1f"
      },
      "outputs": [
        {
          "name": "stdout",
          "output_type": "stream",
          "text": [
            "prueba_copy.txt\n",
            "prueba.txt\n",
            "\n"
          ]
        }
      ],
      "source": [
        "terminal(\"ls\")"
      ]
    },
    {
      "cell_type": "markdown",
      "metadata": {
        "id": "djXdDyQtpGeW"
      },
      "source": [
        "### Mover archivos con `mv` (move)"
      ]
    },
    {
      "cell_type": "markdown",
      "metadata": {
        "id": "zrPc_1nHpGeW"
      },
      "source": [
        "Si lo que queremos es moverlo, lo que usamos es el comando `mv` (move)"
      ]
    },
    {
      "cell_type": "code",
      "execution_count": null,
      "metadata": {
        "id": "RsnG2v3kpGeW",
        "outputId": "2f84fb84-a2a4-4d43-856f-3a8dd9e60fdb"
      },
      "outputs": [
        {
          "name": "stdout",
          "output_type": "stream",
          "text": [
            "\n"
          ]
        }
      ],
      "source": [
        "terminal(\"mv prueba.txt ../prueba.txt\")"
      ]
    },
    {
      "cell_type": "code",
      "execution_count": null,
      "metadata": {
        "id": "xH9jtnqHpGeW",
        "outputId": "7101f6a8-ea49-4f81-83bb-468f118fc7ff"
      },
      "outputs": [
        {
          "name": "stdout",
          "output_type": "stream",
          "text": [
            "prueba_copy.txt\n",
            "\n"
          ]
        }
      ],
      "source": [
        "terminal(\"ls\")"
      ]
    },
    {
      "cell_type": "code",
      "execution_count": null,
      "metadata": {
        "id": "rPoTs1typGeW",
        "outputId": "86bc7f22-8a88-4a7b-f007-20a6f5410157"
      },
      "outputs": [
        {
          "name": "stdout",
          "output_type": "stream",
          "text": [
            "2021-02-11-Introduccion-a-Python.ipynb\n",
            "2021-04-23-Calculo-matricial-con-Numpy.ipynb\n",
            "2021-06-15-Manejo-de-datos-con-Pandas.ipynb\n",
            "2022-09-12 Introduccion a la terminal.ipynb\n",
            "2022-09-12 Introduccion a la terminal.txt\n",
            "command-line-cheat-sheet.pdf\n",
            "CSS.ipynb\n",
            "directorio prueba\n",
            "Docker.html\n",
            "Docker.ipynb\n",
            "Expresiones regulares.html\n",
            "Expresiones regulares.ipynb\n",
            "html_files\n",
            "html.ipynb\n",
            "introduccion_python\n",
            "movies.csv\n",
            "movies.dat\n",
            "notebooks_translated\n",
            "prueba\n",
            "prueba.txt\n",
            "__pycache__\n",
            "ssh.ipynb\n",
            "test.html\n",
            "test.ipynb\n",
            "\n"
          ]
        }
      ],
      "source": [
        "terminal(\"ls ../\")"
      ]
    },
    {
      "cell_type": "markdown",
      "metadata": {
        "id": "FioEnL6ppGeX"
      },
      "source": [
        "### Renombrar archivos con `mv` (move)"
      ]
    },
    {
      "cell_type": "markdown",
      "metadata": {
        "id": "w9OL3W7qpGeX"
      },
      "source": [
        "El comando `mv` también nos sirve para renombrar ficheros, ya que si lo que hacemos es moverlo en el mismo directorio, pero dándole otro nombre, al final eso es renombrar el archivo."
      ]
    },
    {
      "cell_type": "code",
      "execution_count": null,
      "metadata": {
        "id": "uXj8ks2wpGeX",
        "outputId": "2bd79a14-8a82-4807-f102-58af3e450775"
      },
      "outputs": [
        {
          "name": "stdout",
          "output_type": "stream",
          "text": [
            "\n"
          ]
        }
      ],
      "source": [
        "terminal(\"mv prueba_copy.txt prueba_move.txt\")"
      ]
    },
    {
      "cell_type": "code",
      "execution_count": null,
      "metadata": {
        "id": "8XqM6f1GpGeX",
        "outputId": "23a37cc9-f586-419f-e886-6f41a7f00a14"
      },
      "outputs": [
        {
          "name": "stdout",
          "output_type": "stream",
          "text": [
            "prueba_move.txt\n",
            "\n"
          ]
        }
      ],
      "source": [
        "terminal(\"ls\")"
      ]
    },
    {
      "cell_type": "markdown",
      "metadata": {
        "id": "AhmGOWN4pGeX"
      },
      "source": [
        "### Borrar archivos con `rm` (remove)"
      ]
    },
    {
      "cell_type": "markdown",
      "metadata": {
        "id": "lZIcOa4jpGeY"
      },
      "source": [
        "Para borrar archivos o directorios usamos el comando `rm` (remove)"
      ]
    },
    {
      "cell_type": "code",
      "execution_count": null,
      "metadata": {
        "id": "W-WH4br5pGeY",
        "outputId": "d81d3880-d2a4-41bf-b86a-cf60b885a8e2"
      },
      "outputs": [
        {
          "name": "stdout",
          "output_type": "stream",
          "text": [
            "\n"
          ]
        }
      ],
      "source": [
        "terminal(\"rm prueba_move.txt\")"
      ]
    },
    {
      "cell_type": "code",
      "execution_count": null,
      "metadata": {
        "id": "0fHCtJEspGeY",
        "outputId": "2968cdcf-d2b7-4d0e-e74f-bb559fa3d74e"
      },
      "outputs": [
        {
          "name": "stdout",
          "output_type": "stream",
          "text": [
            "\n"
          ]
        }
      ],
      "source": [
        "terminal(\"ls\")"
      ]
    },
    {
      "cell_type": "markdown",
      "metadata": {
        "id": "mDwJghJOpGeY"
      },
      "source": [
        "### Eliminar directorios con `rm -r` (remove recursive)"
      ]
    },
    {
      "cell_type": "markdown",
      "metadata": {
        "id": "h2xBzEF1pGeY"
      },
      "source": [
        "Si lo que queremos es eliminar un directorio con archivos dentro, debemos usar el flag `-r`."
      ]
    },
    {
      "cell_type": "code",
      "execution_count": null,
      "metadata": {
        "id": "aAyx0S2tpGeY"
      },
      "outputs": [],
      "source": [
        "terminal(\"cd ..\")"
      ]
    },
    {
      "cell_type": "code",
      "execution_count": null,
      "metadata": {
        "id": "9nfXK78IpGeY",
        "outputId": "b9293f39-5304-4263-992a-36464737d08a"
      },
      "outputs": [
        {
          "name": "stdout",
          "output_type": "stream",
          "text": [
            "\n"
          ]
        }
      ],
      "source": [
        "terminal('rm -r \"directorio prueba\"')"
      ]
    },
    {
      "cell_type": "code",
      "execution_count": null,
      "metadata": {
        "id": "BG4H2gxBpGeZ",
        "outputId": "a25b949f-c574-4d61-8a5f-70eddb770258"
      },
      "outputs": [
        {
          "name": "stdout",
          "output_type": "stream",
          "text": [
            "2021-02-11-Introduccion-a-Python.ipynb\n",
            "2021-04-23-Calculo-matricial-con-Numpy.ipynb\n",
            "2021-06-15-Manejo-de-datos-con-Pandas.ipynb\n",
            "2022-09-12 Introduccion a la terminal.ipynb\n",
            "2022-09-12 Introduccion a la terminal.txt\n",
            "command-line-cheat-sheet.pdf\n",
            "CSS.ipynb\n",
            "Docker.html\n",
            "Docker.ipynb\n",
            "Expresiones regulares.html\n",
            "Expresiones regulares.ipynb\n",
            "html_files\n",
            "html.ipynb\n",
            "introduccion_python\n",
            "movies.csv\n",
            "movies.dat\n",
            "notebooks_translated\n",
            "prueba\n",
            "prueba.txt\n",
            "__pycache__\n",
            "ssh.ipynb\n",
            "test.html\n",
            "test.ipynb\n",
            "\n"
          ]
        }
      ],
      "source": [
        "terminal(\"ls\")"
      ]
    },
    {
      "cell_type": "markdown",
      "metadata": {
        "id": "20olQG4tpGeZ"
      },
      "source": [
        "Como puedes ver nunca pregunta si estamos seguros, para que pregunte hay que añadir el flag `-i` (`iteractive`)"
      ]
    },
    {
      "cell_type": "code",
      "execution_count": null,
      "metadata": {
        "id": "UGc1gjSGpGeZ",
        "outputId": "75e3c5db-7c71-45fc-fc51-b6c6f8293bf3"
      },
      "outputs": [
        {
          "name": "stdout",
          "output_type": "stream",
          "text": [
            "rm: ¿borrar el fichero regular vacío 'prueba.txt'? (s/n) s\n",
            "\n"
          ]
        }
      ],
      "source": [
        "terminal(\"rm -i prueba.txt\")"
      ]
    },
    {
      "cell_type": "markdown",
      "metadata": {
        "id": "RSv8eoKkpGeZ"
      },
      "source": [
        "### Sincronizar archivos mediante `rsync`"
      ]
    },
    {
      "cell_type": "markdown",
      "metadata": {
        "id": "lCzY_E9WpGeZ"
      },
      "source": [
        "Hasta ahora hemos visto cómo copiar, mover y eliminar archivos, pero supongamos que tenemos una carpeta y copiamos esos archivos a otra. Ahora supongamos que modificamos un archivo de la primera carpeta y queremos que la segunda tenga los cambios. Tenemos dos opciones, volver a copiar todos los archivos, o hacer una sincronización mediante `rsync`"
      ]
    },
    {
      "cell_type": "markdown",
      "metadata": {
        "id": "lq9KBBXqpGea"
      },
      "source": [
        "Primero vamos a crear una nueva carpeta en la que creemos varios archivos"
      ]
    },
    {
      "cell_type": "code",
      "execution_count": null,
      "metadata": {
        "id": "0Esv4PW1pGea"
      },
      "outputs": [],
      "source": [
        "!mkdir sourcefolder\n",
        "!touch sourcefolder/file1 sourcefolder/file2 sourcefolder/file3"
      ]
    },
    {
      "cell_type": "markdown",
      "metadata": {
        "id": "buebj9hWpGea"
      },
      "source": [
        "Ahora creamos una segunda carpeta que es la que vamos a sincronizar con la primera"
      ]
    },
    {
      "cell_type": "code",
      "execution_count": null,
      "metadata": {
        "id": "4W2XMNNPpGea"
      },
      "outputs": [],
      "source": [
        "!mkdir syncfolder"
      ]
    },
    {
      "cell_type": "code",
      "execution_count": null,
      "metadata": {
        "id": "9CqPLG17pGea",
        "outputId": "c53ff9a4-4859-43a6-a0ce-bd8b6da82f88"
      },
      "outputs": [
        {
          "name": "stdout",
          "output_type": "stream",
          "text": [
            "ls sourcefolder:\n",
            "file1  file2  file3\n",
            "ls syncfolder:\n"
          ]
        }
      ],
      "source": [
        "!echo \"ls sourcefolder:\" && ls sourcefolder && echo \"ls syncfolder:\" && ls syncfolder"
      ]
    },
    {
      "cell_type": "markdown",
      "metadata": {
        "id": "I3i3LaHcpGeb"
      },
      "source": [
        "Sincronizamos las dos carpetas con `rsync`, la primera vez solo copiará los archivos de la primera carpeta a la segunda. Para hacer esto, además debemos añadir el flag `-r` (recursive)"
      ]
    },
    {
      "cell_type": "code",
      "execution_count": null,
      "metadata": {
        "id": "OZMHosbQpGeb"
      },
      "outputs": [],
      "source": [
        "!rsync -r sourcefolder/ syncfolder/"
      ]
    },
    {
      "cell_type": "code",
      "execution_count": null,
      "metadata": {
        "id": "yMYCUD9jpGeb",
        "outputId": "abaf6ae2-d705-4c61-9f0a-b743d2a4afed"
      },
      "outputs": [
        {
          "name": "stdout",
          "output_type": "stream",
          "text": [
            "ls sourcefolder:\n",
            "file1  file2  file3\n",
            "ls syncfolder:\n",
            "file1  file2  file3\n"
          ]
        }
      ],
      "source": [
        "!echo \"ls sourcefolder:\" && ls sourcefolder && echo \"ls syncfolder:\" && ls syncfolder"
      ]
    },
    {
      "cell_type": "markdown",
      "metadata": {
        "id": "dE6Rme9ppGec"
      },
      "source": [
        "Si ahora creo un nuevo archivo en `sourcefolder` y vuelvo a sincronizar, se copia solo ese archivo en `syncfolder`. Para ver que solo se copia un archivo podemos usar el flag `-v` (verbose)"
      ]
    },
    {
      "cell_type": "code",
      "execution_count": null,
      "metadata": {
        "id": "KodBX4kzpGec"
      },
      "outputs": [],
      "source": [
        "!touch sourcefolder/file4"
      ]
    },
    {
      "cell_type": "code",
      "execution_count": null,
      "metadata": {
        "id": "zbUg5funpGec",
        "outputId": "026ae3f4-c53f-42f5-d547-ce355eaf4493"
      },
      "outputs": [
        {
          "name": "stdout",
          "output_type": "stream",
          "text": [
            "sending incremental file list\n",
            "file1\n",
            "file2\n",
            "file3\n",
            "file4\n",
            "\n",
            "sent 269 bytes  received 92 bytes  722.00 bytes/sec\n",
            "total size is 0  speedup is 0.00\n"
          ]
        }
      ],
      "source": [
        "!rsync -r -v sourcefolder/ syncfolder/"
      ]
    },
    {
      "cell_type": "markdown",
      "metadata": {
        "id": "fMX0BUCIpGec"
      },
      "source": [
        "Pero parece que ha copiado todos los archivos, así que para que esto no pase y copie solo los que se han modificado hay que usar el flag `-u`"
      ]
    },
    {
      "cell_type": "code",
      "execution_count": null,
      "metadata": {
        "id": "0VnrrJMppGed"
      },
      "outputs": [],
      "source": [
        "!touch sourcefolder/file5"
      ]
    },
    {
      "cell_type": "code",
      "execution_count": null,
      "metadata": {
        "id": "x4SSGKWqpGed",
        "outputId": "abba7f62-1dff-49c3-d0de-30b8f9b9a6c4"
      },
      "outputs": [
        {
          "name": "stdout",
          "output_type": "stream",
          "text": [
            "sending incremental file list\n",
            "file5\n",
            "\n",
            "sent 165 bytes  received 35 bytes  400.00 bytes/sec\n",
            "total size is 0  speedup is 0.00\n"
          ]
        }
      ],
      "source": [
        "!rsync -r -v -u sourcefolder/ syncfolder/"
      ]
    },
    {
      "cell_type": "code",
      "execution_count": null,
      "metadata": {
        "id": "qmH_FxbXpGed",
        "outputId": "49107a7a-6d1b-4dfd-dbc8-34b7f76cec7b"
      },
      "outputs": [
        {
          "name": "stdout",
          "output_type": "stream",
          "text": [
            "ls sourcefolder:\n",
            "file1  file2  file3  file4  file5\n",
            "ls syncfolder:\n",
            "file1  file2  file3  file4  file5\n"
          ]
        }
      ],
      "source": [
        "!echo \"ls sourcefolder:\" && ls sourcefolder && echo \"ls syncfolder:\" && ls syncfolder"
      ]
    },
    {
      "cell_type": "markdown",
      "metadata": {
        "id": "S9HUDO26pGed"
      },
      "source": [
        "¿Y qué pasa si creo un archivo nuevo en `syncfolder`?"
      ]
    },
    {
      "cell_type": "code",
      "execution_count": null,
      "metadata": {
        "id": "sWXjNN8lpGee"
      },
      "outputs": [],
      "source": [
        "!touch syncfolder/file6"
      ]
    },
    {
      "cell_type": "code",
      "execution_count": null,
      "metadata": {
        "id": "deMirChXpGee",
        "outputId": "c34efee0-3f4b-476b-a74b-5765ab055616"
      },
      "outputs": [
        {
          "name": "stdout",
          "output_type": "stream",
          "text": [
            "sending incremental file list\n",
            "\n",
            "sent 122 bytes  received 12 bytes  268.00 bytes/sec\n",
            "total size is 0  speedup is 0.00\n"
          ]
        }
      ],
      "source": [
        "!rsync -r -v -u sourcefolder/ syncfolder/"
      ]
    },
    {
      "cell_type": "code",
      "execution_count": null,
      "metadata": {
        "id": "LwirRp_CpGee",
        "outputId": "76f96f8e-0df2-476e-c75c-31230fbb5153"
      },
      "outputs": [
        {
          "name": "stdout",
          "output_type": "stream",
          "text": [
            "ls sourcefolder:\n",
            "file1  file2  file3  file4  file5\n",
            "ls syncfolder:\n",
            "file1  file2  file3  file4  file5  file6\n"
          ]
        }
      ],
      "source": [
        "!echo \"ls sourcefolder:\" && ls sourcefolder && echo \"ls syncfolder:\" && ls syncfolder"
      ]
    },
    {
      "cell_type": "markdown",
      "metadata": {
        "id": "Z4enwhwUpGee"
      },
      "source": [
        "No lo sincroniza, así que es importante tener esto en cuenta"
      ]
    },
    {
      "cell_type": "markdown",
      "metadata": {
        "id": "VJptzSwGpGee"
      },
      "source": [
        "Algunos flags importantes que hay que tener en cuenta son:\n",
        "\n",
        " * `-a`: Este flag es un atajo para varias opciones, incluyendo `-r` (recursivo), `-l` (copiar enlaces simbólicos), `-p` (mantener permisos), `-t` (mantener la hora de modificación) y `-g` (mantener grupo). Esta opción es útil para hacer una copia exacta de un directorio, incluyendo todas sus subcarpetas y archivos.\n",
        " * `-v`: Este flag activa la salida detallada, que muestra los archivos que se están copiando y el progreso de la operación.\n",
        " * `-r`: Este flag es utilizado para copiar de forma recursiva, lo que significa que copia todas las subcarpetas y archivos dentro de un directorio.\n",
        " * `-u`: Este flag es utilizado para copiar solo los archivos nuevos o modificados. Si un archivo ya existe en el destino y es más reciente que el archivo de origen, no se copia.\n",
        " * `-n`: Este flag se utiliza para hacer una prueba de copia, lo que significa que no se realizan cambios en el destino.\n",
        " * `--exclude`: Este flag se utiliza para excluir archivos o carpetas específicos de la operación de copia. Puedes especificar varios archivos o carpetas para excluir utilizando esta opción varias veces.\n",
        " * `-z`: Este flag se utiliza para comprimir los datos durante la transferencia, lo que reduce el ancho de banda utilizado y acelera la velocidad de transferencia.\n",
        "* `-h`: este flag se usa para mostrar la información en un formato más legible, especialmente cuando se trabaja con grandes cantidades de datos o tamaños de archivos grandes."
      ]
    },
    {
      "cell_type": "markdown",
      "metadata": {
        "id": "wMLruCxVpGee"
      },
      "source": [
        "Borramos las dos carpetas creadas"
      ]
    },
    {
      "cell_type": "code",
      "execution_count": null,
      "metadata": {
        "id": "NRTjqAONpGef"
      },
      "outputs": [],
      "source": [
        "!rm -r sourcefolder syncfolder"
      ]
    },
    {
      "cell_type": "markdown",
      "metadata": {
        "id": "zufTKyIipGef"
      },
      "source": [
        "\n",
        "## Explorando el contenido de los archivos"
      ]
    },
    {
      "cell_type": "markdown",
      "metadata": {
        "id": "zbdb-bzSpGef"
      },
      "source": [
        "Para no tener que abrir un archivo desde una interfaz gráfica tenemos varias formas. Voy a copiar un archivo de texto en esta carpeta lo primero."
      ]
    },
    {
      "cell_type": "code",
      "execution_count": null,
      "metadata": {
        "id": "jkAL1AajpGef"
      },
      "outputs": [],
      "source": [
        "terminal(\"cd prueba\")"
      ]
    },
    {
      "cell_type": "code",
      "execution_count": null,
      "metadata": {
        "id": "lY-7ai_hpGef",
        "outputId": "29a6727e-b472-4be6-94ab-ac9cd62315af"
      },
      "outputs": [
        {
          "name": "stdout",
          "output_type": "stream",
          "text": [
            "\n"
          ]
        }
      ],
      "source": [
        "terminal(\"cp ../2021-02-11-Introduccion-a-Python.ipynb .\")"
      ]
    },
    {
      "cell_type": "code",
      "execution_count": null,
      "metadata": {
        "id": "vuRWjuMrpGef",
        "outputId": "927c696f-19cf-4245-98f3-678c0399fd67"
      },
      "outputs": [
        {
          "name": "stdout",
          "output_type": "stream",
          "text": [
            "2021-02-11-Introduccion-a-Python.ipynb\n",
            "\n"
          ]
        }
      ],
      "source": [
        "terminal(\"ls\")"
      ]
    },
    {
      "cell_type": "markdown",
      "metadata": {
        "id": "oyNkNcKCpGeg"
      },
      "source": [
        "### Cabecera de archivos con `head`"
      ]
    },
    {
      "cell_type": "markdown",
      "metadata": {
        "id": "aaGqDR-dpGeg"
      },
      "source": [
        "El primer comando para poder ver dentro de un archivo de texto es `head`, que nos permite ver las primeras 10 líneas de un archivo, pero si se le mete el flag `-n` puedes indicar el número de líneas"
      ]
    },
    {
      "cell_type": "code",
      "execution_count": null,
      "metadata": {
        "id": "5cieTPdGpGeg",
        "outputId": "4306e818-0369-4a58-bd69-89260b0540b2"
      },
      "outputs": [
        {
          "name": "stdout",
          "output_type": "stream",
          "text": [
            "{\n",
            "  \"cells\": [\n",
            "    {\n",
            "      \"cell_type\": \"markdown\",\n",
            "      \"metadata\": {\n",
            "        \"id\": \"dsaKCKL0IxZl\"\n",
            "      },\n",
            "      \"source\": [\n",
            "        \"# Introducción a Python\"\n",
            "      ]\n",
            "\n"
          ]
        }
      ],
      "source": [
        "terminal(\"head 2021-02-11-Introduccion-a-Python.ipynb\")"
      ]
    },
    {
      "cell_type": "code",
      "execution_count": null,
      "metadata": {
        "id": "Ov4oNq8cpGeg",
        "outputId": "4454cdb7-9008-42a0-9c96-dfe903ecc4ad"
      },
      "outputs": [
        {
          "name": "stdout",
          "output_type": "stream",
          "text": [
            "{\n",
            "  \"cells\": [\n",
            "    {\n",
            "      \"cell_type\": \"markdown\",\n",
            "      \"metadata\": {\n",
            "\n"
          ]
        }
      ],
      "source": [
        "terminal(\"head -n 5 2021-02-11-Introduccion-a-Python.ipynb\")"
      ]
    },
    {
      "cell_type": "markdown",
      "metadata": {
        "id": "BErcfP1PpGeg"
      },
      "source": [
        "### Cola de un archivo con `tail`"
      ]
    },
    {
      "cell_type": "markdown",
      "metadata": {
        "id": "rlWaub0bpGeh"
      },
      "source": [
        "En caso de querer ver las últimas líneas usamos `tail`"
      ]
    },
    {
      "cell_type": "code",
      "execution_count": null,
      "metadata": {
        "id": "rhprR-SEpGeh",
        "outputId": "f64d7290-279c-4bdd-f48c-0500c589eaba"
      },
      "outputs": [
        {
          "name": "stdout",
          "output_type": "stream",
          "text": [
            "    },\n",
            "    \"vscode\": {\n",
            "      \"interpreter\": {\n",
            "        \"hash\": \"d5745ab6aba164e1152437c779991855725055592b9f2bdb41a4825db7168d26\"\n",
            "      }\n",
            "    }\n",
            "  },\n",
            "  \"nbformat\": 4,\n",
            "  \"nbformat_minor\": 0\n",
            "}\n",
            "\n"
          ]
        }
      ],
      "source": [
        "terminal(\"tail 2021-02-11-Introduccion-a-Python.ipynb\")"
      ]
    },
    {
      "cell_type": "code",
      "execution_count": null,
      "metadata": {
        "id": "PdmIrS4VpGeh",
        "outputId": "039f418f-e8ce-45af-befa-3167e7976a13"
      },
      "outputs": [
        {
          "name": "stdout",
          "output_type": "stream",
          "text": [
            "    }\n",
            "  },\n",
            "  \"nbformat\": 4,\n",
            "  \"nbformat_minor\": 0\n",
            "}\n",
            "\n"
          ]
        }
      ],
      "source": [
        "terminal(\"tail -n 5 2021-02-11-Introduccion-a-Python.ipynb\")"
      ]
    },
    {
      "cell_type": "markdown",
      "metadata": {
        "id": "_XKeIG7WpGeh"
      },
      "source": [
        "Si queremos ver continuamente las últimas líneas de un archivo, por ejemplo, queremos estar monitorizando continuamente un archivo de LOG para ver eventos, añadimos el flag `-f`, esto hará que la terminal se quede continuamente comprobando el archivo, y cada vez que aparezca una nueva línea en él la mostrará"
      ]
    },
    {
      "cell_type": "markdown",
      "metadata": {
        "id": "g5D_T-MOpGeh"
      },
      "source": [
        "Por ejemplo si yo monitoreo el log de inicio de sesión en mi máquina"
      ]
    },
    {
      "cell_type": "code",
      "execution_count": null,
      "metadata": {
        "id": "_P68D3yzpGeh",
        "outputId": "ee239356-dc5c-4dec-e4c7-a2410e1bd033"
      },
      "outputs": [
        {
          "name": "stdout",
          "output_type": "stream",
          "text": [
            "Dec  1 16:27:22 wallabot gcr-prompter[1457]: Gcr: calling the PromptDone method on /org/gnome/keyring/Prompt/p2@:1.26, and ignoring reply\n",
            "Dec  1 16:27:22 wallabot gnome-keyring-daemon[1178]: asked to register item /org/freedesktop/secrets/collection/login/10, but it's already registered\n",
            "Dec  1 16:27:26 wallabot systemd-logind[835]: Watching system buttons on /dev/input/event28 (Logitech Wireless Mouse MX Master 3)\n",
            "Dec  1 16:27:33 wallabot gcr-prompter[1457]: Gcr: 10 second inactivity timeout, quitting\n",
            "Dec  1 16:27:33 wallabot gcr-prompter[1457]: Gcr: unregistering prompter\n",
            "Dec  1 16:27:33 wallabot gcr-prompter[1457]: Gcr: disposing prompter\n",
            "Dec  1 16:27:33 wallabot gcr-prompter[1457]: Gcr: finalizing prompter\n",
            "Dec  1 16:27:34 wallabot polkitd(authority=local): Operator of unix-session:1 successfully authenticated as unix-user:wallabot to gain TEMPORARY authorization for action org.debian.apt.install-or-remove-packages for system-bus-name::1.96 [/usr/bin/python3 /usr/bin/update-manager --no-update --no-focus-on-map] (owned by unix-user:wallabot)\n",
            "Dec  1 16:27:42 wallabot systemd-logind[835]: Watching system buttons on /dev/input/event30 (T9-R (AVRCP))\n",
            "Dec  1 16:27:49 wallabot gnome-keyring-daemon[1178]: asked to register item /org/freedesktop/secrets/collection/login/2, but it's already registered\n"
          ]
        }
      ],
      "source": [
        "!tail -f /var/log/auth.log"
      ]
    },
    {
      "cell_type": "markdown",
      "metadata": {
        "id": "3GFYcXLVpGei"
      },
      "source": [
        "Vemos en las dos últimas líneas mi inicio de sesión cuando he encendido hoy mi ordenador."
      ]
    },
    {
      "cell_type": "markdown",
      "metadata": {
        "id": "5aAOLwAjpGei"
      },
      "source": [
        "Ahora me conecto por SSH a mi propia máquina"
      ]
    },
    {
      "cell_type": "code",
      "execution_count": null,
      "metadata": {
        "id": "6RLGDjq2pGei",
        "outputId": "5956cb78-65a7-403f-f1d0-350b64f7c391"
      },
      "outputs": [
        {
          "name": "stdout",
          "output_type": "stream",
          "text": [
            "wallabot@localhost's password: \n",
            "Welcome to Ubuntu 20.04.5 LTS (GNU/Linux 5.15.0-53-generic x86_64)\n",
            "\n",
            " * Documentation:  https://help.ubuntu.com\n",
            " * Management:     https://landscape.canonical.com\n",
            " * Support:        https://ubuntu.com/advantage\n",
            "\n",
            "1 device has a firmware upgrade available.\n",
            "Run `fwupdmgr get-upgrades` for more information.\n",
            "\n",
            "\n",
            "Se pueden aplicar 0 actualizaciones de forma inmediata.\n",
            "\n",
            "Your Hardware Enablement Stack (HWE) is supported until April 2025.\n",
            "*** System restart required ***\n",
            "Last login: Sun May  8 02:18:09 2022 from 192.168.1.147\n"
          ]
        }
      ],
      "source": [
        "!ssh localhost"
      ]
    },
    {
      "cell_type": "markdown",
      "metadata": {
        "id": "w9fLel1RpGei"
      },
      "source": [
        "En la consola donde estaba monitorizando el inicio de sesión han aparecido dos nuevas líneas"
      ]
    },
    {
      "cell_type": "code",
      "execution_count": null,
      "metadata": {
        "id": "62doPXRopGei",
        "outputId": "d6569fe6-6a3b-42e4-98a6-420aeecfc9d8"
      },
      "outputs": [
        {
          "name": "stdout",
          "output_type": "stream",
          "text": [
            "Dec  1 16:32:23 wallabot sshd[25647]: Accepted password for wallabot from 127.0.0.1 port 54668 ssh2\n",
            "Dec  1 16:32:23 wallabot sshd[25647]: pam_unix(sshd:session): session opened for user wallabot by (uid=0)\n",
            "Dec  1 16:32:23 wallabot systemd-logind[835]: New session 4 of user wallabot.\n"
          ]
        }
      ],
      "source": []
    },
    {
      "cell_type": "markdown",
      "metadata": {
        "id": "M8_DXodUpGei"
      },
      "source": [
        "Y cuando cierro la sesión SSH aparecen otras dos líneas nuevas"
      ]
    },
    {
      "cell_type": "code",
      "execution_count": null,
      "metadata": {
        "id": "fDoVcZ51pGej",
        "outputId": "ef2974f1-3bbe-4fc5-de2a-20caaf15fd24"
      },
      "outputs": [
        {
          "name": "stdout",
          "output_type": "stream",
          "text": [
            "Dec  1 16:33:52 wallabot sshd[25647]: pam_unix(sshd:session): session closed for user wallabot\n",
            "Dec  1 16:33:52 wallabot systemd-logind[835]: Session 4 logged out. Waiting for processes to exit.\n",
            "Dec  1 16:33:52 wallabot systemd-logind[835]: Removed session 4.\n"
          ]
        }
      ],
      "source": []
    },
    {
      "cell_type": "markdown",
      "metadata": {
        "id": "yMo-IsUYpGej"
      },
      "source": [
        "### El visor de archivos más potente: `less`"
      ]
    },
    {
      "cell_type": "markdown",
      "metadata": {
        "id": "sa1R-d9cpGej"
      },
      "source": [
        "Uno de los comandos más potentes para ver dentro de los archivos es `less`"
      ]
    },
    {
      "cell_type": "code",
      "execution_count": null,
      "metadata": {
        "id": "jBXuyeCApGej",
        "outputId": "7c920024-717c-43a6-c970-dbd9cef09bdd"
      },
      "outputs": [
        {
          "name": "stdout",
          "output_type": "stream",
          "text": [
            "{\n",
            "  \"cells\": [\n",
            "    {\n",
            "      \"cell_type\": \"markdown\",\n",
            "      \"metadata\": {\n",
            "        \"id\": \"dsaKCKL0IxZl\"\n",
            "      },\n",
            "      \"source\": [\n",
            "        \"# Introducción a Python\"\n",
            "      ]\n",
            "    },\n",
            "    {\n",
            "      \"cell_type\": \"markdown\",\n",
            "      \"metadata\": {\n",
            "        \"id\": \"Ho_8zgIiI0We\"\n",
            "      },\n",
            "      \"source\": [\n",
            "        \"## 1. Resumen\"\n",
            "      ]\n",
            "    },\n",
            "\t ...\n",
            "  },\n",
            "  \"nbformat\": 4,\n",
            "  \"nbformat_minor\": 0\n",
            "}\n",
            "\n"
          ]
        }
      ],
      "source": [
        "terminal(\"less 2021-02-11-Introduccion-a-Python.ipynb\", max_lines_output=20)"
      ]
    },
    {
      "cell_type": "markdown",
      "metadata": {
        "id": "uSgrF3qbpGej"
      },
      "source": [
        "Al estar dentro de un cuaderno no se puede ver lo que ocurre realmente al usar `less`, pero cuando lo usamos nos metemos en el documento, podemos movernos a través de él mediante las teclas, o con el ratón\n",
        "\n",
        "Si queremos buscar algo dentro del documento, escribimos el carácter `/` y lo que queramos buscar. Para cambiar entre las distintas instancias que ha encontrado pulsamos la tecla `n`, y si queremos volver hacia atrás en las búsquedas pulsamos `shift+n`\n",
        "\n",
        "Para salir solo hay que pulsar `q`"
      ]
    },
    {
      "cell_type": "markdown",
      "metadata": {
        "id": "rsEenElgpGej"
      },
      "source": [
        "### El visor `cat`"
      ]
    },
    {
      "cell_type": "markdown",
      "metadata": {
        "id": "lBebPUVkpGek"
      },
      "source": [
        "No te permite navegar por el archivo ni hacer búsquedas."
      ]
    },
    {
      "cell_type": "code",
      "execution_count": null,
      "metadata": {
        "id": "uy_k36wUpGek",
        "outputId": "a2a5c439-c9b2-4ffb-f937-8c6f9da5f190"
      },
      "outputs": [
        {
          "name": "stdout",
          "output_type": "stream",
          "text": [
            "{\n",
            "  \"cells\": [\n",
            "    {\n",
            "      \"cell_type\": \"markdown\",\n",
            "      \"metadata\": {\n",
            "        \"id\": \"dsaKCKL0IxZl\"\n",
            "      },\n",
            "      \"source\": [\n",
            "        \"# Introducción a Python\"\n",
            "      ]\n",
            "    },\n",
            "    {\n",
            "      \"cell_type\": \"markdown\",\n",
            "      \"metadata\": {\n",
            "        \"id\": \"Ho_8zgIiI0We\"\n",
            "      },\n",
            "      \"source\": [\n",
            "        \"## 1. Resumen\"\n",
            "      ]\n",
            "    },\n",
            "\t ...\n",
            "  },\n",
            "  \"nbformat\": 4,\n",
            "  \"nbformat_minor\": 0\n",
            "}\n",
            "\n"
          ]
        }
      ],
      "source": [
        "terminal(\"cat 2021-02-11-Introduccion-a-Python.ipynb\", max_lines_output=20)"
      ]
    },
    {
      "cell_type": "markdown",
      "metadata": {
        "id": "K-zufMhIpGek"
      },
      "source": [
        "### Editor por defecto del sistema `xdg-open`"
      ]
    },
    {
      "cell_type": "markdown",
      "metadata": {
        "id": "gPpZXJmhpGek"
      },
      "source": [
        "Si lo queremos abrir con el editor por defecto del archivo, tenemos que usar `xdg-open`"
      ]
    },
    {
      "cell_type": "code",
      "execution_count": null,
      "metadata": {
        "id": "aVME8WIxpGek",
        "outputId": "75584026-00c4-4f67-baaf-70fc19c7d67f"
      },
      "outputs": [
        {
          "name": "stdout",
          "output_type": "stream",
          "text": [
            "\n"
          ]
        }
      ],
      "source": [
        "terminal(\"xdg-open 2021-02-11-Introducción-a-Python.ipynb\")"
      ]
    },
    {
      "cell_type": "markdown",
      "metadata": {
        "id": "3E_GarrWpGek"
      },
      "source": [
        "### Navegador de archivos `nautilus`"
      ]
    },
    {
      "cell_type": "markdown",
      "metadata": {
        "id": "YqP2XPstpGek"
      },
      "source": [
        "Si lo que queremos es abrir la carpeta en la que estamos, usamos `nautilus`"
      ]
    },
    {
      "cell_type": "code",
      "execution_count": null,
      "metadata": {
        "id": "MYk84yqzpGek",
        "outputId": "1349e289-0e54-4331-a1f0-c85527f53e11"
      },
      "outputs": [
        {
          "name": "stdout",
          "output_type": "stream",
          "text": [
            "\n"
          ]
        }
      ],
      "source": [
        "terminal(\"nautilus\")"
      ]
    },
    {
      "cell_type": "markdown",
      "metadata": {
        "id": "JDBPSU0qpGel"
      },
      "source": [
        "Y si lo que queremos es que se abra en una ruta determinada, se incluye la ruta"
      ]
    },
    {
      "cell_type": "code",
      "execution_count": null,
      "metadata": {
        "id": "KO8aAIkFpGel",
        "outputId": "b15a6650-196b-43b6-9354-1483cc79df40"
      },
      "outputs": [
        {
          "name": "stdout",
          "output_type": "stream",
          "text": [
            "\n"
          ]
        }
      ],
      "source": [
        "terminal(\"nautilus ~/\")"
      ]
    },
    {
      "cell_type": "markdown",
      "metadata": {
        "id": "9Yf7tstRpGel"
      },
      "source": [
        "### Contador de palabras de un archivo con `wc` (word count)"
      ]
    },
    {
      "cell_type": "markdown",
      "metadata": {
        "id": "Yt6zGZAepGel"
      },
      "source": [
        "Por último, un comando muy útil es `wc` (word count), que te muestra cuántas líneas, palabras y bytes tiene un archivo"
      ]
    },
    {
      "cell_type": "code",
      "execution_count": null,
      "metadata": {
        "id": "D0aIzHhNpGel",
        "outputId": "b2d41be5-8190-4811-ba5a-d1be1c8a29e3"
      },
      "outputs": [
        {
          "name": "stdout",
          "output_type": "stream",
          "text": [
            " 11678  25703 285898 2021-02-11-Introduccion-a-Python.ipynb\n",
            "\n"
          ]
        }
      ],
      "source": [
        "terminal(\"wc 2021-02-11-Introduccion-a-Python.ipynb\")"
      ]
    },
    {
      "cell_type": "markdown",
      "metadata": {
        "id": "RK3vsUhopGel"
      },
      "source": [
        "Como vemos, el archivo tiene 11678 líneas, 25703 palabras y ocupa 285898 bytes"
      ]
    },
    {
      "cell_type": "markdown",
      "metadata": {
        "id": "qet6AI7UpGem"
      },
      "source": [
        "## Qué es un comando"
      ]
    },
    {
      "cell_type": "markdown",
      "metadata": {
        "id": "AXpzYpiPpGem"
      },
      "source": [
        "Un comando puede ser cuatro cosas\n",
        "* Un programa ejecutable, éstos normalmente se guardan en la ruta `/usr/bin`\n",
        " * Un comando de shell\n",
        " * Una función de shell\n",
        " * Un alias"
      ]
    },
    {
      "cell_type": "markdown",
      "metadata": {
        "id": "V9HS2eujpGem"
      },
      "source": [
        "Para ver a qué clase pertenece un comando usamos `type`"
      ]
    },
    {
      "cell_type": "code",
      "execution_count": null,
      "metadata": {
        "id": "Q_Z5Bt8mpGem",
        "outputId": "6b110b2d-a8e5-4776-c1dc-c7261979d9b4"
      },
      "outputs": [
        {
          "name": "stdout",
          "output_type": "stream",
          "text": [
            "cd is a shell builtin\n"
          ]
        }
      ],
      "source": [
        "!type cd"
      ]
    },
    {
      "cell_type": "code",
      "execution_count": null,
      "metadata": {
        "id": "1b2_ol9NpGem",
        "outputId": "d37ddd86-8421-4622-ef2a-985366ab0b08"
      },
      "outputs": [
        {
          "name": "stdout",
          "output_type": "stream",
          "text": [
            "mkdir is /usr/bin/mkdir\n"
          ]
        }
      ],
      "source": [
        "!type mkdir"
      ]
    },
    {
      "cell_type": "code",
      "execution_count": null,
      "metadata": {
        "id": "oo1IbRsCpGem",
        "outputId": "597e2645-260d-4fb7-bb4e-5b003beaf3d4"
      },
      "outputs": [
        {
          "name": "stdout",
          "output_type": "stream",
          "text": [
            "ls is /usr/bin/ls\n"
          ]
        }
      ],
      "source": [
        "!type ls"
      ]
    },
    {
      "cell_type": "markdown",
      "metadata": {
        "id": "1u7KKILEpGen"
      },
      "source": [
        "## ¿Qué es un alias?"
      ]
    },
    {
      "cell_type": "markdown",
      "metadata": {
        "id": "WLrtY4YUpGen"
      },
      "source": [
        "Un alias es un comando que definimos nosotros, este se define mediante el comando `alias`. Por ejemplo, vamos a crear el alias `l` que lo que haga sea `ls -h`"
      ]
    },
    {
      "cell_type": "code",
      "execution_count": null,
      "metadata": {
        "id": "w8AlWUrLpGen"
      },
      "outputs": [],
      "source": [
        "!alias l='ls -l'"
      ]
    },
    {
      "cell_type": "markdown",
      "metadata": {
        "id": "Tg6uclA8pGen"
      },
      "source": [
        "Cuando ejecutamos `l` nos muestra el resultado de `ls -h`"
      ]
    },
    {
      "cell_type": "code",
      "execution_count": null,
      "metadata": {
        "id": "doKTjsyvpGen",
        "outputId": "20300de3-5e97-4779-d297-c71120ae871e"
      },
      "outputs": [
        {
          "name": "stdout",
          "output_type": "stream",
          "text": [
            "2021-02-11-Introducción-a-Python.ipynb\n"
          ]
        }
      ],
      "source": [
        "!l"
      ]
    },
    {
      "cell_type": "markdown",
      "metadata": {
        "id": "7prIIR-GpGeo"
      },
      "source": [
        "Pero esto tiene el problema, que cuando cerremos la terminal desaparece el `alias`. Más adelante aprenderemos a crear `alias` permanentes"
      ]
    },
    {
      "cell_type": "markdown",
      "metadata": {
        "id": "bPSlcmkrpGeo"
      },
      "source": [
        "## Ayuda de los comandos"
      ]
    },
    {
      "cell_type": "markdown",
      "metadata": {
        "id": "ebtazwlKpGeo"
      },
      "source": [
        "### Ayuda con `help`"
      ]
    },
    {
      "cell_type": "markdown",
      "metadata": {
        "id": "ZK6c5vT5pGeo"
      },
      "source": [
        "Con muchos comandos de la shell, podemos obtener su ayuda mediante el comando `help`"
      ]
    },
    {
      "cell_type": "code",
      "execution_count": null,
      "metadata": {
        "id": "dXtQfVVWpGeo",
        "outputId": "6289b74e-eab0-4a02-efc9-a963fa7745d5"
      },
      "outputs": [
        {
          "name": "stdout",
          "output_type": "stream",
          "text": [
            "cd: cd [-L|[-P [-e]]] [dir]\n",
            "    Modifica el directorio de trabajo del shell.\n",
            "    \n",
            "    Modifica el directorio actual a DIR.  DIR por defecto es el valor de la\n",
            "    variable de shell HOME.\n",
            "    \n",
            "    La variable CDPATH define la ruta de búsqueda para el directorio que\n",
            "    contiene DIR.  Los nombres alternativos de directorio en CDPATH se\n",
            "    separan con dos puntos (:).  Un nombre de directorio nulo es igual que\n",
            "    el directorio actual.  Si DIR comienza con una barra inclinada (/),\n",
            "    entonces no se usa CDPATH.\n",
            "    \n",
            "    Si no se encuentra el directorio, y la opción del shell \"cdable_vars\"\n",
            "    está activa, entonces se trata la palabra como un nombre de variable.\n",
            "    Si esa variable tiene un valor, se utiliza su valor para DIR.\n",
            "    \n",
            "    Opciones:\n",
            "      -L\tfuerza a seguir los enlaces simbólicos: resuelve los enlaces\n",
            "    \t\tsimbólicos en DIR después de procesar las instancias de \"..\"\n",
            "      -P\tusa la estructura física de directorios sin seguir los enlaces\n",
            "    \t\tsimbólicos: resuelve los enlaces simbólicos en DIR antes de procesar\n",
            "    \t\tlas instancias de \"..\"\n",
            "      -e\tsi se da la opción -P y el directorio actual de trabajo no se\n",
            "    \t\tpuede determinar con éxito, termina con un estado diferente de cero.\n",
            "    \n",
            "    La acción por defecto es seguir los enlaces simbólicos, como si se\n",
            "    especificara \"-L\".\n",
            "    \"..\" se procesa quitando la componente del nombre de la ruta inmediatamente\n",
            "    anterior hasta una barra inclinada o el comienzo de DIR.\n",
            "    \n",
            "    Estado de Salida:\n",
            "    Devuelve 0 si se cambia el directorio, y si $PWD está definido como\n",
            "    correcto cuando se emplee -P; de otra forma es diferente a cero.\n"
          ]
        }
      ],
      "source": [
        "!help cd"
      ]
    },
    {
      "cell_type": "markdown",
      "metadata": {
        "id": "ofIT7XxJpGeo"
      },
      "source": [
        "### Manual con `man`"
      ]
    },
    {
      "cell_type": "markdown",
      "metadata": {
        "id": "fIdWgCRVpGeo"
      },
      "source": [
        "Otro comando es `man`, que hace referencia al manual de usuario."
      ]
    },
    {
      "cell_type": "code",
      "execution_count": null,
      "metadata": {
        "id": "NQYE5UMmpGep",
        "outputId": "182c55c4-6da9-41e2-a5ee-a22d3b2dc494"
      },
      "outputs": [
        {
          "name": "stdout",
          "output_type": "stream",
          "text": [
            "LS(1)                            User Commands                           LS(1)\n",
            "\n",
            "NAME\n",
            "       ls - list directory contents\n",
            "\n",
            "SYNOPSIS\n",
            "       ls [OPTION]... [FILE]...\n",
            "\n",
            "DESCRIPTION\n",
            "       List  information  about  the FILEs (the current directory by default).\n",
            "       Sort entries alphabetically if none of -cftuvSUX nor --sort  is  speci‐\n",
            "       fied.\n",
            "\n",
            "       Mandatory  arguments  to  long  options are mandatory for short options\n",
            "       too.\n",
            "\n",
            "       -a, --all\n",
            "              do not ignore entries starting with .\n",
            "\n",
            "       -A, --almost-all\n",
            "\t ...\n",
            "       Full documentation at: <https://www.gnu.org/software/coreutils/ls>\n",
            "       or available locally via: info '(coreutils) ls invocation'\n",
            "\n",
            "GNU coreutils 8.30              September 2019                           LS(1)\n",
            "\n"
          ]
        }
      ],
      "source": [
        "terminal(\"man ls\", max_lines_output=20)"
      ]
    },
    {
      "cell_type": "markdown",
      "metadata": {
        "id": "Z6dVN0NXpGep"
      },
      "source": [
        "Para salir, pulsar `q`, ya que `man` utiliza a `less` como visualizador del manual"
      ]
    },
    {
      "cell_type": "markdown",
      "metadata": {
        "id": "gZfeuSPRpGep"
      },
      "source": [
        "### Información con `info`"
      ]
    },
    {
      "cell_type": "markdown",
      "metadata": {
        "id": "GjwpyWAVpGes"
      },
      "source": [
        "Otro comando es `info`"
      ]
    },
    {
      "cell_type": "code",
      "execution_count": null,
      "metadata": {
        "id": "L96TeE3epGet",
        "outputId": "bde22dba-ec92-467b-fa2a-5a768262f652"
      },
      "outputs": [
        {
          "name": "stdout",
          "output_type": "stream",
          "text": [
            "File: coreutils.info,  Node: ls invocation,  Next: dir invocation,  Up: Directory listing\n",
            "\n",
            "10.1 ‘ls’: List directory contents\n",
            "==================================\n",
            "\n",
            "The ‘ls’ program lists information about files (of any type, including\n",
            "directories).  Options and file arguments can be intermixed arbitrarily,\n",
            "as usual.\n",
            "\n",
            "   For non-option command-line arguments that are directories, by\n",
            "default ‘ls’ lists the contents of directories, not recursively, and\n",
            "omitting files with names beginning with ‘.’.  For other non-option\n",
            "arguments, by default ‘ls’ lists just the file name.  If no non-option\n",
            "argument is specified, ‘ls’ operates on the current directory, acting as\n",
            "if it had been invoked with a single argument of ‘.’.\n",
            "\n",
            "   By default, the output is sorted alphabetically, according to the\n",
            "locale settings in effect.(1)  If standard output is a terminal, the\n",
            "output is in columns (sorted vertically) and control characters are\n",
            "output as question marks; otherwise, the output is listed one per line\n",
            "\t ...\n",
            "‘--show-control-chars’\n",
            "     Print nongraphic characters as-is in file names.  This is the\n",
            "     default unless the output is a terminal and the program is ‘ls’.\n",
            "\n",
            "\n"
          ]
        }
      ],
      "source": [
        "terminal(\"info ls\", max_lines_output=20)"
      ]
    },
    {
      "cell_type": "markdown",
      "metadata": {
        "id": "tjt3JbCKpGet"
      },
      "source": [
        "Para salir, pulsar `q`, ya que `info` utiliza a `less` como visualizador de la información"
      ]
    },
    {
      "cell_type": "markdown",
      "metadata": {
        "id": "kIMruM4xpGet"
      },
      "source": [
        "### Información de un comando con `whatis`"
      ]
    },
    {
      "cell_type": "markdown",
      "metadata": {
        "id": "qLvoZkitpGet"
      },
      "source": [
        "Otro comando es `whatis`"
      ]
    },
    {
      "cell_type": "code",
      "execution_count": null,
      "metadata": {
        "id": "YIRKz6V1pGet",
        "outputId": "387fbb68-7db7-40bd-a0ae-0589bc46b2f3"
      },
      "outputs": [
        {
          "name": "stdout",
          "output_type": "stream",
          "text": [
            "ls (1)               - list directory contents\n",
            "\n"
          ]
        }
      ],
      "source": [
        "terminal(\"whatis ls\")"
      ]
    },
    {
      "cell_type": "markdown",
      "metadata": {
        "id": "Ddkqz18lpGeu"
      },
      "source": [
        "## Wildcards"
      ]
    },
    {
      "cell_type": "markdown",
      "metadata": {
        "id": "y0TtGF4fpGeu"
      },
      "source": [
        "Las wildcards son caracteres especiales que nos sirven para realizar búsquedas especiales. Por ejemplo, si quiero buscar todos los archivos que terminen en `.txt`. Vamos a crear unos cuantos archivos para verlas."
      ]
    },
    {
      "cell_type": "code",
      "execution_count": null,
      "metadata": {
        "id": "QUtfCnpQpGeu",
        "outputId": "5ae3cd96-d44d-4000-f310-7c0d565e7729"
      },
      "outputs": [
        {
          "name": "stdout",
          "output_type": "stream",
          "text": [
            "\n"
          ]
        }
      ],
      "source": [
        "terminal(\"touch file.txt dot.txt dot2.txt index.html datos1 datos123 Abc\")"
      ]
    },
    {
      "cell_type": "code",
      "execution_count": null,
      "metadata": {
        "id": "lH_uLXY8pGev",
        "outputId": "7ea2295e-9980-4b80-d59f-f769351c708f"
      },
      "outputs": [
        {
          "name": "stdout",
          "output_type": "stream",
          "text": [
            "2021-02-11-Introduccion-a-Python.ipynb\n",
            "Abc\n",
            "datos1\n",
            "datos123\n",
            "dot2.txt\n",
            "dot.txt\n",
            "file.txt\n",
            "index.html\n",
            "\n"
          ]
        }
      ],
      "source": [
        "terminal(\"ls\")"
      ]
    },
    {
      "cell_type": "markdown",
      "metadata": {
        "id": "FgcjBteQpGev"
      },
      "source": [
        "### Todos los caracteres `*`"
      ]
    },
    {
      "cell_type": "markdown",
      "metadata": {
        "id": "etxkVyzZpGev"
      },
      "source": [
        "Vamos a buscar ahora todos los archivos `.txt`"
      ]
    },
    {
      "cell_type": "code",
      "execution_count": null,
      "metadata": {
        "id": "JZpwASfFpGev",
        "outputId": "43773922-8a56-4bb2-9305-74b5e5661f71"
      },
      "outputs": [
        {
          "name": "stdout",
          "output_type": "stream",
          "text": [
            "dot2.txt  dot.txt  file.txt\n"
          ]
        }
      ],
      "source": [
        "!ls *.txt"
      ]
    },
    {
      "cell_type": "markdown",
      "metadata": {
        "id": "qzRZ5bBYpGew"
      },
      "source": [
        "Vamos ahora a buscar todos los que empiecen por la palabra `datos`"
      ]
    },
    {
      "cell_type": "code",
      "execution_count": null,
      "metadata": {
        "id": "2uqL4BCLpGew",
        "outputId": "dbe174ab-cead-48d4-c5e3-8502f2b7f0f2"
      },
      "outputs": [
        {
          "name": "stdout",
          "output_type": "stream",
          "text": [
            "datos1\tdatos123\n"
          ]
        }
      ],
      "source": [
        "!ls datos*"
      ]
    },
    {
      "cell_type": "markdown",
      "metadata": {
        "id": "4oj764OrpGew"
      },
      "source": [
        "### Números `?`"
      ]
    },
    {
      "cell_type": "markdown",
      "metadata": {
        "id": "0J-7vWVIpGew"
      },
      "source": [
        "Pero qué pasa si en realidad lo que queremos es que nos muestre todos los archivos que empiecen por la palabra `datos` pero seguido solo de un número, tenemos que poner un signo de interrogación `?`"
      ]
    },
    {
      "cell_type": "code",
      "execution_count": null,
      "metadata": {
        "id": "HqTPYcgopGex",
        "outputId": "b93ffa08-a57f-4ccb-dfe5-b265ec156c6b"
      },
      "outputs": [
        {
          "name": "stdout",
          "output_type": "stream",
          "text": [
            "datos1\n"
          ]
        }
      ],
      "source": [
        "!ls datos?"
      ]
    },
    {
      "cell_type": "markdown",
      "metadata": {
        "id": "sBwflRhrpGex"
      },
      "source": [
        "Si lo que queremos es que tenga tres números, entonces tenemos que poner tres signos de interrogación `???`"
      ]
    },
    {
      "cell_type": "code",
      "execution_count": null,
      "metadata": {
        "id": "EqY8q7x6pGex",
        "outputId": "44de3638-a546-4514-acc2-12eabeb9d8a3"
      },
      "outputs": [
        {
          "name": "stdout",
          "output_type": "stream",
          "text": [
            "datos123\n"
          ]
        }
      ],
      "source": [
        "!ls datos???"
      ]
    },
    {
      "cell_type": "markdown",
      "metadata": {
        "id": "YHlLXkEwpGex"
      },
      "source": [
        "### Mayúsculas `[[:upper:]]`"
      ]
    },
    {
      "cell_type": "markdown",
      "metadata": {
        "id": "1De0374HpGex"
      },
      "source": [
        "Si queremos que busque los archivos que empiecen por mayúsculas"
      ]
    },
    {
      "cell_type": "code",
      "execution_count": null,
      "metadata": {
        "id": "yTTdkhvopGex",
        "outputId": "4603b370-7394-4216-8b8e-d12e59efb581"
      },
      "outputs": [
        {
          "name": "stdout",
          "output_type": "stream",
          "text": [
            "Abc\n"
          ]
        }
      ],
      "source": [
        "!ls [[:upper:]]*"
      ]
    },
    {
      "cell_type": "markdown",
      "metadata": {
        "id": "taM7xAkEpGey"
      },
      "source": [
        "### Minúsculas `[[:lower:]]`"
      ]
    },
    {
      "cell_type": "markdown",
      "metadata": {
        "id": "OPo_7CAJpGey"
      },
      "source": [
        "Para los archivos que empiecen con minúsculas."
      ]
    },
    {
      "cell_type": "code",
      "execution_count": null,
      "metadata": {
        "id": "xNlVUtFApGey",
        "outputId": "9b5e0e3e-c6a3-4a50-ddf7-cfe6ea93bc5a"
      },
      "outputs": [
        {
          "name": "stdout",
          "output_type": "stream",
          "text": [
            "datos1  datos123  dot2.txt  dot.txt  file.txt  index.html\n"
          ]
        }
      ],
      "source": [
        "!ls [[:lower:]]*"
      ]
    },
    {
      "cell_type": "markdown",
      "metadata": {
        "id": "XPBT6HvQpGey"
      },
      "source": [
        "### Clases"
      ]
    },
    {
      "cell_type": "markdown",
      "metadata": {
        "id": "K1og5FDrpGey"
      },
      "source": [
        "Mediante el uso de corchetes podemos crear clases, así si queremos buscar los archivos que empiecen por las letras `d` o `f` seguido de cualquier carácter"
      ]
    },
    {
      "cell_type": "code",
      "execution_count": null,
      "metadata": {
        "id": "RSOd3VavpGey",
        "outputId": "4fda9ce5-1023-466d-cce7-4872d4481af0"
      },
      "outputs": [
        {
          "name": "stdout",
          "output_type": "stream",
          "text": [
            "datos1  datos123  dot2.txt  dot.txt  file.txt\n"
          ]
        }
      ],
      "source": [
        "!ls [df]*"
      ]
    },
    {
      "cell_type": "markdown",
      "metadata": {
        "id": "GCUSXkDepGez"
      },
      "source": [
        "## Redirecciones: cómo funciona la shell"
      ]
    },
    {
      "cell_type": "markdown",
      "metadata": {
        "id": "RTv0VMbLpGez"
      },
      "source": [
        "Un comando funciona de la siguiente manera\n",
        "\n",
        "![pipeline comando](https://ptgmedia.pearsoncmg.com/images/chap5_9780133927313/elementLinks/05fig02_alt.jpg)\n",
        "\n",
        "Tiene un `standard input`, que por defecto es el texto que introducimos por teclado, un `standard output`, que por defecto es el texto que sale por consola y un `standard error` que también es por defecto un texto que sale por consola, pero que tiene otro formato"
      ]
    },
    {
      "cell_type": "markdown",
      "metadata": {
        "id": "XAokyFnzpGez"
      },
      "source": [
        "### Redirección del `standard output`"
      ]
    },
    {
      "cell_type": "markdown",
      "metadata": {
        "id": "7OIlxOpQpGez"
      },
      "source": [
        "Pero con el carácter `>` podemos modificar el `standard output` de un comando. Por ejemplo, si queremos listar con `ls` los archivos de la carpeta en la que estamos, pero no queremos que el resultado se imprima por pantalla, sino que se guarde en un archivo, haríamos lo siguiente `ls > lista.txt`, esto escribe la lista en `lista.txt`, además si `lista.txt` no existe, lo crea"
      ]
    },
    {
      "cell_type": "code",
      "execution_count": null,
      "metadata": {
        "id": "LMujRNSPpGez"
      },
      "outputs": [],
      "source": [
        "!ls > lista.txt"
      ]
    },
    {
      "cell_type": "markdown",
      "metadata": {
        "id": "5dLFHKQRpGez"
      },
      "source": [
        "Vemos que ha creado el archivo y vemos qué hay dentro"
      ]
    },
    {
      "cell_type": "code",
      "execution_count": null,
      "metadata": {
        "id": "y8AvwZC7pGe0",
        "outputId": "3486bff7-3114-45b9-f358-ed4d60c39c65"
      },
      "outputs": [
        {
          "name": "stdout",
          "output_type": "stream",
          "text": [
            "2021-02-11-Introduccion-a-Python.ipynb\n",
            "Abc\n",
            "datos1\n",
            "datos123\n",
            "dot2.txt\n",
            "dot.txt\n",
            "file.txt\n",
            "index.html\n",
            "lista.txt\n",
            "\n"
          ]
        }
      ],
      "source": [
        "terminal(\"ls\")"
      ]
    },
    {
      "cell_type": "code",
      "execution_count": null,
      "metadata": {
        "id": "r5MBvgZ6pGe0",
        "outputId": "81968777-70cd-44d3-c6b2-97b6d0a0a88a"
      },
      "outputs": [
        {
          "name": "stdout",
          "output_type": "stream",
          "text": [
            "2021-02-11-Introduccion-a-Python.ipynb\n",
            "Abc\n",
            "datos1\n",
            "datos123\n",
            "dot2.txt\n",
            "dot.txt\n",
            "file.txt\n",
            "index.html\n",
            "lista.txt\n",
            "\n"
          ]
        }
      ],
      "source": [
        "terminal(\"cat lista.txt\")"
      ]
    },
    {
      "cell_type": "markdown",
      "metadata": {
        "id": "h94n_lkppGe0"
      },
      "source": [
        "Vemos que dentro de `lista.txt` aparece `lista.txt`, eso es porque primero crea el archivo y luego ejecuta el comando"
      ]
    },
    {
      "cell_type": "markdown",
      "metadata": {
        "id": "u7tUoZJZpGe1"
      },
      "source": [
        "Hacemos lo mismo, pero con la carpeta padre"
      ]
    },
    {
      "cell_type": "code",
      "execution_count": null,
      "metadata": {
        "id": "NpfUvaGGpGe1"
      },
      "outputs": [],
      "source": [
        "!ls ../ > lista.txt"
      ]
    },
    {
      "cell_type": "markdown",
      "metadata": {
        "id": "doz868_PpGe1"
      },
      "source": [
        "Si volvemos a ver dentro de `lista.txt`"
      ]
    },
    {
      "cell_type": "code",
      "execution_count": null,
      "metadata": {
        "id": "8v3WnbKxpGe1",
        "outputId": "ccb495bc-dd18-4e36-b54f-2143ff0cc5da"
      },
      "outputs": [
        {
          "name": "stdout",
          "output_type": "stream",
          "text": [
            "2021-02-11-Introduccion-a-Python.ipynb\n",
            "2021-04-23-Calculo-matricial-con-Numpy.ipynb\n",
            "2021-06-15-Manejo-de-datos-con-Pandas.ipynb\n",
            "2022-09-12 Introduccion a la terminal.ipynb\n",
            "2022-09-12 Introduccion a la terminal.txt\n",
            "command-line-cheat-sheet.pdf\n",
            "CSS.ipynb\n",
            "Docker.html\n",
            "Docker.ipynb\n",
            "Expresiones regulares.html\n",
            "Expresiones regulares.ipynb\n",
            "html_files\n",
            "html.ipynb\n",
            "introduccion_python\n",
            "movies.csv\n",
            "movies.dat\n",
            "notebooks_translated\n",
            "prueba\n",
            "__pycache__\n",
            "ssh.ipynb\n",
            "test.html\n",
            "test.ipynb\n",
            "\n"
          ]
        }
      ],
      "source": [
        "terminal(\"cat lista.txt\")"
      ]
    },
    {
      "cell_type": "markdown",
      "metadata": {
        "id": "trlLFoVUpGe1"
      },
      "source": [
        "Vemos que se sobreescribe el contenido"
      ]
    },
    {
      "cell_type": "markdown",
      "metadata": {
        "id": "o9EShSxEpGe1"
      },
      "source": [
        "Si lo que queremos es que se concatene el contenido, debemos usar `>>`"
      ]
    },
    {
      "cell_type": "code",
      "execution_count": null,
      "metadata": {
        "id": "wqmvEmkspGe1"
      },
      "outputs": [],
      "source": [
        "!ls > lista.txt"
      ]
    },
    {
      "cell_type": "code",
      "execution_count": null,
      "metadata": {
        "id": "n_y9Y_cZpGe2"
      },
      "outputs": [],
      "source": [
        "!ls ../ >> lista.txt"
      ]
    },
    {
      "cell_type": "code",
      "execution_count": null,
      "metadata": {
        "id": "O8mClRmFpGe2",
        "outputId": "d031309b-7a10-4404-85f4-814aca930fc6"
      },
      "outputs": [
        {
          "name": "stdout",
          "output_type": "stream",
          "text": [
            "2021-02-11-Introduccion-a-Python.ipynb\n",
            "Abc\n",
            "datos1\n",
            "datos123\n",
            "dot2.txt\n",
            "dot.txt\n",
            "file.txt\n",
            "index.html\n",
            "lista.txt\n",
            "2021-02-11-Introduccion-a-Python.ipynb\n",
            "2021-04-23-Calculo-matricial-con-Numpy.ipynb\n",
            "2021-06-15-Manejo-de-datos-con-Pandas.ipynb\n",
            "2022-09-12 Introduccion a la terminal.ipynb\n",
            "2022-09-12 Introduccion a la terminal.txt\n",
            "command-line-cheat-sheet.pdf\n",
            "CSS.ipynb\n",
            "Docker.html\n",
            "Docker.ipynb\n",
            "Expresiones regulares.html\n",
            "Expresiones regulares.ipynb\n",
            "html_files\n",
            "html.ipynb\n",
            "introduccion_python\n",
            "movies.csv\n",
            "movies.dat\n",
            "notebooks_translated\n",
            "prueba\n",
            "__pycache__\n",
            "ssh.ipynb\n",
            "test.html\n",
            "test.ipynb\n",
            "\n"
          ]
        }
      ],
      "source": [
        "terminal(\"cat lista.txt\")"
      ]
    },
    {
      "cell_type": "markdown",
      "metadata": {
        "id": "t1JYyjcLpGe2"
      },
      "source": [
        "Ahora sí se ha concatenado la información"
      ]
    },
    {
      "cell_type": "markdown",
      "metadata": {
        "id": "MHIlTyNhpGe2"
      },
      "source": [
        "Esto es muy útil para crear archivos de log"
      ]
    },
    {
      "cell_type": "markdown",
      "metadata": {
        "id": "xqlgki0DpGe2"
      },
      "source": [
        "### Redirección del `standard error`"
      ]
    },
    {
      "cell_type": "markdown",
      "metadata": {
        "id": "jUIRx1EfpGe2"
      },
      "source": [
        "Si realizamos una operación incorrecta obtenemos un error, veamos qué pasa al redireccionar un comando que da un error"
      ]
    },
    {
      "cell_type": "code",
      "execution_count": null,
      "metadata": {
        "id": "1hAEpYlupGe2",
        "outputId": "5144eeda-f112-4a35-dd97-efe6cea55e91"
      },
      "outputs": [
        {
          "name": "stdout",
          "output_type": "stream",
          "text": [
            "ls: no se puede acceder a 'fjhdsalkfs': No existe el archivo o el directorio\n"
          ]
        }
      ],
      "source": [
        "!ls fjhdsalkfs > lista.txt"
      ]
    },
    {
      "cell_type": "markdown",
      "metadata": {
        "id": "gjB5hU_QpGe3"
      },
      "source": [
        "Como vemos, ha dado un error, pero si ahora vemos dentro de `lista.txt`"
      ]
    },
    {
      "cell_type": "code",
      "execution_count": null,
      "metadata": {
        "id": "V6j_fBMLpGe3",
        "outputId": "ce423852-b2c6-4903-ba46-c49d761a5500"
      },
      "outputs": [
        {
          "name": "stdout",
          "output_type": "stream",
          "text": [
            "\n"
          ]
        }
      ],
      "source": [
        "terminal(\"cat lista.txt\")"
      ]
    },
    {
      "cell_type": "markdown",
      "metadata": {
        "id": "rdbCzgZgpGe3"
      },
      "source": [
        "Vemos que el archivo está vacío, eso es porque no hemos redireccionado el `standard error` a `lista.txt`, sino el `standard output`. Como hemos visto en la imagen, hay dos standards de salida en un comando, el primero es el `standard output` y el segundo el `standard error`, por lo que para redireccionar el standard error hay que indicarlo mediante `2>`. Vamos ahora así"
      ]
    },
    {
      "cell_type": "code",
      "execution_count": null,
      "metadata": {
        "id": "zSqLu9JrpGe3"
      },
      "outputs": [],
      "source": [
        "!ls kjhsfskjd 2> lista.txt"
      ]
    },
    {
      "cell_type": "code",
      "execution_count": null,
      "metadata": {
        "id": "mMS-ZFKJpGe4",
        "outputId": "960d1139-03d7-4dcd-fb8f-7fa07c4a993b"
      },
      "outputs": [
        {
          "name": "stdout",
          "output_type": "stream",
          "text": [
            "ls: no se puede acceder a 'kjhsfskjd': No existe el archivo o el directorio\n",
            "\n"
          ]
        }
      ],
      "source": [
        "terminal(\"cat lista.txt\")"
      ]
    },
    {
      "cell_type": "markdown",
      "metadata": {
        "id": "UYyaZNWDpGe4"
      },
      "source": [
        "Como vemos ahora sí se ha redireccionado"
      ]
    },
    {
      "cell_type": "markdown",
      "metadata": {
        "id": "_LqZ3nJOpGe4"
      },
      "source": [
        "### Redirección del `standard output` y del `standard error`"
      ]
    },
    {
      "cell_type": "markdown",
      "metadata": {
        "id": "t5ltwPbZpGe4"
      },
      "source": [
        "Si queremos redirigir los dos usamos lo siguiente"
      ]
    },
    {
      "cell_type": "code",
      "execution_count": null,
      "metadata": {
        "id": "j5EEhKVRpGe4"
      },
      "outputs": [],
      "source": [
        "!ls kjhsfskjd > lista.txt 2>&1"
      ]
    },
    {
      "cell_type": "markdown",
      "metadata": {
        "id": "E3u8X6wGpGe4"
      },
      "source": [
        "Veamos dentro de `lista.txt`"
      ]
    },
    {
      "cell_type": "code",
      "execution_count": null,
      "metadata": {
        "id": "tn0WCdB9pGe4",
        "outputId": "0841a4ab-e83e-4da9-81dc-c9c8618038ec"
      },
      "outputs": [
        {
          "name": "stdout",
          "output_type": "stream",
          "text": [
            "ls: no se puede acceder a 'kjhsfskjd': No existe el archivo o el directorio\n",
            "\n"
          ]
        }
      ],
      "source": [
        "terminal(\"cat lista.txt\")"
      ]
    },
    {
      "cell_type": "markdown",
      "metadata": {
        "id": "FkOmg3-4pGe5"
      },
      "source": [
        "Si ahora ejecutamos un comando sin errores"
      ]
    },
    {
      "cell_type": "code",
      "execution_count": null,
      "metadata": {
        "id": "9W0CCK59pGe5"
      },
      "outputs": [],
      "source": [
        "!ls . >> lista.txt 2>&1"
      ]
    },
    {
      "cell_type": "markdown",
      "metadata": {
        "id": "zc4rN_FApGe5"
      },
      "source": [
        "Veamos dentro de `lista.txt` (**ojo**, ahora hemos concatenado)"
      ]
    },
    {
      "cell_type": "code",
      "execution_count": null,
      "metadata": {
        "id": "4W3zw-zPpGe5",
        "outputId": "69509525-41db-41f7-f00a-06c6b1f96956"
      },
      "outputs": [
        {
          "name": "stdout",
          "output_type": "stream",
          "text": [
            "ls: no se puede acceder a 'kjhsfskjd': No existe el archivo o el directorio\n",
            "2021-02-11-Introduccion-a-Python.ipynb\n",
            "Abc\n",
            "datos1\n",
            "datos123\n",
            "dot2.txt\n",
            "dot.txt\n",
            "file.txt\n",
            "index.html\n",
            "lista.txt\n",
            "\n"
          ]
        }
      ],
      "source": [
        "terminal(\"cat lista.txt\")"
      ]
    },
    {
      "cell_type": "markdown",
      "metadata": {
        "id": "yNO3ORmnpGe5"
      },
      "source": [
        "Como se puede ver, se han redirigido, tanto el `standard error`, como el `standard output` al mismo archivo"
      ]
    },
    {
      "cell_type": "markdown",
      "metadata": {
        "id": "CnHIEa3gpGe5"
      },
      "source": [
        "## Pipelines"
      ]
    },
    {
      "cell_type": "markdown",
      "metadata": {
        "id": "8fi0xDikpGe5"
      },
      "source": [
        "Podemos crear pipelines haciendo que el `standard output` de un comando se convierta en el `standard input` de otro. Por ejemplo, vamos a hacer que la salida de `ls -lha` sea la entrada de `grep`, que lo veremos más adelante, pero es un comando para buscar."
      ]
    },
    {
      "cell_type": "code",
      "execution_count": null,
      "metadata": {
        "id": "0TGTaPrypGe6",
        "outputId": "34ea159b-b085-4de5-b0a0-d34010ef1b6a"
      },
      "outputs": [
        {
          "name": "stdout",
          "output_type": "stream",
          "text": [
            "-rw-rw-r-- 1 wallabot wallabot    0 dic  6 00:56 dot2.txt\n",
            "-rw-rw-r-- 1 wallabot wallabot    0 dic  6 00:56 dot.txt\n",
            "-rw-rw-r-- 1 wallabot wallabot    0 dic  6 00:56 file.txt\n",
            "-rw-rw-r-- 1 wallabot wallabot  182 dic  6 01:06 lista.txt\n"
          ]
        }
      ],
      "source": [
        "!ls -lha |  grep -i \"txt\""
      ]
    },
    {
      "cell_type": "markdown",
      "metadata": {
        "id": "gJpx2e46pGe6"
      },
      "source": [
        "Como podemos ver, lo que hemos hecho ha sido llevar la salida de `ls` a `grep` con el que hemos buscado algún archivo con `txt` en el nombre"
      ]
    },
    {
      "cell_type": "markdown",
      "metadata": {
        "id": "36YEhD-4pGe6"
      },
      "source": [
        "## Operadores de control - encadenar comandos"
      ]
    },
    {
      "cell_type": "markdown",
      "metadata": {
        "id": "SavRDdnopGe6"
      },
      "source": [
        "### Comandos de manera secuencial"
      ]
    },
    {
      "cell_type": "markdown",
      "metadata": {
        "id": "WpEWzhaHpGe6"
      },
      "source": [
        "Una forma de encadenar comandos de forma secuencial es separarlos mediante `;`. Esto crea diferentes hilos para cada tarea"
      ]
    },
    {
      "cell_type": "code",
      "execution_count": null,
      "metadata": {
        "id": "3_1dcDxLpGe7",
        "outputId": "660114e1-bc07-4e73-a06e-a5db27852536"
      },
      "outputs": [
        {
          "name": "stdout",
          "output_type": "stream",
          "text": [
            "2021-02-11-Introduccion-a-Python.ipynb\tdatos123  file.txt\n",
            "Abc\t\t\t\t\tdot2.txt  index.html\n",
            "datos1\t\t\t\t\tdot.txt   lista.txt\n",
            "Hola\n",
            "   Diciembre 2022     \n",
            "do lu ma mi ju vi sá  \n",
            "             1  2  3  \n",
            " 4  5 \u001b[7m 6\u001b[m  7  8  9 10  \n",
            "11 12 13 14 15 16 17  \n",
            "18 19 20 21 22 23 24  \n",
            "25 26 27 28 29 30 31  \n",
            "                      \n"
          ]
        }
      ],
      "source": [
        "!ls; echo 'Hola'; cal"
      ]
    },
    {
      "cell_type": "markdown",
      "metadata": {
        "id": "Ck9OfNwIpGe7"
      },
      "source": [
        "Como podemos ver, primero se ha ejecutado el comando `ls`, luego se ha impreso Hola gracias al comando `echo \"Hola\"` y por último se ha impreso un calendario gracias al comando `cal`"
      ]
    },
    {
      "cell_type": "markdown",
      "metadata": {
        "id": "R6w1MCf4pGe7"
      },
      "source": [
        "Vamos ahora a hacer otro ejemplo para ver que se ejecutan de manera secuencial."
      ]
    },
    {
      "cell_type": "code",
      "execution_count": null,
      "metadata": {
        "id": "rRgBO1UZpGe7",
        "outputId": "15beb31b-d09f-4288-9a95-02e966bfa927"
      },
      "outputs": [
        {
          "name": "stdout",
          "output_type": "stream",
          "text": [
            "Before touch;\n",
            "total 292K\n",
            "drwxrwxr-x 2 wallabot wallabot 4,0K dic  6 01:04 .\n",
            "drwxrwxr-x 7 wallabot wallabot 4,0K dic  6 00:24 ..\n",
            "-rw-rw-r-- 1 wallabot wallabot 280K dic  6 00:28 2021-02-11-Introduccion-a-Python.ipynb\n",
            "-rw-rw-r-- 1 wallabot wallabot    0 dic  6 00:56 Abc\n",
            "-rw-rw-r-- 1 wallabot wallabot    0 dic  6 00:56 datos1\n",
            "-rw-rw-r-- 1 wallabot wallabot    0 dic  6 00:56 datos123\n",
            "-rw-rw-r-- 1 wallabot wallabot    0 dic  6 00:56 dot2.txt\n",
            "-rw-rw-r-- 1 wallabot wallabot    0 dic  6 00:56 dot.txt\n",
            "-rw-rw-r-- 1 wallabot wallabot    0 dic  6 00:56 file.txt\n",
            "-rw-rw-r-- 1 wallabot wallabot    0 dic  6 00:56 index.html\n",
            "-rw-rw-r-- 1 wallabot wallabot  182 dic  6 01:06 lista.txt\n",
            "After touch:\n",
            "total 292K\n",
            "drwxrwxr-x 2 wallabot wallabot 4,0K dic  6 01:07 .\n",
            "drwxrwxr-x 7 wallabot wallabot 4,0K dic  6 00:24 ..\n",
            "-rw-rw-r-- 1 wallabot wallabot 280K dic  6 00:28 2021-02-11-Introduccion-a-Python.ipynb\n",
            "-rw-rw-r-- 1 wallabot wallabot    0 dic  6 00:56 Abc\n",
            "-rw-rw-r-- 1 wallabot wallabot    0 dic  6 00:56 datos1\n",
            "-rw-rw-r-- 1 wallabot wallabot    0 dic  6 00:56 datos123\n",
            "-rw-rw-r-- 1 wallabot wallabot    0 dic  6 00:56 dot2.txt\n",
            "-rw-rw-r-- 1 wallabot wallabot    0 dic  6 00:56 dot.txt\n",
            "-rw-rw-r-- 1 wallabot wallabot    0 dic  6 00:56 file.txt\n",
            "-rw-rw-r-- 1 wallabot wallabot    0 dic  6 00:56 index.html\n",
            "-rw-rw-r-- 1 wallabot wallabot  182 dic  6 01:06 lista.txt\n",
            "-rw-rw-r-- 1 wallabot wallabot    0 dic  6 01:07 secuential.txt\n"
          ]
        }
      ],
      "source": [
        "!echo \"Before touch;\"; ls -lha; touch secuential.txt; echo \"After touch:\"; ls -lha"
      ]
    },
    {
      "cell_type": "markdown",
      "metadata": {
        "id": "kNMnW0ghpGe7"
      },
      "source": [
        "Como se puede ver, en el primer `ls` no aparece `secuential.txt`, mientras que en el segundo sí. Eso quiere decir que los comandos se han ejecutado en orden, uno detrás de otro"
      ]
    },
    {
      "cell_type": "markdown",
      "metadata": {
        "id": "NYIIPgr3pGe7"
      },
      "source": [
        "### Comandos de manera paralela"
      ]
    },
    {
      "cell_type": "markdown",
      "metadata": {
        "id": "z74Ku5KBpGe7"
      },
      "source": [
        "Si lo que queremos es que los comandos se ejecuten de manera paralela hay que usar el operador `&`, esto hará que se cree un nuevo proceso por cada comando"
      ]
    },
    {
      "cell_type": "markdown",
      "metadata": {
        "id": "MXL_IO1YpGe8"
      },
      "source": [
        "Veamos el ejemplo de antes"
      ]
    },
    {
      "cell_type": "code",
      "execution_count": null,
      "metadata": {
        "id": "i9uW9_mdpGe8"
      },
      "outputs": [],
      "source": [
        "!rm secuential.txt"
      ]
    },
    {
      "cell_type": "code",
      "execution_count": null,
      "metadata": {
        "id": "3RsvVouHpGe8",
        "outputId": "0f7133b4-a8b4-4781-8380-5dde9810d966"
      },
      "outputs": [
        {
          "name": "stdout",
          "output_type": "stream",
          "text": [
            "Before touch;\n",
            "After touch:\n",
            "total 292K\n",
            "drwxrwxr-x 2 wallabot wallabot 4,0K dic  6 01:08 .\n",
            "drwxrwxr-x 7 wallabot wallabot 4,0K dic  6 00:24 ..\n",
            "-rw-rw-r-- 1 wallabot wallabot 280K dic  6 00:28 2021-02-11-Introduccion-a-Python.ipynb\n",
            "-rw-rw-r-- 1 wallabot wallabot    0 dic  6 00:56 Abc\n",
            "-rw-rw-r-- 1 wallabot wallabot    0 dic  6 00:56 datos1\n",
            "-rw-rw-r-- 1 wallabot wallabot    0 dic  6 00:56 datos123\n",
            "-rw-rw-r-- 1 wallabot wallabot    0 dic  6 00:56 dot2.txt\n",
            "-rw-rw-r-- 1 wallabot wallabot    0 dic  6 00:56 dot.txt\n",
            "-rw-rw-r-- 1 wallabot wallabot    0 dic  6 00:56 file.txt\n",
            "-rw-rw-r-- 1 wallabot wallabot    0 dic  6 00:56 index.html\n",
            "-rw-rw-r-- 1 wallabot wallabot  182 dic  6 01:06 lista.txt\n",
            "-rw-rw-r-- 1 wallabot wallabot    0 dic  6 01:08 secuential.txt\n"
          ]
        }
      ],
      "source": [
        "!echo \"Before touch;\" & ls -lha & touch secuential.txt & echo \"After touch:\" & ls -lha"
      ]
    },
    {
      "cell_type": "markdown",
      "metadata": {
        "id": "d5I3AYD8pGe8"
      },
      "source": [
        "Ahora se puede ver que no se han ejecutado secuencialmente, ya que primero se han ejecutado los `echo`s, que serán los que menos tarden, y después el resto"
      ]
    },
    {
      "cell_type": "markdown",
      "metadata": {
        "id": "TAvXZrSlpGe8"
      },
      "source": [
        "### Comandos de manera condicional"
      ]
    },
    {
      "cell_type": "markdown",
      "metadata": {
        "id": "9DD6_Hk-pGe8"
      },
      "source": [
        "#### And"
      ]
    },
    {
      "cell_type": "markdown",
      "metadata": {
        "id": "bU2yG3hCpGe8"
      },
      "source": [
        "Utilizando el operador `&&`, un comando se ejecutará cuando el anterior se haya ejecutado satisfactoriamente"
      ]
    },
    {
      "cell_type": "code",
      "execution_count": null,
      "metadata": {
        "id": "YbzpNb8CpGe8"
      },
      "outputs": [],
      "source": [
        "!rm secuential.txt"
      ]
    },
    {
      "cell_type": "code",
      "execution_count": null,
      "metadata": {
        "id": "20bRcun4pGe8",
        "outputId": "8d3d7fdd-6229-40d7-832f-abcfbfde72f9"
      },
      "outputs": [
        {
          "name": "stdout",
          "output_type": "stream",
          "text": [
            "Before touch;\n",
            "total 292K\n",
            "drwxrwxr-x 2 wallabot wallabot 4,0K dic  6 01:08 .\n",
            "drwxrwxr-x 7 wallabot wallabot 4,0K dic  6 00:24 ..\n",
            "-rw-rw-r-- 1 wallabot wallabot 280K dic  6 00:28 2021-02-11-Introduccion-a-Python.ipynb\n",
            "-rw-rw-r-- 1 wallabot wallabot    0 dic  6 00:56 Abc\n",
            "-rw-rw-r-- 1 wallabot wallabot    0 dic  6 00:56 datos1\n",
            "-rw-rw-r-- 1 wallabot wallabot    0 dic  6 00:56 datos123\n",
            "-rw-rw-r-- 1 wallabot wallabot    0 dic  6 00:56 dot2.txt\n",
            "-rw-rw-r-- 1 wallabot wallabot    0 dic  6 00:56 dot.txt\n",
            "-rw-rw-r-- 1 wallabot wallabot    0 dic  6 00:56 file.txt\n",
            "-rw-rw-r-- 1 wallabot wallabot    0 dic  6 00:56 index.html\n",
            "-rw-rw-r-- 1 wallabot wallabot  182 dic  6 01:06 lista.txt\n",
            "After touch:\n",
            "total 292K\n",
            "drwxrwxr-x 2 wallabot wallabot 4,0K dic  6 01:08 .\n",
            "drwxrwxr-x 7 wallabot wallabot 4,0K dic  6 00:24 ..\n",
            "-rw-rw-r-- 1 wallabot wallabot 280K dic  6 00:28 2021-02-11-Introduccion-a-Python.ipynb\n",
            "-rw-rw-r-- 1 wallabot wallabot    0 dic  6 00:56 Abc\n",
            "-rw-rw-r-- 1 wallabot wallabot    0 dic  6 00:56 datos1\n",
            "-rw-rw-r-- 1 wallabot wallabot    0 dic  6 00:56 datos123\n",
            "-rw-rw-r-- 1 wallabot wallabot    0 dic  6 00:56 dot2.txt\n",
            "-rw-rw-r-- 1 wallabot wallabot    0 dic  6 00:56 dot.txt\n",
            "-rw-rw-r-- 1 wallabot wallabot    0 dic  6 00:56 file.txt\n",
            "-rw-rw-r-- 1 wallabot wallabot    0 dic  6 00:56 index.html\n",
            "-rw-rw-r-- 1 wallabot wallabot  182 dic  6 01:06 lista.txt\n",
            "-rw-rw-r-- 1 wallabot wallabot    0 dic  6 01:08 secuential.txt\n"
          ]
        }
      ],
      "source": [
        "!echo \"Before touch;\" && ls -lha && touch secuential.txt && echo \"After touch:\" && ls -lha"
      ]
    },
    {
      "cell_type": "markdown",
      "metadata": {
        "id": "6P8q0PHIpGe9"
      },
      "source": [
        "Aquí podemos ver cómo se ha ejecutado uno detrás de otro, es decir, un comando no empieza hasta que el anterior acaba"
      ]
    },
    {
      "cell_type": "markdown",
      "metadata": {
        "id": "CRTpK4gapGe9"
      },
      "source": [
        "Pero entonces, ¿cuál es la diferencia entre `;` y `&&`?"
      ]
    },
    {
      "cell_type": "markdown",
      "metadata": {
        "id": "4hM4w94ipGe9"
      },
      "source": [
        "En el primero, el secuencial `;`, primero se ejecuta un comando y luego otro, pero para que se ejecute un comando da igual que el anterior se haya ejecutado satisfactoriamente"
      ]
    },
    {
      "cell_type": "code",
      "execution_count": null,
      "metadata": {
        "id": "wLQbbhXkpGe9",
        "outputId": "4478a7f4-ef09-43ad-db1a-7d20bfaeebeb"
      },
      "outputs": [
        {
          "name": "stdout",
          "output_type": "stream",
          "text": [
            "rm: no se puede borrar 'prueba': No existe el archivo o el directorio\n",
            "total 292K\n",
            "drwxrwxr-x 2 wallabot wallabot 4,0K dic  6 01:08 .\n",
            "drwxrwxr-x 7 wallabot wallabot 4,0K dic  6 00:24 ..\n",
            "-rw-rw-r-- 1 wallabot wallabot 280K dic  6 00:28 2021-02-11-Introduccion-a-Python.ipynb\n",
            "-rw-rw-r-- 1 wallabot wallabot    0 dic  6 00:56 Abc\n",
            "-rw-rw-r-- 1 wallabot wallabot    0 dic  6 00:56 datos1\n",
            "-rw-rw-r-- 1 wallabot wallabot    0 dic  6 00:56 datos123\n",
            "-rw-rw-r-- 1 wallabot wallabot    0 dic  6 00:56 dot2.txt\n",
            "-rw-rw-r-- 1 wallabot wallabot    0 dic  6 00:56 dot.txt\n",
            "-rw-rw-r-- 1 wallabot wallabot    0 dic  6 00:56 file.txt\n",
            "-rw-rw-r-- 1 wallabot wallabot    0 dic  6 00:56 index.html\n",
            "-rw-rw-r-- 1 wallabot wallabot  182 dic  6 01:06 lista.txt\n",
            "-rw-rw-r-- 1 wallabot wallabot    0 dic  6 01:08 secuential.txt\n"
          ]
        }
      ],
      "source": [
        "!rm prueba ; ls -lha"
      ]
    },
    {
      "cell_type": "markdown",
      "metadata": {
        "id": "BSDqMRc9pGe9"
      },
      "source": [
        "Como se puede ver primero se ejecuta `rm prueba`, da un error y aun así se ejecuta `ls -lha prueba`"
      ]
    },
    {
      "cell_type": "markdown",
      "metadata": {
        "id": "LiJqK2RvpGe9"
      },
      "source": [
        "En la manera condicional `&&`, si un comando no se ejecuta satisfactoriamente, el siguiente no se ejecuta."
      ]
    },
    {
      "cell_type": "code",
      "execution_count": null,
      "metadata": {
        "id": "ZOTqMPknpGe9",
        "outputId": "e07b9c1d-6236-445c-8f16-7bf3c749116a"
      },
      "outputs": [
        {
          "name": "stdout",
          "output_type": "stream",
          "text": [
            "rm: no se puede borrar 'prueba': No existe el archivo o el directorio\n"
          ]
        }
      ],
      "source": [
        "!rm prueba && ls -lha"
      ]
    },
    {
      "cell_type": "markdown",
      "metadata": {
        "id": "X3uWMt2zpGe-"
      },
      "source": [
        "Como se puede ver `ls -lha prueba` no se ejecuta ya que `rm prueba` ha dado un error"
      ]
    },
    {
      "cell_type": "markdown",
      "metadata": {
        "id": "iW-2WxetpGe-"
      },
      "source": [
        "#### Or"
      ]
    },
    {
      "cell_type": "markdown",
      "metadata": {
        "id": "gxJlderGpGe-"
      },
      "source": [
        "A diferencia del `&&`, el 'or' ejecutará todos los procesos sea cual sea su resultado. Se ha de utilizar el operador `||`"
      ]
    },
    {
      "cell_type": "code",
      "execution_count": null,
      "metadata": {
        "id": "fzPYvTgopGe-",
        "outputId": "f4f40619-874d-414b-d08d-0372ff8f460d"
      },
      "outputs": [
        {
          "name": "stdout",
          "output_type": "stream",
          "text": [
            "rm: no se puede borrar 'prueba': No existe el archivo o el directorio\n",
            "total 292K\n",
            "drwxrwxr-x 2 wallabot wallabot 4,0K dic  6 01:08 .\n",
            "drwxrwxr-x 7 wallabot wallabot 4,0K dic  6 00:24 ..\n",
            "-rw-rw-r-- 1 wallabot wallabot 280K dic  6 00:28 2021-02-11-Introduccion-a-Python.ipynb\n",
            "-rw-rw-r-- 1 wallabot wallabot    0 dic  6 00:56 Abc\n",
            "-rw-rw-r-- 1 wallabot wallabot    0 dic  6 00:56 datos1\n",
            "-rw-rw-r-- 1 wallabot wallabot    0 dic  6 00:56 datos123\n",
            "-rw-rw-r-- 1 wallabot wallabot    0 dic  6 00:56 dot2.txt\n",
            "-rw-rw-r-- 1 wallabot wallabot    0 dic  6 00:56 dot.txt\n",
            "-rw-rw-r-- 1 wallabot wallabot    0 dic  6 00:56 file.txt\n",
            "-rw-rw-r-- 1 wallabot wallabot    0 dic  6 00:56 index.html\n",
            "-rw-rw-r-- 1 wallabot wallabot  182 dic  6 01:06 lista.txt\n",
            "-rw-rw-r-- 1 wallabot wallabot    0 dic  6 01:08 secuential.txt\n"
          ]
        }
      ],
      "source": [
        "!rm prueba || ls -lha"
      ]
    },
    {
      "cell_type": "markdown",
      "metadata": {
        "id": "hcNFS7P6pGe-"
      },
      "source": [
        "La diferencia entre este y `;` es que el `||` (or) no crea un nuevo hilo para cada comando"
      ]
    },
    {
      "cell_type": "markdown",
      "metadata": {
        "id": "B_HUgN9PpGe_"
      },
      "source": [
        "## Cómo se manejan los permisos"
      ]
    },
    {
      "cell_type": "markdown",
      "metadata": {
        "id": "V44K3MSVpGe_"
      },
      "source": [
        "Cuando se listan los archivos de un directorio con el flag `-l` (long) aparecen unos símbolos al lado de cada archivo."
      ]
    },
    {
      "cell_type": "code",
      "execution_count": null,
      "metadata": {
        "id": "h-vmjVUUpGe_"
      },
      "outputs": [],
      "source": [
        "!mkdir subdirectorio"
      ]
    },
    {
      "cell_type": "code",
      "execution_count": null,
      "metadata": {
        "id": "37_qx3XepGe_",
        "outputId": "0848302f-9c9e-4bc8-eff7-b9074673ee9f"
      },
      "outputs": [
        {
          "name": "stdout",
          "output_type": "stream",
          "text": [
            "total 288\n",
            "-rw-rw-r-- 1 wallabot wallabot 285898 dic  6 00:28 2021-02-11-Introduccion-a-Python.ipynb\n",
            "-rw-rw-r-- 1 wallabot wallabot      0 dic  6 00:56 Abc\n",
            "-rw-rw-r-- 1 wallabot wallabot      0 dic  6 00:56 datos1\n",
            "-rw-rw-r-- 1 wallabot wallabot      0 dic  6 00:56 datos123\n",
            "-rw-rw-r-- 1 wallabot wallabot      0 dic  6 00:56 dot2.txt\n",
            "-rw-rw-r-- 1 wallabot wallabot      0 dic  6 00:56 dot.txt\n",
            "-rw-rw-r-- 1 wallabot wallabot      0 dic  6 00:56 file.txt\n",
            "-rw-rw-r-- 1 wallabot wallabot      0 dic  6 00:56 index.html\n",
            "-rw-rw-r-- 1 wallabot wallabot    182 dic  6 01:06 lista.txt\n",
            "-rw-rw-r-- 1 wallabot wallabot      0 dic  6 01:08 secuential.txt\n",
            "drwxrwxr-x 2 wallabot wallabot   4096 dic  6 01:10 subdirectorio\n"
          ]
        }
      ],
      "source": [
        "!ls -l"
      ]
    },
    {
      "cell_type": "markdown",
      "metadata": {
        "id": "CnBsdhfopGfA"
      },
      "source": [
        "Esto nos da información de cada archivo"
      ]
    },
    {
      "cell_type": "markdown",
      "metadata": {
        "id": "JdEJwqtVpGfA"
      },
      "source": [
        "Primero veamos qué tipos de archivos hay\n",
        " * -: Archivo normal\n",
        " * d: Directorio\n",
        "* l: Link simbólico\n",
        "* b: Archivo de bloque especial. Son archivos que manejan la información de los bloques de datos como, por ejemplo, un USB"
      ]
    },
    {
      "cell_type": "markdown",
      "metadata": {
        "id": "dmCnSqXgpGfA"
      },
      "source": [
        "Después veremos los tipos de modo:\n",
        "\n",
        "<table border=\"1\">\n",
        "\t<header>\n",
        "\t\t<tr>\n",
        "<th scope=\"col\" colspan=\"3\">Dueño</th>\n",
        "\t\t\t<th scope=\"col\" colspan=\"3\">Grupo</th>\n",
        "<th scope=\"col\" colspan=\"3\">World</th>\n",
        "\t\t</tr>\n",
        "\t</header>\n",
        "\t<body>\n",
        "\t\t<tr>\n",
        "<th scope=\"row\" colspan=\"3\">rwx</th>\n",
        "\t\t\t<th scope=\"row\" colspan=\"3\">r-x</th>\n",
        "\t\t\t<th scope=\"row\" colspan=\"3\">r-x</th>\n",
        "\t\t</tr>\n",
        "\t\t<tr>\n",
        "\t\t\t<th scope=\"row\">1</th>\n",
        "\t\t\t<th scope=\"row\">1</th>\n",
        "\t\t\t<th scope=\"row\">1</th>\n",
        "\t\t\t<th scope=\"row\">1</th>\n",
        "\t\t\t<th scope=\"row\">0</th>\n",
        "\t\t\t<th scope=\"row\">1</th>\n",
        "\t\t\t<th scope=\"row\">1</th>\n",
        "\t\t\t<th scope=\"row\">0</th>\n",
        "\t\t\t<th scope=\"row\">1</th>\n",
        "\t\t</tr>\n",
        "\t\t<tr>\n",
        "\t\t\t<th scope=\"row\" colspan=\"3\">7</th>\n",
        "\t\t\t<th scope=\"row\" colspan=\"3\">5</th>\n",
        "\t\t\t<th scope=\"row\" colspan=\"3\">5</th>\n",
        "\t\t</tr>\n",
        "\t<body>\n",
        "</table>\n",
        "\n",
        " * r: read\n",
        "* w: write\n",
        " * x: execute"
      ]
    },
    {
      "cell_type": "markdown",
      "metadata": {
        "id": "ahJ_AwuBpGfA"
      },
      "source": [
        "Modo simbólico:\n",
        " * u: Solo para el usuario\n",
        "* g: Sólo para el grupo\n",
        "* o: Sólo para otros (world)\n",
        " * a: Para todos"
      ]
    },
    {
      "cell_type": "markdown",
      "metadata": {
        "id": "D22J5zsFpGfA"
      },
      "source": [
        "## Modificando los permisos en la terminal"
      ]
    },
    {
      "cell_type": "markdown",
      "metadata": {
        "id": "JNOOVADepGfB"
      },
      "source": [
        "Creamos un nuevo archivo"
      ]
    },
    {
      "cell_type": "code",
      "execution_count": null,
      "metadata": {
        "id": "lWdunx_JpGfB"
      },
      "outputs": [],
      "source": [
        "terminal(\"cd subdirectorio\")"
      ]
    },
    {
      "cell_type": "code",
      "execution_count": null,
      "metadata": {
        "id": "agPF0VTopGfB"
      },
      "outputs": [],
      "source": [
        "!echo \"hola mundo\" > mitexto.txt"
      ]
    },
    {
      "cell_type": "code",
      "execution_count": null,
      "metadata": {
        "id": "1p9GJsrlpGfB",
        "outputId": "fa2e1316-72b6-4513-9f8f-c44a5522e613"
      },
      "outputs": [
        {
          "name": "stdout",
          "output_type": "stream",
          "text": [
            "hola mundo\n"
          ]
        }
      ],
      "source": [
        "!cat mitexto.txt"
      ]
    },
    {
      "cell_type": "markdown",
      "metadata": {
        "id": "JLGvcQcipGfB"
      },
      "source": [
        "Vamos a ver los permisos que tiene."
      ]
    },
    {
      "cell_type": "code",
      "execution_count": null,
      "metadata": {
        "id": "nqe8E7FXpGfB",
        "outputId": "489ca2c9-8d5e-462e-e7f1-5974fcb76a02"
      },
      "outputs": [
        {
          "name": "stdout",
          "output_type": "stream",
          "text": [
            "total 4\n",
            "-rw-rw-r-- 1 wallabot wallabot 11 dic  6 01:10 mitexto.txt\n"
          ]
        }
      ],
      "source": [
        "!ls -l"
      ]
    },
    {
      "cell_type": "markdown",
      "metadata": {
        "id": "cEUYQJzapGfC"
      },
      "source": [
        "Como vemos, tiene permisos de lectura y escritura para mi usuario y el grupo, y solo permisos de lectura para el resto (world)"
      ]
    },
    {
      "cell_type": "markdown",
      "metadata": {
        "id": "7OzqSbNLpGfC"
      },
      "source": [
        "### Cambio de permisos con `chmod` (change mode)"
      ]
    },
    {
      "cell_type": "markdown",
      "metadata": {
        "id": "WQjiMxqQpGfC"
      },
      "source": [
        "Para cambiar los permisos de un archivo usamos el comando `chmod` (change mode), donde tenemos que poner en octal los permisos del usuario, luego los del grupo y por último los del resto."
      ]
    },
    {
      "cell_type": "code",
      "execution_count": null,
      "metadata": {
        "id": "dfQfmHWrpGfC"
      },
      "outputs": [],
      "source": [
        "!chmod 755 mitexto.txt"
      ]
    },
    {
      "cell_type": "code",
      "execution_count": null,
      "metadata": {
        "id": "krjyiRd9pGfC",
        "outputId": "6a6fadc4-a3bf-4988-df87-3a6f2a3450f3"
      },
      "outputs": [
        {
          "name": "stdout",
          "output_type": "stream",
          "text": [
            "total 4\n",
            "-rwxr-xr-x 1 wallabot wallabot 11 dic  6 01:10 mitexto.txt\n"
          ]
        }
      ],
      "source": [
        "!ls -l"
      ]
    },
    {
      "cell_type": "markdown",
      "metadata": {
        "id": "b1HMfkJRpGfC"
      },
      "source": [
        "Vemos que ahora mi usuario tiene permisos de lectura, escritura y ejecución, mientras que el grupo y el resto del mundo tiene permisos de lectura y ejecución"
      ]
    },
    {
      "cell_type": "markdown",
      "metadata": {
        "id": "5Vhp3vpmpGfC"
      },
      "source": [
        "Vamos a quitar los permisos de lectura solo a mi usuario. Para cambiar solo los permisos de un usuario usamos el identificador simbólico, un `+` si queremos agregar permisos o un `-` si queremos quitarlos o un `=` si queremos restablecerlos y seguido del tipo de permiso"
      ]
    },
    {
      "cell_type": "code",
      "execution_count": null,
      "metadata": {
        "id": "ueQkoD1NpGfC"
      },
      "outputs": [],
      "source": [
        "!chmod u-r mitexto.txt"
      ]
    },
    {
      "cell_type": "code",
      "execution_count": null,
      "metadata": {
        "id": "siysfBJ5pGfD",
        "outputId": "13ab91f6-5fba-4ddf-b700-35684d1221a9"
      },
      "outputs": [
        {
          "name": "stdout",
          "output_type": "stream",
          "text": [
            "total 4\n",
            "--wxr-xr-x 1 wallabot wallabot 11 dic  6 01:10 mitexto.txt\n"
          ]
        }
      ],
      "source": [
        "!ls -l"
      ]
    },
    {
      "cell_type": "code",
      "execution_count": null,
      "metadata": {
        "id": "OU-pM9PipGfD",
        "outputId": "497ed8eb-8b97-4c2c-9d74-d03f408635fe"
      },
      "outputs": [
        {
          "name": "stdout",
          "output_type": "stream",
          "text": [
            "cat: mitexto.txt: Permiso denegado\n"
          ]
        }
      ],
      "source": [
        "!cat mitexto.txt"
      ]
    },
    {
      "cell_type": "markdown",
      "metadata": {
        "id": "yO3t_bDhpGfD"
      },
      "source": [
        "Como vemos, al quitar permisos de lectura para mi usuario, no podemos leer el archivo."
      ]
    },
    {
      "cell_type": "markdown",
      "metadata": {
        "id": "bKW3QLrqpGfD"
      },
      "source": [
        "Le volvemos a poner el permiso de lectura"
      ]
    },
    {
      "cell_type": "code",
      "execution_count": null,
      "metadata": {
        "id": "HdHROZ8KpGfD"
      },
      "outputs": [],
      "source": [
        "!chmod u+r mitexto.txt"
      ]
    },
    {
      "cell_type": "code",
      "execution_count": null,
      "metadata": {
        "id": "JQyy6A8YpGfD",
        "outputId": "020dbb4b-c51e-4ef9-dbc8-f8f1cf0cd286"
      },
      "outputs": [
        {
          "name": "stdout",
          "output_type": "stream",
          "text": [
            "total 4\n",
            "-rwxr-xr-x 1 wallabot wallabot 11 dic  6 01:10 mitexto.txt\n"
          ]
        }
      ],
      "source": [
        "!ls -l"
      ]
    },
    {
      "cell_type": "code",
      "execution_count": null,
      "metadata": {
        "id": "MUtSGH5MpGfD",
        "outputId": "f0b7af6f-1c5b-4f89-f2e5-4e5c9a23391b"
      },
      "outputs": [
        {
          "name": "stdout",
          "output_type": "stream",
          "text": [
            "hola mundo\n"
          ]
        }
      ],
      "source": [
        "!cat mitexto.txt"
      ]
    },
    {
      "cell_type": "markdown",
      "metadata": {
        "id": "fj16wH9apGfE"
      },
      "source": [
        "Si queremos agregar o quitar permisos a más de un usuario, lo hacemos separando cada permiso por una `,`"
      ]
    },
    {
      "cell_type": "code",
      "execution_count": null,
      "metadata": {
        "id": "NDLySSI7pGfE"
      },
      "outputs": [],
      "source": [
        "!chmod u-x,go=w mitexto.txt"
      ]
    },
    {
      "cell_type": "code",
      "execution_count": null,
      "metadata": {
        "id": "6k-TA6WUpGfE",
        "outputId": "041ae260-58b9-4731-8976-9a3fb3710ace"
      },
      "outputs": [
        {
          "name": "stdout",
          "output_type": "stream",
          "text": [
            "total 4\n",
            "-rw--w--w- 1 wallabot wallabot 11 dic  6 01:10 mitexto.txt\n"
          ]
        }
      ],
      "source": [
        "!ls -l"
      ]
    },
    {
      "cell_type": "markdown",
      "metadata": {
        "id": "6LIIaybfpGfE"
      },
      "source": [
        "Como se puede ver, se le ha quitado el permiso de ejecución al usuario y se ha establecido el permiso de solo escritura para el grupo y el resto del mundo."
      ]
    },
    {
      "cell_type": "markdown",
      "metadata": {
        "id": "ytgNd2AcpGfE"
      },
      "source": [
        "### Identificación de usuario con `whoami`"
      ]
    },
    {
      "cell_type": "markdown",
      "metadata": {
        "id": "3Iou52UOpGfH"
      },
      "source": [
        "Para saber quiénes somos podemos usar el comando `whoami` (who am I)"
      ]
    },
    {
      "cell_type": "code",
      "execution_count": null,
      "metadata": {
        "id": "91O6IBIdpGfH",
        "outputId": "4dd2f2dc-0274-4814-c861-1f5133d1c717"
      },
      "outputs": [
        {
          "name": "stdout",
          "output_type": "stream",
          "text": [
            "wallabot\n"
          ]
        }
      ],
      "source": [
        "!whoami"
      ]
    },
    {
      "cell_type": "markdown",
      "metadata": {
        "id": "UbkwLjv1pGfH"
      },
      "source": [
        "### Información de usuario con `id`"
      ]
    },
    {
      "cell_type": "markdown",
      "metadata": {
        "id": "uxkIW8mVpGfH"
      },
      "source": [
        "Otra manera, que además da más información, es el comando `id`"
      ]
    },
    {
      "cell_type": "code",
      "execution_count": null,
      "metadata": {
        "id": "HRtEIik-pGfI",
        "outputId": "cb15039d-678c-460b-f889-a4be13a4be0d"
      },
      "outputs": [
        {
          "name": "stdout",
          "output_type": "stream",
          "text": [
            "uid=1000(wallabot) gid=1000(wallabot) grupos=1000(wallabot),4(adm),24(cdrom),27(sudo),30(dip),46(plugdev),120(lpadmin),131(lxd),132(sambashare),998(docker)\n"
          ]
        }
      ],
      "source": [
        "!id"
      ]
    },
    {
      "cell_type": "markdown",
      "metadata": {
        "id": "sbE50BJhpGfI"
      },
      "source": [
        "Este comando nos dice que nuestro ID de usuario es el 1000, el ID de grupo es el 1000 y que pertenecemos a los grupos wallabot, adm, cdrom, sudo, dip, plugdev, lpadmin, lxd, sambashare y docker"
      ]
    },
    {
      "cell_type": "markdown",
      "metadata": {
        "id": "lOzV0bL3pGfI"
      },
      "source": [
        "### Cambio de usuario con el comando `su` (switch user)"
      ]
    },
    {
      "cell_type": "markdown",
      "metadata": {
        "id": "Ziwv2-MkpGfI"
      },
      "source": [
        "Si queremos cambiar de usuario usamos el comando `su` (switch user). Para según qué usuario hay que usar `sudo` (superuser do)"
      ]
    },
    {
      "cell_type": "code",
      "execution_count": null,
      "metadata": {
        "id": "KGsNecMBpGfI",
        "outputId": "655d5bae-101b-42b8-e162-e1dd2f377367"
      },
      "outputs": [
        {
          "name": "stdout",
          "output_type": "stream",
          "text": [
            "root@wallabot:/home/wallabot/Documentos/web/portafolio/posts/prueba/subdirectorio#\n"
          ]
        }
      ],
      "source": [
        "!sudo su root"
      ]
    },
    {
      "cell_type": "markdown",
      "metadata": {
        "id": "qTbQUE0VpGfI"
      },
      "source": [
        "Como vemos cambia el `prompt` y ahora indica que somos el usuario `root`"
      ]
    },
    {
      "cell_type": "markdown",
      "metadata": {
        "id": "QwObRX7BpGfJ"
      },
      "source": [
        "Vamos a la carpeta home"
      ]
    },
    {
      "cell_type": "code",
      "execution_count": null,
      "metadata": {
        "id": "HkuV91MjpGfJ",
        "outputId": "db886b6e-43fd-43a9-8bb7-9669e6128b4b"
      },
      "outputs": [
        {
          "name": "stdout",
          "output_type": "stream",
          "text": [
            "root@wallabot:~#\n"
          ]
        }
      ],
      "source": [
        "!cd"
      ]
    },
    {
      "cell_type": "markdown",
      "metadata": {
        "id": "Du_dzXe2pGfJ"
      },
      "source": [
        "Pero en Linux hay una carpeta home por cada usuario, esto lo podemos ver si ejecutamos el comando `pwd`"
      ]
    },
    {
      "cell_type": "code",
      "execution_count": null,
      "metadata": {
        "id": "QppOwEIbpGfJ",
        "outputId": "d3a236cb-09f2-4a7b-aef3-c6e91ec5e5d8"
      },
      "outputs": [
        {
          "name": "stdout",
          "output_type": "stream",
          "text": [
            "/root\n"
          ]
        }
      ],
      "source": [
        "!pwd"
      ]
    },
    {
      "cell_type": "markdown",
      "metadata": {
        "id": "fD2ep6BcpGfJ"
      },
      "source": [
        "Voy a crear un archivo en la carpeta donde antes he creado el archivo *mitexto.txt*"
      ]
    },
    {
      "cell_type": "code",
      "execution_count": null,
      "metadata": {
        "id": "9fiMSsntpGfJ",
        "outputId": "58c6a619-69d0-4b35-de23-cc1b1a6c5129"
      },
      "outputs": [
        {
          "name": "stdout",
          "output_type": "stream",
          "text": [
            "\n"
          ]
        }
      ],
      "source": [
        "!touch /home/wallabot/Documentos/web/portafolio/posts/prueba/subdirectorio/rootfile.txt"
      ]
    },
    {
      "cell_type": "markdown",
      "metadata": {
        "id": "nd9bliJipGfJ"
      },
      "source": [
        "Vuelvo a cambiarme a mi usuario"
      ]
    },
    {
      "cell_type": "code",
      "execution_count": null,
      "metadata": {
        "id": "tjh0kk8VpGfK",
        "outputId": "81aa5da2-f786-4573-9ad5-9d81cdaf0c99"
      },
      "outputs": [
        {
          "name": "stdout",
          "output_type": "stream",
          "text": [
            "wallabot@wallabot:\n"
          ]
        }
      ],
      "source": [
        "!su wallabot"
      ]
    },
    {
      "cell_type": "markdown",
      "metadata": {
        "id": "6-lcptuUpGfK"
      },
      "source": [
        "Y me voy al directorio donde están los archivos que he creado."
      ]
    },
    {
      "cell_type": "code",
      "execution_count": null,
      "metadata": {
        "id": "bWk_M44spGfK"
      },
      "outputs": [],
      "source": [
        "!cd /home/wallabot/Documentos/web/portafolio/posts/prueba/subdirectorio"
      ]
    },
    {
      "cell_type": "markdown",
      "metadata": {
        "id": "6L91ikfhpGfK"
      },
      "source": [
        "Vemos los archivos que hay y sus permisos"
      ]
    },
    {
      "cell_type": "code",
      "execution_count": null,
      "metadata": {
        "id": "g1rILE_MpGfK",
        "outputId": "99b4442b-ee35-4a75-8118-2ffce6a0a236"
      },
      "outputs": [
        {
          "name": "stdout",
          "output_type": "stream",
          "text": [
            "total 4\n",
            "-rw--w--w- 1 wallabot wallabot 11 dic  6 01:10 mitexto.txt\n",
            "-rw-r--r-- 1 root     root      0 dic  6 01:22 rootfile.txt\n"
          ]
        }
      ],
      "source": [
        "!ls -l"
      ]
    },
    {
      "cell_type": "markdown",
      "metadata": {
        "id": "PyR2or90pGfK"
      },
      "source": [
        "Como vemos, el usuario y el grupo del archivo *rootfile.txt* es el usuario `root`"
      ]
    },
    {
      "cell_type": "markdown",
      "metadata": {
        "id": "dDhG6po8pGfL"
      },
      "source": [
        "Si yo, ahora que soy el usuario *wallabot*, intento borrar el archivo `rootfile.txt`"
      ]
    },
    {
      "cell_type": "code",
      "execution_count": null,
      "metadata": {
        "id": "7fbF19rXpGfL",
        "outputId": "7beb3e28-821f-42d0-dcee-8c51687ee919"
      },
      "outputs": [
        {
          "name": "stdout",
          "output_type": "stream",
          "text": [
            "rm: ¿borrar el fichero regular vacío 'rootfile.txt'  protegido contra escritura? (s/n)\n"
          ]
        }
      ],
      "source": [
        "!rm rootfile.txt"
      ]
    },
    {
      "cell_type": "markdown",
      "metadata": {
        "id": "syNhKL69pGfL"
      },
      "source": [
        "Como vemos, nos pregunta si lo queremos borrar, ya que pertenece a otro usuario."
      ]
    },
    {
      "cell_type": "markdown",
      "metadata": {
        "id": "QmDrM5oXpGfL"
      },
      "source": [
        "## Modificar la contraseña de un usuario"
      ]
    },
    {
      "cell_type": "markdown",
      "metadata": {
        "id": "ZdDkxs3epGfL"
      },
      "source": [
        "Si quiero modificar la contraseña del usuario que tengo actualmente activo, uso el comando `passwd` (password)"
      ]
    },
    {
      "cell_type": "markdown",
      "metadata": {
        "id": "IHU37frhpGfM"
      },
      "source": [
        "Primero compruebo qué usuario soy"
      ]
    },
    {
      "cell_type": "code",
      "execution_count": null,
      "metadata": {
        "id": "0TmitfVPpGfM",
        "outputId": "4b461f1d-cbae-46ca-b19e-cf6c85a644bd"
      },
      "outputs": [
        {
          "name": "stdout",
          "output_type": "stream",
          "text": [
            "wallabot\n"
          ]
        }
      ],
      "source": [
        "!whoami"
      ]
    },
    {
      "cell_type": "markdown",
      "metadata": {
        "id": "eJ9awIRwpGfM"
      },
      "source": [
        "Y ahora probamos a cambiar la contraseña"
      ]
    },
    {
      "cell_type": "code",
      "execution_count": null,
      "metadata": {
        "id": "RUkfuXDipGfM",
        "outputId": "041492d2-f21a-4a26-ca9e-6b9e98722de9"
      },
      "outputs": [
        {
          "name": "stdout",
          "output_type": "stream",
          "text": [
            "$ passwd\n",
            "Cambiando la contraseña de wallabot.\n",
            "Contraseña actual de : \n",
            "Nueva contraseña: \n",
            "Vuelva a escribir la nueva contraseña\n"
          ]
        }
      ],
      "source": [
        "!passwd"
      ]
    },
    {
      "cell_type": "markdown",
      "metadata": {
        "id": "I7zuK19BpGfM"
      },
      "source": [
        "Como vemos, pide la actual contraseña para poder cambiarla"
      ]
    },
    {
      "cell_type": "markdown",
      "metadata": {
        "id": "fPBsR8NCpGfN"
      },
      "source": [
        "## Links simbólicos"
      ]
    },
    {
      "cell_type": "markdown",
      "metadata": {
        "id": "szqOKiPIpGfN"
      },
      "source": [
        "Podemos crear links simbólicos a una ruta determinada mediante el comando `ln` (link) seguido del flag `-s` (symbolic), el directorio y el nombre del link"
      ]
    },
    {
      "cell_type": "code",
      "execution_count": null,
      "metadata": {
        "id": "gzA4xJGdpGfN"
      },
      "outputs": [],
      "source": [
        "!ln -s /home/wallabot/Documentos/web web"
      ]
    },
    {
      "cell_type": "markdown",
      "metadata": {
        "id": "30m1MzkupGfN"
      },
      "source": [
        "Si ahora listamos los archivos"
      ]
    },
    {
      "cell_type": "code",
      "execution_count": null,
      "metadata": {
        "id": "w6QwTKrFpGfN",
        "outputId": "9ece72b5-5945-454b-d619-763e60c835fc"
      },
      "outputs": [
        {
          "name": "stdout",
          "output_type": "stream",
          "text": [
            "total 4\n",
            "-rw--w--w- 1 wallabot wallabot 11 dic  6 01:10 mitexto.txt\n",
            "-rw-r--r-- 1 root     root      0 dic  6 01:22 rootfile.txt\n",
            "lrwxrwxrwx 1 wallabot wallabot 29 dic  6 01:28 web -> /home/wallabot/Documentos/web\n"
          ]
        }
      ],
      "source": [
        "!ls -l"
      ]
    },
    {
      "cell_type": "markdown",
      "metadata": {
        "id": "oBA9oet3pGfN"
      },
      "source": [
        "Vemos el link simbólico `web` que apunta a `/home/wallabot/Documentos/web:`"
      ]
    },
    {
      "cell_type": "markdown",
      "metadata": {
        "id": "pxeDLzuIpGfN"
      },
      "source": [
        "Yo ahora me puedo ir a `web`"
      ]
    },
    {
      "cell_type": "code",
      "execution_count": null,
      "metadata": {
        "id": "3t4imTUDpGfO"
      },
      "outputs": [],
      "source": [
        "terminal(\"cd web\")"
      ]
    },
    {
      "cell_type": "code",
      "execution_count": null,
      "metadata": {
        "id": "Ayi59u1opGfO",
        "outputId": "eba1c858-2b65-4563-9378-9d9120fde58e"
      },
      "outputs": [
        {
          "name": "stdout",
          "output_type": "stream",
          "text": [
            "/home/wallabot/Documentos/web\n"
          ]
        }
      ],
      "source": [
        "!pwd"
      ]
    },
    {
      "cell_type": "markdown",
      "metadata": {
        "id": "s9lrxIQNpGfO"
      },
      "source": [
        "## Configurar las variables de entorno"
      ]
    },
    {
      "cell_type": "markdown",
      "metadata": {
        "id": "2tvE9ntHpGfO"
      },
      "source": [
        "### Ver las variables de entorno con `printenv`"
      ]
    },
    {
      "cell_type": "markdown",
      "metadata": {
        "id": "9Z6AKpospGfO"
      },
      "source": [
        "Con el comando `printenv` podemos ver todas las variables de entorno"
      ]
    },
    {
      "cell_type": "code",
      "execution_count": null,
      "metadata": {
        "id": "gStpcKQHpGfP",
        "outputId": "40f3bdcb-6f4d-444a-ee84-ab962d0462c9"
      },
      "outputs": [
        {
          "name": "stdout",
          "output_type": "stream",
          "text": [
            "GJS_DEBUG_TOPICS=JS ERROR;JS LOG\n",
            "VSCODE_CWD=/home/wallabot\n",
            "LESSOPEN=| /usr/bin/lesspipe %s\n",
            "CONDA_PROMPT_MODIFIER=(base) \n",
            "PYTHONIOENCODING=utf-8\n",
            "USER=wallabot\n",
            "VSCODE_NLS_CONFIG={\"locale\":\"es\",\"availableLanguages\":{\"*\":\"es\"},\"_languagePackId\":\"b07c40c9acb9e1d7b3ca14b06f814803.es\",\"_translationsConfigFile\":\"/home/wallabot/.config/Code/clp/b07c40c9acb9e1d7b3ca14b06f814803.es/tcf.json\",\"_cacheRoot\":\"/home/wallabot/.config/Code/clp/b07c40c9acb9e1d7b3ca14b06f814803.es\",\"_resolvedLanguagePackCoreLocation\":\"/home/wallabot/.config/Code/clp/b07c40c9acb9e1d7b3ca14b06f814803.es/6261075646f055b99068d3688932416f2346dd3b\",\"_corruptedFile\":\"/home/wallabot/.config/Code/clp/b07c40c9acb9e1d7b3ca14b06f814803.es/corrupted.info\",\"_languagePackSupport\":true}\n",
            "VSCODE_HANDLES_UNCAUGHT_ERRORS=true\n",
            "MPLBACKEND=module://ipykernel.pylab.backend_inline\n",
            "SSH_AGENT_PID=1373\n",
            "XDG_SESSION_TYPE=x11\n",
            "SHLVL=0\n",
            "HOME=/home/wallabot\n",
            "CHROME_DESKTOP=code-url-handler.desktop\n",
            "CONDA_SHLVL=1\n",
            "DESKTOP_SESSION=ubuntu\n",
            "GIO_LAUNCHED_DESKTOP_FILE=/usr/share/applications/code.desktop\n",
            "VSCODE_IPC_HOOK=/run/user/1000/vscode-26527400-1.73.1-main.sock\n",
            "PYTHONUNBUFFERED=1\n",
            "GTK_MODULES=gail:atk-bridge\n",
            "GNOME_SHELL_SESSION_MODE=ubuntu\n",
            "APPLICATION_INSIGHTS_NO_DIAGNOSTIC_CHANNEL=true\n",
            "PAGER=cat\n",
            "MANAGERPID=1153\n",
            "DBUS_SESSION_BUS_ADDRESS=unix:path=/run/user/1000/bus\n",
            "GIO_LAUNCHED_DESKTOP_FILE_PID=3897\n",
            "_CE_M=\n",
            "IM_CONFIG_PHASE=1\n",
            "LOGNAME=wallabot\n",
            "_=/home/wallabot/anaconda3/bin/python\n",
            "JOURNAL_STREAM=8:52662\n",
            "XDG_SESSION_CLASS=user\n",
            "USERNAME=wallabot\n",
            "TERM=xterm-color\n",
            "GNOME_DESKTOP_SESSION_ID=this-is-deprecated\n",
            "_CE_CONDA=\n",
            "WINDOWPATH=2\n",
            "PATH=/home/wallabot/anaconda3/bin:/home/wallabot/anaconda3/condabin:/usr/local/sbin:/usr/local/bin:/usr/sbin:/usr/bin:/sbin:/bin:/usr/games:/usr/local/games:/snap/bin\n",
            "SESSION_MANAGER=local/wallabot:@/tmp/.ICE-unix/1410,unix/wallabot:/tmp/.ICE-unix/1410\n",
            "INVOCATION_ID=73bba2d15f2e492fa6c16538996a2556\n",
            "VSCODE_AMD_ENTRYPOINT=vs/workbench/api/node/extensionHostProcess\n",
            "XDG_RUNTIME_DIR=/run/user/1000\n",
            "XDG_MENU_PREFIX=gnome-\n",
            "GDK_BACKEND=x11\n",
            "DISPLAY=:0\n",
            "LANG=es_ES.UTF-8\n",
            "XDG_CURRENT_DESKTOP=Unity\n",
            "XAUTHORITY=/run/user/1000/gdm/Xauthority\n",
            "XDG_SESSION_DESKTOP=ubuntu\n",
            "XMODIFIERS=@im=ibus\n",
            "LS_COLORS=\n",
            "SSH_AUTH_SOCK=/run/user/1000/keyring/ssh\n",
            "ORIGINAL_XDG_CURRENT_DESKTOP=ubuntu:GNOME\n",
            "CONDA_PYTHON_EXE=/home/wallabot/anaconda3/bin/python\n",
            "SHELL=/bin/bash\n",
            "ELECTRON_RUN_AS_NODE=1\n",
            "QT_ACCESSIBILITY=1\n",
            "GDMSESSION=ubuntu\n",
            "LESSCLOSE=/usr/bin/lesspipe %s %s\n",
            "CONDA_DEFAULT_ENV=base\n",
            "PYDEVD_IPYTHON_COMPATIBLE_DEBUGGING=1\n",
            "GPG_AGENT_INFO=/run/user/1000/gnupg/S.gpg-agent:0:1\n",
            "GJS_DEBUG_OUTPUT=stderr\n",
            "QT_IM_MODULE=ibus\n",
            "GIT_PAGER=cat\n",
            "PWD=/home/wallabot/Documentos/web\n",
            "CLICOLOR=1\n",
            "XDG_DATA_DIRS=/usr/share/ubuntu:/usr/local/share/:/usr/share/:/var/lib/snapd/desktop\n",
            "XDG_CONFIG_DIRS=/etc/xdg/xdg-ubuntu:/etc/xdg\n",
            "VSCODE_CODE_CACHE_PATH=/home/wallabot/.config/Code/CachedData/6261075646f055b99068d3688932416f2346dd3b\n",
            "CONDA_EXE=/home/wallabot/anaconda3/bin/conda\n",
            "CONDA_PREFIX=/home/wallabot/anaconda3\n",
            "VSCODE_PID=3897\n"
          ]
        }
      ],
      "source": [
        "!printenv"
      ]
    },
    {
      "cell_type": "markdown",
      "metadata": {
        "id": "BGtSEF36pGfP"
      },
      "source": [
        "### Ver una variable de entorno con el comando `echo`"
      ]
    },
    {
      "cell_type": "markdown",
      "metadata": {
        "id": "pf-ytMohpGfQ"
      },
      "source": [
        "Para ver una variable de entorno en concreto podemos hacerlo mediante el comando `echo` seguido del símbolo `$` y el nombre de la variable"
      ]
    },
    {
      "cell_type": "code",
      "execution_count": null,
      "metadata": {
        "id": "FAjIvBWkpGfQ",
        "outputId": "9c7245af-3028-430a-8780-c35e95c2fbd9"
      },
      "outputs": [
        {
          "name": "stdout",
          "output_type": "stream",
          "text": [
            "/home/wallabot\n"
          ]
        }
      ],
      "source": [
        "!echo $HOME"
      ]
    },
    {
      "cell_type": "markdown",
      "metadata": {
        "id": "uzYgJX-bpGfQ"
      },
      "source": [
        "### Modificar una variable de entorno para una sesión de terminal"
      ]
    },
    {
      "cell_type": "markdown",
      "metadata": {
        "id": "4uhXmiXRpGfR"
      },
      "source": [
        "Podemos modificar una variable de entorno para la sesión activa de terminal, por ejemplo, vamos a agregar una nueva ruta a la variable `PATH`. Primero vemos qué hay en ella"
      ]
    },
    {
      "cell_type": "code",
      "execution_count": null,
      "metadata": {
        "id": "_1LQfnVvpGfR",
        "outputId": "9024a261-ae40-40e2-ae4d-b4f037bd958f"
      },
      "outputs": [
        {
          "name": "stdout",
          "output_type": "stream",
          "text": [
            "/home/wallabot/anaconda3/bin:/home/wallabot/anaconda3/condabin:/usr/local/sbin:/usr/local/bin:/usr/sbin:/usr/bin:/sbin:/bin:/usr/games:/usr/local/games:/snap/bin\n"
          ]
        }
      ],
      "source": [
        "!echo $PATH"
      ]
    },
    {
      "cell_type": "markdown",
      "metadata": {
        "id": "gU8v6_jmpGfR"
      },
      "source": [
        "Ahora añadimos un nuevo directorio"
      ]
    },
    {
      "cell_type": "code",
      "execution_count": null,
      "metadata": {
        "id": "l0zJ386apGfR",
        "outputId": "290bbac5-aaf7-4e02-dd6b-c901abe2043d"
      },
      "outputs": [
        {
          "name": "stdout",
          "output_type": "stream",
          "text": [
            "\n"
          ]
        }
      ],
      "source": [
        "!PATH=$PATH:\"subdirectorio"
      ]
    },
    {
      "cell_type": "markdown",
      "metadata": {
        "id": "fEky5dQ5pGfR"
      },
      "source": [
        "Volvemos a ver qué hay dentro de `PATH`"
      ]
    },
    {
      "cell_type": "code",
      "execution_count": null,
      "metadata": {
        "id": "tXXdp5vVpGfS",
        "outputId": "3fee15d9-7a4d-4a24-ea4a-bf5788d18c13"
      },
      "outputs": [
        {
          "name": "stdout",
          "output_type": "stream",
          "text": [
            "/home/wallabot/anaconda3/bin:/home/wallabot/anaconda3/condabin:/usr/local/sbin:/usr/local/bin:/usr/sbin:/usr/bin:/sbin:/bin:/usr/games:/usr/local/games:/snap/bin:subdirectorio\n"
          ]
        }
      ],
      "source": [
        "!echo $PATH"
      ]
    },
    {
      "cell_type": "markdown",
      "metadata": {
        "id": "Pa9sJhcwpGfS"
      },
      "source": [
        "Vemos que se ha añadido el directorio `subdirectorio`.\n",
        "\n",
        "El problema de este método es que cuando abramos una nueva terminal no se mantendrá este cambio en `PATH`"
      ]
    },
    {
      "cell_type": "markdown",
      "metadata": {
        "id": "-CgJoeiFpGfS"
      },
      "source": [
        "### Modificar una variable de entorno para todas las sesiones de terminal"
      ]
    },
    {
      "cell_type": "markdown",
      "metadata": {
        "id": "YMTMZ-eopGfS"
      },
      "source": [
        "Nos vamos a la carpeta home"
      ]
    },
    {
      "cell_type": "code",
      "execution_count": null,
      "metadata": {
        "id": "h3B3XoclpGfS"
      },
      "outputs": [],
      "source": [
        "terminal(\"cd /home/wallabot\")"
      ]
    },
    {
      "cell_type": "markdown",
      "metadata": {
        "id": "2NWyUoIkpGfT"
      },
      "source": [
        "Aquí en el home listamos todos los archivos con el flag `-a` (all)"
      ]
    },
    {
      "cell_type": "code",
      "execution_count": null,
      "metadata": {
        "id": "DCGZU2FEpGfT",
        "outputId": "00bf509a-0b1c-4431-a809-a2808f9de132"
      },
      "outputs": [
        {
          "name": "stdout",
          "output_type": "stream",
          "text": [
            ".\t\t.eclipse\t\t       .pki\n",
            "..\t\tEscritorio\t\t       Plantillas\n",
            ".afirma\t\t.gitconfig\t\t       .platformio\n",
            "anaconda3\t.gnupg\t\t\t       .profile\n",
            ".audacity-data\tImágenes\t\t       .psensor\n",
            ".bash_history\t.ipython\t\t       Público\n",
            ".bash_logout\t.java\t\t\t       .python_history\n",
            ".bashrc\t\t.jupyter\t\t       snap\n",
            ".cache\t\t.lesshst\t\t       .ssh\n",
            ".conda\t\tLightworks\t\t       .sudo_as_admin_successful\n",
            ".config\t\t.Lightworks.thereCanBeOnlyOne  .thunderbird\n",
            ".cortex-debug\t.local\t\t\t       Vídeos\n",
            ".cyberghost\tlogiops\t\t\t       .vnc\n",
            ".dbus\t\t.MCTranscodingSDK\t       .vscode\n",
            "Descargas\t.mozilla\t\t       .wget-hsts\n",
            ".docker\t\tMúsica\n",
            "Documentos\t.nv\n"
          ]
        }
      ],
      "source": [
        "!ls -a"
      ]
    },
    {
      "cell_type": "markdown",
      "metadata": {
        "id": "gllmQCKnpGfT"
      },
      "source": [
        "Vemos que hay un archivo que se llama `.bashrc`, este archivo es el archivo que tiene la configuración de nuestro bash"
      ]
    },
    {
      "cell_type": "code",
      "execution_count": null,
      "metadata": {
        "id": "l7cW39jHpGfT",
        "outputId": "9d2adcae-7a1a-4201-a87e-4cd2d8ed5ab9"
      },
      "outputs": [
        {
          "name": "stdout",
          "output_type": "stream",
          "text": [
            "# ~/.bashrc: executed by bash(1) for non-login shells.\n",
            "# see /usr/share/doc/bash/examples/startup-files (in the package bash-doc)\n",
            "# for examples\n",
            "\t ...\n",
            "fi\n",
            "unset __conda_setup\n",
            "# <<< conda initialize <<<\n",
            "\n",
            "\n"
          ]
        }
      ],
      "source": [
        "terminal(\"cat .bashrc\", max_lines_output=3)"
      ]
    },
    {
      "cell_type": "markdown",
      "metadata": {
        "id": "np8eBUlqpGfT"
      },
      "source": [
        "Este archivo es el que configura la terminal cada vez que se abre una nueva, por lo que si en él editamos la variable `PATH`, este cambio se mantendrá para todas las ventanas nuevas de terminal que abramos"
      ]
    },
    {
      "cell_type": "markdown",
      "metadata": {
        "id": "DOwIXh2jpGfU"
      },
      "source": [
        "Para modificar la variable `PATH` dentro del archivo de configuración tenemos que agregar la siguiente línea al archivo"
      ]
    },
    {
      "cell_type": "markdown",
      "metadata": {
        "id": "n-vwaQSapGfU"
      },
      "source": [
        "```\n",
        "PATH=$PATH:\"subdirectorio\"\n",
        "```"
      ]
    },
    {
      "cell_type": "markdown",
      "metadata": {
        "id": "3DgK45QSpGfU"
      },
      "source": [
        "### Crear alias para todas las sesiones"
      ]
    },
    {
      "cell_type": "markdown",
      "metadata": {
        "id": "og0ezfQZpGfU"
      },
      "source": [
        "Ya vimos cómo crear alias de comandos, pero también pasaba que se perdían cada vez que cerrábamos una sesión de terminal, para que esto no pase, los añadimos también al archivo de configuración `.bashrc`. Por ejemplo, en mi caso he añadido las siguientes líneas\n",
        "\n",
        "```\n",
        "alias ll='ls -l'\n",
        "alias la='ls -a'\n",
        "alias lh='ls -h'\n",
        "alias lha='ls -lha'\n",
        "```"
      ]
    },
    {
      "cell_type": "markdown",
      "metadata": {
        "id": "wiOE7dPjpGfV"
      },
      "source": [
        "## Comandos de búsqueda"
      ]
    },
    {
      "cell_type": "markdown",
      "metadata": {
        "id": "EF2NZGZipGfV"
      },
      "source": [
        "### Búsqueda de binarios con `which`"
      ]
    },
    {
      "cell_type": "markdown",
      "metadata": {
        "id": "7pnL67BApGfV"
      },
      "source": [
        "El primer comando de búsqueda que vamos a ver es `which` que nos permite encontrar la ruta de los binarios"
      ]
    },
    {
      "cell_type": "code",
      "execution_count": null,
      "metadata": {
        "id": "KPs5PHXgpGfV",
        "outputId": "e18743ae-4c58-4b9d-b284-1a32013a76b1"
      },
      "outputs": [
        {
          "name": "stdout",
          "output_type": "stream",
          "text": [
            "/home/wallabot/anaconda3/bin/python\n"
          ]
        }
      ],
      "source": [
        "!which python"
      ]
    },
    {
      "cell_type": "markdown",
      "metadata": {
        "id": "gcMGq-PGpGfV"
      },
      "source": [
        "Sin embargo, si buscamos algo que no esté en alguna de las rutas del PATH, `which` no será capaz de decirnos la ruta"
      ]
    },
    {
      "cell_type": "code",
      "execution_count": null,
      "metadata": {
        "id": "PvGCV-iJpGfW"
      },
      "outputs": [],
      "source": [
        "!which cd"
      ]
    },
    {
      "cell_type": "markdown",
      "metadata": {
        "id": "L8oGrvaPpGfW"
      },
      "source": [
        "### Búsqueda de archivos con `find`"
      ]
    },
    {
      "cell_type": "markdown",
      "metadata": {
        "id": "0mUJf--spGfW"
      },
      "source": [
        "Para buscar un archivo con find tenemos que indicarle desde qué ruta queremos buscar el archivo, seguido del flag `-name` y el nombre del archivo que queremos buscar."
      ]
    },
    {
      "cell_type": "code",
      "execution_count": null,
      "metadata": {
        "id": "SIVvXh1bpGfW",
        "outputId": "3374e4b1-e7ad-47ff-f1eb-0d45ba770c16"
      },
      "outputs": [
        {
          "name": "stdout",
          "output_type": "stream",
          "text": [
            "/home/wallabot/Documentos/web/portafolio/posts/prueba/2021-02-11-Introduccion-a-Python.ipynb\n",
            "/home/wallabot/Documentos/web/portafolio/posts/2021-02-11-Introduccion-a-Python.ipynb\n"
          ]
        }
      ],
      "source": [
        "!find ~ -name \"2021-02-11-Introduccion-a-Python.ipynb\""
      ]
    },
    {
      "cell_type": "markdown",
      "metadata": {
        "id": "_ZGwGKiOpGfX"
      },
      "source": [
        "Como vemos, está en su directorio más la copia que he creado en este notebook y la he guardado en la carpeta `prueba`"
      ]
    },
    {
      "cell_type": "markdown",
      "metadata": {
        "id": "q7e_eScNpGfX"
      },
      "source": [
        "Una cosa muy poderosa de `find` es que podemos usar `wildcards`, por ejemplo si quiero buscar todos los archivos de texto de mi carpeta `web`."
      ]
    },
    {
      "cell_type": "code",
      "execution_count": null,
      "metadata": {
        "id": "hedAQraipGfX",
        "outputId": "6ff4b951-3420-4844-b7b1-103c0d09344c"
      },
      "outputs": [
        {
          "name": "stdout",
          "output_type": "stream",
          "text": [
            "/home/wallabot/Documentos/web/portafolio/posts/2022-09-12 Introduccion a la terminal.txt\n",
            "/home/wallabot/Documentos/web/portafolio/posts/prueba/lista.txt\n",
            "/home/wallabot/Documentos/web/portafolio/posts/prueba/dot.txt\n",
            "/home/wallabot/Documentos/web/portafolio/posts/prueba/dot2.txt\n",
            "/home/wallabot/Documentos/web/portafolio/posts/prueba/secuential.txt\n",
            "/home/wallabot/Documentos/web/portafolio/posts/prueba/subdirectorio/rootfile.txt\n",
            "/home/wallabot/Documentos/web/portafolio/posts/prueba/subdirectorio/mitexto.txt\n",
            "/home/wallabot/Documentos/web/portafolio/posts/prueba/file.txt\n",
            "/home/wallabot/Documentos/web/wordpress_api_rest/page.txt\n"
          ]
        }
      ],
      "source": [
        "!find ~/Documentos/web/ -name *.txt"
      ]
    },
    {
      "cell_type": "markdown",
      "metadata": {
        "id": "PJPvHuJdpGfX"
      },
      "source": [
        "Si no queremos que distinga entre mayúsculas y minúsculas debemos usar el flag `-iname`, por ejemplo si buscamos todos los archivos que contengan el texto `FILE`, pero usando el flag `-iname`"
      ]
    },
    {
      "cell_type": "code",
      "execution_count": null,
      "metadata": {
        "id": "W1HIp4RvpGfY",
        "outputId": "4a1bf93a-475a-4412-82e6-072148a035e1"
      },
      "outputs": [
        {
          "name": "stdout",
          "output_type": "stream",
          "text": [
            "/home/wallabot/Documentos/web/portafolio/posts/html_files\n",
            "/home/wallabot/Documentos/web/portafolio/posts/prueba/subdirectorio/rootfile.txt\n",
            "/home/wallabot/Documentos/web/portafolio/posts/prueba/file.txt\n"
          ]
        }
      ],
      "source": [
        "!find ~/Documentos/web/ -iname *FILE*"
      ]
    },
    {
      "cell_type": "markdown",
      "metadata": {
        "id": "bSvkf7rApGfY"
      },
      "source": [
        "Vemos que todos los resultados contienen `file` y no `FILE`, es decir, no ha hecho distinción entre mayúsculas y minúsculas"
      ]
    },
    {
      "cell_type": "markdown",
      "metadata": {
        "id": "3c6g4L5DpGfY"
      },
      "source": [
        "Podemos especificar el tipo de archivo con el flag `-type`. Solo admite dos tipos `f` para archivos y `d` para directorios"
      ]
    },
    {
      "cell_type": "code",
      "execution_count": null,
      "metadata": {
        "id": "4B8f5g_UpGfY",
        "outputId": "9e39397d-7620-496b-a423-cc0a270ccb67"
      },
      "outputs": [
        {
          "name": "stdout",
          "output_type": "stream",
          "text": [
            "/home/wallabot/Documentos/nerf/instant-ngp/configs/image\n",
            "/home/wallabot/Documentos/nerf/instant-ngp/dependencies/tiny-cuda-nn/benchmarks/image\n",
            "/home/wallabot/Documentos/nerf/instant-ngp/dependencies/tiny-cuda-nn/dependencies/cutlass/media/images\n",
            "/home/wallabot/Documentos/nerf/instant-ngp/dependencies/tiny-cuda-nn/dependencies/fmt/doc/bootstrap/mixins/image.less\n",
            "/home/wallabot/Documentos/nerf/instant-ngp/dependencies/tiny-cuda-nn/data/images\n",
            "/home/wallabot/Documentos/nerf/instant-ngp/dependencies/dlss/NVIDIAImageScaling/samples/media/images\n",
            "/home/wallabot/Documentos/nerf/instant-ngp/data/nerf/fox/images\n",
            "/home/wallabot/Documentos/nerf/instant-ngp/data/image\n"
          ]
        }
      ],
      "source": [
        "!find ~/Documentos/nerf -name image*"
      ]
    },
    {
      "cell_type": "code",
      "execution_count": null,
      "metadata": {
        "id": "c_0FVCChpGfY",
        "outputId": "9e0835dd-2706-49a1-d324-c062014bd8a0"
      },
      "outputs": [
        {
          "name": "stdout",
          "output_type": "stream",
          "text": [
            "/home/wallabot/Documentos/nerf/instant-ngp/configs/image\n",
            "/home/wallabot/Documentos/nerf/instant-ngp/dependencies/tiny-cuda-nn/benchmarks/image\n",
            "/home/wallabot/Documentos/nerf/instant-ngp/dependencies/tiny-cuda-nn/dependencies/cutlass/media/images\n",
            "/home/wallabot/Documentos/nerf/instant-ngp/dependencies/tiny-cuda-nn/data/images\n",
            "/home/wallabot/Documentos/nerf/instant-ngp/dependencies/dlss/NVIDIAImageScaling/samples/media/images\n",
            "/home/wallabot/Documentos/nerf/instant-ngp/data/nerf/fox/images\n",
            "/home/wallabot/Documentos/nerf/instant-ngp/data/image\n"
          ]
        }
      ],
      "source": [
        "!find ~/Documentos/nerf -name image* -type d"
      ]
    },
    {
      "cell_type": "code",
      "execution_count": null,
      "metadata": {
        "id": "c2rcgCFBpGfZ",
        "outputId": "9cdb4d9a-f84f-4eec-d214-47972476f123"
      },
      "outputs": [
        {
          "name": "stdout",
          "output_type": "stream",
          "text": [
            "/home/wallabot/Documentos/nerf/instant-ngp/dependencies/tiny-cuda-nn/dependencies/fmt/doc/bootstrap/mixins/image.less\n"
          ]
        }
      ],
      "source": [
        "!find ~/Documentos/nerf -name image* -type f"
      ]
    },
    {
      "cell_type": "markdown",
      "metadata": {
        "id": "gEn2eldspGfZ"
      },
      "source": [
        "Si queremos filtrar por el tamaño del archivo podemos usar el flag `-size`, por ejemplo, si queremos buscar todos los archivos de más de 200 MB"
      ]
    },
    {
      "cell_type": "code",
      "execution_count": null,
      "metadata": {
        "id": "IxtuRxC_pGfZ",
        "outputId": "10a72c5e-b301-4a63-d1ac-843b9e735ed5"
      },
      "outputs": [
        {
          "name": "stdout",
          "output_type": "stream",
          "text": [
            "/home/wallabot/Documentos/kaggle/hubmap/models/13_efficientnet-b7_final_model.pth\n",
            "/home/wallabot/Documentos/kaggle/hubmap/models/12_efficientnet-b7_final_model.pth\n",
            "/home/wallabot/Documentos/kaggle/hubmap/models/14_resnet152_final_model.pth\n",
            "/home/wallabot/Documentos/kaggle/hubmap/models/14_resnet152_best_model.pth\n",
            "/home/wallabot/Documentos/kaggle/hubmap/models/12_efficientnet-b7_early_stopping.pth\n",
            "/home/wallabot/Documentos/kaggle/hubmap/models/efficientnet-b7-dcc49843.pth\n",
            "/home/wallabot/Documentos/kaggle/hubmap/models/13_efficientnet-b7_early_stopping.pth\n",
            "/home/wallabot/Documentos/kaggle/hubmap/models/14_resnet152_early_stopping.pth\n",
            "/home/wallabot/Documentos/kaggle/hubmap/models/12_efficientnet-b7_best_model.pth\n",
            "/home/wallabot/Documentos/kaggle/hubmap/models/13_efficientnet-b7_best_model.pth\n"
          ]
        }
      ],
      "source": [
        "!find ~/Documentos/ -type f -size +200M"
      ]
    },
    {
      "cell_type": "markdown",
      "metadata": {
        "id": "SNnlY3JnpGfZ"
      },
      "source": [
        "Si queremos realizar operaciones tras la búsqueda, usamos el flag `-exec`"
      ]
    },
    {
      "cell_type": "markdown",
      "metadata": {
        "id": "JMntxyN6pGfZ"
      },
      "source": [
        "Por ejemplo, voy a buscar todas las carpetas con el nombre `subdirectorio`"
      ]
    },
    {
      "cell_type": "code",
      "execution_count": null,
      "metadata": {
        "id": "EOyLVTyjpGfa",
        "outputId": "4ea67e47-a02b-4747-ec4d-0b1aee3ae2cd"
      },
      "outputs": [
        {
          "name": "stdout",
          "output_type": "stream",
          "text": [
            "/home/wallabot/Documentos/web/portafolio/posts/prueba/subdirectorio\n"
          ]
        }
      ],
      "source": [
        "!find ~/ -name subdirectorio -type d"
      ]
    },
    {
      "cell_type": "markdown",
      "metadata": {
        "id": "hMvjSIrgpGfa"
      },
      "source": [
        "Puedo hacer que se borren con el flag `-exec`"
      ]
    },
    {
      "cell_type": "code",
      "execution_count": null,
      "metadata": {
        "id": "jeIqBc3hpGfa",
        "outputId": "18936ad2-d41a-4438-8ba5-e1b8cb427005"
      },
      "outputs": [
        {
          "name": "stdout",
          "output_type": "stream",
          "text": [
            "rm: ¿borrar el fichero regular vacío '/home/wallabot/Documentos/web/portafolio/posts/prueba/subdirectorio/rootfile.txt'  protegido contra escritura? (s/n) s\n",
            "find: ‘/home/wallabot/Documentos/web/portafolio/posts/prueba/subdirectorio’: No existe el archivo o el directorio\n"
          ]
        }
      ],
      "source": [
        "!find ~/ -name subdirectorio -type d -exec rm -r {} \\;"
      ]
    },
    {
      "cell_type": "code",
      "execution_count": null,
      "metadata": {
        "id": "jlkr0kLepGfa"
      },
      "outputs": [],
      "source": [
        "!find ~/ -name subdirectorio -type d"
      ]
    },
    {
      "cell_type": "markdown",
      "metadata": {
        "id": "ki668DwYpGfa"
      },
      "source": [
        "Por último, si usamos el carácter `!` estaremos indicando que encuentre todo lo que no coincide con lo que hemos especificado"
      ]
    },
    {
      "cell_type": "code",
      "execution_count": null,
      "metadata": {
        "id": "UvlqkVhDpGfa",
        "outputId": "d358fb36-7e8f-4a79-d6df-9f18f6b358f0"
      },
      "outputs": [
        {
          "name": "stdout",
          "output_type": "stream",
          "text": [
            "/home/wallabot/Documentos/web/portafolio/posts/prueba\n",
            "/home/wallabot/Documentos/web/portafolio/posts/prueba/index.html\n",
            "/home/wallabot/Documentos/web/portafolio/posts/prueba/Abc\n",
            "/home/wallabot/Documentos/web/portafolio/posts/prueba/datos1\n",
            "/home/wallabot/Documentos/web/portafolio/posts/prueba/2021-02-11-Introduccion-a-Python.ipynb\n",
            "/home/wallabot/Documentos/web/portafolio/posts/prueba/datos123\n"
          ]
        }
      ],
      "source": [
        "!find ~/Documentos/web/portafolio/posts/prueba ! -name *.txt"
      ]
    },
    {
      "cell_type": "markdown",
      "metadata": {
        "id": "yOcRLIGWpGfa"
      },
      "source": [
        "Como vemos, ha encontrado todo lo que no es un `.txt`"
      ]
    },
    {
      "cell_type": "markdown",
      "metadata": {
        "id": "3s5VHdoapGfb"
      },
      "source": [
        "## Comando de búsqueda `grep`"
      ]
    },
    {
      "cell_type": "markdown",
      "metadata": {
        "id": "C75mtInzpGfb"
      },
      "source": [
        "`grep` es un comando de búsqueda muy potente, por eso le dedicamos un apartado a él solo. El comando `grep` utiliza las expresiones regulares, por lo que si quieres aprender de ellas te dejo un enlace a un [post](https://maximofn.com/expresiones-regulares) donde las explico"
      ]
    },
    {
      "cell_type": "markdown",
      "metadata": {
        "id": "aEE_qK4upGfb"
      },
      "source": [
        "Vamos a empezar a ver la potencia de este comando, vamos a buscar todas las veces que aparece el texto `MaximoFN` dentro del archivo `2021-02-11-Introduccion-a-Python.ipynb`"
      ]
    },
    {
      "cell_type": "code",
      "execution_count": null,
      "metadata": {
        "id": "KpPAu8ZypGfb"
      },
      "outputs": [],
      "source": [
        "terminal(\"cd /home/wallabot/Documentos/web/portafolio/posts/prueba\")"
      ]
    },
    {
      "cell_type": "code",
      "execution_count": null,
      "metadata": {
        "id": "awZPB_nHpGfb",
        "outputId": "bdb9a1e0-8cf6-4b33-de20-856125809f8a"
      },
      "outputs": [
        {
          "name": "stdout",
          "output_type": "stream",
          "text": [
            "        \"a = 'MaximoFN'\\n\",\n",
            "              \"'MaximoFN'\"\n",
            "        \"string = \\\"MaximoFN\\\"\\n\",\n",
            "              \"'MaximoFN'\"\n",
            "        \"string = 'MaximoFN'\\n\",\n",
            "              \"'MaximoFN'\"\n",
            "            \"Este es el blog de \\\"MaximoFN\\\"\\n\"\n",
            "        \"print(\\\"Este es el blog de \\\\\\\"MaximoFN\\\\\\\"\\\")\"\n",
            "            \"Este es el blog de 'MaximoFN'\\n\"\n",
            "        \"print('Este es el blog de \\\\'MaximoFN\\\\'')\"\n",
            "            \"Este es el blog de \\\\MaximoFN\\\\\\n\"\n",
            "        \"print('Este es el blog de \\\\\\\\MaximoFN\\\\\\\\')\"\n",
            "            \"MaximoFN\\n\"\n",
            "        \"print('Este es el blog de \\\\nMaximoFN')\"\n",
            "            \"Este es el blog de MaximoFN\\n\"\n",
            "        \"print('Esto no se imprimirá \\\\rEste es el blog de MaximoFN')\"\n",
            "            \"Este es el blog de \\tMaximoFN\\n\"\n",
            "        \"print('Este es el blog de \\\\tMaximoFN')\"\n",
            "            \"Este es el blog deMaximoFN\\n\"\n",
            "        \"print('Este es el blog de \\\\bMaximoFN')\"\n",
            "\t ...\n",
            "        \"funcion2_del_modulo('MaximoFN')\"\n",
            "            \"MaximoFN\\n\",\n",
            "        \"  print('MaximoFN')\\n\",\n",
            "        \"  variable = 'MaximoFN'\\n\",\n",
            "\n"
          ]
        }
      ],
      "source": [
        "terminal(\"grep MaximoFN 2021-02-11-Introduccion-a-Python.ipynb\", max_lines_output=20)"
      ]
    },
    {
      "cell_type": "markdown",
      "metadata": {
        "id": "LJTkomY2pGfb"
      },
      "source": [
        "Sin embargo, si hacemos la misma búsqueda para el texto `maximofn`"
      ]
    },
    {
      "cell_type": "code",
      "execution_count": null,
      "metadata": {
        "id": "ZnK7JBhppGfb"
      },
      "outputs": [],
      "source": [
        "!grep maximofn 2021-02-11-Introduccion-a-Python.ipynb"
      ]
    },
    {
      "cell_type": "markdown",
      "metadata": {
        "id": "hFf9OoeEpGfc"
      },
      "source": [
        "No aparece ningún resultado, esto es porque `grep` es `case sensitive`, es decir, busca el texto tal cual se lo has introducido, diferenciando mayúsculas y minúsculas. Si no queremos esto, tenemos que introducir el flag `-i`"
      ]
    },
    {
      "cell_type": "code",
      "execution_count": null,
      "metadata": {
        "id": "XVnAeZMHpGfc",
        "outputId": "ee580e87-51a1-4731-95a5-306d96c12658"
      },
      "outputs": [
        {
          "name": "stdout",
          "output_type": "stream",
          "text": [
            "        \"a = 'MaximoFN'\\n\",\n",
            "              \"'MaximoFN'\"\n",
            "        \"string = \\\"MaximoFN\\\"\\n\",\n",
            "              \"'MaximoFN'\"\n",
            "        \"string = 'MaximoFN'\\n\",\n",
            "              \"'MaximoFN'\"\n",
            "            \"Este es el blog de \\\"MaximoFN\\\"\\n\"\n",
            "        \"print(\\\"Este es el blog de \\\\\\\"MaximoFN\\\\\\\"\\\")\"\n",
            "            \"Este es el blog de 'MaximoFN'\\n\"\n",
            "        \"print('Este es el blog de \\\\'MaximoFN\\\\'')\"\n",
            "            \"Este es el blog de \\\\MaximoFN\\\\\\n\"\n",
            "        \"print('Este es el blog de \\\\\\\\MaximoFN\\\\\\\\')\"\n",
            "            \"MaximoFN\\n\"\n",
            "        \"print('Este es el blog de \\\\nMaximoFN')\"\n",
            "            \"Este es el blog de MaximoFN\\n\"\n",
            "        \"print('Esto no se imprimirá \\\\rEste es el blog de MaximoFN')\"\n",
            "            \"Este es el blog de \\tMaximoFN\\n\"\n",
            "        \"print('Este es el blog de \\\\tMaximoFN')\"\n",
            "            \"Este es el blog deMaximoFN\\n\"\n",
            "        \"print('Este es el blog de \\\\bMaximoFN')\"\n",
            "\t ...\n",
            "        \"funcion2_del_modulo('MaximoFN')\"\n",
            "            \"MaximoFN\\n\",\n",
            "        \"  print('MaximoFN')\\n\",\n",
            "        \"  variable = 'MaximoFN'\\n\",\n",
            "\n"
          ]
        }
      ],
      "source": [
        "terminal(\"grep -i MaximoFN 2021-02-11-Introduccion-a-Python.ipynb\", max_lines_output=20)"
      ]
    },
    {
      "cell_type": "markdown",
      "metadata": {
        "id": "nIAoH3CXpGfc"
      },
      "source": [
        "Si lo que queremos es que nos devuelva el número de veces que aparece, introducimos el flag `-c`"
      ]
    },
    {
      "cell_type": "code",
      "execution_count": null,
      "metadata": {
        "id": "70hEpLslpGfc",
        "outputId": "3c3b107a-c35d-4d05-b2ec-df2f69905012"
      },
      "outputs": [
        {
          "name": "stdout",
          "output_type": "stream",
          "text": [
            "105\n"
          ]
        }
      ],
      "source": [
        "!grep -c MaximoFN 2021-02-11-Introduccion-a-Python.ipynb"
      ]
    },
    {
      "cell_type": "markdown",
      "metadata": {
        "id": "nEL7Xnl4pGfc"
      },
      "source": [
        "Si nos da igual si aparece con mayúscula o minúscula, podemos volver a agregar el flag `-i`, pero no hace falta meterlo separado del flag `-c`, se pueden introducir juntos"
      ]
    },
    {
      "cell_type": "code",
      "execution_count": null,
      "metadata": {
        "id": "gWM0zDoDpGfc",
        "outputId": "09c33666-ac53-424b-eaf6-aa886bd18eb6"
      },
      "outputs": [
        {
          "name": "stdout",
          "output_type": "stream",
          "text": [
            "105\n"
          ]
        }
      ],
      "source": [
        "!grep -ci MaximoFN 2021-02-11-Introduccion-a-Python.ipynb"
      ]
    },
    {
      "cell_type": "markdown",
      "metadata": {
        "id": "YlXF6C5wpGfc"
      },
      "source": [
        "Si ahora queremos todas las veces en las que **no** aparece la palabra `MáximoFN` introducimos el flag `-v`"
      ]
    },
    {
      "cell_type": "code",
      "execution_count": null,
      "metadata": {
        "id": "4UzzphOspGfd",
        "outputId": "ec907954-2a35-4ef9-cda2-e0473226b4cb"
      },
      "outputs": [
        {
          "name": "stdout",
          "output_type": "stream",
          "text": [
            "11573\n"
          ]
        }
      ],
      "source": [
        "!grep -cv MaximoFN 2021-02-11-Introduccion-a-Python.ipynb"
      ]
    },
    {
      "cell_type": "markdown",
      "metadata": {
        "id": "nvttP0EUpGfd"
      },
      "source": [
        "## Utilidades de red"
      ]
    },
    {
      "cell_type": "markdown",
      "metadata": {
        "id": "4z_PAsJMpGfd"
      },
      "source": [
        "### Información de las interfaces de red con `ifconfig`"
      ]
    },
    {
      "cell_type": "markdown",
      "metadata": {
        "id": "e4omJZeZpGfd"
      },
      "source": [
        "El primer comando va a ser `ifconfig` que nos muestra información de nuestras interfaces de red."
      ]
    },
    {
      "cell_type": "code",
      "execution_count": null,
      "metadata": {
        "id": "crslNlH1pGfd",
        "outputId": "f46bd303-37a2-41ba-8526-a450924e48bf"
      },
      "outputs": [
        {
          "name": "stdout",
          "output_type": "stream",
          "text": [
            "br-470e52ae2708: flags=4099<UP,BROADCAST,MULTICAST>  mtu 1500\n",
            "        inet 172.18.0.1  netmask 255.255.0.0  broadcast 172.18.255.255\n",
            "        ether 02:42:ac:d0:b9:eb  txqueuelen 0  (Ethernet)\n",
            "        RX packets 0  bytes 0 (0.0 B)\n",
            "        RX errors 0  dropped 0  overruns 0  frame 0\n",
            "        TX packets 0  bytes 0 (0.0 B)\n",
            "        TX errors 0  dropped 0 overruns 0  carrier 0  collisions 0\n",
            "\n",
            "docker0: flags=4099<UP,BROADCAST,MULTICAST>  mtu 1500\n",
            "        inet 172.17.0.1  netmask 255.255.0.0  broadcast 172.17.255.255\n",
            "        ether 02:42:5d:15:1c:e9  txqueuelen 0  (Ethernet)\n",
            "        RX packets 0  bytes 0 (0.0 B)\n",
            "        RX errors 0  dropped 0  overruns 0  frame 0\n",
            "        TX packets 0  bytes 0 (0.0 B)\n",
            "        TX errors 0  dropped 0 overruns 0  carrier 0  collisions 0\n",
            "\n",
            "enp6s0: flags=4163<UP,BROADCAST,RUNNING,MULTICAST>  mtu 1500\n",
            "        inet 192.168.1.144  netmask 255.255.255.0  broadcast 192.168.1.255\n",
            "        inet6 fe80::7dc2:6944:3fbe:c18e  prefixlen 64  scopeid 0x20<link>\n",
            "        ether 24:4b:fe:5c:f6:59  txqueuelen 1000  (Ethernet)\n",
            "        RX packets 144369  bytes 123807349 (123.8 MB)\n",
            "        RX errors 0  dropped 2056  overruns 0  frame 0\n",
            "        TX packets 100672  bytes 55678042 (55.6 MB)\n",
            "        TX errors 0  dropped 0 overruns 0  carrier 0  collisions 0\n",
            "\n",
            "lo: flags=73<UP,LOOPBACK,RUNNING>  mtu 65536\n",
            "        inet 127.0.0.1  netmask 255.0.0.0\n",
            "        inet6 ::1  prefixlen 128  scopeid 0x10<host>\n",
            "        loop  txqueuelen 1000  (Bucle local)\n",
            "        RX packets 10748  bytes 1832545 (1.8 MB)\n",
            "        RX errors 0  dropped 0  overruns 0  frame 0\n",
            "        TX packets 10748  bytes 1832545 (1.8 MB)\n",
            "        TX errors 0  dropped 0 overruns 0  carrier 0  collisions 0\n",
            "\n",
            "wlp5s0: flags=4099<UP,BROADCAST,MULTICAST>  mtu 1500\n",
            "        ether 4c:77:cb:1d:66:cc  txqueuelen 1000  (Ethernet)\n",
            "        RX packets 0  bytes 0 (0.0 B)\n",
            "        RX errors 0  dropped 0  overruns 0  frame 0\n",
            "        TX packets 0  bytes 0 (0.0 B)\n",
            "        TX errors 0  dropped 0 overruns 0  carrier 0  collisions 0\n",
            "\n"
          ]
        }
      ],
      "source": [
        "!ifconfig"
      ]
    },
    {
      "cell_type": "markdown",
      "metadata": {
        "id": "dKh2GceupGfd"
      },
      "source": [
        "Como vemos tenemos la información de todas las interfaces de red de mi ordenador, pero si quiero saber solo la de una, se especifica añadiendo su nombre"
      ]
    },
    {
      "cell_type": "code",
      "execution_count": null,
      "metadata": {
        "id": "iZYpKw_ipGfd",
        "outputId": "b4960e29-a8d0-4ca4-a098-3fa8a2fd2f9b"
      },
      "outputs": [
        {
          "name": "stdout",
          "output_type": "stream",
          "text": [
            "enp6s0: flags=4163<UP,BROADCAST,RUNNING,MULTICAST>  mtu 1500\n",
            "        inet 192.168.1.144  netmask 255.255.255.0  broadcast 192.168.1.255\n",
            "        inet6 fe80::7dc2:6944:3fbe:c18e  prefixlen 64  scopeid 0x20<link>\n",
            "        ether 24:4b:fe:5c:f6:59  txqueuelen 1000  (Ethernet)\n",
            "        RX packets 144467  bytes 123842258 (123.8 MB)\n",
            "        RX errors 0  dropped 2060  overruns 0  frame 0\n",
            "        TX packets 100786  bytes 55749109 (55.7 MB)\n",
            "        TX errors 0  dropped 0 overruns 0  carrier 0  collisions 0\n",
            "\n"
          ]
        }
      ],
      "source": [
        "!ifconfig enp6s0"
      ]
    },
    {
      "cell_type": "markdown",
      "metadata": {
        "id": "ZzkDY7zGpGfe"
      },
      "source": [
        "### Información de las interfaces de red con `ip`"
      ]
    },
    {
      "cell_type": "markdown",
      "metadata": {
        "id": "dsqolVPupGfe"
      },
      "source": [
        "Otra manera de obtener la información de nuestras interfaces de red es mediante el comando `ip`, añadiendo `a` nos da la información de todas las interfaces"
      ]
    },
    {
      "cell_type": "code",
      "execution_count": null,
      "metadata": {
        "id": "vAvHKFuBpGfe",
        "outputId": "a67a3d00-e135-4146-9963-b4fca8c108f9"
      },
      "outputs": [
        {
          "name": "stdout",
          "output_type": "stream",
          "text": [
            "1: lo: <LOOPBACK,UP,LOWER_UP> mtu 65536 qdisc noqueue state UNKNOWN group default qlen 1000\n",
            "    link/loopback 00:00:00:00:00:00 brd 00:00:00:00:00:00\n",
            "    inet 127.0.0.1/8 scope host lo\n",
            "       valid_lft forever preferred_lft forever\n",
            "    inet6 ::1/128 scope host \n",
            "       valid_lft forever preferred_lft forever\n",
            "2: enp6s0: <BROADCAST,MULTICAST,UP,LOWER_UP> mtu 1500 qdisc fq_codel state UP group default qlen 1000\n",
            "    link/ether 24:4b:fe:5c:f6:59 brd ff:ff:ff:ff:ff:ff\n",
            "    inet 192.168.1.144/24 brd 192.168.1.255 scope global dynamic noprefixroute enp6s0\n",
            "       valid_lft 80218sec preferred_lft 80218sec\n",
            "    inet6 fe80::7dc2:6944:3fbe:c18e/64 scope link noprefixroute \n",
            "       valid_lft forever preferred_lft forever\n",
            "3: wlp5s0: <NO-CARRIER,BROADCAST,MULTICAST,UP> mtu 1500 qdisc noqueue state DOWN group default qlen 1000\n",
            "    link/ether 4c:77:cb:1d:66:cc brd ff:ff:ff:ff:ff:ff\n",
            "4: br-470e52ae2708: <NO-CARRIER,BROADCAST,MULTICAST,UP> mtu 1500 qdisc noqueue state DOWN group default \n",
            "    link/ether 02:42:ac:d0:b9:eb brd ff:ff:ff:ff:ff:ff\n",
            "    inet 172.18.0.1/16 brd 172.18.255.255 scope global br-470e52ae2708\n",
            "       valid_lft forever preferred_lft forever\n",
            "5: docker0: <NO-CARRIER,BROADCAST,MULTICAST,UP> mtu 1500 qdisc noqueue state DOWN group default \n",
            "    link/ether 02:42:5d:15:1c:e9 brd ff:ff:ff:ff:ff:ff\n",
            "    inet 172.17.0.1/16 brd 172.17.255.255 scope global docker0\n",
            "       valid_lft forever preferred_lft forever\n"
          ]
        }
      ],
      "source": [
        "!ip a"
      ]
    },
    {
      "cell_type": "markdown",
      "metadata": {
        "id": "ScSfEfENpGfe"
      },
      "source": [
        "### Test de comunicaciones con `ping`"
      ]
    },
    {
      "cell_type": "markdown",
      "metadata": {
        "id": "hqI0RQCDpGfe"
      },
      "source": [
        "Otro comando útil es `ping`, que nos puede servir para ver si tenemos conexión con una determinada `IP`. Por ejemplo, la `IP` de Google es `142.250.200.78`, por lo que le hacemos `ping` a ver si nos contesta. El comando `ping` en Linux hace `ping`s sin parar, por lo que nunca termina hasta que no lo paramos, para que no pase eso añadimos el flag `-c` y el número de intentos"
      ]
    },
    {
      "cell_type": "code",
      "execution_count": null,
      "metadata": {
        "id": "p1BzIyj5pGfe",
        "outputId": "d6ee42b6-7dac-4db7-e74c-7a079bd664ec"
      },
      "outputs": [
        {
          "name": "stdout",
          "output_type": "stream",
          "text": [
            "PING 142.250.200.132 (142.250.200.132) 56(84) bytes of data.\n",
            "64 bytes from 142.250.200.132: icmp_seq=1 ttl=117 time=3.46 ms\n",
            "64 bytes from 142.250.200.132: icmp_seq=2 ttl=117 time=3.77 ms\n",
            "64 bytes from 142.250.200.132: icmp_seq=3 ttl=117 time=2.81 ms\n",
            "64 bytes from 142.250.200.132: icmp_seq=4 ttl=117 time=2.86 ms\n",
            "\n",
            "--- 142.250.200.132 ping statistics ---\n",
            "4 packets transmitted, 4 received, 0% packet loss, time 3004ms\n",
            "rtt min/avg/max/mdev = 2.812/3.227/3.773/0.405 ms\n"
          ]
        }
      ],
      "source": [
        "!ping 142.250.200.132 -c 4"
      ]
    },
    {
      "cell_type": "markdown",
      "metadata": {
        "id": "mEXg-1Z9pGfe"
      },
      "source": [
        "Lo mismo hubiera pasado si lo hubiéramos hecho directamente sobre `google.com`"
      ]
    },
    {
      "cell_type": "code",
      "execution_count": null,
      "metadata": {
        "id": "sL22VEwnpGff",
        "outputId": "96bdbb65-0722-4db8-981d-1207f0b26e5f"
      },
      "outputs": [
        {
          "name": "stdout",
          "output_type": "stream",
          "text": [
            "PING www.google.com (142.250.200.132) 56(84) bytes of data.\n",
            "64 bytes from mad41s14-in-f4.1e100.net (142.250.200.132): icmp_seq=1 ttl=117 time=2.74 ms\n",
            "64 bytes from mad41s14-in-f4.1e100.net (142.250.200.132): icmp_seq=2 ttl=117 time=3.96 ms\n",
            "64 bytes from mad41s14-in-f4.1e100.net (142.250.200.132): icmp_seq=3 ttl=117 time=3.56 ms\n",
            "64 bytes from mad41s14-in-f4.1e100.net (142.250.200.132): icmp_seq=4 ttl=117 time=2.87 ms\n",
            "\n",
            "--- www.google.com ping statistics ---\n",
            "4 packets transmitted, 4 received, 0% packet loss, time 3003ms\n",
            "rtt min/avg/max/mdev = 2.741/3.283/3.962/0.499 ms\n"
          ]
        }
      ],
      "source": [
        "!ping www.google.com -c 4"
      ]
    },
    {
      "cell_type": "markdown",
      "metadata": {
        "id": "5GTewUqppGff"
      },
      "source": [
        "### Descargar archivos fuente con `curl`"
      ]
    },
    {
      "cell_type": "markdown",
      "metadata": {
        "id": "quB9ZqAlpGff"
      },
      "source": [
        "Podemos obtener un archivo de texto de una dirección dada mediante el comando `curl`, por ejemplo, nos podemos descargar el html de Google"
      ]
    },
    {
      "cell_type": "code",
      "execution_count": null,
      "metadata": {
        "id": "xAHgOZEIpGff",
        "outputId": "0d5f1ee8-f7cf-40b3-c645-363abc32e0db"
      },
      "outputs": [
        {
          "name": "stdout",
          "output_type": "stream",
          "text": [
            "<!doctype html><html itemscope=\"\" itemtype=\"http://schema.org/WebPage\" lang=\"es\"><head><meta content=\"Google.es permite acceder a la informaci�n mundial en castellano, catal�n, gallego, euskara e ingl�s.\" name=\"description\"><meta content=\"noodp\" name=\"robots\"><meta content=\"text/html; charset=UTF-8\" http-equiv=\"Content-Type\"><meta content=\"/images/branding/googleg/1x/googleg_standard_color_128dp.png\" itemprop=\"image\"><title>Google</title><script nonce=\"zXcc4tMJWBRoE7q_o_Z2fQ\">(function(){window.google={kEI:'M5GOY6PeLr-jkdUP1pir0AE',kEXPI:'0,1359409,6059,206,4804,2316,383,246,5,5367,1123753,1197713,688,380089,16115,28684,22430,1362,12312,17587,4998,13228,3847,10622,22741,5081,1593,1279,2742,149,1103,840,1983,214,4100,3514,606,2023,2297,14670,3227,2845,7,4773,28997,1850,15757,3,346,230,6459,149,13975,4,1528,2304,7039,27731,7357,13658,4437,16786,5815,2542,4094,4052,3,3541,1,14262,27892,2,14022,6248,19490,5680,1021,2380,28741,4569,6255,23421,1252,5835,14967,4333,7484,11406,15676,8155,7381,15970,873,14804,1,4828,7,1922,5784,12208,10330,587,12192,4832,26504,5796,3,14433,3890,751,13384,1499,3,679,1622,1779,1886,338,1627,1119,6,8909,80,243,458,3438,1763,722,1020,813,91,1133,10,280,2306,44,77,1420,3,562,402,314,275,2095,440,399,138,384,1033,334,2667,2,723,444,79,403,501,929,3,785,2,240,78,2022,284,196,732,175,342,244,617,335,1,841,1275,14,979,57,857,446,2,1900,838,251,227,50,21,8,3,442,57,40,936,697,773,95,121,643,1502,163,355,702,195,1,452,50,334,687,109,1,19,109,134,546,80,5,36,124,68,135,131,415,47,27,266,563,48,231,742,15,527,2,6,495,1,495,5,62,1627,441,262,5,3,648,3,6,4,13,39,538,792,337,9,115,98,180,148,308,401,1240,2,726,243,2044,5286450,84,19,32,115,11,70,5995534,2803414,3311,141,795,19735,1,1,346,1755,1004,41,342,1,189,14,1,10,8,1,5,4,2,1,3,2,2,1,3,1,3,1,4,3,1,3,2,2,23947076,511,21,11,4041599,1964,1007,2087,13579,3102,303,5595,11,3835,3637,2623,9,136,1524825',kBL:'p9Xv'};google.sn='webhp';google.kHL='es';})();(function(){\n",
            "var f=this||self;var h,k=[];function l(a){for(var b;a&&(!a.getAttribute||!(b=a.getAttribute(\"eid\")));)a=a.parentNode;return b||h}function m(a){for(var b=null;a&&(!a.getAttribute||!(b=a.getAttribute(\"leid\")));)a=a.parentNode;return b}\n",
            "function n(a,b,c,d,g){var e=\"\";c||-1!==b.search(\"&ei=\")||(e=\"&ei=\"+l(d),-1===b.search(\"&lei=\")&&(d=m(d))&&(e+=\"&lei=\"+d));d=\"\";!c&&f._cshid&&-1===b.search(\"&cshid=\")&&\"slh\"!==a&&(d=\"&cshid=\"+f._cshid);c=c||\"/\"+(g||\"gen_204\")+\"?atyp=i&ct=\"+a+\"&cad=\"+b+e+\"&zx=\"+Date.now()+d;/^http:/i.test(c)&&\"https:\"===window.location.protocol&&(google.ml&&google.ml(Error(\"a\"),!1,{src:c,glmm:1}),c=\"\");return c};h=google.kEI;google.getEI=l;google.getLEI=m;google.ml=function(){return null};google.log=function(a,b,c,d,g){if(c=n(a,b,c,d,g)){a=new Image;var e=k.length;k[e]=a;a.onerror=a.onload=a.onabort=function(){delete k[e]};a.src=c}};google.logUrl=n;}).call(this);(function(){google.y={};google.sy=[];google.x=function(a,b){if(a)var c=a.id;else{do c=Math.random();while(google.y[c])}google.y[c]=[a,b];return!1};google.sx=function(a){google.sy.push(a)};google.lm=[];google.plm=function(a){google.lm.push.apply(google.lm,a)};google.lq=[];google.load=function(a,b,c){google.lq.push([[a],b,c])};google.loadAll=function(a,b){google.lq.push([a,b])};google.bx=!1;google.lx=function(){};}).call(this);google.f={};(function(){\n",
            "document.documentElement.addEventListener(\"submit\",function(b){var a;if(a=b.target){var c=a.getAttribute(\"data-submitfalse\");a=\"1\"===c||\"q\"===c&&!a.elements.q.value?!0:!1}else a=!1;a&&(b.preventDefault(),b.stopPropagation())},!0);document.documentElement.addEventListener(\"click\",function(b){var a;a:{for(a=b.target;a&&a!==document.documentElement;a=a.parentElement)if(\"A\"===a.tagName){a=\"1\"===a.getAttribute(\"data-nohref\");break a}a=!1}a&&b.preventDefault()},!0);}).call(this);</script><style>#gbar,#guser{font-size:13px;padding-top:1px !important;}#gbar{height:22px}#guser{padding-bottom:7px !important;text-align:right}.gbh,.gbd{border-top:1px solid #c9d7f1;font-size:1px}.gbh{height:0;position:absolute;top:24px;width:100%}@media all{.gb1{height:22px;margin-right:.5em;vertical-align:top}#gbar{float:left}}a.gb1,a.gb4{text-decoration:underline !important}a.gb1,a.gb4{color:#00c !important}.gbi .gb4{color:#dd8e27 !important}.gbf .gb4{color:#900 !important}\n",
            "</style><style>body,td,a,p,.h{font-family:arial,sans-serif}body{margin:0;overflow-y:scroll}#gog{padding:3px 8px 0}td{line-height:.8em}.gac_m td{line-height:17px}form{margin-bottom:20px}.h{color:#1558d6}em{font-weight:bold;font-style:normal}.lst{height:25px;width:496px}.gsfi,.lst{font:18px arial,sans-serif}.gsfs{font:17px arial,sans-serif}.ds{display:inline-box;display:inline-block;margin:3px 0 4px;margin-left:4px}input{font-family:inherit}body{background:#fff;color:#000}a{color:#4b11a8;text-decoration:none}a:hover,a:active{text-decoration:underline}.fl a{color:#1558d6}a:visited{color:#4b11a8}.sblc{padding-top:5px}.sblc a{display:block;margin:2px 0;margin-left:13px;font-size:11px}.lsbb{background:#f8f9fa;border:solid 1px;border-color:#dadce0 #70757a #70757a #dadce0;height:30px}.lsbb{display:block}#WqQANb a{display:inline-block;margin:0 12px}.lsb{background:url(/images/nav_logo229.png) 0 -261px repeat-x;border:none;color:#000;cursor:pointer;height:30px;margin:0;outline:0;font:15px arial,sans-serif;vertical-align:top}.lsb:active{background:#dadce0}.lst:focus{outline:none}</style><script nonce=\"zXcc4tMJWBRoE7q_o_Z2fQ\">(function(){window.google.erd={jsr:1,bv:1698,de:true};\n",
            "var h=this||self;var k,l=null!=(k=h.mei)?k:1,n,p=null!=(n=h.sdo)?n:!0,q=0,r,t=google.erd,v=t.jsr;google.ml=function(a,b,d,m,e){e=void 0===e?2:e;b&&(r=a&&a.message);if(google.dl)return google.dl(a,e,d),null;if(0>v){window.console&&console.error(a,d);if(-2===v)throw a;b=!1}else b=!a||!a.message||\"Error loading script\"===a.message||q>=l&&!m?!1:!0;if(!b)return null;q++;d=d||{};b=encodeURIComponent;var c=\"/gen_204?atyp=i&ei=\"+b(google.kEI);google.kEXPI&&(c+=\"&jexpid=\"+b(google.kEXPI));c+=\"&srcpg=\"+b(google.sn)+\"&jsr=\"+b(t.jsr)+\"&bver=\"+b(t.bv);var f=a.lineNumber;void 0!==f&&(c+=\"&line=\"+f);var g=\n",
            "a.fileName;g&&(0<g.indexOf(\"-extension:/\")&&(e=3),c+=\"&script=\"+b(g),f&&g===window.location.href&&(f=document.documentElement.outerHTML.split(\"\\n\")[f],c+=\"&cad=\"+b(f?f.substring(0,300):\"No script found.\")));c+=\"&jsel=\"+e;for(var u in d)c+=\"&\",c+=b(u),c+=\"=\",c+=b(d[u]);c=c+\"&emsg=\"+b(a.name+\": \"+a.message);c=c+\"&jsst=\"+b(a.stack||\"N/A\");12288<=c.length&&(c=c.substr(0,12288));a=c;m||google.log(0,\"\",a);return a};window.onerror=function(a,b,d,m,e){r!==a&&(a=e instanceof Error?e:Error(a),void 0===d||\"lineNumber\"in a||(a.lineNumber=d),void 0===b||\"fileName\"in a||(a.fileName=b),google.ml(a,!1,void 0,!1,\"SyntaxError\"===a.name||\"SyntaxError\"===a.message.substring(0,11)||-1!==a.message.indexOf(\"Script error\")?3:0));r=null;p&&q>=l&&(window.onerror=null)};})();</script></head><body bgcolor=\"#fff\"><script nonce=\"zXcc4tMJWBRoE7q_o_Z2fQ\">(function(){var src='/images/nav_logo229.png';var iesg=false;document.body.onload = function(){window.n && window.n();if (document.images){new Image().src=src;}\n",
            "if (!iesg){document.f&&document.f.q.focus();document.gbqf&&document.gbqf.q.focus();}\n",
            "}\n",
            "})();</script><div id=\"mngb\"><div id=gbar><nobr><b class=gb1>B�squeda</b> <a class=gb1 href=\"https://www.google.es/imghp?hl=es&tab=wi\">Im�genes</a> <a class=gb1 href=\"https://maps.google.es/maps?hl=es&tab=wl\">Maps</a> <a class=gb1 href=\"https://play.google.com/?hl=es&tab=w8\">Play</a> <a class=gb1 href=\"https://www.youtube.com/?tab=w1\">YouTube</a> <a class=gb1 href=\"https://news.google.com/?tab=wn\">Noticias</a> <a class=gb1 href=\"https://mail.google.com/mail/?tab=wm\">Gmail</a> <a class=gb1 href=\"https://drive.google.com/?tab=wo\">Drive</a> <a class=gb1 style=\"text-decoration:none\" href=\"https://www.google.es/intl/es/about/products?tab=wh\"><u>M�s</u> &raquo;</a></nobr></div><div id=guser width=100%><nobr><span id=gbn class=gbi></span><span id=gbf class=gbf></span><span id=gbe></span><a href=\"http://www.google.es/history/optout?hl=es\" class=gb4>Historial web</a> | <a  href=\"/preferences?hl=es\" class=gb4>Ajustes</a> | <a target=_top id=gb_70 href=\"https://accounts.google.com/ServiceLogin?hl=es&passive=true&continue=https://www.google.com/&ec=GAZAAQ\" class=gb4>Iniciar sesi�n</a></nobr></div><div class=gbh style=left:0></div><div class=gbh style=right:0></div></div><center><br clear=\"all\" id=\"lgpd\"><div id=\"lga\"><img alt=\"Google\" height=\"92\" src=\"/images/branding/googlelogo/1x/googlelogo_white_background_color_272x92dp.png\" style=\"padding:28px 0 14px\" width=\"272\" id=\"hplogo\"><br><br></div><form action=\"/search\" name=\"f\"><table cellpadding=\"0\" cellspacing=\"0\"><tr valign=\"top\"><td width=\"25%\">&nbsp;</td><td align=\"center\" nowrap=\"\"><input name=\"ie\" value=\"ISO-8859-1\" type=\"hidden\"><input value=\"es\" name=\"hl\" type=\"hidden\"><input name=\"source\" type=\"hidden\" value=\"hp\"><input name=\"biw\" type=\"hidden\"><input name=\"bih\" type=\"hidden\"><div class=\"ds\" style=\"height:32px;margin:4px 0\"><input class=\"lst\" style=\"margin:0;padding:5px 8px 0 6px;vertical-align:top;color:#000\" autocomplete=\"off\" value=\"\" title=\"Buscar con Google\" maxlength=\"2048\" name=\"q\" size=\"57\"></div><br style=\"line-height:0\"><span class=\"ds\"><span class=\"lsbb\"><input class=\"lsb\" value=\"Buscar con Google\" name=\"btnG\" type=\"submit\"></span></span><span class=\"ds\"><span class=\"lsbb\"><input class=\"lsb\" id=\"tsuid_1\" value=\"Voy a tener suerte\" name=\"btnI\" type=\"submit\"><script nonce=\"zXcc4tMJWBRoE7q_o_Z2fQ\">(function(){var id='tsuid_1';document.getElementById(id).onclick = function(){if (this.form.q.value){this.checked = 1;if (this.form.iflsig)this.form.iflsig.disabled = false;}\n",
            "else top.location='/doodles/';};})();</script><input value=\"AJiK0e8AAAAAY46fQwdyVrbrgW6gkEtVkGfp2nyO0ZXL\" name=\"iflsig\" type=\"hidden\"></span></span></td><td class=\"fl sblc\" align=\"left\" nowrap=\"\" width=\"25%\"><a href=\"/advanced_search?hl=es&amp;authuser=0\">B�squeda avanzada</a></td></tr></table><input id=\"gbv\" name=\"gbv\" type=\"hidden\" value=\"1\"><script nonce=\"zXcc4tMJWBRoE7q_o_Z2fQ\">(function(){var a,b=\"1\";if(document&&document.getElementById)if(\"undefined\"!=typeof XMLHttpRequest)b=\"2\";else if(\"undefined\"!=typeof ActiveXObject){var c,d,e=[\"MSXML2.XMLHTTP.6.0\",\"MSXML2.XMLHTTP.3.0\",\"MSXML2.XMLHTTP\",\"Microsoft.XMLHTTP\"];for(c=0;d=e[c++];)try{new ActiveXObject(d),b=\"2\"}catch(h){}}a=b;if(\"2\"==a&&-1==location.search.indexOf(\"&gbv=2\")){var f=google.gbvu,g=document.getElementById(\"gbv\");g&&(g.value=a);f&&window.setTimeout(function(){location.href=f},0)};}).call(this);</script></form><div id=\"gac_scont\"></div><div style=\"font-size:83%;min-height:3.5em\"><br><div id=\"gws-output-pages-elements-homepage_additional_languages__als\"><style>#gws-output-pages-elements-homepage_additional_languages__als{font-size:small;margin-bottom:24px}#SIvCob{color:#3c4043;display:inline-block;line-height:28px;}#SIvCob a{padding:0 3px;}.H6sW5{display:inline-block;margin:0 2px;white-space:nowrap}.z4hgWe{display:inline-block;margin:0 2px}</style><div id=\"SIvCob\">Ofrecido por Google en:  <a href=\"https://www.google.com/setprefs?sig=0_vwUKUD2Xhro4NnrueK1hCfItt30%3D&amp;hl=ca&amp;source=homepage&amp;sa=X&amp;ved=0ahUKEwjjw_C44uP7AhW_UaQEHVbMChoQ2ZgBCAU\">catal�</a>    <a href=\"https://www.google.com/setprefs?sig=0_vwUKUD2Xhro4NnrueK1hCfItt30%3D&amp;hl=gl&amp;source=homepage&amp;sa=X&amp;ved=0ahUKEwjjw_C44uP7AhW_UaQEHVbMChoQ2ZgBCAY\">galego</a>    <a href=\"https://www.google.com/setprefs?sig=0_vwUKUD2Xhro4NnrueK1hCfItt30%3D&amp;hl=eu&amp;source=homepage&amp;sa=X&amp;ved=0ahUKEwjjw_C44uP7AhW_UaQEHVbMChoQ2ZgBCAc\">euskara</a>  </div></div></div><span id=\"footer\"><div style=\"font-size:10pt\"><div style=\"margin:19px auto;text-align:center\" id=\"WqQANb\"><a href=\"http://www.google.es/intl/es/services/\">Soluciones Empresariales</a><a href=\"/intl/es/about.html\">Todo acerca de Google</a><a href=\"https://www.google.com/setprefdomain?prefdom=ES&amp;prev=https://www.google.es/&amp;sig=K_a2UXepORMQOw5-SHU8h4noB_VWk%3D\">Google.es</a></div></div><p style=\"font-size:8pt;color:#70757a\">&copy; 2022 - <a href=\"/intl/es/policies/privacy/\">Privacidad</a> - <a href=\"/intl/es/policies/terms/\">T�rminos</a></p></span></center><script nonce=\"zXcc4tMJWBRoE7q_o_Z2fQ\">(function(){window.google.cdo={height:757,width:1440};(function(){var a=window.innerWidth,b=window.innerHeight;if(!a||!b){var c=window.document,d=\"CSS1Compat\"==c.compatMode?c.documentElement:c.body;a=d.clientWidth;b=d.clientHeight}a&&b&&(a!=google.cdo.width||b!=google.cdo.height)&&google.log(\"\",\"\",\"/client_204?&atyp=i&biw=\"+a+\"&bih=\"+b+\"&ei=\"+google.kEI);}).call(this);})();</script> <script nonce=\"zXcc4tMJWBRoE7q_o_Z2fQ\">(function(){google.xjs={ck:'xjs.hp.oxai9SxkIQY.L.X.O',cs:'ACT90oEGh-_ImDfBjn6aD_ABGaOlD2MqVw',excm:[]};})();</script>  <script nonce=\"zXcc4tMJWBRoE7q_o_Z2fQ\">(function(){var u='/xjs/_/js/k\\x3dxjs.hp.en.9b-uVUIpJU8.O/am\\x3dAADoBABQAGAB/d\\x3d1/ed\\x3d1/rs\\x3dACT90oG-6KYVksw4jxVvNcwan406xE6qVw/m\\x3dsb_he,d';var amd=0;\n",
            "var d=this||self,e=function(a){return a};var g;var l=function(a,b){this.g=b===h?a:\"\"};l.prototype.toString=function(){return this.g+\"\"};var h={};\n",
            "function m(){var a=u;google.lx=function(){p(a);google.lx=function(){}};google.bx||google.lx()}\n",
            "function p(a){google.timers&&google.timers.load&&google.tick&&google.tick(\"load\",\"xjsls\");var b=document;var c=\"SCRIPT\";\"application/xhtml+xml\"===b.contentType&&(c=c.toLowerCase());c=b.createElement(c);if(void 0===g){b=null;var k=d.trustedTypes;if(k&&k.createPolicy){try{b=k.createPolicy(\"goog#html\",{createHTML:e,createScript:e,createScriptURL:e})}catch(q){d.console&&d.console.error(q.message)}g=b}else g=b}a=(b=g)?b.createScriptURL(a):a;a=new l(a,h);c.src=a instanceof l&&a.constructor===l?a.g:\"type_error:TrustedResourceUrl\";var f,n;(f=(a=null==(n=(f=(c.ownerDocument&&c.ownerDocument.defaultView||window).document).querySelector)?void 0:n.call(f,\"script[nonce]\"))?a.nonce||a.getAttribute(\"nonce\")||\"\":\"\")&&c.setAttribute(\"nonce\",f);document.body.appendChild(c);google.psa=!0};google.xjsu=u;setTimeout(function(){0<amd?google.caft(function(){return m()},amd):m()},0);})();function _DumpException(e){throw e;}\n",
            "function _F_installCss(c){}\n",
            "(function(){google.jl={blt:'none',chnk:0,dw:false,dwu:true,emtn:0,end:0,ico:false,ikb:0,ine:false,injs:'none',injt:0,injth:0,injv2:false,lls:'default',pdt:0,rep:0,snet:true,strt:0,ubm:false,uwp:true};})();(function(){var pmc='{\\x22d\\x22:{},\\x22sb_he\\x22:{\\x22agen\\x22:true,\\x22cgen\\x22:true,\\x22client\\x22:\\x22heirloom-hp\\x22,\\x22dh\\x22:true,\\x22ds\\x22:\\x22\\x22,\\x22fl\\x22:true,\\x22host\\x22:\\x22google.com\\x22,\\x22jsonp\\x22:true,\\x22lm\\x22:true,\\x22msgs\\x22:{\\x22cibl\\x22:\\x22Borrar b�squeda\\x22,\\x22dym\\x22:\\x22Quiz�s quisiste decir:\\x22,\\x22lcky\\x22:\\x22Voy a tener suerte\\x22,\\x22lml\\x22:\\x22M�s informaci�n\\x22,\\x22psrc\\x22:\\x22Esta b�squeda se ha eliminado de tu \\\\u003Ca href\\x3d\\\\\\x22/history\\\\\\x22\\\\u003Ehistorial web\\\\u003C/a\\\\u003E.\\x22,\\x22psrl\\x22:\\x22Eliminar\\x22,\\x22sbit\\x22:\\x22Buscar por imagen\\x22,\\x22srch\\x22:\\x22Buscar con Google\\x22},\\x22ovr\\x22:{},\\x22pq\\x22:\\x22\\x22,\\x22rfs\\x22:[],\\x22sbas\\x22:\\x220 3px 8px 0 rgba(0,0,0,0.2),0 0 0 1px rgba(0,0,0,0.08)\\x22,\\x22stok\\x22:\\x22gh8wSanWNWQy8f-PH0wGTjDkvYQ\\x22}}';google.pmc=JSON.parse(pmc);})();</script>        </body></html>"
          ]
        }
      ],
      "source": [
        "!curl https://www.google.com"
      ]
    },
    {
      "cell_type": "markdown",
      "metadata": {
        "id": "NSJZ6GVSpGff"
      },
      "source": [
        "También podemos hacer un pipeline para guardarlo en un archivo"
      ]
    },
    {
      "cell_type": "code",
      "execution_count": null,
      "metadata": {
        "id": "wZksAUs8pGff",
        "outputId": "70969ec6-4e3a-4a70-8233-8032cd18f72b"
      },
      "outputs": [
        {
          "name": "stdout",
          "output_type": "stream",
          "text": [
            "  % Total    % Received % Xferd  Average Speed   Time    Time     Time  Current\n",
            "                                 Dload  Upload   Total   Spent    Left  Speed\n",
            "100 15168    0 15168    0     0   135k      0 --:--:-- --:--:-- --:--:--  137k\n"
          ]
        }
      ],
      "source": [
        "!curl https://www.google.com > google.html"
      ]
    },
    {
      "cell_type": "markdown",
      "metadata": {
        "id": "-aqAchgkpGfg"
      },
      "source": [
        "Ahora podemos ver si se ha guardado bien"
      ]
    },
    {
      "cell_type": "code",
      "execution_count": null,
      "metadata": {
        "id": "BbbDyTcrpGfg",
        "outputId": "9cca9f77-18a8-4520-e515-d3c2c187f93d"
      },
      "outputs": [
        {
          "name": "stdout",
          "output_type": "stream",
          "text": [
            "<!doctype html><html itemscope=\"\" itemtype=\"http://schema.org/WebPage\" lang=\"es\"><head><meta content=\"Google.es permite acceder a la informaci�n mundial en castellano, catal�n, gallego, euskara e ingl�s.\" name=\"description\"><meta content=\"noodp\" name=\"robots\"><meta content=\"text/html; charset=UTF-8\" http-equiv=\"Content-Type\"><meta content=\"/images/branding/googleg/1x/googleg_standard_color_128dp.png\" itemprop=\"image\"><title>Google</title><script nonce=\"Jo7WFU6XWWwu6NrdwaRyIw\">(function(){window.google={kEI:'R5GOY-LZHLegkdUP_IqzoAE',kEXPI:'0,1359409,6059,206,4804,2316,383,246,5,5367,1123753,1197777,380713,16115,28684,22430,1362,283,12036,17580,4998,13228,516,3331,10622,22741,5081,1593,1279,2742,149,1103,840,1983,4,210,4100,3514,606,2023,2299,14668,3229,2843,7,4773,826,23475,4696,1851,15756,3,346,230,6459,149,13975,4,1528,2304,7039,20309,7422,7357,13658,4437,16786,5812,2545,4094,4052,3,3541,1,11943,30211,2,8984,1,5037,6249,19490,5679,1020,2378,28745,4568,6258,23418,1252,5835,14967,4333,4239,3245,27082,239,7916,7381,15969,874,19633,6,1923,5784,3995,21779,1120,8423,4832,26080,423,107,5690,3,14433,3890,751,14879,3,683,217,1405,1779,1854,31,1966,1119,6,8909,323,5659,1741,814,1224,10,280,2346,82,1419,3,565,401,519,68,970,1125,440,398,156,367,1034,333,3392,526,396,3,1431,3,785,2,312,2312,196,907,342,244,618,314,1,293,568,171,1104,14,89,891,56,857,306,14,509,154,246,1110,219,628,249,229,49,8,8,3,55,4,399,55,39,1072,49,43,2,468,782,83,123,641,1502,166,350,707,195,5,140,358,329,692,109,1,20,108,134,547,67,5,49,93,31,77,124,79,355,160,27,829,236,764,12,35,118,98,803,1,65,436,5,5,54,2065,262,5,3,647,3,8,2,14,39,65,380,80,14,790,346,115,99,1323,4,711,242,2,723,2286,5280608,12,5934,147,81,8798948,3311,141,795,19735,1,1,346,1755,1004,41,342,1,189,14,9,4,6,3,3,4,1,2,2,3,2,2,2,1,2,5,2,2,1,2,2,2,23947077,512,18,13,2737921,1303678,1964,3094,13579,3405,5595,11,3835,1923,3208,1069,1480676,40778',kBL:'p9Xv'};google.sn='webhp';google.kHL='es';})();(function(){\n",
            "var f=this||self;var h,k=[];function l(a){for(var b;a&&(!a.getAttribute||!(b=a.getAttribute(\"eid\")));)a=a.parentNode;return b||h}function m(a){for(var b=null;a&&(!a.getAttribute||!(b=a.getAttribute(\"leid\")));)a=a.parentNode;return b}\n",
            "function n(a,b,c,d,g){var e=\"\";c||-1!==b.search(\"&ei=\")||(e=\"&ei=\"+l(d),-1===b.search(\"&lei=\")&&(d=m(d))&&(e+=\"&lei=\"+d));d=\"\";!c&&f._cshid&&-1===b.search(\"&cshid=\")&&\"slh\"!==a&&(d=\"&cshid=\"+f._cshid);c=c||\"/\"+(g||\"gen_204\")+\"?atyp=i&ct=\"+a+\"&cad=\"+b+e+\"&zx=\"+Date.now()+d;/^http:/i.test(c)&&\"https:\"===window.location.protocol&&(google.ml&&google.ml(Error(\"a\"),!1,{src:c,glmm:1}),c=\"\");return c};h=google.kEI;google.getEI=l;google.getLEI=m;google.ml=function(){return null};google.log=function(a,b,c,d,g){if(c=n(a,b,c,d,g)){a=new Image;var e=k.length;k[e]=a;a.onerror=a.onload=a.onabort=function(){delete k[e]};a.src=c}};google.logUrl=n;}).call(this);(function(){google.y={};google.sy=[];google.x=function(a,b){if(a)var c=a.id;else{do c=Math.random();while(google.y[c])}google.y[c]=[a,b];return!1};google.sx=function(a){google.sy.push(a)};google.lm=[];google.plm=function(a){google.lm.push.apply(google.lm,a)};google.lq=[];google.load=function(a,b,c){google.lq.push([[a],b,c])};google.loadAll=function(a,b){google.lq.push([a,b])};google.bx=!1;google.lx=function(){};}).call(this);google.f={};(function(){\n",
            "document.documentElement.addEventListener(\"submit\",function(b){var a;if(a=b.target){var c=a.getAttribute(\"data-submitfalse\");a=\"1\"===c||\"q\"===c&&!a.elements.q.value?!0:!1}else a=!1;a&&(b.preventDefault(),b.stopPropagation())},!0);document.documentElement.addEventListener(\"click\",function(b){var a;a:{for(a=b.target;a&&a!==document.documentElement;a=a.parentElement)if(\"A\"===a.tagName){a=\"1\"===a.getAttribute(\"data-nohref\");break a}a=!1}a&&b.preventDefault()},!0);}).call(this);</script><style>#gbar,#guser{font-size:13px;padding-top:1px !important;}#gbar{height:22px}#guser{padding-bottom:7px !important;text-align:right}.gbh,.gbd{border-top:1px solid #c9d7f1;font-size:1px}.gbh{height:0;position:absolute;top:24px;width:100%}@media all{.gb1{height:22px;margin-right:.5em;vertical-align:top}#gbar{float:left}}a.gb1,a.gb4{text-decoration:underline !important}a.gb1,a.gb4{color:#00c !important}.gbi .gb4{color:#dd8e27 !important}.gbf .gb4{color:#900 !important}\n",
            "</style><style>body,td,a,p,.h{font-family:arial,sans-serif}body{margin:0;overflow-y:scroll}#gog{padding:3px 8px 0}td{line-height:.8em}.gac_m td{line-height:17px}form{margin-bottom:20px}.h{color:#1558d6}em{font-weight:bold;font-style:normal}.lst{height:25px;width:496px}.gsfi,.lst{font:18px arial,sans-serif}.gsfs{font:17px arial,sans-serif}.ds{display:inline-box;display:inline-block;margin:3px 0 4px;margin-left:4px}input{font-family:inherit}body{background:#fff;color:#000}a{color:#4b11a8;text-decoration:none}a:hover,a:active{text-decoration:underline}.fl a{color:#1558d6}a:visited{color:#4b11a8}.sblc{padding-top:5px}.sblc a{display:block;margin:2px 0;margin-left:13px;font-size:11px}.lsbb{background:#f8f9fa;border:solid 1px;border-color:#dadce0 #70757a #70757a #dadce0;height:30px}.lsbb{display:block}#WqQANb a{display:inline-block;margin:0 12px}.lsb{background:url(/images/nav_logo229.png) 0 -261px repeat-x;border:none;color:#000;cursor:pointer;height:30px;margin:0;outline:0;font:15px arial,sans-serif;vertical-align:top}.lsb:active{background:#dadce0}.lst:focus{outline:none}</style><script nonce=\"Jo7WFU6XWWwu6NrdwaRyIw\">(function(){window.google.erd={jsr:1,bv:1698,de:true};\n",
            "var h=this||self;var k,l=null!=(k=h.mei)?k:1,n,p=null!=(n=h.sdo)?n:!0,q=0,r,t=google.erd,v=t.jsr;google.ml=function(a,b,d,m,e){e=void 0===e?2:e;b&&(r=a&&a.message);if(google.dl)return google.dl(a,e,d),null;if(0>v){window.console&&console.error(a,d);if(-2===v)throw a;b=!1}else b=!a||!a.message||\"Error loading script\"===a.message||q>=l&&!m?!1:!0;if(!b)return null;q++;d=d||{};b=encodeURIComponent;var c=\"/gen_204?atyp=i&ei=\"+b(google.kEI);google.kEXPI&&(c+=\"&jexpid=\"+b(google.kEXPI));c+=\"&srcpg=\"+b(google.sn)+\"&jsr=\"+b(t.jsr)+\"&bver=\"+b(t.bv);var f=a.lineNumber;void 0!==f&&(c+=\"&line=\"+f);var g=\n",
            "a.fileName;g&&(0<g.indexOf(\"-extension:/\")&&(e=3),c+=\"&script=\"+b(g),f&&g===window.location.href&&(f=document.documentElement.outerHTML.split(\"\\n\")[f],c+=\"&cad=\"+b(f?f.substring(0,300):\"No script found.\")));c+=\"&jsel=\"+e;for(var u in d)c+=\"&\",c+=b(u),c+=\"=\",c+=b(d[u]);c=c+\"&emsg=\"+b(a.name+\": \"+a.message);c=c+\"&jsst=\"+b(a.stack||\"N/A\");12288<=c.length&&(c=c.substr(0,12288));a=c;m||google.log(0,\"\",a);return a};window.onerror=function(a,b,d,m,e){r!==a&&(a=e instanceof Error?e:Error(a),void 0===d||\"lineNumber\"in a||(a.lineNumber=d),void 0===b||\"fileName\"in a||(a.fileName=b),google.ml(a,!1,void 0,!1,\"SyntaxError\"===a.name||\"SyntaxError\"===a.message.substring(0,11)||-1!==a.message.indexOf(\"Script error\")?3:0));r=null;p&&q>=l&&(window.onerror=null)};})();</script></head><body bgcolor=\"#fff\"><script nonce=\"Jo7WFU6XWWwu6NrdwaRyIw\">(function(){var src='/images/nav_logo229.png';var iesg=false;document.body.onload = function(){window.n && window.n();if (document.images){new Image().src=src;}\n",
            "if (!iesg){document.f&&document.f.q.focus();document.gbqf&&document.gbqf.q.focus();}\n",
            "}\n",
            "})();</script><div id=\"mngb\"><div id=gbar><nobr><b class=gb1>B�squeda</b> <a class=gb1 href=\"https://www.google.es/imghp?hl=es&tab=wi\">Im�genes</a> <a class=gb1 href=\"https://maps.google.es/maps?hl=es&tab=wl\">Maps</a> <a class=gb1 href=\"https://play.google.com/?hl=es&tab=w8\">Play</a> <a class=gb1 href=\"https://www.youtube.com/?tab=w1\">YouTube</a> <a class=gb1 href=\"https://news.google.com/?tab=wn\">Noticias</a> <a class=gb1 href=\"https://mail.google.com/mail/?tab=wm\">Gmail</a> <a class=gb1 href=\"https://drive.google.com/?tab=wo\">Drive</a> <a class=gb1 style=\"text-decoration:none\" href=\"https://www.google.es/intl/es/about/products?tab=wh\"><u>M�s</u> &raquo;</a></nobr></div><div id=guser width=100%><nobr><span id=gbn class=gbi></span><span id=gbf class=gbf></span><span id=gbe></span><a href=\"http://www.google.es/history/optout?hl=es\" class=gb4>Historial web</a> | <a  href=\"/preferences?hl=es\" class=gb4>Ajustes</a> | <a target=_top id=gb_70 href=\"https://accounts.google.com/ServiceLogin?hl=es&passive=true&continue=https://www.google.com/&ec=GAZAAQ\" class=gb4>Iniciar sesi�n</a></nobr></div><div class=gbh style=left:0></div><div class=gbh style=right:0></div></div><center><br clear=\"all\" id=\"lgpd\"><div id=\"lga\"><img alt=\"Google\" height=\"92\" src=\"/images/branding/googlelogo/1x/googlelogo_white_background_color_272x92dp.png\" style=\"padding:28px 0 14px\" width=\"272\" id=\"hplogo\"><br><br></div><form action=\"/search\" name=\"f\"><table cellpadding=\"0\" cellspacing=\"0\"><tr valign=\"top\"><td width=\"25%\">&nbsp;</td><td align=\"center\" nowrap=\"\"><input name=\"ie\" value=\"ISO-8859-1\" type=\"hidden\"><input value=\"es\" name=\"hl\" type=\"hidden\"><input name=\"source\" type=\"hidden\" value=\"hp\"><input name=\"biw\" type=\"hidden\"><input name=\"bih\" type=\"hidden\"><div class=\"ds\" style=\"height:32px;margin:4px 0\"><input class=\"lst\" style=\"margin:0;padding:5px 8px 0 6px;vertical-align:top;color:#000\" autocomplete=\"off\" value=\"\" title=\"Buscar con Google\" maxlength=\"2048\" name=\"q\" size=\"57\"></div><br style=\"line-height:0\"><span class=\"ds\"><span class=\"lsbb\"><input class=\"lsb\" value=\"Buscar con Google\" name=\"btnG\" type=\"submit\"></span></span><span class=\"ds\"><span class=\"lsbb\"><input class=\"lsb\" id=\"tsuid_1\" value=\"Voy a tener suerte\" name=\"btnI\" type=\"submit\"><script nonce=\"Jo7WFU6XWWwu6NrdwaRyIw\">(function(){var id='tsuid_1';document.getElementById(id).onclick = function(){if (this.form.q.value){this.checked = 1;if (this.form.iflsig)this.form.iflsig.disabled = false;}\n",
            "else top.location='/doodles/';};})();</script><input value=\"AJiK0e8AAAAAY46fV7gpXBHCT6KAebFZAqGv1l-4BtIR\" name=\"iflsig\" type=\"hidden\"></span></span></td><td class=\"fl sblc\" align=\"left\" nowrap=\"\" width=\"25%\"><a href=\"/advanced_search?hl=es&amp;authuser=0\">B�squeda avanzada</a></td></tr></table><input id=\"gbv\" name=\"gbv\" type=\"hidden\" value=\"1\"><script nonce=\"Jo7WFU6XWWwu6NrdwaRyIw\">(function(){var a,b=\"1\";if(document&&document.getElementById)if(\"undefined\"!=typeof XMLHttpRequest)b=\"2\";else if(\"undefined\"!=typeof ActiveXObject){var c,d,e=[\"MSXML2.XMLHTTP.6.0\",\"MSXML2.XMLHTTP.3.0\",\"MSXML2.XMLHTTP\",\"Microsoft.XMLHTTP\"];for(c=0;d=e[c++];)try{new ActiveXObject(d),b=\"2\"}catch(h){}}a=b;if(\"2\"==a&&-1==location.search.indexOf(\"&gbv=2\")){var f=google.gbvu,g=document.getElementById(\"gbv\");g&&(g.value=a);f&&window.setTimeout(function(){location.href=f},0)};}).call(this);</script></form><div id=\"gac_scont\"></div><div style=\"font-size:83%;min-height:3.5em\"><br><div id=\"gws-output-pages-elements-homepage_additional_languages__als\"><style>#gws-output-pages-elements-homepage_additional_languages__als{font-size:small;margin-bottom:24px}#SIvCob{color:#3c4043;display:inline-block;line-height:28px;}#SIvCob a{padding:0 3px;}.H6sW5{display:inline-block;margin:0 2px;white-space:nowrap}.z4hgWe{display:inline-block;margin:0 2px}</style><div id=\"SIvCob\">Ofrecido por Google en:  <a href=\"https://www.google.com/setprefs?sig=0_HljXEzVisqsnlJP1S5dx0Fao0Lw%3D&amp;hl=ca&amp;source=homepage&amp;sa=X&amp;ved=0ahUKEwiimaPC4uP7AhU3UKQEHXzFDBQQ2ZgBCAU\">catal�</a>    <a href=\"https://www.google.com/setprefs?sig=0_HljXEzVisqsnlJP1S5dx0Fao0Lw%3D&amp;hl=gl&amp;source=homepage&amp;sa=X&amp;ved=0ahUKEwiimaPC4uP7AhU3UKQEHXzFDBQQ2ZgBCAY\">galego</a>    <a href=\"https://www.google.com/setprefs?sig=0_HljXEzVisqsnlJP1S5dx0Fao0Lw%3D&amp;hl=eu&amp;source=homepage&amp;sa=X&amp;ved=0ahUKEwiimaPC4uP7AhU3UKQEHXzFDBQQ2ZgBCAc\">euskara</a>  </div></div></div><span id=\"footer\"><div style=\"font-size:10pt\"><div style=\"margin:19px auto;text-align:center\" id=\"WqQANb\"><a href=\"http://www.google.es/intl/es/services/\">Soluciones Empresariales</a><a href=\"/intl/es/about.html\">Todo acerca de Google</a><a href=\"https://www.google.com/setprefdomain?prefdom=ES&amp;prev=https://www.google.es/&amp;sig=K_8O8QHBmoai9DOT5YZxMWevJK8VI%3D\">Google.es</a></div></div><p style=\"font-size:8pt;color:#70757a\">&copy; 2022 - <a href=\"/intl/es/policies/privacy/\">Privacidad</a> - <a href=\"/intl/es/policies/terms/\">T�rminos</a></p></span></center><script nonce=\"Jo7WFU6XWWwu6NrdwaRyIw\">(function(){window.google.cdo={height:757,width:1440};(function(){var a=window.innerWidth,b=window.innerHeight;if(!a||!b){var c=window.document,d=\"CSS1Compat\"==c.compatMode?c.documentElement:c.body;a=d.clientWidth;b=d.clientHeight}a&&b&&(a!=google.cdo.width||b!=google.cdo.height)&&google.log(\"\",\"\",\"/client_204?&atyp=i&biw=\"+a+\"&bih=\"+b+\"&ei=\"+google.kEI);}).call(this);})();</script> <script nonce=\"Jo7WFU6XWWwu6NrdwaRyIw\">(function(){google.xjs={ck:'xjs.hp.oxai9SxkIQY.L.X.O',cs:'ACT90oEGh-_ImDfBjn6aD_ABGaOlD2MqVw',excm:[]};})();</script>  <script nonce=\"Jo7WFU6XWWwu6NrdwaRyIw\">(function(){var u='/xjs/_/js/k\\x3dxjs.hp.en.9b-uVUIpJU8.O/am\\x3dAADoBABQAGAB/d\\x3d1/ed\\x3d1/rs\\x3dACT90oG-6KYVksw4jxVvNcwan406xE6qVw/m\\x3dsb_he,d';var amd=0;\n",
            "var d=this||self,e=function(a){return a};var g;var l=function(a,b){this.g=b===h?a:\"\"};l.prototype.toString=function(){return this.g+\"\"};var h={};\n",
            "function m(){var a=u;google.lx=function(){p(a);google.lx=function(){}};google.bx||google.lx()}\n",
            "function p(a){google.timers&&google.timers.load&&google.tick&&google.tick(\"load\",\"xjsls\");var b=document;var c=\"SCRIPT\";\"application/xhtml+xml\"===b.contentType&&(c=c.toLowerCase());c=b.createElement(c);if(void 0===g){b=null;var k=d.trustedTypes;if(k&&k.createPolicy){try{b=k.createPolicy(\"goog#html\",{createHTML:e,createScript:e,createScriptURL:e})}catch(q){d.console&&d.console.error(q.message)}g=b}else g=b}a=(b=g)?b.createScriptURL(a):a;a=new l(a,h);c.src=a instanceof l&&a.constructor===l?a.g:\"type_error:TrustedResourceUrl\";var f,n;(f=(a=null==(n=(f=(c.ownerDocument&&c.ownerDocument.defaultView||window).document).querySelector)?void 0:n.call(f,\"script[nonce]\"))?a.nonce||a.getAttribute(\"nonce\")||\"\":\"\")&&c.setAttribute(\"nonce\",f);document.body.appendChild(c);google.psa=!0};google.xjsu=u;setTimeout(function(){0<amd?google.caft(function(){return m()},amd):m()},0);})();function _DumpException(e){throw e;}\n",
            "function _F_installCss(c){}\n",
            "(function(){google.jl={blt:'none',chnk:0,dw:false,dwu:true,emtn:0,end:0,ico:false,ikb:0,ine:false,injs:'none',injt:0,injth:0,injv2:false,lls:'default',pdt:0,rep:0,snet:true,strt:0,ubm:false,uwp:true};})();(function(){var pmc='{\\x22d\\x22:{},\\x22sb_he\\x22:{\\x22agen\\x22:true,\\x22cgen\\x22:true,\\x22client\\x22:\\x22heirloom-hp\\x22,\\x22dh\\x22:true,\\x22ds\\x22:\\x22\\x22,\\x22fl\\x22:true,\\x22host\\x22:\\x22google.com\\x22,\\x22jsonp\\x22:true,\\x22lm\\x22:true,\\x22msgs\\x22:{\\x22cibl\\x22:\\x22Borrar b�squeda\\x22,\\x22dym\\x22:\\x22Quiz�s quisiste decir:\\x22,\\x22lcky\\x22:\\x22Voy a tener suerte\\x22,\\x22lml\\x22:\\x22M�s informaci�n\\x22,\\x22psrc\\x22:\\x22Esta b�squeda se ha eliminado de tu \\\\u003Ca href\\x3d\\\\\\x22/history\\\\\\x22\\\\u003Ehistorial web\\\\u003C/a\\\\u003E.\\x22,\\x22psrl\\x22:\\x22Eliminar\\x22,\\x22sbit\\x22:\\x22Buscar por imagen\\x22,\\x22srch\\x22:\\x22Buscar con Google\\x22},\\x22ovr\\x22:{},\\x22pq\\x22:\\x22\\x22,\\x22rfs\\x22:[],\\x22sbas\\x22:\\x220 3px 8px 0 rgba(0,0,0,0.2),0 0 0 1px rgba(0,0,0,0.08)\\x22,\\x22stok\\x22:\\x22GYSMF2y7hymT0L3W0W4RPVIsSrU\\x22}}';google.pmc=JSON.parse(pmc);})();</script>        </body></html>"
          ]
        }
      ],
      "source": [
        "!cat google.html"
      ]
    },
    {
      "cell_type": "markdown",
      "metadata": {
        "id": "wnTLQShRpGfg"
      },
      "source": [
        "### Descargar archivos con `wget`"
      ]
    },
    {
      "cell_type": "markdown",
      "metadata": {
        "id": "M3SNagy4pGfg"
      },
      "source": [
        "Otro comando parecido es `wget`, sin embargo, a diferencia de `curl`, `wget` descarga el archivo directamente"
      ]
    },
    {
      "cell_type": "code",
      "execution_count": null,
      "metadata": {
        "id": "-T0TtjY3pGfg",
        "outputId": "24f6959a-73a7-4f43-ac6a-dd5795dd22d7"
      },
      "outputs": [
        {
          "name": "stdout",
          "output_type": "stream",
          "text": [
            "--2022-12-06 01:49:19--  https://www.google.com/\n",
            "Resolviendo www.google.com (www.google.com)... 142.250.200.68, 2a00:1450:4003:80c::2004\n",
            "Conectando con www.google.com (www.google.com)[142.250.200.68]:443... conectado.\n",
            "Petición HTTP enviada, esperando respuesta... 200 OK\n",
            "Longitud: no especificado [text/html]\n",
            "Guardando como: “index.html.1”\n",
            "\n",
            "index.html.1            [ <=>                ]  14,76K  --.-KB/s    en 0,002s  \n",
            "\n",
            "2022-12-06 01:49:19 (7,17 MB/s) - “index.html.1” guardado [15117]\n",
            "\n"
          ]
        }
      ],
      "source": [
        "!wget https://www.google.com"
      ]
    },
    {
      "cell_type": "code",
      "execution_count": null,
      "metadata": {
        "id": "cNvIJRMRpGfh",
        "outputId": "354473e8-7810-48ff-9b3b-7d2a166d3a2b"
      },
      "outputs": [
        {
          "name": "stdout",
          "output_type": "stream",
          "text": [
            "total 316\n",
            "-rw-rw-r-- 1 wallabot wallabot 285898 dic  6 00:28 2021-02-11-Introduccion-a-Python.ipynb\n",
            "-rw-rw-r-- 1 wallabot wallabot      0 dic  6 00:56 Abc\n",
            "-rw-rw-r-- 1 wallabot wallabot      0 dic  6 00:56 datos1\n",
            "-rw-rw-r-- 1 wallabot wallabot      0 dic  6 00:56 datos123\n",
            "-rw-rw-r-- 1 wallabot wallabot      0 dic  6 00:56 dot2.txt\n",
            "-rw-rw-r-- 1 wallabot wallabot      0 dic  6 00:56 dot.txt\n",
            "-rw-rw-r-- 1 wallabot wallabot      0 dic  6 00:56 file.txt\n",
            "-rw-rw-r-- 1 wallabot wallabot  15168 dic  6 01:48 google.html\n",
            "-rw-rw-r-- 1 wallabot wallabot      0 dic  6 00:56 index.html\n",
            "-rw-rw-r-- 1 wallabot wallabot  15117 dic  6 01:49 index.html.1\n",
            "-rw-rw-r-- 1 wallabot wallabot    182 dic  6 01:06 lista.txt\n",
            "-rw-rw-r-- 1 wallabot wallabot      0 dic  6 01:08 secuential.txt\n"
          ]
        }
      ],
      "source": [
        "!ls -l"
      ]
    },
    {
      "cell_type": "markdown",
      "metadata": {
        "id": "TCdGosuspGfh"
      },
      "source": [
        "Vemos que lo ha guardado como `index.html`, que es como Google lo tiene nombrado"
      ]
    },
    {
      "cell_type": "markdown",
      "metadata": {
        "id": "_LhZuj9rpGfh"
      },
      "source": [
        "Si queremos que se guarde con un nombre específico podemos usar el flag `-O`"
      ]
    },
    {
      "cell_type": "code",
      "execution_count": null,
      "metadata": {
        "id": "Qsqgnvw_pGfh",
        "outputId": "300b0235-7c81-40b8-96f8-aaa11f8b00a0"
      },
      "outputs": [
        {
          "name": "stdout",
          "output_type": "stream",
          "text": [
            "--2022-12-06 01:49:37--  https://www.google.com/\n",
            "Resolviendo www.google.com (www.google.com)... 142.250.200.68, 2a00:1450:4003:80c::2004\n",
            "Conectando con www.google.com (www.google.com)[142.250.200.68]:443... conectado.\n",
            "Petición HTTP enviada, esperando respuesta... 200 OK\n",
            "Longitud: no especificado [text/html]\n",
            "Guardando como: “google2.html”\n",
            "\n",
            "google2.html            [ <=>                ]  14,78K  --.-KB/s    en 0,003s  \n",
            "\n",
            "2022-12-06 01:49:37 (5,27 MB/s) - “google2.html” guardado [15131]\n",
            "\n"
          ]
        }
      ],
      "source": [
        "!wget https://www.google.com -O google2.html"
      ]
    },
    {
      "cell_type": "code",
      "execution_count": null,
      "metadata": {
        "id": "dQXTxMv0pGfh",
        "outputId": "7b6b5aff-1ef8-4824-ef46-bfea2289f27e"
      },
      "outputs": [
        {
          "name": "stdout",
          "output_type": "stream",
          "text": [
            "total 332\n",
            "-rw-rw-r-- 1 wallabot wallabot 285898 dic  6 00:28 2021-02-11-Introduccion-a-Python.ipynb\n",
            "-rw-rw-r-- 1 wallabot wallabot      0 dic  6 00:56 Abc\n",
            "-rw-rw-r-- 1 wallabot wallabot      0 dic  6 00:56 datos1\n",
            "-rw-rw-r-- 1 wallabot wallabot      0 dic  6 00:56 datos123\n",
            "-rw-rw-r-- 1 wallabot wallabot      0 dic  6 00:56 dot2.txt\n",
            "-rw-rw-r-- 1 wallabot wallabot      0 dic  6 00:56 dot.txt\n",
            "-rw-rw-r-- 1 wallabot wallabot      0 dic  6 00:56 file.txt\n",
            "-rw-rw-r-- 1 wallabot wallabot  15131 dic  6 01:49 google2.html\n",
            "-rw-rw-r-- 1 wallabot wallabot  15168 dic  6 01:48 google.html\n",
            "-rw-rw-r-- 1 wallabot wallabot      0 dic  6 00:56 index.html\n",
            "-rw-rw-r-- 1 wallabot wallabot  15117 dic  6 01:49 index.html.1\n",
            "-rw-rw-r-- 1 wallabot wallabot    182 dic  6 01:06 lista.txt\n",
            "-rw-rw-r-- 1 wallabot wallabot      0 dic  6 01:08 secuential.txt\n"
          ]
        }
      ],
      "source": [
        "!ls -l"
      ]
    },
    {
      "cell_type": "markdown",
      "metadata": {
        "id": "UP-i-LqtpGfh"
      },
      "source": [
        "### Depuración de la ruta con `traceroute`"
      ]
    },
    {
      "cell_type": "markdown",
      "metadata": {
        "id": "-kaQEer_pGfi"
      },
      "source": [
        "Un comando muy útil es ver la ruta hasta un destino, para ello usamos `traceroute`, por ejemplo vamos a ver todos los sitios por los que tengo que pasar para conectarme a Google"
      ]
    },
    {
      "cell_type": "code",
      "execution_count": null,
      "metadata": {
        "id": "gE3JMH1QpGfi",
        "outputId": "68947e82-9af9-496b-a2d2-dce2d6720782"
      },
      "outputs": [
        {
          "name": "stdout",
          "output_type": "stream",
          "text": [
            "traceroute to www.google.com (142.250.200.68), 64 hops max\n",
            "  1   192.168.1.1  0,435ms  0,154ms  0,133ms \n",
            "  2   188.127.176.1  3,979ms  2,914ms  3,397ms \n",
            "  3   10.15.0.77  3,600ms  3,914ms  2,669ms \n",
            "  4   10.15.246.6  3,567ms  3,713ms  2,926ms \n",
            "  5   *  *  * \n",
            "  6   72.14.209.84  3,981ms  2,914ms  2,993ms \n",
            "  7   *  *  * \n",
            "  8   142.251.54.148  3,856ms  2,916ms  2,905ms \n",
            "  9   142.250.200.68  2,908ms  2,949ms  3,037ms \n"
          ]
        }
      ],
      "source": [
        "!traceroute www.google.com"
      ]
    },
    {
      "cell_type": "markdown",
      "metadata": {
        "id": "_d0T6OzipGfi"
      },
      "source": [
        "### Depuración de la ruta con `mtr`"
      ]
    },
    {
      "cell_type": "markdown",
      "metadata": {
        "id": "sh2LWJpypGfi"
      },
      "source": [
        "Otra herramienta de depuración es `mtr`, que es una versión mejorada de `traceroute`. Ofrece información de cada salto, como el tiempo de respuesta, el porcentaje de paquetes perdidos, etc."
      ]
    },
    {
      "cell_type": "code",
      "execution_count": null,
      "metadata": {
        "id": "6QwNU0Q1pGfi",
        "outputId": "3b9d46d7-80b4-43fb-a8c6-99c99374b298"
      },
      "outputs": [
        {
          "name": "stdout",
          "output_type": "stream",
          "text": [
            "wallabot (192.168.178.144)\n",
            "Keys:  Help   Display mode   Restart statistics   Order of fields   quit\n",
            "                                                                              Packets               Pings\n",
            " Host                                                                       Loss%   Snt   Last   Avg  Best  Wrst StDev\n",
            " 1. 192.168.178.1                                                            0.0%   345    0.3   0.3   0.3   0.3   0.0\n",
            " 2. 192.168.0.1                                                              0.0%   344    0.8   1.1   1.1   1.1   0.0\n",
            " 3. (waiting for reply)\n",
            " 4. 10.183.52.41                                                             0.0%   344    2.8   2.5   2.5   2.5   0.0\n",
            " 5. 172.29.0.161                                                            47.7%   344    2.3   3.1   3.1  23.1   0.0\n",
            " 6. (waiting for reply)\n",
            " 7. 193.149.1.97                                                             0.0%   344    3.6   3.6   3.6  38.6   0.0\n",
            " 8. (waiting for reply)\n",
            " 9. 185.125.78.197                                                           2.9%   344    6.9   6.9   6.9   6.9   0.0\n"
          ]
        }
      ],
      "source": [
        "!mtr -n maximofn.com"
      ]
    },
    {
      "cell_type": "markdown",
      "metadata": {
        "id": "sRHbtCNVpGfi"
      },
      "source": [
        "Como se puede ver en el salto 5 se pierde casi el 50 % de los paquetes, por lo que me serviría para llamar a mi compañía de teléfono y decirle que me intente enrutar por otro lado"
      ]
    },
    {
      "cell_type": "markdown",
      "metadata": {
        "id": "GC-7L18zpGfi"
      },
      "source": [
        "### Nombre de nuestra máquina con `hostname`"
      ]
    },
    {
      "cell_type": "markdown",
      "metadata": {
        "id": "SVAcrmwqpGfi"
      },
      "source": [
        "Si queremos saber el nombre de nuestro equipo podemos usar `hostname`, lo cual es útil si queremos conectarnos a nuestra máquina desde otra."
      ]
    },
    {
      "cell_type": "code",
      "execution_count": null,
      "metadata": {
        "id": "ThUywTk8pGfj",
        "outputId": "53271c29-45f5-4cdb-a8a3-80e91e595553"
      },
      "outputs": [
        {
          "name": "stdout",
          "output_type": "stream",
          "text": [
            "wallabot\n"
          ]
        }
      ],
      "source": [
        "!hostname"
      ]
    },
    {
      "cell_type": "markdown",
      "metadata": {
        "id": "Fpg7dJH5pGfj"
      },
      "source": [
        "### Información de enlace de puerta predeterminada con `route -n`"
      ]
    },
    {
      "cell_type": "markdown",
      "metadata": {
        "id": "ZnB8vbGJpGfj"
      },
      "source": [
        "Si queremos conocer nuestra puerta de enlace predeterminada usamos el comando `route -n`"
      ]
    },
    {
      "cell_type": "code",
      "execution_count": null,
      "metadata": {
        "id": "MVYR2jqbpGfj",
        "outputId": "8df03038-38f0-417b-db3e-6a13b6217707"
      },
      "outputs": [
        {
          "name": "stdout",
          "output_type": "stream",
          "text": [
            "Tabla de rutas IP del núcleo\n",
            "Destino         Pasarela        Genmask         Indic Métric Ref    Uso Interfaz\n",
            "0.0.0.0         192.168.1.1     0.0.0.0         UG    100    0        0 enp6s0\n",
            "169.254.0.0     0.0.0.0         255.255.0.0     U     1000   0        0 enp6s0\n",
            "172.17.0.0      0.0.0.0         255.255.0.0     U     0      0        0 docker0\n",
            "172.18.0.0      0.0.0.0         255.255.0.0     U     0      0        0 br-470e52ae2708\n",
            "192.168.1.0     0.0.0.0         255.255.255.0   U     100    0        0 enp6s0\n"
          ]
        }
      ],
      "source": [
        "!route -n"
      ]
    },
    {
      "cell_type": "markdown",
      "metadata": {
        "id": "iucMFUrppGfj"
      },
      "source": [
        "### Información de la IP de un dominio con `nslookup`"
      ]
    },
    {
      "cell_type": "markdown",
      "metadata": {
        "id": "zDAH0Bo0pGfj"
      },
      "source": [
        "Si queremos saber la IP de algún dominio, lo podemos saber mediante el comando `nslookup`"
      ]
    },
    {
      "cell_type": "code",
      "execution_count": null,
      "metadata": {
        "id": "ue4ygtEspGfj",
        "outputId": "9d850d21-6d90-45f2-f4f0-1fefe2001984"
      },
      "outputs": [
        {
          "name": "stdout",
          "output_type": "stream",
          "text": [
            "Server:\t\t127.0.0.53\n",
            "Address:\t127.0.0.53#53\n",
            "\n",
            "Non-authoritative answer:\n",
            "Name:\tgoogle.com\n",
            "Address: 142.250.185.14\n",
            "Name:\tgoogle.com\n",
            "Address: 2a00:1450:4003:808::200e\n",
            "\n"
          ]
        }
      ],
      "source": [
        "!nslookup google.com"
      ]
    },
    {
      "cell_type": "markdown",
      "metadata": {
        "id": "zYr3qydcpGfk"
      },
      "source": [
        "Esto nos dice que la IPv4 de Google es 172.217.168.174 y su IPv6 es 2a00:1450:4003:803::200e"
      ]
    },
    {
      "cell_type": "markdown",
      "metadata": {
        "id": "qdz3wg-TpGfk"
      },
      "source": [
        "### Información de nuestra red con `netstats`"
      ]
    },
    {
      "cell_type": "markdown",
      "metadata": {
        "id": "AZaBrJ8opGfk"
      },
      "source": [
        "El último comando de utilidad es `netstats`, este comando nos da el estado de nuestra red, además con el flag `-i` nos devuelve nuestras interfaces de red"
      ]
    },
    {
      "cell_type": "code",
      "execution_count": null,
      "metadata": {
        "id": "nTguJaiepGfk",
        "outputId": "a3bcbd68-c18d-4c80-c7d0-c07754f9efe8"
      },
      "outputs": [
        {
          "name": "stdout",
          "output_type": "stream",
          "text": [
            "Tabla de la interfaz del núcleo\n",
            "Iface      MTU    RX-OK RX-ERR RX-DRP RX-OVR    TX-OK TX-ERR TX-DRP TX-OVR Flg\n",
            "br-470e5  1500        0      0      0 0             0      0      0      0 BMU\n",
            "docker0   1500        0      0      0 0             0      0      0      0 BMU\n",
            "enp6s0    1500   148385      0   2182 0        106135      0      0      0 BMRU\n",
            "lo       65536    11674      0      0 0         11674      0      0      0 LRU\n",
            "wlp5s0    1500        0      0      0 0             0      0      0      0 BMU\n"
          ]
        }
      ],
      "source": [
        "!netstat -i"
      ]
    },
    {
      "cell_type": "markdown",
      "metadata": {
        "id": "cyhzJMd3pGfk"
      },
      "source": [
        "### Consultas DNS con `dig`"
      ]
    },
    {
      "cell_type": "markdown",
      "metadata": {
        "id": "EfdjadSJpGfk"
      },
      "source": [
        "Con el comando `dig <dominio>` podemos hacer consultas DNS, por ejemplo, vamos a hacer una consulta a Google"
      ]
    },
    {
      "cell_type": "code",
      "execution_count": null,
      "metadata": {
        "id": "VufxGJvSpGfk",
        "outputId": "8cac1649-e08a-4e13-f2ac-8e9ce1490131"
      },
      "outputs": [
        {
          "name": "stdout",
          "output_type": "stream",
          "text": [
            "\n",
            "; <<>> DiG 9.16.1-Ubuntu <<>> google.com\n",
            ";; global options: +cmd\n",
            ";; Got answer:\n",
            ";; ->>HEADER<<- opcode: QUERY, status: NOERROR, id: 20527\n",
            ";; flags: qr rd ra; QUERY: 1, ANSWER: 1, AUTHORITY: 0, ADDITIONAL: 1\n",
            "\n",
            ";; OPT PSEUDOSECTION:\n",
            "; EDNS: version: 0, flags:; udp: 65494\n",
            ";; QUESTION SECTION:\n",
            ";google.com.\t\t\tIN\tA\n",
            "\n",
            ";; ANSWER SECTION:\n",
            "google.com.\t\t283\tIN\tA\t142.250.184.14\n",
            "\n",
            ";; Query time: 8 msec\n",
            ";; SERVER: 127.0.0.53#53(127.0.0.53)\n",
            ";; WHEN: dom sep 24 01:32:07 CEST 2023\n",
            ";; MSG SIZE  rcvd: 55\n",
            "\n"
          ]
        }
      ],
      "source": [
        "!dig google.com"
      ]
    },
    {
      "cell_type": "markdown",
      "metadata": {
        "id": "IuOrPARwpGfl"
      },
      "source": [
        "Se puede ver\n",
        "\n",
        "``` bash\n",
        ";; ANSWER SECTION:\n",
        "google.com.\t\t283\tIN\tA\t142.250.184.14\n",
        "```\n",
        "\n",
        "Por lo que la consulta nos ha dado la IP de Google"
      ]
    },
    {
      "cell_type": "markdown",
      "metadata": {
        "id": "TGTtrh6bpGfl"
      },
      "source": [
        "Podemos hacerle la consulta a un servidor DNS en particular con `dig @<servidor DNS> <dominio>`"
      ]
    },
    {
      "cell_type": "code",
      "execution_count": null,
      "metadata": {
        "id": "BQeDBREVpGfl",
        "outputId": "b072de7f-51c8-4660-e2a6-f6fca4fbb41a"
      },
      "outputs": [
        {
          "name": "stdout",
          "output_type": "stream",
          "text": [
            "\n",
            "; <<>> DiG 9.16.1-Ubuntu <<>> @1.1.1.1 google.com\n",
            "; (1 server found)\n",
            ";; global options: +cmd\n",
            ";; Got answer:\n",
            ";; ->>HEADER<<- opcode: QUERY, status: NOERROR, id: 15633\n",
            ";; flags: qr rd ra; QUERY: 1, ANSWER: 1, AUTHORITY: 0, ADDITIONAL: 0\n",
            "\n",
            ";; QUESTION SECTION:\n",
            ";google.com.\t\t\tIN\tA\n",
            "\n",
            ";; ANSWER SECTION:\n",
            "google.com.\t\t190\tIN\tA\t142.250.184.14\n",
            "\n",
            ";; Query time: 8 msec\n",
            ";; SERVER: 1.1.1.1#53(1.1.1.1)\n",
            ";; WHEN: dom sep 24 01:33:40 CEST 2023\n",
            ";; MSG SIZE  rcvd: 44\n",
            "\n"
          ]
        }
      ],
      "source": [
        "!dig @1.1.1.1 google.com"
      ]
    },
    {
      "cell_type": "markdown",
      "metadata": {
        "id": "QpQujV4MpGfl"
      },
      "source": [
        "Hemos hecho la misma consulta, pero se la hemos hecho al DNS de Cloudflare"
      ]
    },
    {
      "cell_type": "markdown",
      "metadata": {
        "id": "fLx_aVRdpGfl"
      },
      "source": [
        "## Comprimiendo archivos"
      ]
    },
    {
      "cell_type": "markdown",
      "metadata": {
        "id": "YB4AmJugpGfl"
      },
      "source": [
        "Antes de comprimir y descomprimir vamos a ver qué vamos a comprimir, primero imprimimos nuestra ruta y listamos los archivos."
      ]
    },
    {
      "cell_type": "code",
      "execution_count": null,
      "metadata": {
        "id": "yltetvhmpGfl",
        "outputId": "f0c7effb-b052-4d10-eab7-e7884daf29f8"
      },
      "outputs": [
        {
          "name": "stdout",
          "output_type": "stream",
          "text": [
            "/home/wallabot/Documentos/web/portafolio/posts/prueba\n",
            "total 332\n",
            "-rw-rw-r-- 1 wallabot wallabot 285898 dic  6 00:28 2021-02-11-Introduccion-a-Python.ipynb\n",
            "-rw-rw-r-- 1 wallabot wallabot      0 dic  6 00:56 Abc\n",
            "-rw-rw-r-- 1 wallabot wallabot      0 dic  6 00:56 datos1\n",
            "-rw-rw-r-- 1 wallabot wallabot      0 dic  6 00:56 datos123\n",
            "-rw-rw-r-- 1 wallabot wallabot      0 dic  6 00:56 dot2.txt\n",
            "-rw-rw-r-- 1 wallabot wallabot      0 dic  6 00:56 dot.txt\n",
            "-rw-rw-r-- 1 wallabot wallabot      0 dic  6 00:56 file.txt\n",
            "-rw-rw-r-- 1 wallabot wallabot  15131 dic  6 01:49 google2.html\n",
            "-rw-rw-r-- 1 wallabot wallabot  15168 dic  6 01:48 google.html\n",
            "-rw-rw-r-- 1 wallabot wallabot      0 dic  6 00:56 index.html\n",
            "-rw-rw-r-- 1 wallabot wallabot  15117 dic  6 01:49 index.html.1\n",
            "-rw-rw-r-- 1 wallabot wallabot    182 dic  6 01:06 lista.txt\n",
            "-rw-rw-r-- 1 wallabot wallabot      0 dic  6 01:08 secuential.txt\n"
          ]
        }
      ],
      "source": [
        "!pwd; ls -l"
      ]
    },
    {
      "cell_type": "markdown",
      "metadata": {
        "id": "ZvgZWt23pGfm"
      },
      "source": [
        "Vamos a crear una nueva carpeta y a copiar todo lo que está dentro de la actual carpeta en ella"
      ]
    },
    {
      "cell_type": "code",
      "execution_count": null,
      "metadata": {
        "id": "-CIddrNlpGfm",
        "outputId": "9d4e051a-19d7-4cb6-906d-c4fa0393f734"
      },
      "outputs": [
        {
          "name": "stdout",
          "output_type": "stream",
          "text": [
            "cp: -r not specified; omitting directory 'tocompress'\n",
            "total 336\n",
            "-rw-rw-r-- 1 wallabot wallabot 285898 dic  6 00:28 2021-02-11-Introduccion-a-Python.ipynb\n",
            "-rw-rw-r-- 1 wallabot wallabot      0 dic  6 00:56 Abc\n",
            "-rw-rw-r-- 1 wallabot wallabot      0 dic  6 00:56 datos1\n",
            "-rw-rw-r-- 1 wallabot wallabot      0 dic  6 00:56 datos123\n",
            "-rw-rw-r-- 1 wallabot wallabot      0 dic  6 00:56 dot2.txt\n",
            "-rw-rw-r-- 1 wallabot wallabot      0 dic  6 00:56 dot.txt\n",
            "-rw-rw-r-- 1 wallabot wallabot      0 dic  6 00:56 file.txt\n",
            "-rw-rw-r-- 1 wallabot wallabot  15131 dic  6 01:49 google2.html\n",
            "-rw-rw-r-- 1 wallabot wallabot  15168 dic  6 01:48 google.html\n",
            "-rw-rw-r-- 1 wallabot wallabot      0 dic  6 00:56 index.html\n",
            "-rw-rw-r-- 1 wallabot wallabot  15117 dic  6 01:49 index.html.1\n",
            "-rw-rw-r-- 1 wallabot wallabot    182 dic  6 01:06 lista.txt\n",
            "-rw-rw-r-- 1 wallabot wallabot      0 dic  6 01:08 secuential.txt\n",
            "drwxrwxr-x 2 wallabot wallabot   4096 dic  6 01:52 tocompress\n"
          ]
        }
      ],
      "source": [
        "!mkdir tocompress; cp * tocompress; ls -l"
      ]
    },
    {
      "cell_type": "markdown",
      "metadata": {
        "id": "6B2Ean1CpGfm"
      },
      "source": [
        "Como vemos se ha copiado todo menos la propia carpeta `tocompress` ya que no hemos puesto el flag `-r` en el comando `cp`. Pero lo que ha pasado es lo que queríamos"
      ]
    },
    {
      "cell_type": "markdown",
      "metadata": {
        "id": "i9K_7KetpGfm"
      },
      "source": [
        "### Comprimir con `tar`"
      ]
    },
    {
      "cell_type": "markdown",
      "metadata": {
        "id": "b05w_ZSNpGfm"
      },
      "source": [
        "El primer comando que vamos a usar para comprimir es `tar` al que vamos a añadir el flag `-c` de compress, `-v` de verbose, para que nos vaya sacando qué está haciendo y el flag `-f` de file, y a continuación el nombre que queremos que tenga el archivo comprimido y el nombre del archivo que queremos comprimir"
      ]
    },
    {
      "cell_type": "code",
      "execution_count": null,
      "metadata": {
        "id": "0kI6kN5hpGfm",
        "outputId": "aba71579-47f5-46c7-a04e-6c40d66301f9"
      },
      "outputs": [
        {
          "name": "stdout",
          "output_type": "stream",
          "text": [
            "tocompress/\n",
            "tocompress/lista.txt\n",
            "tocompress/dot.txt\n",
            "tocompress/google.html\n",
            "tocompress/index.html\n",
            "tocompress/Abc\n",
            "tocompress/google2.html\n",
            "tocompress/dot2.txt\n",
            "tocompress/secuential.txt\n",
            "tocompress/index.html.1\n",
            "tocompress/file.txt\n",
            "tocompress/datos1\n",
            "tocompress/2021-02-11-Introduccion-a-Python.ipynb\n",
            "tocompress/datos123\n"
          ]
        }
      ],
      "source": [
        "!tar -cvf tocompress.tar tocompress"
      ]
    },
    {
      "cell_type": "code",
      "execution_count": null,
      "metadata": {
        "id": "6KOSf1XApGfn",
        "outputId": "f9554ce5-8cee-4775-e4a4-d57684b12d2e"
      },
      "outputs": [
        {
          "name": "stdout",
          "output_type": "stream",
          "text": [
            "total 676\n",
            "-rw-rw-r-- 1 wallabot wallabot 285898 dic  6 00:28 2021-02-11-Introduccion-a-Python.ipynb\n",
            "-rw-rw-r-- 1 wallabot wallabot      0 dic  6 00:56 Abc\n",
            "-rw-rw-r-- 1 wallabot wallabot      0 dic  6 00:56 datos1\n",
            "-rw-rw-r-- 1 wallabot wallabot      0 dic  6 00:56 datos123\n",
            "-rw-rw-r-- 1 wallabot wallabot      0 dic  6 00:56 dot2.txt\n",
            "-rw-rw-r-- 1 wallabot wallabot      0 dic  6 00:56 dot.txt\n",
            "-rw-rw-r-- 1 wallabot wallabot      0 dic  6 00:56 file.txt\n",
            "-rw-rw-r-- 1 wallabot wallabot  15131 dic  6 01:49 google2.html\n",
            "-rw-rw-r-- 1 wallabot wallabot  15168 dic  6 01:48 google.html\n",
            "-rw-rw-r-- 1 wallabot wallabot      0 dic  6 00:56 index.html\n",
            "-rw-rw-r-- 1 wallabot wallabot  15117 dic  6 01:49 index.html.1\n",
            "-rw-rw-r-- 1 wallabot wallabot    182 dic  6 01:06 lista.txt\n",
            "-rw-rw-r-- 1 wallabot wallabot      0 dic  6 01:08 secuential.txt\n",
            "drwxrwxr-x 2 wallabot wallabot   4096 dic  6 01:52 tocompress\n",
            "-rw-rw-r-- 1 wallabot wallabot 348160 dic  6 01:53 tocompress.tar\n"
          ]
        }
      ],
      "source": [
        "!ls -l"
      ]
    },
    {
      "cell_type": "markdown",
      "metadata": {
        "id": "0WbbCKzopGfn"
      },
      "source": [
        "Vemos que ha creado el archivo `tocompress.tar`"
      ]
    },
    {
      "cell_type": "markdown",
      "metadata": {
        "id": "fFB-KTxjpGfn"
      },
      "source": [
        "Ahora vamos a repetir el proceso, pero añadiendo el flag `-z`, esto lo que hace es comprimir en el formato `gzip`, que es un algoritmo de compresión más eficiente"
      ]
    },
    {
      "cell_type": "code",
      "execution_count": null,
      "metadata": {
        "id": "9yzITv70pGfn",
        "outputId": "4b08ab12-853a-4847-8306-a479c0a2bdd8"
      },
      "outputs": [
        {
          "name": "stdout",
          "output_type": "stream",
          "text": [
            "tocompress/\n",
            "tocompress/lista.txt\n",
            "tocompress/dot.txt\n",
            "tocompress/google.html\n",
            "tocompress/index.html\n",
            "tocompress/Abc\n",
            "tocompress/google2.html\n",
            "tocompress/dot2.txt\n",
            "tocompress/secuential.txt\n",
            "tocompress/index.html.1\n",
            "tocompress/file.txt\n",
            "tocompress/datos1\n",
            "tocompress/2021-02-11-Introduccion-a-Python.ipynb\n",
            "tocompress/datos123\n"
          ]
        }
      ],
      "source": [
        "!tar -cvzf tocompress.tar.gz tocompress"
      ]
    },
    {
      "cell_type": "code",
      "execution_count": null,
      "metadata": {
        "id": "no-NOFfopGfo",
        "outputId": "e29ffd2b-15d0-460d-f081-945d3138fcc6"
      },
      "outputs": [
        {
          "name": "stdout",
          "output_type": "stream",
          "text": [
            "total 728K\n",
            "-rw-rw-r-- 1 wallabot wallabot 280K dic  6 00:28 2021-02-11-Introduccion-a-Python.ipynb\n",
            "-rw-rw-r-- 1 wallabot wallabot    0 dic  6 00:56 Abc\n",
            "-rw-rw-r-- 1 wallabot wallabot    0 dic  6 00:56 datos1\n",
            "-rw-rw-r-- 1 wallabot wallabot    0 dic  6 00:56 datos123\n",
            "-rw-rw-r-- 1 wallabot wallabot    0 dic  6 00:56 dot2.txt\n",
            "-rw-rw-r-- 1 wallabot wallabot    0 dic  6 00:56 dot.txt\n",
            "-rw-rw-r-- 1 wallabot wallabot    0 dic  6 00:56 file.txt\n",
            "-rw-rw-r-- 1 wallabot wallabot  15K dic  6 01:49 google2.html\n",
            "-rw-rw-r-- 1 wallabot wallabot  15K dic  6 01:48 google.html\n",
            "-rw-rw-r-- 1 wallabot wallabot    0 dic  6 00:56 index.html\n",
            "-rw-rw-r-- 1 wallabot wallabot  15K dic  6 01:49 index.html.1\n",
            "-rw-rw-r-- 1 wallabot wallabot  182 dic  6 01:06 lista.txt\n",
            "-rw-rw-r-- 1 wallabot wallabot    0 dic  6 01:08 secuential.txt\n",
            "drwxrwxr-x 2 wallabot wallabot 4,0K dic  6 01:52 tocompress\n",
            "-rw-rw-r-- 1 wallabot wallabot 340K dic  6 01:53 tocompress.tar\n",
            "-rw-rw-r-- 1 wallabot wallabot  52K dic  6 01:53 tocompress.tar.gz\n"
          ]
        }
      ],
      "source": [
        "!ls -lh"
      ]
    },
    {
      "cell_type": "markdown",
      "metadata": {
        "id": "Hzl8PXQapGfo"
      },
      "source": [
        "Como se puede ver, el archivo `tocompress.tar` ocupa `340 kB`, mientras que el archivo `tocompress.tar.gz` ocupa solo `52 kB`"
      ]
    },
    {
      "cell_type": "markdown",
      "metadata": {
        "id": "RPisXdkHpGfp"
      },
      "source": [
        "Ahora vamos a descomprimir los archivos, para descomprimir, se usa el mismo comando, solo que cambiando el flag `-c` por el flag `-x`"
      ]
    },
    {
      "cell_type": "markdown",
      "metadata": {
        "id": "cssrs1qHpGfq"
      },
      "source": [
        "Primero borramos la carpeta original"
      ]
    },
    {
      "cell_type": "code",
      "execution_count": null,
      "metadata": {
        "id": "erwstHyrpGfr"
      },
      "outputs": [],
      "source": [
        "!rm -r tocompress"
      ]
    },
    {
      "cell_type": "markdown",
      "metadata": {
        "id": "ElgxsNMTpGfs"
      },
      "source": [
        "Descomprimimos"
      ]
    },
    {
      "cell_type": "code",
      "execution_count": null,
      "metadata": {
        "id": "JgiB8upApGft",
        "outputId": "a48a484e-a48e-427e-d5bb-007a41772c28"
      },
      "outputs": [
        {
          "name": "stdout",
          "output_type": "stream",
          "text": [
            "tocompress/\n",
            "tocompress/lista.txt\n",
            "tocompress/dot.txt\n",
            "tocompress/google.html\n",
            "tocompress/index.html\n",
            "tocompress/Abc\n",
            "tocompress/google2.html\n",
            "tocompress/dot2.txt\n",
            "tocompress/secuential.txt\n",
            "tocompress/index.html.1\n",
            "tocompress/file.txt\n",
            "tocompress/datos1\n",
            "tocompress/2021-02-11-Introduccion-a-Python.ipynb\n",
            "tocompress/datos123\n"
          ]
        }
      ],
      "source": [
        "!tar -xvf tocompress.tar"
      ]
    },
    {
      "cell_type": "code",
      "execution_count": null,
      "metadata": {
        "id": "CbziQJH_pGfu",
        "outputId": "837c7f64-a7e6-441c-fafa-dc54f5c46782"
      },
      "outputs": [
        {
          "name": "stdout",
          "output_type": "stream",
          "text": [
            "total 728K\n",
            "-rw-rw-r-- 1 wallabot wallabot 280K dic  6 00:28 2021-02-11-Introduccion-a-Python.ipynb\n",
            "-rw-rw-r-- 1 wallabot wallabot    0 dic  6 00:56 Abc\n",
            "-rw-rw-r-- 1 wallabot wallabot    0 dic  6 00:56 datos1\n",
            "-rw-rw-r-- 1 wallabot wallabot    0 dic  6 00:56 datos123\n",
            "-rw-rw-r-- 1 wallabot wallabot    0 dic  6 00:56 dot2.txt\n",
            "-rw-rw-r-- 1 wallabot wallabot    0 dic  6 00:56 dot.txt\n",
            "-rw-rw-r-- 1 wallabot wallabot    0 dic  6 00:56 file.txt\n",
            "-rw-rw-r-- 1 wallabot wallabot  15K dic  6 01:49 google2.html\n",
            "-rw-rw-r-- 1 wallabot wallabot  15K dic  6 01:48 google.html\n",
            "-rw-rw-r-- 1 wallabot wallabot    0 dic  6 00:56 index.html\n",
            "-rw-rw-r-- 1 wallabot wallabot  15K dic  6 01:49 index.html.1\n",
            "-rw-rw-r-- 1 wallabot wallabot  182 dic  6 01:06 lista.txt\n",
            "-rw-rw-r-- 1 wallabot wallabot    0 dic  6 01:08 secuential.txt\n",
            "drwxrwxr-x 2 wallabot wallabot 4,0K dic  6 01:52 tocompress\n",
            "-rw-rw-r-- 1 wallabot wallabot 340K dic  6 01:53 tocompress.tar\n",
            "-rw-rw-r-- 1 wallabot wallabot  52K dic  6 01:53 tocompress.tar.gz\n"
          ]
        }
      ],
      "source": [
        "!ls -lh"
      ]
    },
    {
      "cell_type": "markdown",
      "metadata": {
        "id": "b0fzas73pGfu"
      },
      "source": [
        "Hacemos lo mismo con el `gzip`"
      ]
    },
    {
      "cell_type": "code",
      "execution_count": null,
      "metadata": {
        "id": "gxxxqDo7pGfu"
      },
      "outputs": [],
      "source": [
        "!rm -r tocompress"
      ]
    },
    {
      "cell_type": "code",
      "execution_count": null,
      "metadata": {
        "id": "kVDbxYFvpGfu",
        "outputId": "d971ae4d-2299-43d2-99e2-3b57efe7dc4d"
      },
      "outputs": [
        {
          "name": "stdout",
          "output_type": "stream",
          "text": [
            "tocompress/\n",
            "tocompress/lista.txt\n",
            "tocompress/dot.txt\n",
            "tocompress/google.html\n",
            "tocompress/index.html\n",
            "tocompress/Abc\n",
            "tocompress/google2.html\n",
            "tocompress/dot2.txt\n",
            "tocompress/secuential.txt\n",
            "tocompress/index.html.1\n",
            "tocompress/file.txt\n",
            "tocompress/datos1\n",
            "tocompress/2021-02-11-Introduccion-a-Python.ipynb\n",
            "tocompress/datos123\n"
          ]
        }
      ],
      "source": [
        "!tar -xvzf tocompress.tar.gz"
      ]
    },
    {
      "cell_type": "code",
      "execution_count": null,
      "metadata": {
        "id": "NRXqBfvmpGfv",
        "outputId": "7d43d77d-30a7-4914-bb70-4b3a96b32469"
      },
      "outputs": [
        {
          "name": "stdout",
          "output_type": "stream",
          "text": [
            "total 728K\n",
            "-rw-rw-r-- 1 wallabot wallabot 280K dic  6 00:28 2021-02-11-Introduccion-a-Python.ipynb\n",
            "-rw-rw-r-- 1 wallabot wallabot    0 dic  6 00:56 Abc\n",
            "-rw-rw-r-- 1 wallabot wallabot    0 dic  6 00:56 datos1\n",
            "-rw-rw-r-- 1 wallabot wallabot    0 dic  6 00:56 datos123\n",
            "-rw-rw-r-- 1 wallabot wallabot    0 dic  6 00:56 dot2.txt\n",
            "-rw-rw-r-- 1 wallabot wallabot    0 dic  6 00:56 dot.txt\n",
            "-rw-rw-r-- 1 wallabot wallabot    0 dic  6 00:56 file.txt\n",
            "-rw-rw-r-- 1 wallabot wallabot  15K dic  6 01:49 google2.html\n",
            "-rw-rw-r-- 1 wallabot wallabot  15K dic  6 01:48 google.html\n",
            "-rw-rw-r-- 1 wallabot wallabot    0 dic  6 00:56 index.html\n",
            "-rw-rw-r-- 1 wallabot wallabot  15K dic  6 01:49 index.html.1\n",
            "-rw-rw-r-- 1 wallabot wallabot  182 dic  6 01:06 lista.txt\n",
            "-rw-rw-r-- 1 wallabot wallabot    0 dic  6 01:08 secuential.txt\n",
            "drwxrwxr-x 2 wallabot wallabot 4,0K dic  6 01:52 tocompress\n",
            "-rw-rw-r-- 1 wallabot wallabot 340K dic  6 01:53 tocompress.tar\n",
            "-rw-rw-r-- 1 wallabot wallabot  52K dic  6 01:53 tocompress.tar.gz\n"
          ]
        }
      ],
      "source": [
        "!ls -lh"
      ]
    },
    {
      "cell_type": "markdown",
      "metadata": {
        "id": "WlpQV54dpGfv"
      },
      "source": [
        "### Comprimir con `zip`"
      ]
    },
    {
      "cell_type": "markdown",
      "metadata": {
        "id": "eAcorcuGpGfv"
      },
      "source": [
        "Otro comando para comprimir el `zip`, para comprimir solo hay que añadirle el flag `-r` (recursive), el nombre que queremos que tenga el archivo comprimido y el archivo que queremos comprimir"
      ]
    },
    {
      "cell_type": "code",
      "execution_count": null,
      "metadata": {
        "id": "m-ex3fDbpGfv",
        "outputId": "7cc7d9ec-b9c3-4c83-bed7-88067047adbf"
      },
      "outputs": [
        {
          "name": "stdout",
          "output_type": "stream",
          "text": [
            "  adding: tocompress/ (stored 0%)\n",
            "  adding: tocompress/lista.txt (deflated 23%)\n",
            "  adding: tocompress/dot.txt (stored 0%)\n",
            "  adding: tocompress/google.html (deflated 56%)\n",
            "  adding: tocompress/index.html (stored 0%)\n",
            "  adding: tocompress/Abc (stored 0%)\n",
            "  adding: tocompress/google2.html (deflated 56%)\n",
            "  adding: tocompress/dot2.txt (stored 0%)\n",
            "  adding: tocompress/secuential.txt (stored 0%)\n",
            "  adding: tocompress/index.html.1 (deflated 56%)\n",
            "  adding: tocompress/file.txt (stored 0%)\n",
            "  adding: tocompress/datos1 (stored 0%)\n",
            "  adding: tocompress/2021-02-11-Introduccion-a-Python.ipynb (deflated 85%)\n",
            "  adding: tocompress/datos123 (stored 0%)\n"
          ]
        }
      ],
      "source": [
        "!zip -r tocompress.zip tocompress"
      ]
    },
    {
      "cell_type": "code",
      "execution_count": null,
      "metadata": {
        "id": "_S-TMtmQpGfv",
        "outputId": "d235fb91-f80c-429c-abfd-a56999bbf7ee"
      },
      "outputs": [
        {
          "name": "stdout",
          "output_type": "stream",
          "text": [
            "total 792K\n",
            "-rw-rw-r-- 1 wallabot wallabot 280K dic  6 00:28 2021-02-11-Introduccion-a-Python.ipynb\n",
            "-rw-rw-r-- 1 wallabot wallabot    0 dic  6 00:56 Abc\n",
            "-rw-rw-r-- 1 wallabot wallabot    0 dic  6 00:56 datos1\n",
            "-rw-rw-r-- 1 wallabot wallabot    0 dic  6 00:56 datos123\n",
            "-rw-rw-r-- 1 wallabot wallabot    0 dic  6 00:56 dot2.txt\n",
            "-rw-rw-r-- 1 wallabot wallabot    0 dic  6 00:56 dot.txt\n",
            "-rw-rw-r-- 1 wallabot wallabot    0 dic  6 00:56 file.txt\n",
            "-rw-rw-r-- 1 wallabot wallabot  15K dic  6 01:49 google2.html\n",
            "-rw-rw-r-- 1 wallabot wallabot  15K dic  6 01:48 google.html\n",
            "-rw-rw-r-- 1 wallabot wallabot    0 dic  6 00:56 index.html\n",
            "-rw-rw-r-- 1 wallabot wallabot  15K dic  6 01:49 index.html.1\n",
            "-rw-rw-r-- 1 wallabot wallabot  182 dic  6 01:06 lista.txt\n",
            "-rw-rw-r-- 1 wallabot wallabot    0 dic  6 01:08 secuential.txt\n",
            "drwxrwxr-x 2 wallabot wallabot 4,0K dic  6 01:52 tocompress\n",
            "-rw-rw-r-- 1 wallabot wallabot 340K dic  6 01:53 tocompress.tar\n",
            "-rw-rw-r-- 1 wallabot wallabot  52K dic  6 01:53 tocompress.tar.gz\n",
            "-rw-rw-r-- 1 wallabot wallabot  64K dic  6 01:53 tocompress.zip\n"
          ]
        }
      ],
      "source": [
        "!ls -lh"
      ]
    },
    {
      "cell_type": "markdown",
      "metadata": {
        "id": "rX9Lp3SipGfv"
      },
      "source": [
        "Para descomprimir se usa el comando `unzip` seguido del nombre del archivo que quiero descomprimir. Primero borramos la carpeta `tocompress`"
      ]
    },
    {
      "cell_type": "code",
      "execution_count": null,
      "metadata": {
        "id": "6KemhC0LpGfw"
      },
      "outputs": [],
      "source": [
        "!rm -r tocompress"
      ]
    },
    {
      "cell_type": "code",
      "execution_count": null,
      "metadata": {
        "id": "ZVbVlhNTpGfw",
        "outputId": "23198153-8213-4e87-a706-69c839c092b6"
      },
      "outputs": [
        {
          "name": "stdout",
          "output_type": "stream",
          "text": [
            "Archive:  tocompress.zip\n",
            "   creating: tocompress/\n",
            "  inflating: tocompress/lista.txt    \n",
            " extracting: tocompress/dot.txt      \n",
            "  inflating: tocompress/google.html  \n",
            " extracting: tocompress/index.html   \n",
            " extracting: tocompress/Abc          \n",
            "  inflating: tocompress/google2.html  \n",
            " extracting: tocompress/dot2.txt     \n",
            " extracting: tocompress/secuential.txt  \n",
            "  inflating: tocompress/index.html.1  \n",
            " extracting: tocompress/file.txt     \n",
            " extracting: tocompress/datos1       \n",
            "  inflating: tocompress/2021-02-11-Introduccion-a-Python.ipynb  \n",
            " extracting: tocompress/datos123     \n"
          ]
        }
      ],
      "source": [
        "!unzip tocompress.zip"
      ]
    },
    {
      "cell_type": "code",
      "execution_count": null,
      "metadata": {
        "id": "FnwM6bw_pGfw",
        "outputId": "d631f849-b876-4035-8275-5eb8f204ffd2"
      },
      "outputs": [
        {
          "name": "stdout",
          "output_type": "stream",
          "text": [
            "total 792K\n",
            "-rw-rw-r-- 1 wallabot wallabot 280K dic  6 00:28 2021-02-11-Introduccion-a-Python.ipynb\n",
            "-rw-rw-r-- 1 wallabot wallabot    0 dic  6 00:56 Abc\n",
            "-rw-rw-r-- 1 wallabot wallabot    0 dic  6 00:56 datos1\n",
            "-rw-rw-r-- 1 wallabot wallabot    0 dic  6 00:56 datos123\n",
            "-rw-rw-r-- 1 wallabot wallabot    0 dic  6 00:56 dot2.txt\n",
            "-rw-rw-r-- 1 wallabot wallabot    0 dic  6 00:56 dot.txt\n",
            "-rw-rw-r-- 1 wallabot wallabot    0 dic  6 00:56 file.txt\n",
            "-rw-rw-r-- 1 wallabot wallabot  15K dic  6 01:49 google2.html\n",
            "-rw-rw-r-- 1 wallabot wallabot  15K dic  6 01:48 google.html\n",
            "-rw-rw-r-- 1 wallabot wallabot    0 dic  6 00:56 index.html\n",
            "-rw-rw-r-- 1 wallabot wallabot  15K dic  6 01:49 index.html.1\n",
            "-rw-rw-r-- 1 wallabot wallabot  182 dic  6 01:06 lista.txt\n",
            "-rw-rw-r-- 1 wallabot wallabot    0 dic  6 01:08 secuential.txt\n",
            "drwxrwxr-x 2 wallabot wallabot 4,0K dic  6 01:52 tocompress\n",
            "-rw-rw-r-- 1 wallabot wallabot 340K dic  6 01:53 tocompress.tar\n",
            "-rw-rw-r-- 1 wallabot wallabot  52K dic  6 01:53 tocompress.tar.gz\n",
            "-rw-rw-r-- 1 wallabot wallabot  64K dic  6 01:53 tocompress.zip\n"
          ]
        }
      ],
      "source": [
        "!ls -lh"
      ]
    },
    {
      "cell_type": "markdown",
      "metadata": {
        "id": "sHfhL6t8pGfx"
      },
      "source": [
        "## Procesos en background y foreground"
      ]
    },
    {
      "cell_type": "markdown",
      "metadata": {
        "id": "U-_EwfpRpGfx"
      },
      "source": [
        "### Pausar un proceso y llevarlo al background con `CTRL+Z`"
      ]
    },
    {
      "cell_type": "markdown",
      "metadata": {
        "id": "LlJ-_1jrpGfx"
      },
      "source": [
        "Cuando corremos un proceso en la terminal, este puede que no pare de ejecutarse y queramos seguir usando la terminal, para solucionar esto podemos llevarnos el proceso al background presionando `CTRL+z`"
      ]
    },
    {
      "cell_type": "markdown",
      "metadata": {
        "id": "vof-rXAHpGfx"
      },
      "source": [
        "Por ejemplo, me puedo hacer un ping a mí mismo, sin especificar el número de intentos, por lo que esto se estará ejecutando hasta que pare el proceso presionando `CTRL+C`"
      ]
    },
    {
      "cell_type": "code",
      "execution_count": null,
      "metadata": {
        "id": "lbDsSt29pGfy",
        "outputId": "413d226d-6582-4fd8-b3b1-ed5d7ffe8a70"
      },
      "outputs": [
        {
          "name": "stdout",
          "output_type": "stream",
          "text": [
            "PING localhost (127.0.0.1) 56(84) bytes of data.\n",
            "64 bytes from localhost (127.0.0.1): icmp_seq=1 ttl=64 time=0.025 ms\n",
            "64 bytes from localhost (127.0.0.1): icmp_seq=2 ttl=64 time=0.027 ms\n",
            "64 bytes from localhost (127.0.0.1): icmp_seq=3 ttl=64 time=0.024 ms\n",
            "64 bytes from localhost (127.0.0.1): icmp_seq=4 ttl=64 time=0.024 ms\n",
            "64 bytes from localhost (127.0.0.1): icmp_seq=5 ttl=64 time=0.027 ms\n",
            "64 bytes from localhost (127.0.0.1): icmp_seq=6 ttl=64 time=0.036 ms\n",
            "^C\n",
            "--- localhost ping statistics ---\n",
            "6 packets transmitted, 6 received, 0% packet loss, time 5127ms\n",
            "rtt min/avg/max/mdev = 0.024/0.027/0.036/0.004 ms\n"
          ]
        }
      ],
      "source": [
        "!ping localhost"
      ]
    },
    {
      "cell_type": "markdown",
      "metadata": {
        "id": "pMgsTkAspGfy"
      },
      "source": [
        "Sin embargo, si lo que queremos es parar un momento el proceso para poder seguir usando la terminal, hay que introducir `Ctrl+Z`"
      ]
    },
    {
      "cell_type": "code",
      "execution_count": null,
      "metadata": {
        "id": "ZB8LRgempGfy",
        "outputId": "b6e98b19-fbab-46b0-867b-e18e24937838"
      },
      "outputs": [
        {
          "name": "stdout",
          "output_type": "stream",
          "text": [
            "PING localhost (127.0.0.1) 56(84) bytes of data.\n",
            "64 bytes from localhost (127.0.0.1): icmp_seq=1 ttl=64 time=0.028 ms\n",
            "64 bytes from localhost (127.0.0.1): icmp_seq=2 ttl=64 time=0.020 ms\n",
            "64 bytes from localhost (127.0.0.1): icmp_seq=3 ttl=64 time=0.017 ms\n",
            "64 bytes from localhost (127.0.0.1): icmp_seq=4 ttl=64 time=0.025 ms\n",
            "64 bytes from localhost (127.0.0.1): icmp_seq=5 ttl=64 time=0.021 ms\n",
            "64 bytes from localhost (127.0.0.1): icmp_seq=6 ttl=64 time=0.055 ms\n",
            "^Z\n",
            "[1]+  Detenido                ping localhost\n"
          ]
        }
      ],
      "source": [
        "!ping localhost"
      ]
    },
    {
      "cell_type": "markdown",
      "metadata": {
        "id": "FPpgabPkpGfy"
      },
      "source": [
        "Como se indica, el proceso ha sido detenido, no se está ejecutando mientras lo he llevado al background"
      ]
    },
    {
      "cell_type": "markdown",
      "metadata": {
        "id": "CQiArsASpGfy"
      },
      "source": [
        "### Ver los procesos en background con `jobs`"
      ]
    },
    {
      "cell_type": "markdown",
      "metadata": {
        "id": "27wNUplUpGfy"
      },
      "source": [
        "Para ver qué procesos están en el background, tenemos dos comandos, por un lado podemos usar `jobs`"
      ]
    },
    {
      "cell_type": "code",
      "execution_count": null,
      "metadata": {
        "id": "zgWSkl-spGfy",
        "outputId": "a86f453e-de9f-4378-ff37-df69a0fa94a9"
      },
      "outputs": [
        {
          "name": "stdout",
          "output_type": "stream",
          "text": [
            "jobs\n",
            "[1]+  Detenido                ping localhost\n"
          ]
        }
      ],
      "source": [
        "!jobs"
      ]
    },
    {
      "cell_type": "markdown",
      "metadata": {
        "id": "kRWRQbKDpGfz"
      },
      "source": [
        "Este comando nos da el proceso y el número de job, este número será el que deberemos usar para llevar el proceso al foreground"
      ]
    },
    {
      "cell_type": "markdown",
      "metadata": {
        "id": "i0nupMXWpGfz"
      },
      "source": [
        "### Ver los procesos en background con `ps`"
      ]
    },
    {
      "cell_type": "markdown",
      "metadata": {
        "id": "YZBxItqQpGfz"
      },
      "source": [
        "Otro comando que podemos usar es `ps` (processes)"
      ]
    },
    {
      "cell_type": "code",
      "execution_count": null,
      "metadata": {
        "id": "pDxHhJ0XpGfz",
        "outputId": "b92e6d22-a31f-40dc-82c2-a549defd0514"
      },
      "outputs": [
        {
          "name": "stdout",
          "output_type": "stream",
          "text": [
            "    PID TTY          TIME CMD\n",
            "  16232 pts/3    00:00:00 bash\n",
            "  17070 pts/3    00:00:00 ping\n",
            "  18376 pts/3    00:00:00 ps\n"
          ]
        }
      ],
      "source": [
        "!ps"
      ]
    },
    {
      "cell_type": "markdown",
      "metadata": {
        "id": "LwPlDE4NpGfz"
      },
      "source": [
        "Este comando no solo nos da la información de los procesos que corren en background, sino de todos los procesos que están corriendo en la terminal."
      ]
    },
    {
      "cell_type": "markdown",
      "metadata": {
        "id": "8Um4vCgZpGfz"
      },
      "source": [
        "Es importante recalcar que si abrimos una nueva terminal y usamos cualquiera de estos comandos no nos va a dar la información del ping, ya que lo ejecutamos en otra terminal"
      ]
    },
    {
      "cell_type": "code",
      "execution_count": null,
      "metadata": {
        "id": "xSl4Gtz0pGf0",
        "outputId": "51000740-0009-441a-fe53-53882f9c0beb"
      },
      "outputs": [
        {
          "name": "stdout",
          "output_type": "stream",
          "text": [
            "    PID TTY          TIME CMD\n",
            "  18993 pts/2    00:00:00 bash\n",
            "  19290 pts/2    00:00:00 ps\n"
          ]
        }
      ],
      "source": [
        "!ps"
      ]
    },
    {
      "cell_type": "markdown",
      "metadata": {
        "id": "yd7bDgREpGf0"
      },
      "source": [
        "Como vemos `jobs` no devuelve nada porque en esta terminal no hay ningún proceso en el background y `ps` solo nos devuelve la información de bash (la propia terminal) y el comando ps lanzado"
      ]
    },
    {
      "cell_type": "markdown",
      "metadata": {
        "id": "oGcXYTb1pGf0"
      },
      "source": [
        "### Llevar un proceso del background al foreground"
      ]
    },
    {
      "cell_type": "markdown",
      "metadata": {
        "id": "RkssGxrupGf0"
      },
      "source": [
        "Para llevar un proceso alforeground hay que usar el comando `fg`, si se quiere traer el último que se ha llevado al background solo con poner `fg` vale, sino hay que indicarle el número de job"
      ]
    },
    {
      "cell_type": "markdown",
      "metadata": {
        "id": "3XNrsN47pGf0"
      },
      "source": [
        "Vamos a volver a ver los procesos que teníamos en el background"
      ]
    },
    {
      "cell_type": "code",
      "execution_count": null,
      "metadata": {
        "id": "RcaJF2IlpGf0",
        "outputId": "e27235b0-375b-4370-89fa-a810925b5e64"
      },
      "outputs": [
        {
          "name": "stdout",
          "output_type": "stream",
          "text": [
            "[1]+  Detenido                ping localhost\n"
          ]
        }
      ],
      "source": [
        "!jobs"
      ]
    },
    {
      "cell_type": "markdown",
      "metadata": {
        "id": "ChW-yPbApGf0"
      },
      "source": [
        "Nos podemos llevar este proceso al foreground solo escribiendo `fg` o indicándole el número de job mediante `fg %1`"
      ]
    },
    {
      "cell_type": "code",
      "execution_count": null,
      "metadata": {
        "id": "5u8fI6BypGf1",
        "outputId": "35f7cd97-6937-4d8c-b133-c18dda533212"
      },
      "outputs": [
        {
          "name": "stdout",
          "output_type": "stream",
          "text": [
            "ping localhost\n",
            "64 bytes from localhost (127.0.0.1): icmp_seq=7 ttl=64 time=0.032 ms\n",
            "64 bytes from localhost (127.0.0.1): icmp_seq=8 ttl=64 time=0.036 ms\n",
            "64 bytes from localhost (127.0.0.1): icmp_seq=9 ttl=64 time=0.045 ms\n",
            "64 bytes from localhost (127.0.0.1): icmp_seq=10 ttl=64 time=0.035 ms\n",
            "64 bytes from localhost (127.0.0.1): icmp_seq=11 ttl=64 time=0.031 ms\n"
          ]
        }
      ],
      "source": [
        "!fg %1"
      ]
    },
    {
      "cell_type": "markdown",
      "metadata": {
        "id": "NUVUIHSbpGf1"
      },
      "source": [
        "### Correr un proceso directamente en el background"
      ]
    },
    {
      "cell_type": "markdown",
      "metadata": {
        "id": "Mhs8sV0OpGf1"
      },
      "source": [
        "Vamos a volver a lanzar ahora el navegador Firefox escribiendo `firefox` en la terminal y pulsar `CTRL+Z` para llevarlo al background"
      ]
    },
    {
      "cell_type": "code",
      "execution_count": null,
      "metadata": {
        "id": "lQSaTyf4pGf1",
        "outputId": "154589ab-cf10-4a5c-8fed-89b8e0d0569b"
      },
      "outputs": [
        {
          "name": "stdout",
          "output_type": "stream",
          "text": [
            "[GFX1-]: glxtest: VA-API test failed: failed to initialise VAAPI connection.\n",
            "[2022-11-29T06:16:17Z ERROR glean_core::metrics::ping] Invalid reason code startup for ping background-update\n",
            "^Z\n",
            "[1]+  Detenido                firefox\n"
          ]
        }
      ],
      "source": [
        "!firefox"
      ]
    },
    {
      "cell_type": "markdown",
      "metadata": {
        "id": "pY_2rHIupGf1"
      },
      "source": [
        "Como vemos, pone que el proceso ha sido detenido, por lo que si ahora queremos navegar por Firefox no podemos, ya que está detenido."
      ]
    },
    {
      "cell_type": "markdown",
      "metadata": {
        "id": "NMJowIhopGf2"
      },
      "source": [
        "Para poder lanzar Firefox y que esté en background para que no nos bloquee la terminal, hay que escribir un `&` al final del comando"
      ]
    },
    {
      "cell_type": "code",
      "execution_count": null,
      "metadata": {
        "id": "geAN9_4YpGf2",
        "outputId": "842c94e8-7d0a-48e8-9775-a7e2317732fe"
      },
      "outputs": [
        {
          "name": "stdout",
          "output_type": "stream",
          "text": [
            "[1] 23663\n",
            "$ [GFX1-]: glxtest: VA-API test failed: failed to initialise VAAPI connection.\n",
            "[2022-11-29T06:19:40Z ERROR glean_core::metrics::ping] Invalid reason code startup for ping background-update\n",
            "\n",
            "$\n"
          ]
        }
      ],
      "source": [
        "!firefox &"
      ]
    },
    {
      "cell_type": "markdown",
      "metadata": {
        "id": "dAyuqs3PpGf2"
      },
      "source": [
        "Ahora nos lanzamos Firefox, nos dice su número de job y se queda en el background ejecutándose"
      ]
    },
    {
      "cell_type": "markdown",
      "metadata": {
        "id": "JF2Gf98ApGf2"
      },
      "source": [
        "De hecho, si ahora miramos los procesos, podemos ver el estado de Firefox es *Ejecutando*"
      ]
    },
    {
      "cell_type": "code",
      "execution_count": null,
      "metadata": {
        "id": "P-Tw-fI_pGf2",
        "outputId": "dd40cb10-c098-429b-d365-a37ecf5a94da"
      },
      "outputs": [
        {
          "name": "stdout",
          "output_type": "stream",
          "text": [
            "[1]+  Ejecutando              firefox &\n"
          ]
        }
      ],
      "source": [
        "!jobs"
      ]
    },
    {
      "cell_type": "markdown",
      "metadata": {
        "id": "xz6AllnzpGf3"
      },
      "source": [
        "### Terminar un proceso que está en background"
      ]
    },
    {
      "cell_type": "markdown",
      "metadata": {
        "id": "HAQDo6pgpGf3"
      },
      "source": [
        "Como tenemos Firefox corriendo en background, si queremos que termine, tenemos que usar `kill` y el número de job del proceso. Vamos a usar `jobs` para ver el número de job de Firefox"
      ]
    },
    {
      "cell_type": "code",
      "execution_count": null,
      "metadata": {
        "id": "H71gT_1DpGf3",
        "outputId": "47fbeef6-14d8-497c-b95a-2ce9bd42c9ef"
      },
      "outputs": [
        {
          "name": "stdout",
          "output_type": "stream",
          "text": [
            "[1]+  Ejecutando              firefox &\n"
          ]
        }
      ],
      "source": [
        "!jobs"
      ]
    },
    {
      "cell_type": "markdown",
      "metadata": {
        "id": "Xn9YgxKhpGf3"
      },
      "source": [
        "Su número de trabajo es el 1, por lo que ponemos ese número para terminar el proceso."
      ]
    },
    {
      "cell_type": "code",
      "execution_count": null,
      "metadata": {
        "id": "NS7fAknKpGf3",
        "outputId": "b424be0c-7801-4501-bd24-3b69d81acb37"
      },
      "outputs": [
        {
          "name": "stdout",
          "output_type": "stream",
          "text": [
            "\n"
          ]
        }
      ],
      "source": [
        "!kill %1"
      ]
    },
    {
      "cell_type": "markdown",
      "metadata": {
        "id": "PvZeNCzVpGf3"
      },
      "source": [
        "No nos responde nada, pero si volvemos a usar `jobs` para ver los procesos en el background"
      ]
    },
    {
      "cell_type": "code",
      "execution_count": null,
      "metadata": {
        "id": "_d9nzqd3pGf4",
        "outputId": "6e685a9b-e4ed-43e4-c878-e534ee0a6ee0"
      },
      "outputs": [
        {
          "name": "stdout",
          "output_type": "stream",
          "text": [
            "[1]+  Terminado               firefox\n"
          ]
        }
      ],
      "source": [
        "!jobs"
      ]
    },
    {
      "cell_type": "markdown",
      "metadata": {
        "id": "W30kOiEdpGf4"
      },
      "source": [
        "Vemos que nos dice que Firefox ha terminado, si volvemos a ejecutar `jobs` ya no aparecerá nada"
      ]
    },
    {
      "cell_type": "code",
      "execution_count": null,
      "metadata": {
        "id": "p8GssepapGf4",
        "outputId": "15610b61-72a1-456a-f86c-0388dc4c2efe"
      },
      "outputs": [
        {
          "name": "stdout",
          "output_type": "stream",
          "text": [
            "\n"
          ]
        }
      ],
      "source": [
        "!jobs"
      ]
    },
    {
      "cell_type": "markdown",
      "metadata": {
        "id": "cMsmx9MspGf4"
      },
      "source": [
        "## Procesos en background independientes de la terminal"
      ]
    },
    {
      "cell_type": "markdown",
      "metadata": {
        "id": "WXs39kqEpGf4"
      },
      "source": [
        "Hasta ahora hemos visto cómo ejecutar procesos en background dependientes de la terminal, esto quiere decir, que is mandamos al background un procesos y cerramos la terminal, este mandará un mensaje de fin a todos los procesos que están en su background y terminarán"
      ]
    },
    {
      "cell_type": "markdown",
      "metadata": {
        "id": "SylEhZ12pGf4"
      },
      "source": [
        "Pero hay veces que nos interesa que el proceso se quede en background, poder cerrar la terminal, abrir otra y recuperar ese proceso, para ello usaremos `tmux`, que es un multiplexor de terminales.\n",
        "\n",
        "Es posible que venga instalada, por lo que para instalarla tienes que introducir lo siguiente\n",
        "\n",
        "``` bash\n",
        "sudo apt install tmux\n",
        "```"
      ]
    },
    {
      "cell_type": "markdown",
      "metadata": {
        "id": "wgSuH7yVpGf5"
      },
      "source": [
        "Una vez instalada, podemos crear una nueva sesión de `tmux` mediante el `tmux new -s <name>`\n",
        "\n",
        "``` bash\n",
        "tmux new -s session1\n",
        "```\n",
        "\n",
        "Esto nos abrirá una nueva terminal, que en realidad es una sesión de `tmux`"
      ]
    },
    {
      "cell_type": "markdown",
      "metadata": {
        "id": "osiQyRnupGf5"
      },
      "source": [
        "Dentro de ella podemos lanzar un proceso, por ejemplo un `ping` a nosotros mismos"
      ]
    },
    {
      "cell_type": "code",
      "execution_count": null,
      "metadata": {
        "id": "2OqnmgZxpGf5",
        "outputId": "23fc9e4d-d573-4394-a6d3-56b3c103566c"
      },
      "outputs": [
        {
          "name": "stdout",
          "output_type": "stream",
          "text": [
            "PING localhost (127.0.0.1) 56(84) bytes of data.\n",
            "64 bytes from localhost (127.0.0.1): icmp_seq=1 ttl=64 time=0.036 ms\n",
            "64 bytes from localhost (127.0.0.1): icmp_seq=2 ttl=64 time=0.019 ms\n",
            "64 bytes from localhost (127.0.0.1): icmp_seq=3 ttl=64 time=0.031 ms\n"
          ]
        }
      ],
      "source": [
        "!ping localhost"
      ]
    },
    {
      "cell_type": "markdown",
      "metadata": {
        "id": "g3tLDsDrpGf5"
      },
      "source": [
        "Podemos cerrar esa terminal"
      ]
    },
    {
      "cell_type": "markdown",
      "metadata": {
        "id": "G9RQgODupGf5"
      },
      "source": [
        "Si abrimos una nueva, podemos ver todas las sesiones de `tmux` abiertas con el comando `tmux ls`"
      ]
    },
    {
      "cell_type": "code",
      "execution_count": null,
      "metadata": {
        "id": "jTcx2CbgpGf6",
        "outputId": "8094a53d-a777-4821-ba7c-c9df9b9dbd29"
      },
      "outputs": [
        {
          "name": "stdout",
          "output_type": "stream",
          "text": [
            "session1: 1 windows (created Tue Nov 29 08:15:22 2022)\n"
          ]
        }
      ],
      "source": [
        "!tmux ls"
      ]
    },
    {
      "cell_type": "markdown",
      "metadata": {
        "id": "Q9gs5Ml9pGf6"
      },
      "source": [
        "Y podemos entrar en una sesión mediante el comando `tmux`, seguido de `a` (attach), `-t` (tag) y el nombre de la sesión"
      ]
    },
    {
      "cell_type": "code",
      "execution_count": null,
      "metadata": {
        "id": "QphM_r7XpGf6",
        "outputId": "1acb11de-8d59-452a-e195-53d2f3d913c4"
      },
      "outputs": [
        {
          "name": "stdout",
          "output_type": "stream",
          "text": [
            "64 bytes from localhost (127.0.0.1): icmp_seq=146 ttl=64 time=0.025 ms\n",
            "64 bytes from localhost (127.0.0.1): icmp_seq=147 ttl=64 time=0.022 ms\n",
            "64 bytes from localhost (127.0.0.1): icmp_seq=148 ttl=64 time=0.026 ms\n",
            "64 bytes from localhost (127.0.0.1): icmp_seq=149 ttl=64 time=0.013 ms\n",
            "64 bytes from localhost (127.0.0.1): icmp_seq=150 ttl=64 time=0.027 ms\n",
            "64 bytes from localhost (127.0.0.1): icmp_seq=151 ttl=64 time=0.019 ms\n"
          ]
        }
      ],
      "source": [
        "!tmux a -t session1"
      ]
    },
    {
      "cell_type": "markdown",
      "metadata": {
        "id": "m-qGrm-5pGf6"
      },
      "source": [
        "Como vemos, hemos recuperado el `ping` de antes"
      ]
    },
    {
      "cell_type": "markdown",
      "metadata": {
        "id": "G9TPZRUZpGf7"
      },
      "source": [
        "Cuando estamos dentro de una sesión, podemos salir de ella (matándola) escribiendo `CTRL+D` o escribiendo `exit`"
      ]
    },
    {
      "cell_type": "markdown",
      "metadata": {
        "id": "f3f4rr55pGf7"
      },
      "source": [
        "## Manejo de procesos"
      ]
    },
    {
      "cell_type": "markdown",
      "metadata": {
        "id": "2t59FgzfpGf7"
      },
      "source": [
        "Para manejar los procesos de nuestro sistema tenemos varias opciones"
      ]
    },
    {
      "cell_type": "markdown",
      "metadata": {
        "id": "_xjAvyAHpGf7"
      },
      "source": [
        "### Manejador de procesos `ps`"
      ]
    },
    {
      "cell_type": "markdown",
      "metadata": {
        "id": "G9xe2wILpGf7"
      },
      "source": [
        "Como hemos visto antes `ps` nos da los procesos que están corriendo en nuestra terminal. Por ejemplo, ejecutamos un proceso en el background y vemos los procesos con `ps`"
      ]
    },
    {
      "cell_type": "code",
      "execution_count": null,
      "metadata": {
        "id": "ypDl4AWapGf7",
        "outputId": "12d8e3de-8be8-4d9f-e9e1-9eb2d1065734"
      },
      "outputs": [
        {
          "name": "stdout",
          "output_type": "stream",
          "text": [
            "[1] 50555\n"
          ]
        }
      ],
      "source": [
        "!firefox &"
      ]
    },
    {
      "cell_type": "markdown",
      "metadata": {
        "id": "tjy7aXQapGf8"
      },
      "source": [
        "Vemos ahora los procesos"
      ]
    },
    {
      "cell_type": "code",
      "execution_count": null,
      "metadata": {
        "id": "xA8Yb3qdpGf8",
        "outputId": "27e879b3-e6c0-44bf-e107-485909e5162d"
      },
      "outputs": [
        {
          "name": "stdout",
          "output_type": "stream",
          "text": [
            "    PID TTY          TIME CMD\n",
            "  36660 pts/3    00:00:00 bash\n",
            "  50555 pts/3    00:00:02 firefox\n",
            "  50613 pts/3    00:00:00 Socket Process\n",
            "  50635 pts/3    00:00:00 Privileged Cont\n",
            "  50683 pts/3    00:00:00 WebExtensions\n",
            "  50741 pts/3    00:00:00 Web Content\n",
            "  50743 pts/3    00:00:00 Web Content\n",
            "  50748 pts/3    00:00:00 Web Content\n",
            "  50840 pts/3    00:00:00 ps\n"
          ]
        }
      ],
      "source": [
        "!ps"
      ]
    },
    {
      "cell_type": "markdown",
      "metadata": {
        "id": "l_qmS6LlpGf8"
      },
      "source": [
        "Una vez sepamos su PID, podemos matar el proceso"
      ]
    },
    {
      "cell_type": "code",
      "execution_count": null,
      "metadata": {
        "id": "_gXL8_RapGf8",
        "outputId": "86834fc2-4675-409b-84a4-742be317d1e1"
      },
      "outputs": [
        {
          "name": "stdout",
          "output_type": "stream",
          "text": [
            "\n"
          ]
        }
      ],
      "source": [
        "!kill 50555"
      ]
    },
    {
      "cell_type": "markdown",
      "metadata": {
        "id": "MF7bT3supGf8"
      },
      "source": [
        "Vemos ahora los procesos"
      ]
    },
    {
      "cell_type": "code",
      "execution_count": null,
      "metadata": {
        "id": "dvLj5W0QpGf9",
        "outputId": "7b8c2112-e98f-44df-8bd0-c47c62baf93a"
      },
      "outputs": [
        {
          "name": "stdout",
          "output_type": "stream",
          "text": [
            "    PID TTY          TIME CMD\n",
            "  36660 pts/3    00:00:00 bash\n",
            "  51132 pts/3    00:00:00 ps\n"
          ]
        }
      ],
      "source": [
        "!ps"
      ]
    },
    {
      "cell_type": "markdown",
      "metadata": {
        "id": "D8xXp7popGf9"
      },
      "source": [
        "Pero como hemos dicho, lo malo de `ps` es que solo muestra los procesos de su terminal"
      ]
    },
    {
      "cell_type": "markdown",
      "metadata": {
        "id": "eKJS6eDxpGf9"
      },
      "source": [
        "Para que nos muestre todos los procesos del sistema tenemos que añadir `aux`"
      ]
    },
    {
      "cell_type": "code",
      "execution_count": null,
      "metadata": {
        "id": "CKHK7OUFpGf9",
        "outputId": "d10791e4-3577-481b-cd42-961eff8bf5fa"
      },
      "outputs": [
        {
          "name": "stdout",
          "output_type": "stream",
          "text": [
            "USER         PID %CPU %MEM    VSZ   RSS TTY      STAT START   TIME COMMAND\n",
            "root           1  0.2  0.0 169936 13172 ?        Ss   23:06   0:01 /sbin/init splash\n",
            "root           2  0.0  0.0      0     0 ?        S    23:06   0:00 [kthreadd]\n",
            "root           3  0.0  0.0      0     0 ?        I<   23:06   0:00 [rcu_gp]\n",
            "root           4  0.0  0.0      0     0 ?        I<   23:06   0:00 [rcu_par_gp]\n",
            "root           5  0.0  0.0      0     0 ?        I<   23:06   0:00 [netns]\n",
            "root           7  0.0  0.0      0     0 ?        I<   23:06   0:00 [kworker/0:0H-events_highpri]\n",
            "root           9  0.0  0.0      0     0 ?        I<   23:06   0:00 [kworker/0:1H-events_highpri]\n",
            "root          10  0.0  0.0      0     0 ?        I<   23:06   0:00 [mm_percpu_wq]\n",
            "root          11  0.0  0.0      0     0 ?        S    23:06   0:00 [rcu_tasks_rude_]\n",
            "\t ...\n",
            "wallabot   11094  0.0  0.2 1184730916 65900 ?    Sl   23:19   0:00 /opt/google/chrome/chrome --type=renderer --crashpad-handler-pid=5080 --enable-crash-reporter=, --change-stack-guard-on-fork=enable --lang=es --num-raster-threads=4 --enable-main-frame-before-activation --renderer-client-id=76 --time-ticks-at-unix-epoch=-1670018798736448 --launch-time-ticks=781545948 --shared-files=v8_context_snapshot_data:100 --field-trial-handle=0,i,18391862866948577032,30807856093711604,131072\n",
            "wallabot   11428  0.3  0.2 38136100 75812 ?      Sl   23:21   0:00 /usr/share/code/code --ms-enable-electron-run-as-node /usr/share/code/resources/app/extensions/markdown-language-features/server/dist/node/main --node-ipc --clientProcessId=8508\n",
            "root       11508  0.0  0.0      0     0 ?        I    23:21   0:00 [kworker/4:1-events]\n",
            "wallabot   11683  0.0  0.0  14192  3380 ?        R    23:22   0:00 ps aux\n",
            "\n"
          ]
        }
      ],
      "source": [
        "terminal(\"ps aux\", max_lines_output=10)"
      ]
    },
    {
      "cell_type": "markdown",
      "metadata": {
        "id": "Wqu-jWWQpGf9"
      },
      "source": [
        "Ahora, si lo que quiero es buscar solo los procesos que esté ejecutando mi usuario, lo puedo hacer creando un `pipe` y buscando con `grep`"
      ]
    },
    {
      "cell_type": "code",
      "execution_count": null,
      "metadata": {
        "id": "th7e2F7cpGf9",
        "outputId": "06ee84ef-2ed3-4762-afcf-b72763ac97d0"
      },
      "outputs": [
        {
          "name": "stdout",
          "output_type": "stream",
          "text": [
            "avahi        802  0.0  0.0   8536  3912 ?        Ss   23:06   0:00 avahi-daemon: running [wallabot.local]\n",
            "wallabot    1153  0.0  0.0  19856 10624 ?        Ss   23:06   0:00 /lib/systemd/systemd --user\n",
            "wallabot    1154  0.0  0.0 170004  3680 ?        S    23:06   0:00 (sd-pam)\n",
            "wallabot    1159  0.1  0.0 2569384 22808 ?       S<sl 23:06   0:01 /usr/bin/pulseaudio --daemonize=no --log-target=journal\n",
            "wallabot    1161  0.1  0.1 591424 37248 ?        SNsl 23:06   0:02 /usr/libexec/tracker-miner-fs\n",
            "wallabot    1164  0.0  0.0 390744  8664 ?        SLl  23:06   0:00 /usr/bin/gnome-keyring-daemon --daemonize --login\n",
            "wallabot    1168  0.0  0.0 166804  6616 tty2     Ssl+ 23:06   0:00 /usr/lib/gdm3/gdm-x-session --run-script env GNOME_SHELL_SESSION_MODE=ubuntu /usr/bin/gnome-session --systemd --session=ubuntu\n",
            "wallabot    1173  0.0  0.0   8904  6012 ?        Ss   23:06   0:00 /usr/bin/dbus-daemon --session --address=systemd: --nofork --nopidfile --systemd-activation --syslog-only\n",
            "wallabot    1181  0.0  0.0 242628  7884 ?        Ssl  23:06   0:00 /usr/libexec/gvfsd\n",
            "wallabot    1196  0.0  0.0 378348  5544 ?        Sl   23:06   0:00 /usr/libexec/gvfsd-fuse /run/user/1000/gvfs -f -o big_writes\n",
            "wallabot    1203  0.0  0.0 316896  9540 ?        Ssl  23:06   0:00 /usr/libexec/gvfs-udisks2-volume-monitor\n",
            "wallabot    1209  0.0  0.0 319540  8920 ?        Ssl  23:06   0:00 /usr/libexec/gvfs-afc-volume-monitor\n",
            "wallabot    1215  0.0  0.0 238612  5476 ?        Ssl  23:06   0:00 /usr/libexec/gvfs-mtp-volume-monitor\n",
            "wallabot    1220  0.0  0.0 239456  6988 ?        Ssl  23:06   0:00 /usr/libexec/gvfs-goa-volume-monitor\n",
            "wallabot    1224  0.0  0.2 707176 69244 ?        SLl  23:06   0:00 /usr/libexec/goa-daemon\n",
            "wallabot    1231  0.0  0.0 317692  9068 ?        Sl   23:06   0:00 /usr/libexec/goa-identity-service\n",
            "wallabot    1237  0.0  0.0 240888  6244 ?        Ssl  23:06   0:00 /usr/libexec/gvfs-gphoto2-volume-monitor\n",
            "wallabot    1308  0.0  0.0 190872 13688 tty2     Sl+  23:06   0:00 /usr/libexec/gnome-session-binary --systemd --systemd --session=ubuntu\n",
            "wallabot    1375  0.0  0.0   6040   452 ?        Ss   23:06   0:00 /usr/bin/ssh-agent /usr/bin/im-launch env GNOME_SHELL_SESSION_MODE=ubuntu /usr/bin/gnome-session --systemd --session=ubuntu\n",
            "wallabot    1394  0.0  0.0 305428  6572 ?        Ssl  23:06   0:00 /usr/libexec/at-spi-bus-launcher\n",
            "wallabot    1399  0.0  0.0   7380  4240 ?        S    23:06   0:00 /usr/bin/dbus-daemon --config-file=/usr/share/defaults/at-spi2/accessibility.conf --nofork --print-address 3\n",
            "wallabot    1405  0.0  0.0  92852  4228 ?        Ssl  23:06   0:00 /usr/libexec/gnome-session-ctl --monitor\n",
            "wallabot    1412  0.0  0.0 414004 16532 ?        Ssl  23:06   0:00 /usr/libexec/gnome-session-binary --systemd-service --session=ubuntu\n",
            "wallabot    1426  3.7  1.2 5576364 425284 ?      Rsl  23:06   0:41 /usr/bin/gnome-shell\n",
            "wallabot    1476  0.0  0.0 387612  8436 ?        Sl   23:06   0:00 ibus-daemon --panel disable --xim\n",
            "wallabot    1480  0.0  0.0 165628  7060 ?        Sl   23:06   0:00 /usr/libexec/ibus-memconf\n",
            "wallabot    1481  0.0  0.0 276012 29224 ?        Sl   23:06   0:00 /usr/libexec/ibus-extension-gtk3\n",
            "wallabot    1483  0.0  0.0 196832 24676 ?        Sl   23:06   0:00 /usr/libexec/ibus-x11 --kill-daemon\n",
            "wallabot    1486  0.0  0.0 239400  7244 ?        Sl   23:06   0:00 /usr/libexec/ibus-portal\n",
            "wallabot    1498  0.0  0.0 162916  6508 ?        Sl   23:06   0:00 /usr/libexec/at-spi2-registryd --use-gnome-session\n",
            "wallabot    1502  0.0  0.0 238512  5936 ?        Ssl  23:06   0:00 /usr/libexec/xdg-permission-store\n",
            "wallabot    1504  0.0  0.0 862476 24084 ?        Sl   23:06   0:00 /usr/libexec/gnome-shell-calendar-server\n",
            "wallabot    1513  0.0  0.0 618416 32636 ?        Ssl  23:06   0:00 /usr/libexec/evolution-source-registry\n",
            "wallabot    1521  0.0  0.0 156476  5716 ?        Sl   23:06   0:00 /usr/libexec/dconf-service\n",
            "wallabot    1524  0.0  0.0 165712  7076 ?        Ssl  23:06   0:00 /usr/libexec/gvfsd-metadata\n",
            "wallabot    1535  0.0  0.1 1680828 49932 ?       Ssl  23:06   0:00 /usr/libexec/evolution-calendar-factory\n",
            "wallabot    1551  0.0  0.0 676260 30636 ?        Ssl  23:06   0:00 /usr/libexec/evolution-addressbook-factory\n",
            "wallabot    1585  0.0  0.0 2933212 27180 ?       Sl   23:06   0:00 /usr/bin/gjs /usr/share/gnome-shell/org.gnome.Shell.Notifications\n",
            "wallabot    1597  0.0  0.0 316920  7980 ?        Sl   23:06   0:00 /usr/libexec/gvfsd-trash --spawner :1.4 /org/gtk/gvfs/exec_spaw/0\n",
            "wallabot    1612  0.0  0.0 312652  6796 ?        Ssl  23:06   0:00 /usr/libexec/gsd-a11y-settings\n",
            "wallabot    1613  0.0  0.0 587548 27164 ?        Ssl  23:06   0:00 /usr/libexec/gsd-color\n",
            "wallabot    1614  0.0  0.0 376604 16508 ?        Ssl  23:06   0:00 /usr/libexec/gsd-datetime\n",
            "wallabot    1616  0.0  0.0 314840  7876 ?        Ssl  23:06   0:00 /usr/libexec/gsd-housekeeping\n",
            "wallabot    1619  0.0  0.0 344796 25276 ?        Ssl  23:06   0:00 /usr/libexec/gsd-keyboard\n",
            "wallabot    1623  0.0  0.0 900140 28012 ?        Ssl  23:06   0:00 /usr/libexec/gsd-media-keys\n",
            "wallabot    1627  0.0  0.0 418936 25736 ?        Ssl  23:06   0:00 /usr/libexec/gsd-power\n",
            "wallabot    1629  0.0  0.0 251196 11384 ?        Ssl  23:06   0:00 /usr/libexec/gsd-print-notifications\n",
            "wallabot    1630  0.0  0.0 459940  6088 ?        Ssl  23:06   0:00 /usr/libexec/gsd-rfkill\n",
            "wallabot    1632  0.0  0.0 238348  6344 ?        Ssl  23:06   0:00 /usr/libexec/gsd-screensaver-proxy\n",
            "wallabot    1633  0.0  0.0 467776 11088 ?        Ssl  23:06   0:00 /usr/libexec/gsd-sharing\n",
            "wallabot    1634  0.0  0.0 318156 10452 ?        Ssl  23:06   0:00 /usr/libexec/gsd-smartcard\n",
            "wallabot    1636  0.0  0.0 322344  9400 ?        Ssl  23:06   0:00 /usr/libexec/gsd-sound\n",
            "wallabot    1637  0.0  0.0 461692  7252 ?        Ssl  23:06   0:00 /usr/libexec/gsd-usb-protection\n",
            "wallabot    1640  0.0  0.0 344332 24372 ?        Ssl  23:06   0:00 /usr/libexec/gsd-wacom\n",
            "wallabot    1643  0.0  0.0 390820  8260 ?        Ssl  23:06   0:00 /usr/libexec/gsd-wwan\n",
            "wallabot    1644  0.0  0.0 345572 25980 ?        Ssl  23:06   0:00 /usr/libexec/gsd-xsettings\n",
            "wallabot    1649  0.0  0.2 1227284 75100 ?       Sl   23:06   0:00 /usr/libexec/evolution-data-server/evolution-alarm-notify\n",
            "wallabot    1673  0.0  0.1 413288 60304 ?        Sl   23:06   0:00 /usr/bin/python3 /usr/bin/solaar\n",
            "wallabot    1692  0.0  0.0 231804  5972 ?        Sl   23:06   0:00 /usr/libexec/gsd-disk-utility-notify\n",
            "wallabot    1730  0.0  0.0 165620  7028 ?        Sl   23:06   0:00 /usr/libexec/ibus-engine-simple\n",
            "wallabot    1739  0.0  0.0 438456 19104 ?        Sl   23:06   0:00 /usr/libexec/gvfsd-http --spawner :1.4 /org/gtk/gvfs/exec_spaw/1\n",
            "wallabot    1748  0.4  0.6 1242548 217144 ?      Sl   23:06   0:04 /snap/snap-store/599/usr/bin/snap-store --gapplication-service\n",
            "wallabot    1760  0.0  0.0 345020 15016 ?        Sl   23:06   0:00 /usr/libexec/gsd-printer\n",
            "wallabot    1797  0.0  0.0 608052  6664 ?        Ssl  23:06   0:00 /usr/libexec/xdg-document-portal\n",
            "wallabot    2170  0.0  0.0 612960 11060 ?        Ssl  23:06   0:00 /usr/libexec/xdg-desktop-portal\n",
            "wallabot    2174  0.0  0.0 493648 26488 ?        Ssl  23:06   0:00 /usr/libexec/xdg-desktop-portal-gtk\n",
            "wallabot    4839  0.0  0.0 420020 28340 ?        Sl   23:07   0:00 update-notifier\n",
            "wallabot    5019  0.0  0.0 436628 21644 ?        Sl   23:08   0:00 /usr/libexec/gvfsd-google --spawner :1.4 /org/gtk/gvfs/exec_spaw/2\n",
            "wallabot    5072  3.2  1.1 34219664 391492 ?     SLl  23:08   0:32 /opt/google/chrome/chrome\n",
            "wallabot    5077  0.0  0.0  10844   580 ?        S    23:08   0:00 cat\n",
            "wallabot    5078  0.0  0.0  10844   516 ?        S    23:08   0:00 cat\n",
            "wallabot    5080  0.0  0.0 33576132 3140 ?       Sl   23:08   0:00 /opt/google/chrome/chrome_crashpad_handler --monitor-self --monitor-self-annotation=ptype=crashpad-handler --database=/home/wallabot/.config/google-chrome/Crash Reports --url=https://clients2.google.com/cr/report --annotation=channel= --annotation=lsb-release=Ubuntu 20.04.5 LTS --annotation=plat=Linux --annotation=prod=Chrome_Linux --annotation=ver=108.0.5359.71 --initial-client-fd=5 --shared-client-connection\n",
            "wallabot    5082  0.0  0.0 33567920 2952 ?       Sl   23:08   0:00 /opt/google/chrome/chrome_crashpad_handler --no-periodic-tasks --monitor-self-annotation=ptype=crashpad-handler --database=/home/wallabot/.config/google-chrome/Crash Reports --url=https://clients2.google.com/cr/report --annotation=channel= --annotation=lsb-release=Ubuntu 20.04.5 LTS --annotation=plat=Linux --annotation=prod=Chrome_Linux --annotation=ver=108.0.5359.71 --initial-client-fd=4 --shared-client-connection\n",
            "wallabot    5088  0.0  0.1 33854440 59168 ?      S    23:08   0:00 /opt/google/chrome/chrome --type=zygote --no-zygote-sandbox --crashpad-handler-pid=5080 --enable-crash-reporter=, --change-stack-guard-on-fork=enable\n",
            "wallabot    5089  0.0  0.1 33854436 59068 ?      S    23:08   0:00 /opt/google/chrome/chrome --type=zygote --crashpad-handler-pid=5080 --enable-crash-reporter=, --change-stack-guard-on-fork=enable\n",
            "wallabot    5090  0.0  0.0 33568428 5024 ?       S    23:08   0:00 /opt/google/chrome/nacl_helper\n",
            "wallabot    5093  0.0  0.0 33854460 16384 ?      S    23:08   0:00 /opt/google/chrome/chrome --type=zygote --crashpad-handler-pid=5080 --enable-crash-reporter=, --change-stack-guard-on-fork=enable\n",
            "wallabot    5123  6.0  0.8 34211392 285560 ?     Sl   23:08   1:00 /opt/google/chrome/chrome --type=gpu-process --crashpad-handler-pid=5080 --enable-crash-reporter=, --change-stack-guard-on-fork=enable --gpu-preferences=WAAAAAAAAAAgAAAIAAAAAAAAAAAAAAAAAABgAAAAAAA4AAAAAAAAAAAAAAAAAAAAAAAAAAAAAAAAAAAAAAAAACAAAAAAAAAAIAAAAAAAAAABAAAAAAAAAAgAAAAAAAAACAAAAAAAAAAIAAAAAAAAAA== --shared-files --field-trial-handle=0,i,18391862866948577032,30807856093711604,131072\n",
            "wallabot    5124  0.6  0.3 33918264 119584 ?     Sl   23:08   0:06 /opt/google/chrome/chrome --type=utility --utility-sub-type=network.mojom.NetworkService --lang=es --service-sandbox-type=none --crashpad-handler-pid=5080 --enable-crash-reporter=, --change-stack-guard-on-fork=enable --shared-files=v8_context_snapshot_data:100 --field-trial-handle=0,i,18391862866948577032,30807856093711604,131072\n",
            "wallabot    5136  0.0  0.1 33895840 52500 ?      Sl   23:08   0:00 /opt/google/chrome/chrome --type=utility --utility-sub-type=storage.mojom.StorageService --lang=es --service-sandbox-type=utility --crashpad-handler-pid=5080 --enable-crash-reporter=, --change-stack-guard-on-fork=enable --shared-files=v8_context_snapshot_data:100 --field-trial-handle=0,i,18391862866948577032,30807856093711604,131072\n",
            "wallabot    5155  0.1  0.4 1184797648 132208 ?   Sl   23:08   0:01 /opt/google/chrome/chrome --type=renderer --crashpad-handler-pid=5080 --enable-crash-reporter=, --extension-process --change-stack-guard-on-fork=enable --lang=es --num-raster-threads=4 --enable-main-frame-before-activation --renderer-client-id=5 --time-ticks-at-unix-epoch=-1670018798736448 --launch-time-ticks=121160165 --shared-files=v8_context_snapshot_data:100 --field-trial-handle=0,i,18391862866948577032,30807856093711604,131072\n",
            "wallabot    5171  4.5  0.6 1188020280 229028 ?   Sl   23:08   0:44 /opt/google/chrome/chrome --type=renderer --crashpad-handler-pid=5080 --enable-crash-reporter=, --change-stack-guard-on-fork=enable --lang=es --num-raster-threads=4 --enable-main-frame-before-activation --renderer-client-id=27 --time-ticks-at-unix-epoch=-1670018798736448 --launch-time-ticks=121254783 --shared-files=v8_context_snapshot_data:100 --field-trial-handle=0,i,18391862866948577032,30807856093711604,131072\n",
            "wallabot    5228  0.0  0.2 1184772236 89352 ?    Sl   23:08   0:00 /opt/google/chrome/chrome --type=renderer --crashpad-handler-pid=5080 --enable-crash-reporter=, --extension-process --change-stack-guard-on-fork=enable --lang=es --num-raster-threads=4 --enable-main-frame-before-activation --renderer-client-id=6 --time-ticks-at-unix-epoch=-1670018798736448 --launch-time-ticks=121309474 --shared-files=v8_context_snapshot_data:100 --field-trial-handle=0,i,18391862866948577032,30807856093711604,131072\n",
            "wallabot    5247  0.0  0.2 1184788292 86368 ?    Sl   23:08   0:00 /opt/google/chrome/chrome --type=renderer --crashpad-handler-pid=5080 --enable-crash-reporter=, --extension-process --change-stack-guard-on-fork=enable --lang=es --num-raster-threads=4 --enable-main-frame-before-activation --renderer-client-id=7 --time-ticks-at-unix-epoch=-1670018798736448 --launch-time-ticks=121342017 --shared-files=v8_context_snapshot_data:100 --field-trial-handle=0,i,18391862866948577032,30807856093711604,131072\n",
            "wallabot    5274  0.3  0.4 1184796488 155056 ?   Sl   23:08   0:03 /opt/google/chrome/chrome --type=renderer --crashpad-handler-pid=5080 --enable-crash-reporter=, --extension-process --change-stack-guard-on-fork=enable --lang=es --num-raster-threads=4 --enable-main-frame-before-activation --renderer-client-id=8 --time-ticks-at-unix-epoch=-1670018798736448 --launch-time-ticks=121354013 --shared-files=v8_context_snapshot_data:100 --field-trial-handle=0,i,18391862866948577032,30807856093711604,131072\n",
            "wallabot    5294  0.1  0.3 1184797648 123536 ?   Sl   23:08   0:01 /opt/google/chrome/chrome --type=renderer --crashpad-handler-pid=5080 --enable-crash-reporter=, --extension-process --change-stack-guard-on-fork=enable --lang=es --num-raster-threads=4 --enable-main-frame-before-activation --renderer-client-id=9 --time-ticks-at-unix-epoch=-1670018798736448 --launch-time-ticks=121366454 --shared-files=v8_context_snapshot_data:100 --field-trial-handle=0,i,18391862866948577032,30807856093711604,131072\n",
            "wallabot    5300  0.0  0.2 1184771900 88048 ?    Sl   23:08   0:00 /opt/google/chrome/chrome --type=renderer --crashpad-handler-pid=5080 --enable-crash-reporter=, --extension-process --change-stack-guard-on-fork=enable --lang=es --num-raster-threads=4 --enable-main-frame-before-activation --renderer-client-id=10 --time-ticks-at-unix-epoch=-1670018798736448 --launch-time-ticks=121370528 --shared-files=v8_context_snapshot_data:100 --field-trial-handle=0,i,18391862866948577032,30807856093711604,131072\n",
            "wallabot    5325  0.0  0.1 34023608 34500 ?      S    23:08   0:00 /opt/google/chrome/chrome --type=broker\n",
            "wallabot    5343  0.0  0.3 1184780096 98820 ?    Sl   23:08   0:00 /opt/google/chrome/chrome --type=renderer --crashpad-handler-pid=5080 --enable-crash-reporter=, --extension-process --change-stack-guard-on-fork=enable --lang=es --num-raster-threads=4 --enable-main-frame-before-activation --renderer-client-id=45 --time-ticks-at-unix-epoch=-1670018798736448 --launch-time-ticks=121454617 --shared-files=v8_context_snapshot_data:100 --field-trial-handle=0,i,18391862866948577032,30807856093711604,131072\n",
            "wallabot    5381  0.0  0.0 197896 29728 ?        Sl   23:08   0:00 /usr/bin/python3 /usr/bin/chrome-gnome-shell chrome-extension://gphhapmejobijbbhgpjhcjognlahblep/\n",
            "wallabot    5467  0.8  0.5 1185857508 194536 ?   Sl   23:08   0:08 /opt/google/chrome/chrome --type=renderer --crashpad-handler-pid=5080 --enable-crash-reporter=, --change-stack-guard-on-fork=enable --lang=es --num-raster-threads=4 --enable-main-frame-before-activation --renderer-client-id=48 --time-ticks-at-unix-epoch=-1670018798736448 --launch-time-ticks=122388284 --shared-files=v8_context_snapshot_data:100 --field-trial-handle=0,i,18391862866948577032,30807856093711604,131072\n",
            "wallabot    5547  0.0  0.2 34155852 77000 ?      Sl   23:08   0:00 /opt/google/chrome/chrome --type=utility --utility-sub-type=audio.mojom.AudioService --lang=es --service-sandbox-type=none --crashpad-handler-pid=5080 --enable-crash-reporter=, --change-stack-guard-on-fork=enable --shared-files=v8_context_snapshot_data:100 --field-trial-handle=0,i,18391862866948577032,30807856093711604,131072\n",
            "wallabot    5584  0.0  0.3 1184798704 126008 ?   Sl   23:08   0:00 /opt/google/chrome/chrome --type=renderer --crashpad-handler-pid=5080 --enable-crash-reporter=, --change-stack-guard-on-fork=enable --lang=es --num-raster-threads=4 --enable-main-frame-before-activation --renderer-client-id=40 --time-ticks-at-unix-epoch=-1670018798736448 --launch-time-ticks=127275168 --shared-files=v8_context_snapshot_data:100 --field-trial-handle=0,i,18391862866948577032,30807856093711604,131072\n",
            "wallabot    5590  0.1  0.4 1184799064 148824 ?   Sl   23:08   0:01 /opt/google/chrome/chrome --type=renderer --crashpad-handler-pid=5080 --enable-crash-reporter=, --change-stack-guard-on-fork=enable --lang=es --num-raster-threads=4 --enable-main-frame-before-activation --renderer-client-id=28 --time-ticks-at-unix-epoch=-1670018798736448 --launch-time-ticks=127276723 --shared-files=v8_context_snapshot_data:100 --field-trial-handle=0,i,18391862866948577032,30807856093711604,131072\n",
            "wallabot    5592  8.3  0.8 1187976688 283688 ?   Sl   23:08   1:22 /opt/google/chrome/chrome --type=renderer --crashpad-handler-pid=5080 --enable-crash-reporter=, --change-stack-guard-on-fork=enable --lang=es --num-raster-threads=4 --enable-main-frame-before-activation --renderer-client-id=30 --time-ticks-at-unix-epoch=-1670018798736448 --launch-time-ticks=127278497 --shared-files=v8_context_snapshot_data:100 --field-trial-handle=0,i,18391862866948577032,30807856093711604,131072\n",
            "wallabot    5636  0.0  0.3 1184805876 122780 ?   Sl   23:08   0:00 /opt/google/chrome/chrome --type=renderer --crashpad-handler-pid=5080 --enable-crash-reporter=, --change-stack-guard-on-fork=enable --lang=es --num-raster-threads=4 --enable-main-frame-before-activation --renderer-client-id=51 --time-ticks-at-unix-epoch=-1670018798736448 --launch-time-ticks=127293028 --shared-files=v8_context_snapshot_data:100 --field-trial-handle=0,i,18391862866948577032,30807856093711604,131072\n",
            "wallabot    5753  0.0  0.3 1184796632 104664 ?   Sl   23:08   0:00 /opt/google/chrome/chrome --type=renderer --crashpad-handler-pid=5080 --enable-crash-reporter=, --change-stack-guard-on-fork=enable --lang=es --num-raster-threads=4 --enable-main-frame-before-activation --renderer-client-id=52 --time-ticks-at-unix-epoch=-1670018798736448 --launch-time-ticks=129692647 --shared-files=v8_context_snapshot_data:100 --field-trial-handle=0,i,18391862866948577032,30807856093711604,131072\n",
            "wallabot    5788  3.0  0.8 1185884504 276332 ?   Sl   23:08   0:29 /opt/google/chrome/chrome --type=renderer --crashpad-handler-pid=5080 --enable-crash-reporter=, --change-stack-guard-on-fork=enable --lang=es --num-raster-threads=4 --enable-main-frame-before-activation --renderer-client-id=19 --time-ticks-at-unix-epoch=-1670018798736448 --launch-time-ticks=130329055 --shared-files=v8_context_snapshot_data:100 --field-trial-handle=0,i,18391862866948577032,30807856093711604,131072\n",
            "wallabot    5828  1.9  0.9 1184827212 309156 ?   Sl   23:08   0:19 /opt/google/chrome/chrome --type=renderer --crashpad-handler-pid=5080 --enable-crash-reporter=, --change-stack-guard-on-fork=enable --lang=es --num-raster-threads=4 --enable-main-frame-before-activation --renderer-client-id=22 --time-ticks-at-unix-epoch=-1670018798736448 --launch-time-ticks=131345480 --shared-files=v8_context_snapshot_data:100 --field-trial-handle=0,i,18391862866948577032,30807856093711604,131072\n",
            "wallabot    5846  0.6  0.6 1184844960 207484 ?   Sl   23:08   0:06 /opt/google/chrome/chrome --type=renderer --crashpad-handler-pid=5080 --enable-crash-reporter=, --change-stack-guard-on-fork=enable --lang=es --num-raster-threads=4 --enable-main-frame-before-activation --renderer-client-id=36 --time-ticks-at-unix-epoch=-1670018798736448 --launch-time-ticks=131537892 --shared-files=v8_context_snapshot_data:100 --field-trial-handle=0,i,18391862866948577032,30807856093711604,131072\n",
            "wallabot    6066  0.5  0.6 1184828968 220584 ?   Sl   23:08   0:05 /opt/google/chrome/chrome --type=renderer --crashpad-handler-pid=5080 --enable-crash-reporter=, --change-stack-guard-on-fork=enable --lang=es --num-raster-threads=4 --enable-main-frame-before-activation --renderer-client-id=35 --time-ticks-at-unix-epoch=-1670018798736448 --launch-time-ticks=135569943 --shared-files=v8_context_snapshot_data:100 --field-trial-handle=0,i,18391862866948577032,30807856093711604,131072\n",
            "wallabot    6120  0.0  0.0  43992  6552 ?        Ss   23:08   0:00 /usr/lib/bluetooth/obexd\n",
            "wallabot    6134  0.4  0.7 1184856952 230428 ?   Sl   23:08   0:04 /opt/google/chrome/chrome --type=renderer --crashpad-handler-pid=5080 --enable-crash-reporter=, --change-stack-guard-on-fork=enable --lang=es --num-raster-threads=4 --enable-main-frame-before-activation --renderer-client-id=34 --time-ticks-at-unix-epoch=-1670018798736448 --launch-time-ticks=136358048 --shared-files=v8_context_snapshot_data:100 --field-trial-handle=0,i,18391862866948577032,30807856093711604,131072\n",
            "wallabot    6524  0.4  0.6 1184857312 226988 ?   Sl   23:08   0:04 /opt/google/chrome/chrome --type=renderer --crashpad-handler-pid=5080 --enable-crash-reporter=, --change-stack-guard-on-fork=enable --lang=es --num-raster-threads=4 --enable-main-frame-before-activation --renderer-client-id=33 --time-ticks-at-unix-epoch=-1670018798736448 --launch-time-ticks=139865567 --shared-files=v8_context_snapshot_data:100 --field-trial-handle=0,i,18391862866948577032,30807856093711604,131072\n",
            "wallabot    8034  0.0  0.1 1064452 54580 ?       Sl   23:10   0:00 /usr/bin/gnome-calendar --gapplication-service\n",
            "wallabot    8158  0.7  0.7 3981248 239132 ?      Sl   23:10   0:07 /snap/spotify/60/usr/share/spotify/spotify\n",
            "wallabot    8242  0.0  0.2 647244 77376 ?        S    23:10   0:00 /snap/spotify/60/usr/share/spotify/spotify --type=zygote --no-zygote-sandbox --no-sandbox --log-severity=disable --user-agent-product=Chrome/99.0.4844.84 Spotify/1.1.84.716 --lang=en --user-data-dir=/home/wallabot/snap/spotify/60/.config/spotify/User Data --log-file=/snap/spotify/60/usr/share/spotify/debug.log\n",
            "wallabot    8243  0.0  0.2 647244 77100 ?        S    23:10   0:00 /snap/spotify/60/usr/share/spotify/spotify --type=zygote --no-sandbox --log-severity=disable --user-agent-product=Chrome/99.0.4844.84 Spotify/1.1.84.716 --lang=en --user-data-dir=/home/wallabot/snap/spotify/60/.config/spotify/User Data --log-file=/snap/spotify/60/usr/share/spotify/debug.log\n",
            "wallabot    8259  0.1  0.3 2041284 114252 ?      Sl   23:10   0:01 /snap/spotify/60/usr/share/spotify/spotify --type=gpu-process --no-sandbox --log-severity=disable --user-agent-product=Chrome/99.0.4844.84 Spotify/1.1.84.716 --lang=en --user-data-dir=/home/wallabot/snap/spotify/60/.config/spotify/User Data --gpu-preferences=UAAAAAAAAAAgAAAIAAAAAAAAAAAAAAAAAABgAAAAAAAwAAAAAAAAAAAAAAAAAAAAAAAAAAAAAAAAAAAAAQAAABgAAAAAAAAAGAAAAAAAAAAIAAAAAAAAAAgAAAAAAAAACAAAAAAAAAA= --log-file=/snap/spotify/60/usr/share/spotify/debug.log --shared-files --field-trial-handle=0,i,8625640855432007833,7773453088797360000,131072\n",
            "wallabot    8274  0.0  0.1 868700 34104 ?        Sl   23:10   0:00 /snap/spotify/60/usr/share/spotify/spotify --type=utility --utility-sub-type=storage.mojom.StorageService --lang=en-US --service-sandbox-type=utility --no-sandbox --log-severity=disable --user-agent-product=Chrome/99.0.4844.84 Spotify/1.1.84.716 --lang=en --user-data-dir=/home/wallabot/snap/spotify/60/.config/spotify/User Data --log-file=/snap/spotify/60/usr/share/spotify/debug.log --shared-files=v8_context_snapshot_data:100 --field-trial-handle=0,i,8625640855432007833,7773453088797360000,131072\n",
            "wallabot    8279  0.0  0.3 1148480 99680 ?       Sl   23:10   0:00 /snap/spotify/60/usr/share/spotify/spotify --type=utility --utility-sub-type=network.mojom.NetworkService --lang=en-US --service-sandbox-type=none --no-sandbox --log-severity=disable --user-agent-product=Chrome/99.0.4844.84 Spotify/1.1.84.716 --lang=en --user-data-dir=/home/wallabot/snap/spotify/60/.config/spotify/User Data --log-file=/snap/spotify/60/usr/share/spotify/debug.log --shared-files=v8_context_snapshot_data:100 --field-trial-handle=0,i,8625640855432007833,7773453088797360000,131072\n",
            "wallabot    8319  0.5  0.5 31646352 187140 ?     Sl   23:10   0:05 /snap/spotify/60/usr/share/spotify/spotify --type=renderer --log-severity=disable --user-agent-product=Chrome/99.0.4844.84 Spotify/1.1.84.716 --disable-spell-checking --user-data-dir=/home/wallabot/snap/spotify/60/.config/spotify/User Data --no-sandbox --log-file=/snap/spotify/60/usr/share/spotify/debug.log --lang=en-US --num-raster-threads=4 --enable-main-frame-before-activation --renderer-client-id=5 --launch-time-ticks=210215195 --shared-files=v8_context_snapshot_data:100 --field-trial-handle=0,i,8625640855432007833,7773453088797360000,131072\n",
            "wallabot    8377  0.5  0.4 38371288 161752 ?     SLl  23:10   0:05 /usr/share/code/code --unity-launch --enable-crashpad\n",
            "wallabot    8391  0.0  0.1 33775112 48516 ?      S    23:10   0:00 /usr/share/code/code --type=zygote --no-zygote-sandbox --enable-crashpad --enable-crashpad\n",
            "wallabot    8392  0.0  0.1 33775096 48304 ?      S    23:10   0:00 /usr/share/code/code --type=zygote --enable-crashpad --enable-crashpad\n",
            "wallabot    8394  0.0  0.0 33775124 12448 ?      S    23:10   0:00 /usr/share/code/code --type=zygote --enable-crashpad --enable-crashpad\n",
            "wallabot    8407  0.0  0.0 33575984 3384 ?       Sl   23:10   0:00 /usr/share/code/chrome_crashpad_handler --monitor-self-annotation=ptype=crashpad-handler --no-rate-limit --database=/home/wallabot/.config/Code/Crashpad --url=appcenter://code?aid=fba07a4d-84bd-4fc8-a125-9640fc8ce171&uid=e1be826f-73fb-46c2-a439-9bb52643ccc1&iid=e1be826f-73fb-46c2-a439-9bb52643ccc1&sid=e1be826f-73fb-46c2-a439-9bb52643ccc1 --annotation=_companyName=Microsoft --annotation=_productName=VSCode --annotation=_version=1.73.1 --annotation=lsb-release=Ubuntu 20.04.5 LTS --annotation=plat=Linux --annotation=prod=Electron --annotation=ver=19.0.17 --initial-client-fd=43 --shared-client-connection\n",
            "wallabot    8425  1.5  0.5 33985512 195464 ?     Sl   23:10   0:14 /usr/share/code/code --type=gpu-process --enable-crashpad --crashpad-handler-pid=8407 --enable-crash-reporter=7a83c65f-14e6-4aa2-9df9-71fc458479f5,no_channel --user-data-dir=/home/wallabot/.config/Code --gpu-preferences=WAAAAAAAAAAgAAAIAAAAAAAAAAAAAAAAAABgAAAAAAA4AAAAAAAAAAAAAAAAAAAAAAAAAAAAAAAAAAAAAAAAACAAAAAAAAAAIAAAAAAAAAABAAAAAAAAAAgAAAAAAAAACAAAAAAAAAAIAAAAAAAAAA== --shared-files --field-trial-handle=0,i,8890103601020485358,15523745040863579529,131072 --disable-features=CalculateNativeWinOcclusion,SpareRendererForSitePerProcess\n",
            "wallabot    8429  0.0  0.2 33840968 66520 ?      Sl   23:10   0:00 /usr/share/code/code --type=utility --utility-sub-type=network.mojom.NetworkService --lang=es --service-sandbox-type=none --enable-crashpad --crashpad-handler-pid=8407 --enable-crash-reporter=7a83c65f-14e6-4aa2-9df9-71fc458479f5,no_channel --user-data-dir=/home/wallabot/.config/Code --standard-schemes=vscode-webview,vscode-file --secure-schemes=vscode-webview,vscode-file --bypasscsp-schemes --cors-schemes=vscode-webview,vscode-file --fetch-schemes=vscode-webview,vscode-file --service-worker-schemes=vscode-webview --streaming-schemes --shared-files=v8_context_snapshot_data:100 --field-trial-handle=0,i,8890103601020485358,15523745040863579529,131072 --disable-features=CalculateNativeWinOcclusion,SpareRendererForSitePerProcess --enable-crashpad\n",
            "wallabot    8439  0.0  0.0 33851528 23624 ?      S    23:10   0:00 /usr/share/code/code --type=broker\n",
            "wallabot    8449  8.5  1.1 61424852 390980 ?     Sl   23:10   1:16 /usr/share/code/code --type=renderer --enable-crashpad --crashpad-handler-pid=8407 --enable-crash-reporter=7a83c65f-14e6-4aa2-9df9-71fc458479f5,no_channel --user-data-dir=/home/wallabot/.config/Code --standard-schemes=vscode-webview,vscode-file --secure-schemes=vscode-webview,vscode-file --bypasscsp-schemes --cors-schemes=vscode-webview,vscode-file --fetch-schemes=vscode-webview,vscode-file --service-worker-schemes=vscode-webview --streaming-schemes --app-path=/usr/share/code/resources/app --no-sandbox --no-zygote --enable-blink-features=HighlightAPI --lang=es --num-raster-threads=4 --enable-main-frame-before-activation --renderer-client-id=4 --launch-time-ticks=217445761 --shared-files=v8_context_snapshot_data:100 --field-trial-handle=0,i,8890103601020485358,15523745040863579529,131072 --disable-features=CalculateNativeWinOcclusion,SpareRendererForSitePerProcess --vscode-window-config=vscode:13905479-a7dd-4e24-9b88-cf580c42a25d --enable-crashpad\n",
            "wallabot    8508  1.4  0.8 59175788 268364 ?     Sl   23:10   0:12 /usr/share/code/code --ms-enable-electron-run-as-node --inspect-port=0 /usr/share/code/resources/app/out/bootstrap-fork --type=extensionHost --skipWorkspaceStorageLock\n",
            "wallabot    8566  0.1  0.2 38136100 81468 ?      Sl   23:10   0:01 /usr/share/code/code --ms-enable-electron-run-as-node /home/wallabot/.vscode/extensions/kisstkondoros.vscode-gutter-preview-0.30.0/dist/server.js --node-ipc --clientProcessId=8508\n",
            "wallabot    8575  0.6  0.4 46670736 139408 ?     Sl   23:10   0:05 /usr/share/code/code --type=renderer --enable-crashpad --crashpad-handler-pid=8407 --enable-crash-reporter=7a83c65f-14e6-4aa2-9df9-71fc458479f5,no_channel --user-data-dir=/home/wallabot/.config/Code --standard-schemes=vscode-webview,vscode-file --secure-schemes=vscode-webview,vscode-file --bypasscsp-schemes --cors-schemes=vscode-webview,vscode-file --fetch-schemes=vscode-webview,vscode-file --service-worker-schemes=vscode-webview --streaming-schemes --app-path=/usr/share/code/resources/app --no-sandbox --no-zygote --node-integration-in-worker --lang=es --num-raster-threads=4 --enable-main-frame-before-activation --renderer-client-id=5 --launch-time-ticks=219833707 --shared-files=v8_context_snapshot_data:100 --field-trial-handle=0,i,8890103601020485358,15523745040863579529,131072 --disable-features=CalculateNativeWinOcclusion,SpareRendererForSitePerProcess --vscode-window-config=vscode:be96c98d-9154-449a-b127-c0211495f4ef --vscode-window-kind=shared-process --enable-crashpad\n",
            "wallabot    8593  0.0  0.2 38177772 78236 ?      Sl   23:10   0:00 /usr/share/code/code --ms-enable-electron-run-as-node /usr/share/code/resources/app/out/bootstrap-fork --type=ptyHost --logsPath /home/wallabot/.config/Code/logs/20221202T231016\n",
            "wallabot    8632  0.0  0.2 38185752 94568 ?      Sl   23:10   0:00 /usr/share/code/code --ms-enable-electron-run-as-node /usr/share/code/resources/app/out/bootstrap-fork --type=fileWatcher\n",
            "wallabot    8656  0.6  0.5 42430176 182480 ?     Sl   23:10   0:05 /usr/share/code/code --type=renderer --enable-crashpad --crashpad-handler-pid=8407 --enable-crash-reporter=7a83c65f-14e6-4aa2-9df9-71fc458479f5,no_channel --user-data-dir=/home/wallabot/.config/Code --standard-schemes=vscode-webview,vscode-file --secure-schemes=vscode-webview,vscode-file --bypasscsp-schemes --cors-schemes=vscode-webview,vscode-file --fetch-schemes=vscode-webview,vscode-file --service-worker-schemes=vscode-webview --streaming-schemes --app-path=/usr/share/code/resources/app --enable-sandbox --enable-blink-features=HighlightAPI --lang=es --num-raster-threads=4 --enable-main-frame-before-activation --renderer-client-id=6 --launch-time-ticks=220495638 --shared-files=v8_context_snapshot_data:100 --field-trial-handle=0,i,8890103601020485358,15523745040863579529,131072 --disable-features=CalculateNativeWinOcclusion,SpareRendererForSitePerProcess --vscode-window-config=vscode:13905479-a7dd-4e24-9b88-cf580c42a25d\n",
            "wallabot    8716  1.4  0.5 38140204 169984 ?     Sl   23:10   0:12 /usr/share/code/code --ms-enable-electron-run-as-node /home/wallabot/.vscode/extensions/ms-python.vscode-pylance-2022.11.40/dist/server.bundle.js --cancellationReceive=file:3646d9eb9edaa1bd82425403564df0006a57a0df01 --node-ipc --clientProcessId=8508\n",
            "wallabot    8744  0.1  0.3 38140204 104772 ?     Sl   23:10   0:01 /usr/share/code/code --ms-enable-electron-run-as-node /home/wallabot/.vscode/extensions/ms-python.vscode-pylance-2022.11.40/dist/server.bundle.js --cancellationReceive=file:f832ffa59d80abd5b35e8851e94332c285b2c3f9bb --node-ipc --clientProcessId=8508\n",
            "wallabot    8781  0.1  0.2 480956 77852 ?        Sl   23:10   0:01 /home/wallabot/anaconda3/bin/python -m ipykernel_launcher --ip=127.0.0.1 --stdin=9003 --control=9001 --hb=9000 --Session.signature_scheme=\"hmac-sha256\" --Session.key=b\"c6d890f5-5fb6-41d8-9a66-32d953505406\" --shell=9002 --transport=\"tcp\" --iopub=9004 --f=/home/wallabot/.local/share/jupyter/runtime/kernel-v2-8508kHWtNFMgKsBL.json\n",
            "wallabot    8788  0.0  0.0 116624 29744 ?        Sl   23:10   0:00 /bin/python3 /home/wallabot/.vscode/extensions/ms-python.isort-2022.8.0/bundled/tool/server.py\n",
            "wallabot    8898  0.6  0.4 38144304 146508 ?     Sl   23:10   0:05 /usr/share/code/code --ms-enable-electron-run-as-node /home/wallabot/.vscode/extensions/ms-python.vscode-pylance-2022.11.40/dist/server.bundle.js --cancellationReceive=file:f57d6ea9bb6b4fa6ae2a6938661d2443c126a7b3df --node-ipc --clientProcessId=8508\n",
            "wallabot    8911  0.0  0.2 38136100 70604 ?      Sl   23:10   0:00 /usr/share/code/code --ms-enable-electron-run-as-node /usr/share/code/resources/app/extensions/json-language-features/server/dist/node/jsonServerMain --node-ipc --clientProcessId=8508\n",
            "wallabot    8932  0.0  0.0  13648  5412 pts/0    Ss+  23:10   0:00 /usr/bin/bash --init-file /usr/share/code/resources/app/out/vs/workbench/contrib/terminal/browser/media/shellIntegration-bash.sh\n",
            "wallabot    9112  0.0  0.1 816596 50392 ?        Ssl  23:10   0:00 /usr/libexec/gnome-terminal-server\n",
            "wallabot    9120  0.0  0.0  13628  5212 pts/1    Ss+  23:10   0:00 bash\n",
            "wallabot   10927  0.0  0.3 1184807108 117996 ?   Sl   23:19   0:00 /opt/google/chrome/chrome --type=renderer --crashpad-handler-pid=5080 --enable-crash-reporter=, --change-stack-guard-on-fork=enable --lang=es --num-raster-threads=4 --enable-main-frame-before-activation --renderer-client-id=72 --time-ticks-at-unix-epoch=-1670018798736448 --launch-time-ticks=743183717 --shared-files=v8_context_snapshot_data:100 --field-trial-handle=0,i,18391862866948577032,30807856093711604,131072\n",
            "wallabot   11428  0.1  0.2 38136100 74884 ?      Sl   23:21   0:00 /usr/share/code/code --ms-enable-electron-run-as-node /usr/share/code/resources/app/extensions/markdown-language-features/server/dist/node/main --node-ipc --clientProcessId=8508\n",
            "wallabot   12009  0.0  0.2 1184730916 65832 ?    Sl   23:24   0:00 /opt/google/chrome/chrome --type=renderer --crashpad-handler-pid=5080 --enable-crash-reporter=, --change-stack-guard-on-fork=enable --lang=es --num-raster-threads=4 --enable-main-frame-before-activation --renderer-client-id=80 --time-ticks-at-unix-epoch=-1670018798736448 --launch-time-ticks=1081580044 --shared-files=v8_context_snapshot_data:100 --field-trial-handle=0,i,18391862866948577032,30807856093711604,131072\n",
            "wallabot   12109  0.0  0.0   2616   596 pts/2    Ss+  23:25   0:00 /usr/bin/sh -c ps aux | grep wallabot\n",
            "wallabot   12110  0.0  0.0  14192  3560 pts/2    R+   23:25   0:00 ps aux\n",
            "wallabot   12111  0.0  0.0  11668   660 pts/2    S+   23:25   0:00 grep wallabot\n"
          ]
        }
      ],
      "source": [
        "!ps aux | grep wallabot"
      ]
    },
    {
      "cell_type": "markdown",
      "metadata": {
        "id": "ky1Lrk0epGf-"
      },
      "source": [
        "### Manejador de procesos `top`"
      ]
    },
    {
      "cell_type": "markdown",
      "metadata": {
        "id": "xvoCeWJspGf-"
      },
      "source": [
        "Con `top` podemos ver todos los procesos del sistema operativo. Nos enseñará la información con `less`, por lo que, al igual que se ha explicado antes, cuando se quiera parar `top`, introduciendo `q` parará"
      ]
    },
    {
      "cell_type": "code",
      "execution_count": null,
      "metadata": {
        "id": "mz6goIhIpGf-",
        "outputId": "7898e150-43e1-431e-f6b7-bd3cdb650a4d"
      },
      "outputs": [
        {
          "name": "stdout",
          "output_type": "stream",
          "text": [
            "top - 09:31:32 up  3:21,  1 user,  load average: 2,42, 2,79, 2,48\n",
            "Tareas: 382 total,   1 ejecutar,  381 hibernar,    0 detener,    0 zombie\n",
            "%Cpu(s): 14,2 usuario,  1,5 sist,  0,0 adecuado, 84,3 inact,  0,0 en espera,  0,\n",
            "MiB Mem :  32006,4 total,  20281,8 libre,   6229,0 usado,   5495,6 búfer/caché\n",
            "MiB Intercambio:   2048,0 total,   2048,0 libre,      0,0 usado.  24979,1 dispon\n",
            "\n",
            "    PID USUARIO   PR  NI    VIRT    RES    SHR S  %CPU  %MEM     HORA+ ORDEN    \n",
            "  10192 wallabot  20   0 3347636 388848  84140 S 137,5   1,2 282:24.59 python   \n",
            "  44161 wallabot  20   0   30,2g 217208 100148 S  12,5   0,7   0:40.92 spotify  \n",
            "     76 root      20   0       0      0      0 S   6,2   0,0   0:00.12 ksoftir+ \n",
            "   1105 root     -51   0       0      0      0 S   6,2   0,0   2:54.29 irq/125+ \n",
            "  43990 wallabot  20   0 3998836 246260 145800 S   6,2   0,8   0:53.69 spotify  \n",
            "  44101 wallabot  20   0 1995108 130316  89848 S   6,2   0,4   0:08.34 spotify  \n",
            "  51510 wallabot  20   0   14876   4088   3288 R   6,2   0,0   0:00.01 top      \n",
            "      1 root      20   0  169736  13188   8380 S   0,0   0,0   0:01.51 systemd  \n",
            "      2 root      20   0       0      0      0 S   0,0   0,0   0:00.00 kthreadd \n",
            "      3 root       0 -20       0      0      0 I   0,0   0,0   0:00.00 rcu_gp   \n",
            "      4 root       0 -20       0      0      0 I   0,0   0,0   0:00.00 rcu_par+ \n",
            "      5 root       0 -20       0      0      0 I   0,0   0,0   0:00.00 netns    \n",
            "      7 root       0 -20       0      0      0 I   0,0   0,0   0:00.00 kworker+ \n",
            "      9 root       0 -20       0      0      0 I   0,0   0,0   0:00.03 kworker+ \n",
            "     10 root       0 -20       0      0      0 I   0,0   0,0   0:00.00 mm_perc+ \n",
            "     11 root      20   0       0      0      0 S   0,0   0,0   0:00.00 rcu_tas+ \n",
            "     12 root      20   0       0      0      0 S   0,0   0,0   0:00.00 rcu_tas+\n"
          ]
        }
      ],
      "source": [
        "!top"
      ]
    },
    {
      "cell_type": "markdown",
      "metadata": {
        "id": "hVLZV9KPpGf-"
      },
      "source": [
        "Como se puede ver, el `PID` 44161 es Spotify que lo estoy usando ahora para reproducir música, pero con `ps` no lo habíamos visto"
      ]
    },
    {
      "cell_type": "markdown",
      "metadata": {
        "id": "pfx-YFIhpGf_"
      },
      "source": [
        "Al igual que antes, si queremos matar un proceso debemos introducir `kill` y su `PID`"
      ]
    },
    {
      "cell_type": "markdown",
      "metadata": {
        "id": "f0rDiaVgpGf_"
      },
      "source": [
        "Lo bueno de top es que nos da muchas más utilidades, si pulsamos `h` nos mostrará ayuda"
      ]
    },
    {
      "cell_type": "code",
      "execution_count": null,
      "metadata": {
        "id": "vzynvAmcpGf_",
        "outputId": "1a3192f7-399f-4df8-e652-4753527fffe6"
      },
      "outputs": [
        {
          "name": "stdout",
          "output_type": "stream",
          "text": [
            "Help for Interactive Commands - procps-ng 3.3.16\n",
            "Window 1:Def: Cumulative mode Apagado.  System: Delay 3,0 secs; Secure mode Apag\n",
            "\n",
            "  Z,B,E,e   Global: 'Z' colors; 'B' bold; 'E'/'e' summary/task memory scale\n",
            "  l,t,m     Toggle Summary: 'l' load avg; 't' task/cpu stats; 'm' memory info\n",
            "  0,1,2,3,I Toggle: '0' zeros; '1/2/3' cpus or numa node views; 'I' Irix mode\n",
            "  f,F,X     Fields: 'f'/'F' add/remove/order/sort; 'X' increase fixed-width\n",
            "\n",
            "  L,&,<,> . Locate: 'L'/'&' find/again; Move sort column: '<'/'>' left/right\n",
            "  R,H,J,C . Toggle: 'R' Sort; 'H' Threads; 'J' Num justify; 'C' Coordinates\n",
            "  c,i,S,j . Toggle: 'c' Cmd name/line; 'i' Idle; 'S' Time; 'j' Str justify\n",
            "  x,y     . Toggle highlights: 'x' sort field; 'y' running tasks\n",
            "  z,b     . Toggle: 'z' color/mono; 'b' bold/reverse (only if 'x' or 'y')\n",
            "  u,U,o,O . Filter by: 'u'/'U' effective/any user; 'o'/'O' other criteria\n",
            "  n,#,^O  . Set: 'n'/'#' max tasks displayed; Show: Ctrl+'O' other filter(s)\n",
            "  V,v     . Toggle: 'V' forest view; 'v' hide/show forest view children\n",
            "\n",
            "  k,r Gestiona tareas: «k» detener; «r» reiniciar\n",
            "  d o s Establece intervalo de actualización\n",
            "  W,Y       Write configuration file 'W'; Inspect other output 'Y'\n",
            "  q         Quit\n",
            "          ( commands shown with '.' require a visible task display window ) \n",
            "Press 'h' or '?' for help with Windows,\n",
            "Type 'q' or <Esc> to continue\n"
          ]
        }
      ],
      "source": [
        "!h"
      ]
    },
    {
      "cell_type": "markdown",
      "metadata": {
        "id": "Bup_BfFapGf_"
      },
      "source": [
        "Para salir, pulsar `ESC` o `q`"
      ]
    },
    {
      "cell_type": "markdown",
      "metadata": {
        "id": "DtRyj4UxpGf_"
      },
      "source": [
        "Como se muestra en la ayuda, si se introduce `u` podemos filtrar por usuario, introducimos mi usuario (wallabot) y puedo ver solo mis procesos"
      ]
    },
    {
      "cell_type": "code",
      "execution_count": null,
      "metadata": {
        "id": "4CIlKwg0pGf_",
        "outputId": "fb3d4c55-7a7d-4f0b-f92f-1b6287878c3f"
      },
      "outputs": [
        {
          "name": "stdout",
          "output_type": "stream",
          "text": [
            "top - 09:35:57 up  3:25,  1 user,  load average: 1,02, 2,27, 2,39\n",
            "Tareas: 378 total,   1 ejecutar,  377 hibernar,    0 detener,    0 zombie\n",
            "%Cpu(s): 13,4 usuario,  0,4 sist,  0,0 adecuado, 86,1 inact,  0,1 en espera,  0,\n",
            "MiB Mem :  32006,4 total,  20288,0 libre,   6212,0 usado,   5506,4 búfer/caché\n",
            "MiB Intercambio:   2048,0 total,   2048,0 libre,      0,0 usado.  24989,1 dispon\n",
            "\n",
            "    PID USUARIO   PR  NI    VIRT    RES    SHR S  %CPU  %MEM     HORA+ ORDEN    \n",
            "  10192 wallabot  20   0 3347636 388848  84140 S 148,2   1,2 288:46.50 python   \n",
            "  43990 wallabot  20   0 3998836 246552 146092 S   2,7   0,8   0:59.55 spotify  \n",
            "   1384 wallabot  20   0 4909848 453700 133164 S   1,7   1,4  11:14.02 gnome-s+ \n",
            "   1119 wallabot   9 -11 3093876  24504  17836 S   1,3   0,1   0:48.99 pulseau+ \n",
            "  32462 wallabot  20   0 1134,0g 643412 128632 S   1,3   2,0   7:39.91 chrome   \n",
            "  44161 wallabot  20   0   30,2g 217112 100488 S   1,3   0,7   0:44.87 spotify  \n",
            "  10135 wallabot  20   0  826220  58164  41648 S   1,0   0,2   0:14.56 gnome-t+ \n",
            "   6635 wallabot  20   0   33,0g 647936 436252 S   0,3   2,0   4:01.80 chrome   \n",
            "   6679 wallabot  20   0   32,4g 125564  94016 S   0,3   0,4   0:52.19 chrome   \n",
            "   8010 wallabot  20   0 1130,9g 232800 116092 S   0,3   0,7   0:13.70 chrome   \n",
            "  44101 wallabot  20   0 1995108 130444  89916 S   0,3   0,4   0:09.19 spotify  \n",
            "   1113 wallabot  20   0   19880  10528   8096 S   0,0   0,0   0:00.38 systemd  \n",
            "   1114 wallabot  20   0  169792   3636     12 S   0,0   0,0   0:00.00 (sd-pam) \n",
            "   1121 wallabot  39  19  591436  37256  16676 S   0,0   0,1   0:03.19 tracker+ \n",
            "   1124 wallabot  20   0  390740   8688   7416 S   0,0   0,0   0:00.45 gnome-k+ \n",
            "   1128 wallabot  20   0  166804   6596   5956 S   0,0   0,0   0:00.00 gdm-x-s+ \n",
            "   1134 wallabot  20   0    9152   6144   3796 S   0,0   0,0   0:01.81 dbus-da+\n"
          ]
        }
      ],
      "source": [
        "!u"
      ]
    },
    {
      "cell_type": "markdown",
      "metadata": {
        "id": "lED19VWXpGgA"
      },
      "source": [
        "Otra forma de ver esto para poder filtrar por usuario sería hacerse un pipeline y usando `grep`"
      ]
    },
    {
      "cell_type": "code",
      "execution_count": null,
      "metadata": {
        "id": "9vP1__yMpGgA",
        "outputId": "ac09549d-5ea3-4086-b6fb-b95d6584e553"
      },
      "outputs": [
        {
          "name": "stdout",
          "output_type": "stream",
          "text": [
            "   1440 wallabot  20   0 4684708 505432 118024 S   6,7   1,5   2:05.92 gnome-s+ \n",
            "  25326 wallabot  20   0 1133,0g 527912 123732 S   1,7   1,6   1:31.73 chrome   \n",
            "   1440 wallabot  20   0 4684708 505476 118024 S   1,3   1,5   2:05.96 gnome-s+ \n",
            "   6199 wallabot  20   0 1131,0g 266068 116164 S   0,3   0,8   0:15.23 chrome   \n",
            "  17606 wallabot  20   0  818228  52096  39488 S   0,3   0,2   0:02.59 gnome-t+ \n",
            "  34284 wallabot  20   0   14876   4376   3308 R   0,3   0,0   0:00.02 top\n"
          ]
        }
      ],
      "source": [
        "!top | grep wallabot"
      ]
    },
    {
      "cell_type": "markdown",
      "metadata": {
        "id": "FUVkE2wspGgA"
      },
      "source": [
        "### Manejador de procesos `htop`"
      ]
    },
    {
      "cell_type": "markdown",
      "metadata": {
        "id": "A1JU3-sepGgA"
      },
      "source": [
        "Es parecido a `top` pero más potente\n",
        "\n",
        "Probablemente no lo tengas instalado, así que para instalarlo introduce el comando\n",
        "\n",
        "``` bash\n",
        "sudo apt install htop\n",
        "```\n",
        "\n",
        "o\n",
        "\n",
        "``` bash\n",
        "sudo snap install htop\n",
        "```"
      ]
    },
    {
      "cell_type": "markdown",
      "metadata": {
        "id": "eqDGHKzYpGgA"
      },
      "source": [
        "### Manejador de procesos `glances`"
      ]
    },
    {
      "cell_type": "markdown",
      "metadata": {
        "id": "BQg3gbtvpGgA"
      },
      "source": [
        "Es parecido a `top` pero más potente\n",
        "\n",
        "Probablemente no lo tengas instalado, así que para instalarlo introduce el comando\n",
        "\n",
        "``` bash\n",
        "sudo apt install glances\n",
        "```"
      ]
    },
    {
      "cell_type": "markdown",
      "metadata": {
        "id": "bjcpiXyApGgA"
      },
      "source": [
        "## Gestión de memoria RAM"
      ]
    },
    {
      "cell_type": "markdown",
      "metadata": {
        "id": "tBxzW0xzpGgA"
      },
      "source": [
        "Si solo queremos obtener información de la memoria podemos hacer uso del comando `free`"
      ]
    },
    {
      "cell_type": "code",
      "execution_count": null,
      "metadata": {
        "id": "2TR0PVyXpGgA",
        "outputId": "a14ea31b-70b1-45b5-9546-196da89c1eac"
      },
      "outputs": [
        {
          "name": "stdout",
          "output_type": "stream",
          "text": [
            "              total       usado       libre  compartido búfer/caché  disponible\n",
            "Memoria:    32774516     6563544    20091804      276296     6119168    25479600\n",
            "Swap:       2097148           0     2097148\n"
          ]
        }
      ],
      "source": [
        "!free"
      ]
    },
    {
      "cell_type": "markdown",
      "metadata": {
        "id": "zxpCf3C9pGgB"
      },
      "source": [
        "Pero como esta información no es muy fácil de digerir, añadimos el flag `-h` (human), para que sea más fácil de leer"
      ]
    },
    {
      "cell_type": "code",
      "execution_count": null,
      "metadata": {
        "id": "gEQO7bX_pGgB",
        "outputId": "f9e86277-6602-45b8-b8b3-2a829f4396ad"
      },
      "outputs": [
        {
          "name": "stdout",
          "output_type": "stream",
          "text": [
            "              total       usado       libre  compartido búfer/caché  disponible\n",
            "Memoria:        31Gi       6,3Gi        19Gi       270Mi       5,8Gi        24Gi\n",
            "Swap:         2,0Gi          0B       2,0Gi\n"
          ]
        }
      ],
      "source": [
        "!free -h"
      ]
    },
    {
      "cell_type": "markdown",
      "metadata": {
        "id": "PCqpAxqApGgB"
      },
      "source": [
        "## Gestión del disco duro"
      ]
    },
    {
      "cell_type": "markdown",
      "metadata": {
        "id": "UIZKrw1LpGgB"
      },
      "source": [
        "Para obtener información del disco duro hacemos uso del comando `du`, si solo introducimos este comando por terminal nos dará la información de todas las carpetas de nuestra máquina, por eso, para no obtener demasiada información, es necesario introducirle una ruta que queremos escanear"
      ]
    },
    {
      "cell_type": "code",
      "execution_count": null,
      "metadata": {
        "id": "ghpPH4abpGgB",
        "outputId": "57efd7d8-ad72-4543-8f05-0fb389c055dc"
      },
      "outputs": [
        {
          "name": "stdout",
          "output_type": "stream",
          "text": [
            "8\t/home/wallabot/Documentos/web/portafolio/posts/__pycache__\n",
            "1648\t/home/wallabot/Documentos/web/portafolio/posts/notebooks_translated\n",
            "4288\t/home/wallabot/Documentos/web/portafolio/posts/html_files\n",
            "336\t/home/wallabot/Documentos/web/portafolio/posts/prueba/tocompress\n",
            "1132\t/home/wallabot/Documentos/web/portafolio/posts/prueba\n",
            "16\t/home/wallabot/Documentos/web/portafolio/posts/introduccion_python/__pycache__\n",
            "28\t/home/wallabot/Documentos/web/portafolio/posts/introduccion_python\n",
            "11232\t/home/wallabot/Documentos/web/portafolio/posts/\n"
          ]
        }
      ],
      "source": [
        "!du ~/Documentos/web/portafolio/posts/"
      ]
    },
    {
      "cell_type": "markdown",
      "metadata": {
        "id": "cm2KGYvQpGgB"
      },
      "source": [
        "Al igual que antes, añadimos el flag `-h` (human) para que sea más fácil de leer"
      ]
    },
    {
      "cell_type": "code",
      "execution_count": null,
      "metadata": {
        "id": "qVa2wYIIpGgC",
        "outputId": "4b39c65a-2bde-4990-d379-5b13bc42dc06"
      },
      "outputs": [
        {
          "name": "stdout",
          "output_type": "stream",
          "text": [
            "8,0K\t/home/wallabot/Documentos/web/portafolio/posts/__pycache__\n",
            "1,7M\t/home/wallabot/Documentos/web/portafolio/posts/notebooks_translated\n",
            "4,2M\t/home/wallabot/Documentos/web/portafolio/posts/html_files\n",
            "336K\t/home/wallabot/Documentos/web/portafolio/posts/prueba/tocompress\n",
            "1,2M\t/home/wallabot/Documentos/web/portafolio/posts/prueba\n",
            "16K\t/home/wallabot/Documentos/web/portafolio/posts/introduccion_python/__pycache__\n",
            "28K\t/home/wallabot/Documentos/web/portafolio/posts/introduccion_python\n",
            "11M\t/home/wallabot/Documentos/web/portafolio/posts/\n"
          ]
        }
      ],
      "source": [
        "!du ~/Documentos/web/portafolio/posts/ -h"
      ]
    },
    {
      "cell_type": "markdown",
      "metadata": {
        "id": "Qc70WrBfpGgC"
      },
      "source": [
        "## Gestión de interfaces"
      ]
    },
    {
      "cell_type": "markdown",
      "metadata": {
        "id": "91CnrbNepGgC"
      },
      "source": [
        "En Ubuntu, por defecto arrancamos en una interfaz gráfica, pero podemos abrir otras interfaces, que no serán gráficas, introduciendo `CTRL`+`ALT`+`F<num>` donde el número puede ir desde el 1 hasta el 6. Solo la 2 tendrá la interfaz gráfica y la 1 será el inicio de sesión"
      ]
    },
    {
      "cell_type": "markdown",
      "metadata": {
        "id": "yPZ62KQGpGgC"
      },
      "source": [
        "Al manejar varias interfaces podemos no saber en cuál nos encontramos, así que introduciendo el comando `tty` nos dirá en cuál estamos"
      ]
    },
    {
      "cell_type": "code",
      "execution_count": null,
      "metadata": {
        "id": "4GwqjGcRpGgC",
        "outputId": "a39f49ea-3c82-4ba8-fe05-cd8c7da836ee"
      },
      "outputs": [
        {
          "name": "stdout",
          "output_type": "stream",
          "text": [
            "/dev/pts/0\n"
          ]
        }
      ],
      "source": [
        "!tty"
      ]
    },
    {
      "cell_type": "markdown",
      "metadata": {
        "id": "L0CcDsg4pGgC"
      },
      "source": [
        "## Manejo de paquetes"
      ]
    },
    {
      "cell_type": "markdown",
      "metadata": {
        "id": "ahZSed5mpGgD"
      },
      "source": [
        "### Repositorios PPA (Personal Package Archives)"
      ]
    },
    {
      "cell_type": "markdown",
      "metadata": {
        "id": "OgOWCi3FpGgD"
      },
      "source": [
        "En Linux, la gestión de paquetes se hace a través de repositorios. Esto es una lista de direcciones donde se encuentran los binarios de nuestros programas. Así, cuando queremos actualizar o instalar nuestros programas (luego explicaremos cómo), lo que hará el sistema operativo es ver la lista de estos repositorios e ir a las direcciones indicadas a buscar los binarios"
      ]
    },
    {
      "cell_type": "markdown",
      "metadata": {
        "id": "v3VVhIWZpGgD"
      },
      "source": [
        "Esta lista de repositorios se encuentra en `/etc/apt/sources.list` y dentro de la carpeta `/etc/apt/sources.list.d`. Vamos a ver esta lista."
      ]
    },
    {
      "cell_type": "code",
      "execution_count": null,
      "metadata": {
        "id": "6iA_pUz-pGgD",
        "outputId": "ff3dde7b-0547-4f5c-8062-b00a2f70b053"
      },
      "outputs": [
        {
          "name": "stdout",
          "output_type": "stream",
          "text": [
            "# deb cdrom:[Ubuntu 20.04.2.0 LTS _Focal Fossa_ - Release amd64 (20210209.1)]/ focal main restricted\n",
            "\n",
            "# See http://help.ubuntu.com/community/UpgradeNotes for how to upgrade to\n",
            "# newer versions of the distribution.\n",
            "deb http://es.archive.ubuntu.com/ubuntu/ focal main restricted\n",
            "# deb-src http://es.archive.ubuntu.com/ubuntu/ focal main restricted\n",
            "\n",
            "## Major bug fix updates produced after the final release of the\n",
            "## distribution.\n",
            "deb http://es.archive.ubuntu.com/ubuntu/ focal-updates main restricted\n",
            "\t ...\n",
            "deb https://developer.download.nvidia.com/compute/cuda/repos/ubuntu2004/x86_64/ /\n",
            "# deb-src https://developer.download.nvidia.com/compute/cuda/repos/ubuntu2004/x86_64/ /\n",
            "deb https://apt.kitware.com/ubuntu/ focal main\n",
            "# deb-src https://apt.kitware.com/ubuntu/ focal main\n",
            "\n"
          ]
        }
      ],
      "source": [
        "terminal(\"cat /etc/apt/sources.list\", max_lines_output=10)"
      ]
    },
    {
      "cell_type": "markdown",
      "metadata": {
        "id": "KoUHTu6gpGgD"
      },
      "source": [
        "Las primeras líneas que incluyen la palabra `cd-rom` son referencias al CD de instalación, siempre vienen con las palabras `deb cdrom:` aunque se haya instalado a través de la red o de un USB.\n",
        "\n",
        "A partir de aquí empiezan a aparecer diversas líneas que empiezan con `deb` o `deb-src`. En `deb` se encuentran los binarios y en `deb-src` se encuentra el código fuente.\n",
        "\n",
        "Toda dirección válida de repositorio tiene uno de estos formatos:\n",
        "\n",
        "* deb http://dirección_del_servidor/nombre_carpeta nombre_de_versión (main o universe o multiverse o main restricted, etc)\n",
        "* deb-src http://direccion_del_servidor/nombre_carpeta nombre_de_version (main o universe o multiverse o main restricted, etc)"
      ]
    },
    {
      "cell_type": "markdown",
      "metadata": {
        "id": "MCZiPRSRpGgD"
      },
      "source": [
        "Los seis tipos de repositorios de Ubuntu son:\n",
        " 1. Main\n",
        "\n",
        "El repositorio `Main` está activado por defecto y contiene solo software libre y de código abierto o `FOSS` por sus siglas en inglés (Free and Open-Source Software).\n",
        "\n",
        " 2. Universe\n",
        "\n",
        "Como `Main`, `Universe` también ofrece `FOSS`. La diferencia es que en este repositorio no es Ubuntu quien garantiza actualizaciones de seguridad regulares, sino que es la comunidad quien se encarga de su soporte. Viene activado por defecto, pero no siempre. Algunos sistemas operativos lo tienen desactivado por defecto y podríamos tener que activarlo si estamos ejecutando una Live Session. Si no lo tenemos añadido, podemos hacerlo con este comando:\n",
        "    \n",
        "``` bash\n",
        "sudo add-apt-repository universe\n",
        "```\n",
        "\n",
        "¿Qué encontramos en «Universe»? Yo diría que la mayoría del software que merece la pena, entre lo que tenemos VLC u OpenShot.\n",
        "\n",
        " 3. Multiverse\n",
        "\n",
        "A partir de aquí vienen los repositorios de Ubuntu con menos libertad. `Multiverse` contiene software que ya no es `FOSS` y Ubuntu no puede activar este repositorio por defecto por problemas legales y de licencias. Por otra parte, tampoco puede proporcionar parches y actualizaciones. Con esto en mente, tenemos que valorar si lo añadimos o no, algo que podremos hacer con este comando:\n",
        "\n",
        "``` bash\n",
        "sudo add-apt-repository multiverse\n",
        "```\n",
        "\n",
        " 4. Restricted\n",
        "\n",
        "En los repositorios de Ubuntu podremos encontrar software libre y de código abierto, pero esto no es posible cuando se trata de algo relacionado con el hardware. En los repositorios `Restricted` encontraremos drivers, como los de las tarjetas gráficas, paneles táctiles o tarjetas de red.\n",
        "\n",
        "``` bash\n",
        "sudo add-apt-repository restricted\n",
        "```\n",
        "\n",
        "5. Partner\n",
        "\n",
        "Este repositorio contiene software propietario compilado por Ubuntu de sus socios.\n",
        "\n",
        " 6. Repositorios de Ubuntu de terceros\n",
        "\n",
        "Por último, tenemos los repositorios de terceros. Ubuntu trata de ofrecer siempre la mejor experiencia de usuario y ese es uno de los motivos por los que rechaza cierto software. También hay desarrolladores que prefieren tener un control total sobre lo que ofrecen y por ese motivo crean sus propios repositorios."
      ]
    },
    {
      "cell_type": "markdown",
      "metadata": {
        "id": "qOEWf9QnpGgE"
      },
      "source": [
        "### Añadir repositorios"
      ]
    },
    {
      "cell_type": "markdown",
      "metadata": {
        "id": "DqRSV8atpGgE"
      },
      "source": [
        "Si estamos en Ubuntu, podemos añadir un repositorio mediante el comando `add-apt-repository <repository>`. Pero como en otras distribuciones que no sean Ubuntu, no tenemos este comando"
      ]
    },
    {
      "cell_type": "markdown",
      "metadata": {
        "id": "MmGXF7sjpGgE"
      },
      "source": [
        "### Actualizar los repositorios"
      ]
    },
    {
      "cell_type": "markdown",
      "metadata": {
        "id": "cw7t_Of-pGgE"
      },
      "source": [
        "Mediante el comando `apt update` podremos actualizar las últimas versiones de los paquetes que tenemos en nuestro repositorio."
      ]
    },
    {
      "cell_type": "markdown",
      "metadata": {
        "id": "I2Y-wScDpGgE"
      },
      "source": [
        "### Actualizar los paquetes"
      ]
    },
    {
      "cell_type": "markdown",
      "metadata": {
        "id": "lf1-hEyUpGgE"
      },
      "source": [
        "Mediante el comando `apt upgrade` podremos actualizar los programas que tengamos instalados y de los cuales antes hayamos actualizado su repositorio"
      ]
    },
    {
      "cell_type": "markdown",
      "metadata": {
        "id": "cfQ1IBhCpGgE"
      },
      "source": [
        "### Actualizar el kernel"
      ]
    },
    {
      "cell_type": "markdown",
      "metadata": {
        "id": "FaxJ9hOUpGgE"
      },
      "source": [
        "Si usamos el comando `apt dist-upgrade` se actualizarán también paquetes del kernel\n",
        "\n",
        "> ¡Cuidado!: Actualizar paquetes del kernel puede conllevar a que algunos paquetes se rompan\n",
        "\n",
        "> Recordatorio: Al actualizar paquetes del kernel, para que hagan efecto es necesario reiniciar el ordenador"
      ]
    },
    {
      "cell_type": "markdown",
      "metadata": {
        "id": "u2LsV1G_pGgF"
      },
      "source": [
        "### Búsqueda de paquetes"
      ]
    },
    {
      "cell_type": "markdown",
      "metadata": {
        "id": "f3G4Vzi-pGgF"
      },
      "source": [
        "Con el comando `apt search <paquete>` podemos encontrar paquetes"
      ]
    },
    {
      "cell_type": "code",
      "execution_count": null,
      "metadata": {
        "id": "9GlZ1ZJ-pGgF",
        "outputId": "fb1c54d7-dd29-4f38-d23e-2728c623e332"
      },
      "outputs": [
        {
          "name": "stdout",
          "output_type": "stream",
          "text": [
            "Ordenando...\n",
            "Buscar en todo el texto...\n",
            "anacrolix-dms/focal 1.1.0-1 amd64\n",
            "  Go UPnP DLNA Digital Media Server with basic video transcoding\n",
            "\n",
            "cubemap/focal 1.4.3-1build1 amd64\n",
            "  scalable video reflector, designed to be used with VLC\n",
            "\n",
            "dvblast/focal 3.4-1 amd64\n",
            "  Simple and powerful dvb-streaming application\n",
            "\t ...\n",
            "\n",
            "x264/focal 2:0.155.2917+git0a84d98-2 amd64\n",
            "  video encoder for the H.264/MPEG-4 AVC standard\n",
            "\n",
            "\n"
          ]
        }
      ],
      "source": [
        "terminal(\"apt search vlc\", max_lines_output=10)"
      ]
    },
    {
      "cell_type": "markdown",
      "metadata": {
        "id": "NlP4LDoSpGgF"
      },
      "source": [
        "### Listado de paquetes instalados"
      ]
    },
    {
      "cell_type": "markdown",
      "metadata": {
        "id": "QZuAHh2mpGgF"
      },
      "source": [
        "Para ver qué paquetes tenemos instalados podemos usar `dpkg -l`, esto nos dará una lista de todos los paquetes que tenemos instalados en nuestro ordenador"
      ]
    },
    {
      "cell_type": "code",
      "execution_count": null,
      "metadata": {
        "id": "ZQEq5CuxpGgF",
        "outputId": "ad711dd8-93d1-4ad7-8a9e-23a1a97665ce"
      },
      "outputs": [
        {
          "name": "stdout",
          "output_type": "stream",
          "text": [
            "Deseado=desconocido(U)/Instalar/eliminaR/Purgar/retener(H)\n",
            "| Estado=No/Inst/ficheros-Conf/desempaqUetado/medio-conF/medio-inst(H)/espera-disparo(W)/pendienTe-disparo\n",
            "|/ Err?=(ninguno)/requiere-Reinst (Estado,Err: mayúsc.=malo)\n",
            "||/ Nombre                                     Versión                               Arquitectura Descripción\n",
            "+++-==========================================-=====================================-============-===========================================================================================================================================================================================================================================================================================================================================================================================================================================\n",
            "ii  accountsservice                            0.6.55-0ubuntu12~20.04.5              amd64        query and manipulate user account information\n",
            "ii  acl                                        2.2.53-6                              amd64        access control list - utilities\n",
            "ii  acpi-support                               0.143                                 amd64        scripts for handling many ACPI events\n",
            "ii  acpid                                      1:2.0.32-1ubuntu1                     amd64        Advanced Configuration and Power Interface event daemon\n",
            "ii  adduser                                    3.118ubuntu2                          all          add and remove users and groups\n",
            "\t ...\n",
            "ii  zip                                        3.0-11build1                          amd64        Archiver for .zip files\n",
            "ii  zlib1g:amd64                               1:1.2.11.dfsg-2ubuntu1.5              amd64        compression library - runtime\n",
            "ii  zlib1g:i386                                1:1.2.11.dfsg-2ubuntu1.5              i386         compression library - runtime\n",
            "ii  zlib1g-dev:amd64                           1:1.2.11.dfsg-2ubuntu1.5              amd64        compression library - development\n",
            "\n"
          ]
        }
      ],
      "source": [
        "terminal(\"dpkg -l\", max_lines_output=10)"
      ]
    },
    {
      "cell_type": "markdown",
      "metadata": {
        "id": "elBElIBJpGgG"
      },
      "source": [
        "Si queremos buscar si tenemos un paquete instalado, podemos usar el comando anterior y crear un `pipe` y buscar el nombre del paquete con `grep`"
      ]
    },
    {
      "cell_type": "code",
      "execution_count": null,
      "metadata": {
        "id": "X0jxV4WdpGgG",
        "outputId": "c91c2fa1-a6d1-4dec-bf10-693b1c9075ff"
      },
      "outputs": [
        {
          "name": "stdout",
          "output_type": "stream",
          "text": [
            "Deseado=desconocido(U)/Instalar/eliminaR/Purgar/retener(H)\n",
            "| Estado=No/Inst/ficheros-Conf/desempaqUetado/medio-conF/medio-inst(H)/espera-disparo(W)/pendienTe-disparo\n",
            "|/ Err?=(ninguno)/requiere-Reinst (Estado,Err: mayúsc.=malo)\n",
            "||/ Nombre         Versión      Arquitectura Descripción\n",
            "+++-==============-============-============-=================================\n",
            "ii  grep           3.4-1        amd64        GNU grep, egrep and fgrep\n",
            "ii  vlc            3.0.9.2-1    amd64        multimedia player and streamer\n",
            "\n"
          ]
        }
      ],
      "source": [
        "terminal(\"dpkg -l | grep vlc\")"
      ]
    },
    {
      "cell_type": "markdown",
      "metadata": {
        "id": "Uu_976wwpGgG"
      },
      "source": [
        "### Instalar paquetes descargados y no de repositorios"
      ]
    },
    {
      "cell_type": "markdown",
      "metadata": {
        "id": "rqHv4QWfpGgG"
      },
      "source": [
        "En algunas ocasiones, cuando te quieres instalar un programa, lo que hacen es que te dan un archivo `.deb`, por lo que, para instalarlo, usamos el comando `dpkg -i <file.deb>`"
      ]
    },
    {
      "cell_type": "markdown",
      "metadata": {
        "id": "dDlkQeiWpGgG"
      },
      "source": [
        "## Administrador de usuarios"
      ]
    },
    {
      "cell_type": "markdown",
      "metadata": {
        "id": "9r5Ce4zepGgG"
      },
      "source": [
        "### Información del usuario activo con `id`"
      ]
    },
    {
      "cell_type": "markdown",
      "metadata": {
        "id": "MgbCOj_JpGgG"
      },
      "source": [
        "Mediante el comando `id` puedo ver qué usuario soy"
      ]
    },
    {
      "cell_type": "code",
      "execution_count": null,
      "metadata": {
        "id": "uKRDYiVnpGgH",
        "outputId": "693de326-7953-4ed1-e933-fdb2c8ac8a8d"
      },
      "outputs": [
        {
          "name": "stdout",
          "output_type": "stream",
          "text": [
            "uid=1000(wallabot) gid=1000(wallabot) grupos=1000(wallabot),4(adm),24(cdrom),27(sudo),30(dip),46(plugdev),120(lpadmin),131(lxd),132(sambashare),998(docker)\n"
          ]
        }
      ],
      "source": [
        "!id"
      ]
    },
    {
      "cell_type": "markdown",
      "metadata": {
        "id": "WTMzXWOrpGgH"
      },
      "source": [
        "Con este comando puedo ver mi `id`, la id de grupo `gid` y los grupos a los que pertenezco. Las distribuciones basadas en Debian a los usuarios se les da una id a partir de la 1000, mientras que al usuario root se le asigna la `id` 0"
      ]
    },
    {
      "cell_type": "markdown",
      "metadata": {
        "id": "Jy7vWp_EpGgH"
      },
      "source": [
        "### Información del usuario activo con `whoami`"
      ]
    },
    {
      "cell_type": "markdown",
      "metadata": {
        "id": "81nvzi5mpGgH"
      },
      "source": [
        "Otro comando para saber qué usuario soy es `whoami`"
      ]
    },
    {
      "cell_type": "code",
      "execution_count": null,
      "metadata": {
        "id": "fCzPkU9YpGgH",
        "outputId": "b9f1244a-22e8-4f5e-880a-bbd318a2ba7e"
      },
      "outputs": [
        {
          "name": "stdout",
          "output_type": "stream",
          "text": [
            "wallabot\n"
          ]
        }
      ],
      "source": [
        "!whoami"
      ]
    },
    {
      "cell_type": "markdown",
      "metadata": {
        "id": "hVvsWl1GpGgH"
      },
      "source": [
        "### Archivo con la información de todos los usuarios"
      ]
    },
    {
      "cell_type": "markdown",
      "metadata": {
        "id": "w-uyDmMKpGgH"
      },
      "source": [
        "La información de los usuarios está en el archivo `/etc/passwd`"
      ]
    },
    {
      "cell_type": "code",
      "execution_count": null,
      "metadata": {
        "id": "NA4kFRddpGgH",
        "outputId": "07c1e25c-db0b-43c7-cad8-ec86f4aa300d"
      },
      "outputs": [
        {
          "name": "stdout",
          "output_type": "stream",
          "text": [
            "root:x:0:0:root:/root:/bin/bash\n",
            "daemon:x:1:1:daemon:/usr/sbin:/usr/sbin/nologin\n",
            "bin:x:2:2:bin:/bin:/usr/sbin/nologin\n",
            "sys:x:3:3:sys:/dev:/usr/sbin/nologin\n",
            "sync:x:4:65534:sync:/bin:/bin/sync\n",
            "games:x:5:60:games:/usr/games:/usr/sbin/nologin\n",
            "man:x:6:12:man:/var/cache/man:/usr/sbin/nologin\n",
            "lp:x:7:7:lp:/var/spool/lpd:/usr/sbin/nologin\n",
            "mail:x:8:8:mail:/var/mail:/usr/sbin/nologin\n",
            "news:x:9:9:news:/var/spool/news:/usr/sbin/nologin\n",
            "\t ...\n",
            "sshd:x:126:65534::/run/sshd:/usr/sbin/nologin\n",
            "nvidia-persistenced:x:127:135:NVIDIA Persistence Daemon,,,:/nonexistent:/usr/sbin/nologin\n",
            "fwupd-refresh:x:128:136:fwupd-refresh user,,,:/run/systemd:/usr/sbin/nologin\n",
            "glances:x:129:137::/var/lib/glances:/usr/sbin/nologin\n",
            "\n"
          ]
        }
      ],
      "source": [
        "terminal(\"cat /etc/passwd\", max_lines_output=10)"
      ]
    },
    {
      "cell_type": "markdown",
      "metadata": {
        "id": "E4zycqIypGgH"
      },
      "source": [
        "### Cambiar la contraseña de un usuario"
      ]
    },
    {
      "cell_type": "markdown",
      "metadata": {
        "id": "x4I6gz0bpGgH"
      },
      "source": [
        "Si quiero cambiar la contraseña de un usuario hay que usar el comando `passwd <user> <password>`, si no se especifica el usuario, se cogerá lo que devuelva el comando `whoami`"
      ]
    },
    {
      "cell_type": "markdown",
      "metadata": {
        "id": "NFfAElcjpGgI"
      },
      "source": [
        "### Crear usuarios con `useradd`"
      ]
    },
    {
      "cell_type": "markdown",
      "metadata": {
        "id": "g11wnpPgpGgI"
      },
      "source": [
        "Para crear un nuevo usuario se usa el comando `useradd <user name>`, vamos a crear un nuevo usuario"
      ]
    },
    {
      "cell_type": "code",
      "execution_count": null,
      "metadata": {
        "id": "At1b-TIepGgI",
        "outputId": "82272c55-eafc-4e58-ca85-2f64fb3a7fdb"
      },
      "outputs": [
        {
          "name": "stdout",
          "output_type": "stream",
          "text": [
            "\n"
          ]
        }
      ],
      "source": [
        "!sudo useradd usertest1"
      ]
    },
    {
      "cell_type": "markdown",
      "metadata": {
        "id": "itnl7Zd-pGgI"
      },
      "source": [
        "Vamos a ver si está en el archivo con todos los usuarios"
      ]
    },
    {
      "cell_type": "code",
      "execution_count": null,
      "metadata": {
        "id": "uIwO1U-ipGgI",
        "outputId": "4e001c29-2f78-4b5f-fac0-96e9a30f62ca"
      },
      "outputs": [
        {
          "name": "stdout",
          "output_type": "stream",
          "text": [
            "usertest1:x:1001:1001::/home/usertest1:/bin/sh\n"
          ]
        }
      ],
      "source": [
        "!cat /etc/passwd | grep usertest"
      ]
    },
    {
      "cell_type": "markdown",
      "metadata": {
        "id": "jqhczxizpGgI"
      },
      "source": [
        "Como vemos, se ha creado el usuario con la `id` 1001, la siguiente a la que tenía mi usuario wallabot, que era el último"
      ]
    },
    {
      "cell_type": "markdown",
      "metadata": {
        "id": "-DhitW-npGgI"
      },
      "source": [
        "Sin embargo, al crear este usuario no nos ha pedido que le asignemos una contraseña. Además, si miramos qué hay dentro de `home`"
      ]
    },
    {
      "cell_type": "code",
      "execution_count": null,
      "metadata": {
        "id": "SbpzY8HXpGgI",
        "outputId": "28f98527-3a63-454c-eff2-44be8ff9d5aa"
      },
      "outputs": [
        {
          "name": "stdout",
          "output_type": "stream",
          "text": [
            "wallabot\n"
          ]
        }
      ],
      "source": [
        "!ls /home"
      ]
    },
    {
      "cell_type": "markdown",
      "metadata": {
        "id": "wd5VnmzJpGgI"
      },
      "source": [
        "Solo está la carpeta del usuario `wallabot`, pero no la del usuario `test1`"
      ]
    },
    {
      "cell_type": "markdown",
      "metadata": {
        "id": "qnNElyb4pGgJ"
      },
      "source": [
        "### Crear usuarios con `adduser`"
      ]
    },
    {
      "cell_type": "markdown",
      "metadata": {
        "id": "grKisqGGpGgJ"
      },
      "source": [
        "Por lo que vamos a ver otro comando para crear usuarios que sí pide una contraseña y sí crea una carpeta en `home`. Este comando es `adduser`"
      ]
    },
    {
      "cell_type": "code",
      "execution_count": null,
      "metadata": {
        "id": "5zKJGLGApGgJ",
        "outputId": "fe12c5a7-c102-49ea-da22-68750f79e8e0"
      },
      "outputs": [
        {
          "name": "stdout",
          "output_type": "stream",
          "text": [
            "[sudo] contraseña para wallabot: \n",
            "Añadiendo el usuario `usertest2' ...\n",
            "Añadiendo el nuevo grupo `usertest2' (1002) ...\n",
            "Añadiendo el nuevo usuario `usertest2' (1002) con grupo `usertest2' ...\n",
            "Creando el directorio personal `/home/usertest2' ...\n",
            "Copiando los ficheros desde `/etc/skel' ...\n",
            "Nueva contraseña: \n",
            "Vuelva a escribir la nueva contraseña: \n",
            "passwd: contraseña actualizada correctamente\n",
            "Cambiando la información de usuario para usertest2\n",
            "Introduzca el nuevo valor, o presione INTRO para el predeterminado\n",
            "\tNombre completo []: \n",
            "\tNúmero de habitación []: \n",
            "\tTeléfono del trabajo []: \n",
            "\tTeléfono de casa []: \n",
            "\tOtro []: \n",
            "¿Es correcta la información? [S/n] s\n"
          ]
        }
      ],
      "source": [
        "!sudo adduser usertest2"
      ]
    },
    {
      "cell_type": "markdown",
      "metadata": {
        "id": "8u7oK4iGpGgJ"
      },
      "source": [
        "Si miramos en el archivo con todos los usuarios"
      ]
    },
    {
      "cell_type": "code",
      "execution_count": null,
      "metadata": {
        "id": "p3UbQKMjpGgJ",
        "outputId": "20697efb-eb67-467b-943f-d384fbdf6f76"
      },
      "outputs": [
        {
          "name": "stdout",
          "output_type": "stream",
          "text": [
            "usertest1:x:1001:1001::/home/usertest1:/bin/sh\n",
            "usertest2:x:1002:1002:,,,:/home/usertest2:/bin/bash\n"
          ]
        }
      ],
      "source": [
        "!cat /etc/passwd | grep usertest"
      ]
    },
    {
      "cell_type": "markdown",
      "metadata": {
        "id": "9subUUhgpGgK"
      },
      "source": [
        "Vemos que se ha creado el usuario `usertest2`"
      ]
    },
    {
      "cell_type": "code",
      "execution_count": null,
      "metadata": {
        "id": "V1P9FargpGgK",
        "outputId": "33e02284-5b42-48d5-e483-a4574ba95903"
      },
      "outputs": [
        {
          "name": "stdout",
          "output_type": "stream",
          "text": [
            "usertest2  wallabot\n"
          ]
        }
      ],
      "source": [
        "!ls /home"
      ]
    },
    {
      "cell_type": "markdown",
      "metadata": {
        "id": "kz8s0qZMpGgK"
      },
      "source": [
        "Y vemos que se ha creado una carpeta para él en `home`"
      ]
    },
    {
      "cell_type": "markdown",
      "metadata": {
        "id": "eFCIJ3yspGgK"
      },
      "source": [
        "Para borrar un usuario hay que usar el comando `userdel <username>`"
      ]
    },
    {
      "cell_type": "code",
      "execution_count": null,
      "metadata": {
        "id": "ozbvcPSGpGgK",
        "outputId": "ff4bd79d-26af-42f4-ef32-99bb03291ecb"
      },
      "outputs": [
        {
          "name": "stdout",
          "output_type": "stream",
          "text": [
            "\n"
          ]
        }
      ],
      "source": [
        "!sudo userdel usertest1"
      ]
    },
    {
      "cell_type": "code",
      "execution_count": null,
      "metadata": {
        "id": "31PlfOCzpGgK",
        "outputId": "b5e6fd3b-2ce0-45f2-dc76-05fcf616b8a8"
      },
      "outputs": [
        {
          "name": "stdout",
          "output_type": "stream",
          "text": [
            "\n"
          ]
        }
      ],
      "source": [
        "!sudo userdel usertest2"
      ]
    },
    {
      "cell_type": "markdown",
      "metadata": {
        "id": "5D1B8NXSpGgK"
      },
      "source": [
        "Vamos a ver si están en el archivo con todos los usuarios."
      ]
    },
    {
      "cell_type": "code",
      "execution_count": null,
      "metadata": {
        "id": "_eVV3FrzpGgK"
      },
      "outputs": [],
      "source": [
        "!cat /etc/passwd | grep usertest"
      ]
    },
    {
      "cell_type": "markdown",
      "metadata": {
        "id": "MgLK4mQEpGgL"
      },
      "source": [
        "Vemos que ya no aparece nada, de hecho vemos el final de ese archivo."
      ]
    },
    {
      "cell_type": "code",
      "execution_count": null,
      "metadata": {
        "id": "L2GwZ9l9pGgL",
        "outputId": "bce30d72-2e7e-466c-bfe1-9b99d3ee9923"
      },
      "outputs": [
        {
          "name": "stdout",
          "output_type": "stream",
          "text": [
            "geoclue:x:122:127::/var/lib/geoclue:/usr/sbin/nologin\n",
            "pulse:x:123:128:PulseAudio daemon,,,:/var/run/pulse:/usr/sbin/nologin\n",
            "gnome-initial-setup:x:124:65534::/run/gnome-initial-setup/:/bin/false\n",
            "gdm:x:125:130:Gnome Display Manager:/var/lib/gdm3:/bin/false\n",
            "wallabot:x:1000:1000:wallabot,,,:/home/wallabot:/bin/bash\n",
            "systemd-coredump:x:999:999:systemd Core Dumper:/:/usr/sbin/nologin\n",
            "sshd:x:126:65534::/run/sshd:/usr/sbin/nologin\n",
            "nvidia-persistenced:x:127:135:NVIDIA Persistence Daemon,,,:/nonexistent:/usr/sbin/nologin\n",
            "fwupd-refresh:x:128:136:fwupd-refresh user,,,:/run/systemd:/usr/sbin/nologin\n",
            "glances:x:129:137::/var/lib/glances:/usr/sbin/nologin\n"
          ]
        }
      ],
      "source": [
        "!tail /etc/passwd"
      ]
    },
    {
      "cell_type": "markdown",
      "metadata": {
        "id": "UWCTAgiOpGgO"
      },
      "source": [
        "## Hacer un usuario administrador"
      ]
    },
    {
      "cell_type": "markdown",
      "metadata": {
        "id": "df2IV18hpGgO"
      },
      "source": [
        "Primero vamos a crear un usuario nuevo, que al inicio no será administrador"
      ]
    },
    {
      "cell_type": "code",
      "execution_count": null,
      "metadata": {
        "id": "OP2-2HQVpGgO",
        "outputId": "64cfbfe1-c4ca-408b-8429-731ccf19bb16"
      },
      "outputs": [
        {
          "name": "stdout",
          "output_type": "stream",
          "text": [
            "Añadiendo el usuario `noadmin' ...\n",
            "Añadiendo el nuevo grupo `noadmin' (1001) ...\n",
            "Añadiendo el nuevo usuario `noadmin' (1001) con grupo `noadmin' ...\n",
            "Creando el directorio personal `/home/noadmin' ...\n",
            "Copiando los ficheros desde `/etc/skel' ...\n",
            "Nueva contraseña: \n",
            "Vuelva a escribir la nueva contraseña: \n",
            "passwd: contraseña actualizada correctamente\n",
            "Cambiando la información de usuario para noadmin\n",
            "Introduzca el nuevo valor, o presione INTRO para el predeterminado\n",
            "\tNombre completo []: \n",
            "\tNúmero de habitación []: \n",
            "\tTeléfono del trabajo []: \n",
            "\tTeléfono de casa []: \n",
            "\tOtro []: \n",
            "¿Es correcta la información? [S/n] s\n"
          ]
        }
      ],
      "source": [
        "!sudo adduser noadmin"
      ]
    },
    {
      "cell_type": "markdown",
      "metadata": {
        "id": "8xcUdjY8pGgO"
      },
      "source": [
        "Vamos a ver a qué grupos está el usuario que acabamos de crear, para ello usamos el comando `groups <user>`"
      ]
    },
    {
      "cell_type": "code",
      "execution_count": null,
      "metadata": {
        "id": "oaHZ75fPpGgO",
        "outputId": "f10a26ce-a8dd-4b47-c162-48f09f887946"
      },
      "outputs": [
        {
          "name": "stdout",
          "output_type": "stream",
          "text": [
            "noadmin : noadmin\n"
          ]
        }
      ],
      "source": [
        "!groups noadmin"
      ]
    },
    {
      "cell_type": "markdown",
      "metadata": {
        "id": "7_HZuekdpGgO"
      },
      "source": [
        "Como vemos, solo está en el grupo `noadmin`, que es un grupo que se creó al crear el usuario"
      ]
    },
    {
      "cell_type": "markdown",
      "metadata": {
        "id": "bckzflg4pGgP"
      },
      "source": [
        "Vamos a ver a qué grupos pertenece mi usuario"
      ]
    },
    {
      "cell_type": "code",
      "execution_count": null,
      "metadata": {
        "id": "Jj0Wn8wapGgP",
        "outputId": "7d91af58-b716-427b-82c9-5eacc41edd2b"
      },
      "outputs": [
        {
          "name": "stdout",
          "output_type": "stream",
          "text": [
            "wallabot : wallabot adm cdrom sudo dip plugdev lpadmin lxd sambashare docker\n"
          ]
        }
      ],
      "source": [
        "!groups wallabot"
      ]
    },
    {
      "cell_type": "markdown",
      "metadata": {
        "id": "ERnwevmtpGgP"
      },
      "source": [
        "Como vemos, mi usuario pertenece a varios grupos más, entre ellos a uno llamado `sudo`. Los usuarios que tengan acceso a este grupo tienen poderes de administrador, por lo que para que el nuevo usuario que hemos creado tenga estos poderes hay que añadirle al grupo `sudo`"
      ]
    },
    {
      "cell_type": "markdown",
      "metadata": {
        "id": "2Atc3HEhpGgP"
      },
      "source": [
        "Para añadir a un usuario a un grupo hay dos maneras: una es con el comando `gpasswd -a <user> <group>`"
      ]
    },
    {
      "cell_type": "code",
      "execution_count": null,
      "metadata": {
        "id": "TdiVlQ_8pGgP",
        "outputId": "0094fe2b-25cb-4769-aa01-572787a4cde8"
      },
      "outputs": [
        {
          "name": "stdout",
          "output_type": "stream",
          "text": [
            "Añadiendo al usuario noadmin al grupo sudo\n"
          ]
        }
      ],
      "source": [
        "!sudo gpasswd -a noadmin sudo"
      ]
    },
    {
      "cell_type": "markdown",
      "metadata": {
        "id": "ENwXhze4pGgP"
      },
      "source": [
        "Vemos ahora a qué grupos pertenece el usuario `noadmin`"
      ]
    },
    {
      "cell_type": "code",
      "execution_count": null,
      "metadata": {
        "id": "gJOkXiTepGgP",
        "outputId": "c00b9890-4775-41b5-a3f7-3baf8d8a56d3"
      },
      "outputs": [
        {
          "name": "stdout",
          "output_type": "stream",
          "text": [
            "noadmin : noadmin sudo\n"
          ]
        }
      ],
      "source": [
        "!groups noadmin"
      ]
    },
    {
      "cell_type": "markdown",
      "metadata": {
        "id": "mHipshElpGgP"
      },
      "source": [
        "Como vemos, ya pertenece al grupo sudo, por lo que ya tendría poderes de administrador"
      ]
    },
    {
      "cell_type": "markdown",
      "metadata": {
        "id": "IQrB8sWrpGgP"
      },
      "source": [
        "Eliminamos al usuario `noadmin` del grupo `sudo` con el comando `gpasswd -d <user> <group>`"
      ]
    },
    {
      "cell_type": "code",
      "execution_count": null,
      "metadata": {
        "id": "c_2d_mhIpGgP",
        "outputId": "6d0cbc30-e2d4-43a7-bd5c-8350f019f683"
      },
      "outputs": [
        {
          "name": "stdout",
          "output_type": "stream",
          "text": [
            "Eliminando al usuario noadmin del grupo sudo\n"
          ]
        }
      ],
      "source": [
        "!sudo gpasswd -d noadmin sudo"
      ]
    },
    {
      "cell_type": "markdown",
      "metadata": {
        "id": "y0sP77pXpGgP"
      },
      "source": [
        "Vemos que `noadmin` ya no pertenece al grupo `sudo`"
      ]
    },
    {
      "cell_type": "code",
      "execution_count": null,
      "metadata": {
        "id": "RFCzEDWopGgP",
        "outputId": "d0cce576-0c4e-4881-a3f6-ef06066a5e4e"
      },
      "outputs": [
        {
          "name": "stdout",
          "output_type": "stream",
          "text": [
            "noadmin : noadmin\n"
          ]
        }
      ],
      "source": [
        "!groups noadmin"
      ]
    },
    {
      "cell_type": "markdown",
      "metadata": {
        "id": "u3Ll1qtEpGgQ"
      },
      "source": [
        "El segundo comando para añadir a un usuario a un grupo es `usermod -aG <group> <user>`"
      ]
    },
    {
      "cell_type": "code",
      "execution_count": null,
      "metadata": {
        "id": "QzFlur2epGgQ",
        "outputId": "6c1a0043-315c-4ac6-857e-cabd0cfc188f"
      },
      "outputs": [
        {
          "name": "stdout",
          "output_type": "stream",
          "text": [
            "\n"
          ]
        }
      ],
      "source": [
        "!sudo usermod -aG sudo noadmin"
      ]
    },
    {
      "cell_type": "markdown",
      "metadata": {
        "id": "InYSh7IJpGgQ"
      },
      "source": [
        "Volvemos a ver a qué grupos pertenece el usuario `noadmin`"
      ]
    },
    {
      "cell_type": "code",
      "execution_count": null,
      "metadata": {
        "id": "qYLZuSdipGgQ",
        "outputId": "68b6477b-6cf9-47aa-a3f9-a68c343a9ea3"
      },
      "outputs": [
        {
          "name": "stdout",
          "output_type": "stream",
          "text": [
            "noadmin : noadmin sudo\n"
          ]
        }
      ],
      "source": [
        "!groups noadmin"
      ]
    },
    {
      "cell_type": "markdown",
      "metadata": {
        "id": "cy8dN9gCpGgQ"
      },
      "source": [
        "Sacamos al usuario `noadmin` del grupo `sudo` y lo borramos"
      ]
    },
    {
      "cell_type": "code",
      "execution_count": null,
      "metadata": {
        "id": "G-5aAfwZpGgQ",
        "outputId": "f6d813ab-d055-4a92-9b7e-3c0e130736e1"
      },
      "outputs": [
        {
          "name": "stdout",
          "output_type": "stream",
          "text": [
            "Eliminando al usuario noadmin del grupo sudo\n"
          ]
        }
      ],
      "source": [
        "!sudo gpasswd -d noadmin sudo"
      ]
    },
    {
      "cell_type": "code",
      "execution_count": null,
      "metadata": {
        "id": "EiVILNnapGgQ",
        "outputId": "74e76d06-0677-4535-bd07-247a0caab95e"
      },
      "outputs": [
        {
          "name": "stdout",
          "output_type": "stream",
          "text": [
            "\n"
          ]
        }
      ],
      "source": [
        "!sudo userdel noadmin"
      ]
    },
    {
      "cell_type": "markdown",
      "metadata": {
        "id": "sHDq8NDjpGgQ"
      },
      "source": [
        "## Historial de comandos"
      ]
    },
    {
      "cell_type": "markdown",
      "metadata": {
        "id": "AieO2vagpGgQ"
      },
      "source": [
        "### `history`"
      ]
    },
    {
      "cell_type": "markdown",
      "metadata": {
        "id": "5BbVULiKpGgQ"
      },
      "source": [
        "Si en la terminal introducimos el comando `history`, vemos un historial de los comandos utilizados"
      ]
    },
    {
      "cell_type": "code",
      "execution_count": null,
      "metadata": {
        "id": "Cs3QdxHDpGgR",
        "outputId": "2f67b4a9-e9ff-4e92-b199-f4d9b35f00ee"
      },
      "outputs": [
        {
          "name": "stdout",
          "output_type": "stream",
          "text": [
            " 1009  docker build . nvidia/cuda\n",
            " 1010  docker build --help\n",
            " 1011  docker build --build-arg nvidia/cuda\n",
            " 1012  docker build --build-arg [nvidia/cuda]\n",
            " 1013  cd ../docker/\n",
            " 1014  docker ps -a\n",
            " 1015  docker rm boring_wescoff \n",
            " 1016  docker compose up -d\n",
            " 1017  docker compose exec deepstream61 bash\n",
            " 1018  cd ..\n",
            "    ....\n",
            " 1996  ps\n",
            " 1997  ps aux\n",
            " 1998  camerasIP.sh \n",
            " 1999  sudo su\n",
            " 2000  sudo useradd usertest\n",
            " 2001  sudo userdel usertest\n",
            " 2002  sudo useradd usertest\n",
            " 2003  sudo userdel usertest\n",
            " 2004  sudo su\n",
            " 2005  sudo apt install history\n",
            " 2006  history\n",
            " 2007  clear\n",
            " 2008  history\n"
          ]
        }
      ],
      "source": [
        "!history"
      ]
    },
    {
      "cell_type": "markdown",
      "metadata": {
        "id": "Yb0lvYffpGgR"
      },
      "source": [
        "Si queremos ejecutar uno de los comandos del historial, lo hacemos mediante `!<num command>`, por ejemplo, si quiero volver a ejecutar el comando 1996"
      ]
    },
    {
      "cell_type": "code",
      "execution_count": null,
      "metadata": {
        "id": "kVBHw0m8pGgR",
        "outputId": "85e3b62b-7892-46d1-f507-a4bb1ae346f3"
      },
      "outputs": [
        {
          "name": "stdout",
          "output_type": "stream",
          "text": [
            "    PID TTY          TIME CMD\n",
            "   6610 pts/0    00:00:00 bash\n",
            "  20826 pts/0    00:00:00 ps\n"
          ]
        }
      ],
      "source": [
        "! !1996"
      ]
    },
    {
      "cell_type": "markdown",
      "metadata": {
        "id": "G2-JeGSIpGgR"
      },
      "source": [
        "### `reverse-i-search`"
      ]
    },
    {
      "cell_type": "markdown",
      "metadata": {
        "id": "_0boLKeDpGgR"
      },
      "source": [
        "Una manera más refinada de buscar en el historial es introducir `CTRL`+`r`. Al hacer esto, aparecerá el siguiente mensaje en la consola"
      ]
    },
    {
      "cell_type": "code",
      "execution_count": null,
      "metadata": {
        "id": "6MZccOX3pGgR",
        "outputId": "a493abb7-514d-4fcc-fdcf-903e51d0f214"
      },
      "outputs": [
        {
          "name": "stdout",
          "output_type": "stream",
          "text": [
            "\n"
          ]
        }
      ],
      "source": [
        "!reverse-i-search)`':"
      ]
    },
    {
      "cell_type": "markdown",
      "metadata": {
        "id": "58ND4XCxpGgR"
      },
      "source": [
        "De manera que según vayas escribiendo, irán apareciendo comandos que coincidan con lo que has introducido. Por ejemplo, si introduzco `if` me aparece la última vez que utilicé `ifconfig`.\n",
        "\n",
        "Si volvemos a introducir `CTRL`+`r` irán apareciendo coincidencias más antiguas"
      ]
    },
    {
      "cell_type": "markdown",
      "metadata": {
        "id": "Ikm2EXYfpGgR"
      },
      "source": [
        "### Eliminar comandos del historial"
      ]
    },
    {
      "cell_type": "markdown",
      "metadata": {
        "id": "Fl08yAUppGgS"
      },
      "source": [
        "Hay comandos como `ls`, `cd`, `pwd` que no nos aporta mucho que estén en el historial, por lo que se puede configurar para que no se guarden en el historial. Para hacerlo modificamos el archivo `~/.bashrc` y añadimos la línea `HISTIGNORE=\"pwd:ls:cd\"`"
      ]
    },
    {
      "cell_type": "markdown",
      "metadata": {
        "id": "3JxTigcvpGgS"
      },
      "source": [
        "## Seguridad"
      ]
    },
    {
      "cell_type": "markdown",
      "metadata": {
        "id": "r-83FRvHpGgS"
      },
      "source": [
        "### Firewall `ufw`"
      ]
    },
    {
      "cell_type": "markdown",
      "metadata": {
        "id": "yuQ69tT-pGgS"
      },
      "source": [
        "Ubuntu viene con el firewall `ufw` instalado, pero para comprobarlo usamos el siguiente comando"
      ]
    },
    {
      "cell_type": "code",
      "execution_count": null,
      "metadata": {
        "id": "eR6c3Nq9pGgS",
        "outputId": "b12f1517-5309-4684-a7c6-a47f8a380b0d"
      },
      "outputs": [
        {
          "name": "stdout",
          "output_type": "stream",
          "text": [
            "Estado: inactivo\n"
          ]
        }
      ],
      "source": [
        "!sudo ufw status"
      ]
    },
    {
      "cell_type": "markdown",
      "metadata": {
        "id": "DAyeCvSvpGgS"
      },
      "source": [
        "Como vemos por defecto está inactivo, por lo que vamos a crear un conjunto de reglas. Por ejemplo vamos a empezar abriendo el puerto 22 (SSH), para ello usamos el comando `sudo allow <port> comment \"<coment>\"`, con el que abrimos un puerto y añadimos un comentario"
      ]
    },
    {
      "cell_type": "code",
      "execution_count": null,
      "metadata": {
        "id": "0TX1muPxpGgS",
        "outputId": "d8212c25-2f35-4092-d443-50bddd393cde"
      },
      "outputs": [
        {
          "name": "stdout",
          "output_type": "stream",
          "text": [
            "Regla añadida\n",
            "Regla añadida (v6)\n"
          ]
        }
      ],
      "source": [
        "!sudo ufw allow 22 comment 'ssh'"
      ]
    },
    {
      "cell_type": "markdown",
      "metadata": {
        "id": "5CWeggygpGgS"
      },
      "source": [
        "Como vemos, ha abierto el puerto 22 para IPv4 e IPv6. Vamos ahora a activar `ufw` con el comando `ufw enable`"
      ]
    },
    {
      "cell_type": "code",
      "execution_count": null,
      "metadata": {
        "id": "X5boe0NmpGgT",
        "outputId": "90275830-a53e-4167-9f25-b6dcabf88abb"
      },
      "outputs": [
        {
          "name": "stdout",
          "output_type": "stream",
          "text": [
            "El cortafuegos está activo y habilitado en el arranque del sistema\n"
          ]
        }
      ],
      "source": [
        "!sudo ufw enable"
      ]
    },
    {
      "cell_type": "markdown",
      "metadata": {
        "id": "hxkaMwHPpGgT"
      },
      "source": [
        "Si queremos ver las reglas que tenemos en el firewall usamos el comando `ufw status`"
      ]
    },
    {
      "cell_type": "code",
      "execution_count": null,
      "metadata": {
        "id": "6ZXylF7opGgT",
        "outputId": "9738d7ac-5195-48c4-cda9-def9ab8d9300"
      },
      "outputs": [
        {
          "name": "stdout",
          "output_type": "stream",
          "text": [
            "Hasta                      Acción      Desde\n",
            "-----                      ------      -----\n",
            "22                         ALLOW       Anywhere                   # ssh\n",
            "22 (v6)                    ALLOW       Anywhere (v6)              # ssh\n"
          ]
        }
      ],
      "source": [
        "!sudo ufw enable"
      ]
    },
    {
      "cell_type": "markdown",
      "metadata": {
        "id": "yXdVgyIWpGgT"
      },
      "source": [
        "También podemos decirle que nos muestre las reglas numeradas con el comando `ufw status numbered`"
      ]
    },
    {
      "cell_type": "code",
      "execution_count": null,
      "metadata": {
        "id": "YgsY2W9NpGgT",
        "outputId": "2b138b80-fa2f-4cbc-e3e7-5e1a75be1c6e"
      },
      "outputs": [
        {
          "name": "stdout",
          "output_type": "stream",
          "text": [
            "Estado: activo\n",
            "\n",
            "     Hasta                      Acción      Desde\n",
            "     -----                      ------      -----\n",
            "[ 1] 22                         ALLOW IN    Anywhere                   # ssh\n",
            "[ 2] 22 (v6)                    ALLOW IN    Anywhere (v6)              # ssh\n"
          ]
        }
      ],
      "source": [
        "!sudo ufw status numbered"
      ]
    },
    {
      "cell_type": "markdown",
      "metadata": {
        "id": "njiiDhzBpGgT"
      },
      "source": [
        "Como las tenemos numeradas podemos eliminar una mediante el comando `ufw delete <rule number>`, por lo que para borrar la regla para IPv6 hacemos"
      ]
    },
    {
      "cell_type": "code",
      "execution_count": null,
      "metadata": {
        "id": "ftymm-PYpGgT",
        "outputId": "d86a3635-452a-4f73-883a-b7cf6c0b999e"
      },
      "outputs": [
        {
          "name": "stdout",
          "output_type": "stream",
          "text": [
            "Estado: activo\n",
            "\n",
            "Borrando:\n",
            " allow 22 comment 'ssh'\n",
            "¿Continuar con la operación (s|n)? s\n",
            "Regla eliminada (v6)\n"
          ]
        }
      ],
      "source": [
        "!sudo ufw delete 2"
      ]
    },
    {
      "cell_type": "markdown",
      "metadata": {
        "id": "Ipg82trWpGgT"
      },
      "source": [
        "Volvemos a ver el estado"
      ]
    },
    {
      "cell_type": "code",
      "execution_count": null,
      "metadata": {
        "id": "m-GnvxpDpGgT",
        "outputId": "8effeb45-6841-4ec9-d000-50e2b0a1bfcd"
      },
      "outputs": [
        {
          "name": "stdout",
          "output_type": "stream",
          "text": [
            "Estado: activo\n",
            "\n",
            "     Hasta                      Acción      Desde\n",
            "     -----                      ------      -----\n",
            "[ 1] 22                         ALLOW IN    Anywhere                   # ssh\n"
          ]
        }
      ],
      "source": [
        "!sudo ufw status numbered"
      ]
    },
    {
      "cell_type": "markdown",
      "metadata": {
        "id": "Qp0rSLOmpGgU"
      },
      "source": [
        "Vemos que efectivamente se ha eliminado la regla número 2."
      ]
    },
    {
      "cell_type": "markdown",
      "metadata": {
        "id": "D3riY5YEpGgU"
      },
      "source": [
        "Si queremos habilitar la conexión SSH desde una sola IP usamos el flag `from <IP>`"
      ]
    },
    {
      "cell_type": "code",
      "execution_count": null,
      "metadata": {
        "id": "_SdXvdVqpGgU",
        "outputId": "9b19cba7-0383-4c39-8271-303864e22cb2"
      },
      "outputs": [
        {
          "name": "stdout",
          "output_type": "stream",
          "text": [
            "Regla añadida\n"
          ]
        }
      ],
      "source": [
        "!sudo ufw  allow from 192.168.1.103 proto tcp to any port 22 comment 'ssh ip'"
      ]
    },
    {
      "cell_type": "markdown",
      "metadata": {
        "id": "mKInQxMtpGgU"
      },
      "source": [
        "Volvemos a comprobar las reglas"
      ]
    },
    {
      "cell_type": "code",
      "execution_count": null,
      "metadata": {
        "id": "orXUaqyDpGgU",
        "outputId": "441a02c0-5ec1-4c47-85ac-b33874c3baea"
      },
      "outputs": [
        {
          "name": "stdout",
          "output_type": "stream",
          "text": [
            "Estado: activo\n",
            "\n",
            "     Hasta                      Acción      Desde\n",
            "     -----                      ------      -----\n",
            "[ 1] 22                         ALLOW IN    Anywhere                   # ssh\n",
            "[ 2] 22/tcp                     ALLOW IN    192.168.1.103              # ssh ip\n"
          ]
        }
      ],
      "source": [
        "!sudo ufw status numbered"
      ]
    },
    {
      "cell_type": "markdown",
      "metadata": {
        "id": "dva9whCIpGgU"
      },
      "source": [
        "Si queremos borrar todas las reglas usamos el comando `reset`"
      ]
    },
    {
      "cell_type": "code",
      "execution_count": null,
      "metadata": {
        "id": "Q32pcmoMpGgU",
        "outputId": "ca6b0bbb-a311-44b6-819f-823c8a1fa9af"
      },
      "outputs": [
        {
          "name": "stdout",
          "output_type": "stream",
          "text": [
            "Estado: activo\n",
            "\n",
            "Reiniciando todas las reglas a sus valores predeterminados instalados.\n",
            "¿Continuar con la operación (s|n)? s\n",
            "Respaldando «user.rules» en «/etc/ufw/user.rules.20221205_171730»\n",
            "Respaldando «before.rules» en «/etc/ufw/before.rules.20221205_171730»\n",
            "Respaldando «after.rules» en «/etc/ufw/after.rules.20221205_171730»\n",
            "Respaldando «user6.rules» en «/etc/ufw/user6.rules.20221205_171730»\n",
            "Respaldando «before6.rules» en «/etc/ufw/before6.rules.20221205_171730»\n",
            "Respaldando «after6.rules» en «/etc/ufw/after6.rules.20221205_171730»\n"
          ]
        }
      ],
      "source": [
        "!sudo ufw reset"
      ]
    },
    {
      "cell_type": "markdown",
      "metadata": {
        "id": "7CTvernBpGgV"
      },
      "source": [
        "Volvemos a comprobar el estado"
      ]
    },
    {
      "cell_type": "code",
      "execution_count": null,
      "metadata": {
        "id": "URbfPzJjpGgV",
        "outputId": "09ed01da-030e-4cd2-e8c4-fef790a3d033"
      },
      "outputs": [
        {
          "name": "stdout",
          "output_type": "stream",
          "text": [
            "Estado: inactivo\n"
          ]
        }
      ],
      "source": [
        "!sudo ufw status numbered"
      ]
    },
    {
      "cell_type": "markdown",
      "metadata": {
        "id": "yhbHBp4cpGgV"
      },
      "source": [
        "Vemos que ya no hay ninguna regla"
      ]
    },
    {
      "cell_type": "markdown",
      "metadata": {
        "id": "bGVLlM2PpGgV"
      },
      "source": [
        "Para desactivar el firewall usamos el comando `ufw disable`"
      ]
    },
    {
      "cell_type": "code",
      "execution_count": null,
      "metadata": {
        "id": "wzayJi-ApGgV",
        "outputId": "36e079eb-9be3-41f3-85d6-22d992b5bb50"
      },
      "outputs": [
        {
          "name": "stdout",
          "output_type": "stream",
          "text": [
            "El cortafuegos está detenido y deshabilitado en el arranque del sistema\n"
          ]
        }
      ],
      "source": [
        "!sudo ufw disable"
      ]
    },
    {
      "cell_type": "markdown",
      "metadata": {
        "id": "ckppajULpGgV"
      },
      "source": [
        "Volvemos a comprobar el estado"
      ]
    },
    {
      "cell_type": "code",
      "execution_count": null,
      "metadata": {
        "id": "qL278QDIpGgV",
        "outputId": "546478f8-bc5c-4374-bc88-44c16484236c"
      },
      "outputs": [
        {
          "name": "stdout",
          "output_type": "stream",
          "text": [
            "Estado: inactivo\n"
          ]
        }
      ],
      "source": [
        "!sudo ufw status"
      ]
    },
    {
      "cell_type": "markdown",
      "metadata": {
        "id": "T1R-37AgpGgV"
      },
      "source": [
        "### Auditoría de seguridad con `Lynis`"
      ]
    },
    {
      "cell_type": "markdown",
      "metadata": {
        "id": "Z-6IgOBdpGgV"
      },
      "source": [
        "Para instalar Lynis tienes que usar el comando `sudo apt install lynis`"
      ]
    },
    {
      "cell_type": "markdown",
      "metadata": {
        "id": "AqKHiDgtpGgW"
      },
      "source": [
        "Para hacer una auditoría de tu sistema hay que usar el comando `lynis audit system`. Esto comienza a hacer un escaneo de todo el sistema y te lo reporta.\n",
        "\n",
        "> No voy a mostrar el resultado del escaneo de mi sistema para no mostrar en internet mis vulnerabilidades"
      ]
    },
    {
      "cell_type": "markdown",
      "metadata": {
        "id": "zoz0rD7gpGgW"
      },
      "source": [
        "## Programación de comandos"
      ]
    },
    {
      "cell_type": "markdown",
      "metadata": {
        "id": "vxakmZuPpGgW"
      },
      "source": [
        "### Programación de comandos periódicos con `cron`"
      ]
    },
    {
      "cell_type": "markdown",
      "metadata": {
        "id": "D8YjxwU-pGgW"
      },
      "source": [
        "Con el comando `cron` podemos programar comandos para que se ejecuten periódicamente. Para ello tenemos que editar el archivo `/etc/crontab`"
      ]
    },
    {
      "cell_type": "code",
      "execution_count": null,
      "metadata": {
        "id": "32tX55mipGgW",
        "outputId": "90296ba9-c918-49f1-e70a-0ec54815e80b"
      },
      "outputs": [
        {
          "name": "stdout",
          "output_type": "stream",
          "text": [
            "# /etc/crontab: system-wide crontab\n",
            "# Unlike any other crontab you don't have to run the `crontab'\n",
            "# command to install the new version when you edit this file\n",
            "# and files in /etc/cron.d. These files also have username fields,\n",
            "# that none of the other crontabs do.\n",
            "\n",
            "SHELL=/bin/sh\n",
            "PATH=/usr/local/sbin:/usr/local/bin:/sbin:/bin:/usr/sbin:/usr/bin\n",
            "\n",
            "# Example of job definition:\n",
            "# .---------------- minute (0 - 59)\n",
            "# |  .------------- hour (0 - 23)\n",
            "# |  |  .---------- day of month (1 - 31)\n",
            "# |  |  |  .------- month (1 - 12) OR jan,feb,mar,apr ...\n",
            "# |  |  |  |  .---- day of week (0 - 6) (Sunday=0 or 7) OR sun,mon,tue,wed,thu,fri,sat\n",
            "# |  |  |  |  |\n",
            "# *  *  *  *  * user-name command to be executed\n",
            "17 *\t* * *\troot    cd / && run-parts --report /etc/cron.hourly\n",
            "25 6\t* * *\troot\ttest -x /usr/sbin/anacron || ( cd / && run-parts --report /etc/cron.daily )\n",
            "47 6\t* * 7\troot\ttest -x /usr/sbin/anacron || ( cd / && run-parts --report /etc/cron.weekly )\n",
            "52 6\t1 * *\troot\ttest -x /usr/sbin/anacron || ( cd / && run-parts --report /etc/cron.monthly )\n",
            "#\n"
          ]
        }
      ],
      "source": [
        "!cat /etc/crontab"
      ]
    },
    {
      "cell_type": "markdown",
      "metadata": {
        "id": "9h9iALmzpGgW"
      },
      "source": [
        "Como se puede ver, en este archivo hay una serie de comandos que se ejecutan periódicamente. El formato de estos comandos es el siguiente\n",
        "\n",
        "```\n",
        "<minuto> <hora> <día del mes> <mes> <día de la semana> <usuario> <comando>\n",
        "```\n",
        "\n"
      ]
    },
    {
      "cell_type": "markdown",
      "metadata": {
        "id": "eG614eSXpGgW"
      },
      "source": [
        "Para crear bien la fecha en la que quieres que se ejecute el comando, hay un montón de páginas online que te ayudan a escribirlo bien, como por ejemplo [crontab guru](https://crontab.guru/)"
      ]
    },
    {
      "cell_type": "markdown",
      "metadata": {
        "id": "cZxAdNdYpGgW"
      },
      "source": [
        "### Programación de comandos de una sola ejecución con `at`"
      ]
    },
    {
      "cell_type": "markdown",
      "metadata": {
        "id": "_Pt1paFApGgW"
      },
      "source": [
        "Cuando queremos que en el futuro se ejecute un comando, pero no queremos que se haga periódicamente, sino que solo se haga una sola vez podemos usar el comando `at`. Por ejemplo, enciendes una máquina de Azure, o Amazon, por la que te cobran y quieres estar seguro que se va a apagar y no te va a llegar una sorpresa en la factura, puedes dejar programado que por la noche se apague. Así, aunque se te olvide apagarla, se apagará sola"
      ]
    },
    {
      "cell_type": "markdown",
      "metadata": {
        "id": "MgnnwOnLpGgW"
      },
      "source": [
        "Hacemos un `ls` a la carpeta `/tmp`"
      ]
    },
    {
      "cell_type": "code",
      "execution_count": null,
      "metadata": {
        "id": "yU9IYYz5pGgW",
        "outputId": "cbe4ded2-71db-4595-879b-82f58fadc2df"
      },
      "outputs": [
        {
          "name": "stdout",
          "output_type": "stream",
          "text": [
            "total 60\n",
            "-rw------- 1 wallabot wallabot    0 sep 24 08:51 config-err-QM3AAe\n",
            "-rw-r--r-- 1 root     root     2049 sep 24 08:51 glances-root.log\n",
            "drwx------ 2 wallabot wallabot 4096 sep 24 09:06 pyright-9853-BG3nXEXw0Tao\n",
            "drwxrwxr-x 3 wallabot wallabot 4096 sep 24 09:06 python-languageserver-cancellation\n",
            "drwx------ 3 root     root     4096 sep 24 08:51 snap-private-tmp\n",
            "drwx------ 2 wallabot wallabot 4096 sep 24 08:51 ssh-mHjlSPPoqCp7\n",
            "drwx------ 3 root     root     4096 sep 24 08:51 systemd-private-371a1d9479324db8bd79b6844b8b589b-colord.service-rpjPri\n",
            "drwx------ 3 root     root     4096 sep 24 08:51 systemd-private-371a1d9479324db8bd79b6844b8b589b-fwupd.service-FzPoQf\n",
            "drwx------ 3 root     root     4096 sep 24 08:51 systemd-private-371a1d9479324db8bd79b6844b8b589b-geoclue.service-F6pMWi\n",
            "drwx------ 3 root     root     4096 sep 24 08:51 systemd-private-371a1d9479324db8bd79b6844b8b589b-ModemManager.service-Orf6Bi\n",
            "drwx------ 3 root     root     4096 sep 24 08:51 systemd-private-371a1d9479324db8bd79b6844b8b589b-switcheroo-control.service-1QXRqj\n",
            "drwx------ 3 root     root     4096 sep 24 08:51 systemd-private-371a1d9479324db8bd79b6844b8b589b-systemd-logind.service-lL35tg\n",
            "drwx------ 3 root     root     4096 sep 24 08:51 systemd-private-371a1d9479324db8bd79b6844b8b589b-systemd-resolved.service-iaswSi\n",
            "drwx------ 3 root     root     4096 sep 24 08:51 systemd-private-371a1d9479324db8bd79b6844b8b589b-systemd-timesyncd.service-Yet8lj\n",
            "drwx------ 3 root     root     4096 sep 24 08:51 systemd-private-371a1d9479324db8bd79b6844b8b589b-upower.service-oTL7Gg\n",
            "drwx------ 2 wallabot wallabot 4096 sep 24 09:31 tracker-extract-files.1000\n"
          ]
        }
      ],
      "source": [
        "!ls -l /tmp"
      ]
    },
    {
      "cell_type": "markdown",
      "metadata": {
        "id": "mkFxlNgkpGgX"
      },
      "source": [
        "Ahora vamos a programar que se cree un archivo nuevo en `/tmp` dentro de 5 minutos"
      ]
    },
    {
      "cell_type": "code",
      "execution_count": null,
      "metadata": {
        "id": "3wTZ0HNzpGgX",
        "outputId": "1fd7ae11-b036-48c2-f0e0-f7be92435dd4"
      },
      "outputs": [
        {
          "name": "stdout",
          "output_type": "stream",
          "text": [
            "warning: commands will be executed using /bin/sh\n",
            "at> touch /tmp/at.txt\n",
            "at> <EOT>\n",
            "job 1 at Sun Sep 24 09:55:00 2023\n"
          ]
        }
      ],
      "source": [
        "!at 09:55 touch /tmp/at.txt"
      ]
    },
    {
      "cell_type": "markdown",
      "metadata": {
        "id": "k331DZ9HpGgX"
      },
      "source": [
        "Como vemos, hay que escribir `at <time>` y en la siguiente línea el comando que queremos que se ejecute"
      ]
    },
    {
      "cell_type": "markdown",
      "metadata": {
        "id": "BpF5fQCxpGgX"
      },
      "source": [
        "Vemos ahora los archivos que hay en `/tmp`"
      ]
    },
    {
      "cell_type": "code",
      "execution_count": null,
      "metadata": {
        "id": "Ogzn26f6pGgX",
        "outputId": "9274369a-44e9-4ebf-cf60-94fcf0db8aff"
      },
      "outputs": [
        {
          "name": "stdout",
          "output_type": "stream",
          "text": [
            "total 60\n",
            "-rw-rw-r-- 1 wallabot wallabot    0 sep 24 09:55 at.txt\n",
            "-rw------- 1 wallabot wallabot    0 sep 24 08:51 config-err-QM3AAe\n",
            "-rw-r--r-- 1 root     root     2049 sep 24 08:51 glances-root.log\n",
            "drwx------ 2 wallabot wallabot 4096 sep 24 09:06 pyright-9853-BG3nXEXw0Tao\n",
            "drwxrwxr-x 3 wallabot wallabot 4096 sep 24 09:06 python-languageserver-cancellation\n",
            "drwx------ 3 root     root     4096 sep 24 08:51 snap-private-tmp\n",
            "drwx------ 2 wallabot wallabot 4096 sep 24 08:51 ssh-mHjlSPPoqCp7\n",
            "drwx------ 3 root     root     4096 sep 24 08:51 systemd-private-371a1d9479324db8bd79b6844b8b589b-colord.service-rpjPri\n",
            "drwx------ 3 root     root     4096 sep 24 08:51 systemd-private-371a1d9479324db8bd79b6844b8b589b-fwupd.service-FzPoQf\n",
            "drwx------ 3 root     root     4096 sep 24 08:51 systemd-private-371a1d9479324db8bd79b6844b8b589b-geoclue.service-F6pMWi\n",
            "drwx------ 3 root     root     4096 sep 24 08:51 systemd-private-371a1d9479324db8bd79b6844b8b589b-ModemManager.service-Orf6Bi\n",
            "drwx------ 3 root     root     4096 sep 24 08:51 systemd-private-371a1d9479324db8bd79b6844b8b589b-switcheroo-control.service-1QXRqj\n",
            "drwx------ 3 root     root     4096 sep 24 08:51 systemd-private-371a1d9479324db8bd79b6844b8b589b-systemd-logind.service-lL35tg\n",
            "drwx------ 3 root     root     4096 sep 24 08:51 systemd-private-371a1d9479324db8bd79b6844b8b589b-systemd-resolved.service-iaswSi\n",
            "drwx------ 3 root     root     4096 sep 24 08:51 systemd-private-371a1d9479324db8bd79b6844b8b589b-systemd-timesyncd.service-Yet8lj\n",
            "drwx------ 3 root     root     4096 sep 24 08:51 systemd-private-371a1d9479324db8bd79b6844b8b589b-upower.service-oTL7Gg\n",
            "drwx------ 2 wallabot wallabot 4096 sep 24 09:31 tracker-extract-files.1000\n"
          ]
        }
      ],
      "source": [
        "!ls -l /tmp"
      ]
    },
    {
      "cell_type": "markdown",
      "metadata": {
        "id": "UN2562IypGgX"
      },
      "source": [
        "Como vemos, hay un `at.txt` que se ha creado a las 09:55"
      ]
    },
    {
      "cell_type": "markdown",
      "metadata": {
        "id": "YF6CBUMjpGgX"
      },
      "source": [
        "## Atajos de teclado"
      ]
    },
    {
      "cell_type": "markdown",
      "metadata": {
        "id": "76AOmXWgpGgX"
      },
      "source": [
        "A continuación se muestran unos cuantos atajos de teclado útiles en el uso de la terminal\n",
        " * Ctrl+a: lleva el cursor al inicio de la línea de comandos.\n",
        " * Ctrl+e: lleva el cursor al final de la línea de comandos.\n",
        " * Ctrl+l: limpia la terminal, similar a lo que hace el comando `clear`.\n",
        "* Ctrl+u: limpia desde la posición del cursor hasta el inicio de la línea. Si se está al final, limpia la línea entera.\n",
        "* Ctrl+k: limpia desde la posición del cursor hasta el final de la línea. Si se está al inicio, limpia la línea entera.\n",
        " * Ctrl+h: hace lo mismo que la tecla backspace, borra el carácter inmediatamente anterior a la posición del cursor.\n",
        " * Ctrl+w: borra la palabra inmediatamente anterior al cursor.\n",
        " * Alt+d o Esc+d: borra la palabra siguiente después del cursor.\n",
        "* Ctrl+p: establece la línea de comandos con el último comando introducido.\n",
        "* Ctrl+r: inicia la búsqueda de comandos usados anteriormente, tecleando parte de un comando usados anteriores que hayamos realizado incluyendo las opciones y parámetros. Hecha una búsqueda pulsando de nuevo la combinación de teclas encontraremos coincidencias anteriores.\n",
        "* Ctrl+c: termina el proceso que se esté ejecutando, útil para recuperar el control del sistema.\n",
        "* Ctrl+d: sale de la terminal, similar al comando exit.\n",
        "* Ctrl+z: suspende la ejecución del proceso que se está ejecutando y lo pone en segundo plano; con el comando fg, podremos volver a continuar su ejecución.\n",
        " * Ctrl+t: intercambia la posición de los dos caracteres antes del cursor, útil para corregir malos tecleos.\n",
        " * Esc+t: intercambia la posición de las dos palabras antes del cursor, útil para corregir malos tecleos.\n",
        " * Alt+f: mueve el cursor al inicio de la palabra siguiente de la línea, lo mismo que Ctrl+right en la terminal de GNOME.\n",
        " * Alt+b: mueve el cursor al inicio de la palabra anterior de la línea, lo mismo que Ctrl+left en la terminal de GNOME.\n",
        " * Tab: autocompleta comandos o rutas de directorios o archivos.\n",
        " * Ctrl+Shift+f: abre un diálogo para hacer una búsqueda de texto en la salida de la terminal.\n",
        "* Ctrl+Shift+g: busca la siguiente ocurrencia de la búsqueda previa en la terminal.\n",
        " * Ctrl+Shift+h: busca la anterior ocurrencia de la búsqueda previa en la terminal.\n",
        "* Ctrl+Shift+c: copia el texto seleccionado de la terminal al portapapeles.\n",
        "* Ctrl+Shift+v: pega el texto del portapapeles en la línea de comandos.\n",
        "* Up: establece en la línea de comandos el comando anterior del historial, igual que Ctrl+p.\n",
        "* Down: establece en la línea de comandos el siguiente comando del historial.\n",
        "* Left Mouse: selecciona líneas de texto de la terminal.\n",
        "* Ctrl+Left Mouse: selecciona bloques de texto de la terminal."
      ]
    },
    {
      "cell_type": "markdown",
      "metadata": {
        "id": "eXGA2ItnpGgY"
      },
      "source": [
        "## Sistema de carpetas en Linux"
      ]
    },
    {
      "cell_type": "markdown",
      "metadata": {
        "id": "YY0hKFNapGgY"
      },
      "source": [
        "En la siguiente imagen podemos ver cómo es el sistema de carpetas en Linux\n",
        "\n",
        "![carpetas_linux](https://pub-fb664c455eca46a2ba762a065ac900f7.r2.dev/carpetas_linux.webp)\n",
        "\n",
        "Esta imagen ha sido sacada del [post](https://www.linkedin.com/posts/robercmorais_tienes-dudas-sobre-para-que-se-usa-cada-activity-7153521372156116992-jzOK/) de LinkedIn [Roberto Morais](https://www.linkedin.com/in/robercmorais/)"
      ]
    },
    {
      "cell_type": "markdown",
      "metadata": {
        "id": "69kxSkV-pGgY"
      },
      "source": [
        "## Fricadas"
      ]
    },
    {
      "cell_type": "markdown",
      "metadata": {
        "id": "dZ7kLDKFpGgY"
      },
      "source": [
        "### Te olvidaste de usar sudo"
      ]
    },
    {
      "cell_type": "markdown",
      "metadata": {
        "id": "p5ZB63wipGgY"
      },
      "source": [
        "¿Nunca te ha pasado que has ido a usar un comando que tenías que ejecutarlo con `sudo`, pero te olvidaste de escribir `sudo`? Pues, después de recibir el correspondiente error, si haces `sudo !!` se ejecutará el comando anterior con `sudo`"
      ]
    },
    {
      "cell_type": "code",
      "execution_count": null,
      "metadata": {
        "id": "-bN-AwG_pGgY",
        "outputId": "7dce468a-e404-47dc-c763-245734e3f94d"
      },
      "outputs": [
        {
          "name": "stdout",
          "output_type": "stream",
          "text": [
            "Leyendo lista de paquetes... Hecho\n",
            "\u001b[1;31mE: \u001b[0mNo se pudo abrir el fichero de bloqueo «/var/lib/apt/lists/lock» - open (13: Permiso denegado)\u001b[0m\n",
            "\u001b[1;31mE: \u001b[0mNo se pudo bloquear el directorio /var/lib/apt/lists/\u001b[0m\n",
            "\u001b[1;33mW: \u001b[0mSe produjo un problema al desligar el fichero /var/cache/apt/pkgcache.bin - RemoveCaches (13: Permiso denegado)\u001b[0m\n",
            "\u001b[1;33mW: \u001b[0mSe produjo un problema al desligar el fichero /var/cache/apt/srcpkgcache.bin - RemoveCaches (13: Permiso denegado)\u001b[0m\n"
          ]
        }
      ],
      "source": [
        "!apt update"
      ]
    },
    {
      "cell_type": "markdown",
      "metadata": {
        "id": "_xB7TUVBpGgY"
      },
      "source": [
        "Como se puede ver, al hacer `sudo update` nos da un error, pero si ahora ejecutamos `sudo !!` se ejecutará `sudo apt update`"
      ]
    },
    {
      "cell_type": "code",
      "execution_count": null,
      "metadata": {
        "id": "YVlVvy1ppGgY",
        "outputId": "b4c85cb0-fe56-4aeb-cd32-afdc9afcb1ec"
      },
      "outputs": [
        {
          "name": "stdout",
          "output_type": "stream",
          "text": [
            "[sudo] contraseña para wallabot: \n"
          ]
        }
      ],
      "source": [
        "!sudo !!"
      ]
    },
    {
      "cell_type": "markdown",
      "metadata": {
        "id": "uEAUaw3wpGgY"
      },
      "source": [
        "### Mensajes del kernel"
      ]
    },
    {
      "cell_type": "markdown",
      "metadata": {
        "id": "RQZ6i2LCpGgY"
      },
      "source": [
        "Con el comando `dmesg` (display kernel ring buffer messages) podemos ver los mensajes del kernel. Por ejemplo, esto es muy útil para ver si se ha conectado un dispositivo USB, o para depurar errores HW de nuestro ordenador"
      ]
    },
    {
      "cell_type": "code",
      "execution_count": null,
      "metadata": {
        "id": "58J523Y0pGgZ",
        "outputId": "b5d8e765-39d9-41a5-c93a-1c0adff68663"
      },
      "outputs": [
        {
          "name": "stdout",
          "output_type": "stream",
          "text": [
            "[   35.812312] input: LogiOps Virtual Input as /devices/virtual/input/input33\n",
            "[   35.916406] input: LogiOps Virtual Input as /devices/virtual/input/input34\n",
            "[   36.002064] input: LogiOps Virtual Input as /devices/virtual/input/input35\n",
            "[   63.879806] input: MX Master 3 as /devices/virtual/misc/uhid/0005:046D:B023.0006/input/input36\n",
            "[   63.879931] logitech-hidpp-device 0005:046D:B023.0006: input,hidraw3: BLUETOOTH HID v0.15 Keyboard [MX Master 3] on 4c:77:cb:1d:66:d0\n",
            "[   63.902120] logitech-hidpp-device 0005:046D:B023.0006: HID++ 4.5 device connected.\n",
            "[   69.604899] input: MX Keys Keyboard as /devices/virtual/misc/uhid/0005:046D:B35B.0007/input/input37\n",
            "[   69.605221] input: MX Keys Mouse as /devices/virtual/misc/uhid/0005:046D:B35B.0007/input/input38\n",
            "[   69.606204] hid-generic 0005:046D:B35B.0007: input,hidraw4: BLUETOOTH HID v0.13 Keyboard [MX Keys] on 4c:77:cb:1d:66:d0\n",
            "[  188.285030] input: T9 (AVRCP) as /devices/virtual/input/input40\n"
          ]
        }
      ],
      "source": [
        "!dmesg | tail"
      ]
    },
    {
      "cell_type": "markdown",
      "metadata": {
        "id": "hZkm9Iv7pGgZ"
      },
      "source": [
        "Con el flag `--follow` podemos ver en tiempo real los nuevos mensajes que se vayan generando"
      ]
    },
    {
      "cell_type": "code",
      "execution_count": null,
      "metadata": {
        "id": "uUjQBqpWpGgZ",
        "outputId": "c34d2c85-54f2-4ab6-888c-eab06eb43964"
      },
      "outputs": [
        {
          "name": "stdout",
          "output_type": "stream",
          "text": [
            "\u001b[32m[    0.000000] \u001b[0mLinux version 5.15.0-84-generic (buildd@lcy02-amd64-005) (gcc (Ubuntu 9.4.0-1ubuntu1~20.04.2) 9.4.0, GNU ld (GNU Binutils for Ubuntu) 2.34) #93~20.04.1-Ubuntu SMP Wed Sep 6 16:15:40 UTC 2023 (Ubuntu 5.15.0-84.93~20.04.1-generic 5.15.116)\n",
            "\u001b[32m[    0.000000] \u001b[0m\u001b[33mCommand line\u001b[0m: BOOT_IMAGE=/boot/vmlinuz-5.15.0-84-generic root=UUID=59002381-d88d-44a6-b83d-8c5a226ce058 ro quiet splash vt.handoff=7\n",
            "\u001b[32m[    0.000000] \u001b[0mKERNEL supported cpus:\n",
            "\u001b[32m[    0.000000] \u001b[0m  Intel GenuineIntel\n",
            "\u001b[32m[    0.000000] \u001b[0m  AMD AuthenticAMD\n",
            "\u001b[32m[    0.000000] \u001b[0m  Hygon HygonGenuine\n",
            "\u001b[32m[    0.000000] \u001b[0m  Centaur CentaurHauls\n",
            "\u001b[32m[    0.000000] \u001b[0m  zhaoxin   Shanghai  \n",
            "\u001b[32m[    0.000000] \u001b[0mBIOS-provided physical RAM map:\n",
            "\u001b[32m[    0.000000] \u001b[0m\u001b[33mBIOS-e820\u001b[0m: [mem 0x0000000000000000-0x000000000009ffff] usable\n",
            "\u001b[32m[    0.000000] \u001b[0m\u001b[33mBIOS-e820\u001b[0m: [mem 0x00000000000a0000-0x00000000000fffff] reserved\n",
            "\u001b[32m[    0.000000] \u001b[0m\u001b[33mBIOS-e820\u001b[0m: [mem 0x0000000000100000-0x0000000009d01fff] usable\n",
            "\u001b[32m[    0.000000] \u001b[0m\u001b[33mBIOS-e820\u001b[0m: [mem 0x0000000009d02000-0x0000000009ffffff] reserved\n",
            "\u001b[32m[    0.000000] \u001b[0m\u001b[33mBIOS-e820\u001b[0m: [mem 0x000000000a000000-0x000000000a1fffff] usable\n",
            "\u001b[32m[    0.000000] \u001b[0m\u001b[33mBIOS-e820\u001b[0m: [mem 0x000000000a200000-0x000000000a20bfff] ACPI NVS\n",
            "\u001b[32m[    0.000000] \u001b[0m\u001b[33mBIOS-e820\u001b[0m: [mem 0x000000000a20c000-0x00000000b8983fff] usable\n",
            "\u001b[32m[    0.000000] \u001b[0m\u001b[33mBIOS-e820\u001b[0m: [mem 0x00000000b8984000-0x00000000b8acdfff] reserved\n",
            "\u001b[32m[    0.000000] \u001b[0m\u001b[33mBIOS-e820\u001b[0m: [mem 0x00000000b8ace000-0x00000000b8c56fff] ACPI data\n",
            "\u001b[32m[    0.000000] \u001b[0m\u001b[33mBIOS-e820\u001b[0m: [mem 0x00000000b8c57000-0x00000000b9107fff] ACPI NVS\n",
            "\u001b[32m[    0.000000] \u001b[0m\u001b[33mBIOS-e820\u001b[0m: [mem 0x00000000b9108000-0x00000000ba55cfff] reserved\n",
            "\u001b[32m[    0.000000] \u001b[0m\u001b[33mBIOS-e820\u001b[0m: [mem 0x00000000ba55d000-0x00000000bcffffff] usable\n",
            "\u001b[32m[    0.000000] \u001b[0m\u001b[33mBIOS-e820\u001b[0m: [mem 0x00000000bd000000-0x00000000bfffffff] reserved\n",
            "\u001b[32m[    0.000000] \u001b[0m\u001b[33mBIOS-e820\u001b[0m: [mem 0x00000000f8000000-0x00000000fbffffff] reserved\n",
            "...\n",
            "\u001b[32m[   35.916406] \u001b[0m\u001b[33minput\u001b[0m: LogiOps Virtual Input as /devices/virtual/input/input34\n",
            "\u001b[32m[   36.002064] \u001b[0m\u001b[33minput\u001b[0m: LogiOps Virtual Input as /devices/virtual/input/input35\n",
            "\u001b[32m[   63.879806] \u001b[0m\u001b[33minput\u001b[0m: MX Master 3 as /devices/virtual/misc/uhid/0005:046D:B023.0006/input/input36\n",
            "\u001b[32m[   63.879931] \u001b[0m\u001b[33mlogitech-hidpp-device 0005:046D:B023.0006\u001b[0m: input,hidraw3: BLUETOOTH HID v0.15 Keyboard [MX Master 3] on 4c:77:cb:1d:66:d0\n",
            "\u001b[32m[   63.902120] \u001b[0m\u001b[33mlogitech-hidpp-device 0005:046D:B023.0006\u001b[0m: HID++ 4.5 device connected.\n",
            "\u001b[32m[   69.604899] \u001b[0m\u001b[33minput\u001b[0m: MX Keys Keyboard as /devices/virtual/misc/uhid/0005:046D:B35B.0007/input/input37\n",
            "\u001b[32m[   69.605221] \u001b[0m\u001b[33minput\u001b[0m: MX Keys Mouse as /devices/virtual/misc/uhid/0005:046D:B35B.0007/input/input38\n",
            "\u001b[32m[   69.606204] \u001b[0m\u001b[33mhid-generic 0005:046D:B35B.0007\u001b[0m: input,hidraw4: BLUETOOTH HID v0.13 Keyboard [MX Keys] on 4c:77:cb:1d:66:d0\n",
            "\u001b[32m[  188.285030] \u001b[0m\u001b[33minput\u001b[0m: T9 (AVRCP) as /devices/virtual/input/input40\n"
          ]
        },
        {
          "name": "stdout",
          "output_type": "stream",
          "text": [
            "^C\n"
          ]
        }
      ],
      "source": [
        "!dmesg --follow"
      ]
    },
    {
      "cell_type": "markdown",
      "metadata": {
        "id": "LBFjJQ5bpGgZ"
      },
      "source": [
        "### Información del hardware"
      ]
    },
    {
      "cell_type": "markdown",
      "metadata": {
        "id": "i5XOjJ6fpGgZ"
      },
      "source": [
        "Con `lshw` podemos ver información del hardware de nuestro ordenador"
      ]
    },
    {
      "cell_type": "code",
      "execution_count": null,
      "metadata": {
        "id": "dgdotyBtpGgZ",
        "outputId": "81fe03f7-dc0a-4c43-f318-966bc1cf3b5d"
      },
      "outputs": [
        {
          "name": "stdout",
          "output_type": "stream",
          "text": [
            "AVISO: debería ejecutar este programa como superusuario.\n",
            "wallabot                    \n",
            "    descripción: Computer\n",
            "    anchura: 64 bits\n",
            "    capacidades: smp vsyscall32\n",
            "  *-core\n",
            "       descripción: Motherboard\n",
            "       id físico: 0\n",
            "     *-memory\n",
            "          descripción: Memoria de sistema\n",
            "          id físico: 0\n",
            "          tamaño: 32GiB\n",
            "...\n",
            "          producto: PnP device PNP0501\n",
            "          id físico: 6\n",
            "          capacidades: pnp\n",
            "          configuración: driver=serial\n",
            "     *-pnp00:05\n",
            "          producto: PnP device PNP0c02\n",
            "          id físico: 7\n",
            "          capacidades: pnp\n",
            "          configuración: driver=system\n",
            "AVISO: la salida puede ser incompleta o imprecisa, debería ejecutar este programa como superusuario.\n"
          ]
        }
      ],
      "source": [
        "!lshw"
      ]
    },
    {
      "cell_type": "markdown",
      "metadata": {
        "id": "58QSe0dlpGgZ"
      },
      "source": [
        "### Cowsay"
      ]
    },
    {
      "cell_type": "markdown",
      "metadata": {
        "id": "9ffx6KkWpGgZ"
      },
      "source": [
        "Hay un comando llamado `cowsay` al que le pasas como parámetro un texto y te dibuja una vaca diciendo ese texto.\n",
        "\n",
        "Es posible que no lo tengas instalado, por lo que, para instalarlo, tienes que introducir el comando\n",
        "\n",
        "``` bash\n",
        "sudo apt install cowsay\n",
        "```"
      ]
    },
    {
      "cell_type": "code",
      "execution_count": null,
      "metadata": {
        "id": "WIg9qRdcpGgZ",
        "outputId": "26c252c8-e8bb-451c-d5be-e4fd6c9d7c54"
      },
      "outputs": [
        {
          "name": "stdout",
          "output_type": "stream",
          "text": [
            " __________\n",
            "< MaximoFN >\n",
            " ----------\n",
            "        \\   ^__^\n",
            "         \\  (oo)\\_______\n",
            "            (__)\\       )\\/\\\n",
            "                ||----w |\n",
            "                ||     ||\n",
            "\n"
          ]
        }
      ],
      "source": [
        "terminal(\"cowsay MaximoFN\")"
      ]
    },
    {
      "cell_type": "markdown",
      "metadata": {
        "id": "DYejO9ZRpGgZ"
      },
      "source": [
        "Si le añades el flag `-f dragon` quien lo dice es un dragón."
      ]
    },
    {
      "cell_type": "code",
      "execution_count": null,
      "metadata": {
        "id": "BT0wXug8pGga",
        "outputId": "eb3df748-4f94-4cfd-9434-c6d82741f542"
      },
      "outputs": [
        {
          "name": "stdout",
          "output_type": "stream",
          "text": [
            " __________\n",
            "< MaximoFN >\n",
            " ----------\n",
            "      \\                    / \\  //\\\n",
            "       \\    |\\___/|      /   \\//  \\\\\n",
            "            /0  0  \\__  /    //  | \\ \\    \n",
            "           /     /  \\/_/    //   |  \\  \\  \n",
            "           @_^_@'/   \\/_   //    |   \\   \\ \n",
            "           //_^_/     \\/_ //     |    \\    \\\n",
            "        ( //) |        \\///      |     \\     \\\n",
            "      ( / /) _|_ /   )  //       |      \\     _\\\n",
            "    ( // /) '/,_ _ _/  ( ; -.    |    _ _\\.-~        .-~~~^-.\n",
            "  (( / / )) ,-{        _      `-.|.-~-.           .~         `.\n",
            " (( // / ))  '/\\      /                 ~-. _ .-~      .-~^-.  \\\n",
            " (( /// ))      `.   {            }                   /      \\  \\\n",
            "  (( / ))     .----~-.\\        \\-'                 .~         \\  `. \\^-.\n",
            "             ///.----..>        \\             _ -~             `.  ^-`  ^-_\n",
            "               ///-._ _ _ _ _ _ _}^ - - - - ~                     ~-- ,.-~\n",
            "                                                                  /.-~\n",
            "\n"
          ]
        }
      ],
      "source": [
        "terminal(\"cowsay -f dragon MaximoFN\")"
      ]
    },
    {
      "cell_type": "code",
      "execution_count": null,
      "metadata": {
        "id": "clbjMCTzpGga",
        "outputId": "a0adc31a-2d68-429b-f8ec-01e765a81cdf"
      },
      "outputs": [
        {
          "name": "stdout",
          "output_type": "stream",
          "text": [
            " __________\n",
            "< MaximoFN >\n",
            " ----------\n",
            "                       \\                    ^    /^\n",
            "                        \\                  / \\  // \\\n",
            "                         \\   |\\___/|      /   \\//  .\\\n",
            "                          \\  /O  O  \\__  /    //  | \\ \\           *----*\n",
            "                            /     /  \\/_/    //   |  \\  \\          \\   |\n",
            "                            @___@`    \\/_   //    |   \\   \\         \\/\\ \\\n",
            "                           0/0/|       \\/_ //     |    \\    \\         \\  \\\n",
            "                       0/0/0/0/|        \\///      |     \\     \\       |  |\n",
            "                    0/0/0/0/0/_|_ /   (  //       |      \\     _\\     |  /\n",
            "                 0/0/0/0/0/0/`/,_ _ _/  ) ; -.    |    _ _\\.-~       /   /\n",
            "                             ,-}        _      *-.|.-~-.           .~    ~\n",
            "            \\     \\__/        `/\\      /                 ~-. _ .-~      /\n",
            "             \\____(oo)           *.   }            {                   /\n",
            "             (    (--)          .----~-.\\        \\-`                 .~\n",
            "             //__\\\\  \\__ Ack!   ///.----..<        \\             _ -~\n",
            "            //    \\\\               ///-._ _ _ _ _ _ _{^ - - - - ~\n",
            "\n"
          ]
        }
      ],
      "source": [
        "terminal(\"cowsay -f dragon-and-cow MaximoFN\")"
      ]
    },
    {
      "cell_type": "markdown",
      "metadata": {
        "id": "4GFfoMqJpGga"
      },
      "source": [
        "## Limpieza"
      ]
    },
    {
      "cell_type": "markdown",
      "metadata": {
        "id": "655_9v9wpGga"
      },
      "source": [
        "Como se ha creado la carpeta `prueba`, la borramos para dejar todo como lo encontramos."
      ]
    },
    {
      "cell_type": "code",
      "execution_count": null,
      "metadata": {
        "id": "siNmn76qpGga"
      },
      "outputs": [],
      "source": [
        "!rm -r prueba"
      ]
    }
  ],
  "metadata": {
    "kernelspec": {
      "display_name": "base",
      "language": "python",
      "name": "python3"
    },
    "language_info": {
      "codemirror_mode": {
        "name": "ipython",
        "version": 3
      },
      "file_extension": ".py",
      "mimetype": "text/x-python",
      "name": "python",
      "nbconvert_exporter": "python",
      "pygments_lexer": "ipython3",
      "version": "3.10.9"
    },
    "maximofn": {
      "date": "2021-09-12",
      "description_es": "🟢 Siéntete como un verdadero hacker 🖥 sabiéndolo todo sobre la terminal 💻. Entra y comienza a manejar ⌨ la terminal como un profesional",
      "description_en": "🟢 Feel like a real hacker 🖥 knowing everything about the terminal 💻. Get inside and start handling ⌨ the terminal like a pro.",
      "description_pt": "🟢 Sinta-se como um verdadeiro hacker 🖥 sabendo tudo sobre o terminal 💻. Entre e comece a operar ⌨ o terminal como um profissional.",
      "end_url": "terminal",
      "image": "https://pub-fb664c455eca46a2ba762a065ac900f7.r2.dev/terminal.webp",
      "keywords_en": "terminal, linux, commands, bash, shell, console",
      "keywords_es": "terminal, linux, comandos, bash, shell, consola",
      "keywords_pt": "terminal, linux, comandos, bash, shell, console",
      "title_en": "Terminal",
      "title_es": "Terminal",
      "title_pt": "Terminal"
    },
    "orig_nbformat": 4,
    "vscode": {
      "interpreter": {
        "hash": "b2af3135499c4cc4659220baa8d57d20fd35a58497fd7648737e38d0561042d8"
      }
    },
    "colab": {
      "provenance": [],
      "toc_visible": true
    }
  },
  "nbformat": 4,
  "nbformat_minor": 0
}